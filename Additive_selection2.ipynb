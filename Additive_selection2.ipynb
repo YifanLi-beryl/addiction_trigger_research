{
 "cells": [
  {
   "cell_type": "code",
   "execution_count": 27,
   "id": "b305c585",
   "metadata": {},
   "outputs": [
    {
     "name": "stdout",
     "output_type": "stream",
     "text": [
      "Short video user count: 12434257\n",
      "Long video user count: 1134687\n"
     ]
    }
   ],
   "source": [
    "import os\n",
    "import json\n",
    "import re\n",
    "from collections import Counter\n",
    "import pandas as pd\n",
    "BASE_DIR = \"youtube_comments_v2\"\n",
    "from pathlib import Path\n",
    "current_dir = Path.cwd()\n",
    "#  Move up one level to the project root\n",
    "project_root = current_dir.parent\n",
    "# Point to the parallel “video_comments” folder under the root\n",
    "data_dir = project_root /BASE_DIR\n",
    "\n",
    "# Fast emoji remover via Unicode range\n",
    "def clean_text(text):\n",
    "    emoji_pattern = re.compile(\n",
    "        \"[\\U0001F600-\\U0001F64F\"\n",
    "        \"\\U0001F300-\\U0001F5FF\"\n",
    "        \"\\U0001F680-\\U0001F6FF\"\n",
    "        \"\\U0001F1E0-\\U0001F1FF\"\n",
    "        \"\\U00002500-\\U00002BEF\"\n",
    "        \"\\U00002702-\\U000027B0\"\n",
    "        \"\\U000024C2-\\U0001F251\"\n",
    "        \"\\U0001f926-\\U0001f937\"\n",
    "        \"\\U00010000-\\U0010ffff\"\n",
    "        \"\\u2640-\\u2642\"\n",
    "        \"\\u2600-\\u2B55\"\n",
    "        \"\\u200d\"\n",
    "        \"\\u23cf\"\n",
    "        \"\\u23e9\"\n",
    "        \"\\u231a\"\n",
    "        \"\\ufe0f\"\n",
    "        \"\\u3030]+\", flags=re.UNICODE\n",
    "    )\n",
    "    text = emoji_pattern.sub(r'', text)\n",
    "    text = re.sub(r\"&[a-z]+;\", \"\", text)\n",
    "    text = re.sub(r\"[^\\w\\s]\", \"\", text)\n",
    "    text = re.sub(r\"\\s+\", \" \", text)\n",
    "    return text.strip().lower()\n",
    "\n",
    "# Count comments per user\n",
    "comment_counts = {\"short\": Counter(), \"long\": Counter()}\n",
    "\n",
    "for video_type in [\"short\", \"long\"]:\n",
    "    length_dir = os.path.join(data_dir, video_type)\n",
    "    if not os.path.isdir(length_dir):\n",
    "        continue\n",
    "    for category in os.listdir(length_dir):\n",
    "        category_dir = os.path.join(length_dir, category)\n",
    "        if not os.path.isdir(category_dir):\n",
    "            continue\n",
    "        for filename in os.listdir(category_dir):\n",
    "            if not filename.endswith(\".json\"):\n",
    "                continue\n",
    "            filepath = os.path.join(category_dir, filename)\n",
    "            try:\n",
    "                with open(filepath, \"r\", encoding=\"utf-8\") as f:\n",
    "                    data = json.load(f)\n",
    "                    for comment in data.get(\"comments\", []):\n",
    "                        author = comment.get(\"author\")\n",
    "                        comment_counts[video_type][author] += 1\n",
    "            except Exception as e:\n",
    "                print(f\"Error reading {filepath}: {e}\")\n",
    "\n",
    "# Combine into unified user-level table\n",
    "all_users = set(comment_counts[\"short\"].keys()) | set(comment_counts[\"long\"].keys())\n",
    "rows = []\n",
    "for user in all_users:\n",
    "    short_count = comment_counts[\"short\"].get(user, 0)\n",
    "    long_count = comment_counts[\"long\"].get(user, 0)\n",
    "    total_count = short_count + long_count\n",
    "    rows.append({\n",
    "        \"user\": user,\n",
    "        \"short_comment_count\": short_count,\n",
    "        \"long_comment_count\": long_count,\n",
    "        \"total_comment_count\": total_count\n",
    "    })\n",
    "short_user_count = len(comment_counts[\"short\"])\n",
    "long_user_count = len(comment_counts[\"long\"])\n",
    "print(\"Short video user count:\", short_user_count)\n",
    "print(\"Long video user count:\", long_user_count)\n"
   ]
  },
  {
   "cell_type": "code",
   "execution_count": 28,
   "id": "80abba49",
   "metadata": {},
   "outputs": [
    {
     "name": "stdout",
     "output_type": "stream",
     "text": [
      "Users active in both short and long: 185570\n",
      "Avg comments (short) per commented user: 2.40\n",
      "Avg comments (long) per commented user: 1.32\n",
      "Avg total comments per commented user: 3.71\n"
     ]
    }
   ],
   "source": [
    "# Find active users in both short and long video types\n",
    "short_users = set(comment_counts[\"short\"].keys())\n",
    "long_users = set(comment_counts[\"long\"].keys())\n",
    "comments_both = short_users & long_users\n",
    "\n",
    "print(f\"Users active in both short and long: {len(comments_both)}\")\n",
    "\n",
    "# Compute average comment counts for these users\n",
    "short_total = sum(comment_counts[\"short\"][user] for user in comments_both)\n",
    "long_total = sum(comment_counts[\"long\"][user] for user in comments_both)\n",
    "combined_total = short_total + long_total\n",
    "user_count = len(comments_both)\n",
    "\n",
    "if user_count > 0:\n",
    "    print(f\"Avg comments (short) per commented user: {short_total / user_count:.2f}\")\n",
    "    print(f\"Avg comments (long) per commented user: {long_total / user_count:.2f}\")\n",
    "    print(f\"Avg total comments per commented user: {combined_total / user_count:.2f}\")\n",
    "else:\n",
    "    print(\"No users comments in both video types.\")\n",
    "    "
   ]
  },
  {
   "cell_type": "code",
   "execution_count": 29,
   "id": "d982f90e",
   "metadata": {},
   "outputs": [
    {
     "name": "stdout",
     "output_type": "stream",
     "text": [
      "Short video: Total users = 12434257, Top 0.05% = 6218 users\n",
      "Long video: Total users = 1134687, Top 0.05% = 568 users\n",
      "Top 5 users with most SHORT video comments:\n"
     ]
    },
    {
     "data": {
      "text/html": [
       "<div>\n",
       "<style scoped>\n",
       "    .dataframe tbody tr th:only-of-type {\n",
       "        vertical-align: middle;\n",
       "    }\n",
       "\n",
       "    .dataframe tbody tr th {\n",
       "        vertical-align: top;\n",
       "    }\n",
       "\n",
       "    .dataframe thead th {\n",
       "        text-align: right;\n",
       "    }\n",
       "</style>\n",
       "<table border=\"1\" class=\"dataframe\">\n",
       "  <thead>\n",
       "    <tr style=\"text-align: right;\">\n",
       "      <th></th>\n",
       "      <th>user</th>\n",
       "      <th>short_comment_count</th>\n",
       "    </tr>\n",
       "  </thead>\n",
       "  <tbody>\n",
       "    <tr>\n",
       "      <th>0</th>\n",
       "      <td>@TuĝbaSelek-y2t</td>\n",
       "      <td>1142</td>\n",
       "    </tr>\n",
       "    <tr>\n",
       "      <th>1</th>\n",
       "      <td>@jenistiuca492</td>\n",
       "      <td>873</td>\n",
       "    </tr>\n",
       "    <tr>\n",
       "      <th>2</th>\n",
       "      <td>@adanilsoncapel</td>\n",
       "      <td>766</td>\n",
       "    </tr>\n",
       "    <tr>\n",
       "      <th>3</th>\n",
       "      <td>@beaandsabrinafans7770</td>\n",
       "      <td>519</td>\n",
       "    </tr>\n",
       "    <tr>\n",
       "      <th>4</th>\n",
       "      <td>@Akhilesh_singh_offical</td>\n",
       "      <td>512</td>\n",
       "    </tr>\n",
       "  </tbody>\n",
       "</table>\n",
       "</div>"
      ],
      "text/plain": [
       "                      user  short_comment_count\n",
       "0          @TuĝbaSelek-y2t                 1142\n",
       "1           @jenistiuca492                  873\n",
       "2          @adanilsoncapel                  766\n",
       "3   @beaandsabrinafans7770                  519\n",
       "4  @Akhilesh_singh_offical                  512"
      ]
     },
     "metadata": {},
     "output_type": "display_data"
    }
   ],
   "source": [
    "import math\n",
    "import pandas as pd\n",
    "\n",
    "# Compute how many users correspond to the top 0.5%\n",
    "counts_for_top = {}\n",
    "for video_type in [\"short\", \"long\"]:\n",
    "    total_users    = len(comment_counts[video_type])\n",
    "    top_n          = math.ceil(total_users * 0.0005)   \n",
    "    # Store the actual top-N dict for later DataFrame construction\n",
    "    counts_for_top[video_type] = dict(\n",
    "        comment_counts[video_type].most_common(top_n)\n",
    "    )\n",
    "    print(\n",
    "        f\"{video_type.capitalize()} video: Total users = {total_users}, \"\n",
    "        f\"Top 0.05% = {top_n} users\"\n",
    "    )\n",
    "\n",
    "# Build DataFrame for the SHORT-video top users\n",
    "#    Use the dict of user→count, not the integer top_n\n",
    "top_short_dict = counts_for_top[\"short\"]\n",
    "\n",
    "df_top_short = pd.DataFrame(\n",
    "    list(top_short_dict.items()),\n",
    "    columns=[\"user\", \"short_comment_count\"]\n",
    ")\n",
    "\n",
    "# Remove any rows where 'user' is empty or falsy\n",
    "df_top_short = df_top_short[df_top_short[\"user\"].astype(bool)]\n",
    "\n",
    "# Sort by short_comment_count descending and reset the index\n",
    "df_top_short = (\n",
    "    df_top_short\n",
    "    .sort_values(by=\"short_comment_count\", ascending=False)\n",
    "    .reset_index(drop=True)\n",
    ")\n",
    "\n",
    "# Display the top 5 users\n",
    "print(\"Top 5 users with most SHORT video comments:\")\n",
    "display(df_top_short.head(5))\n"
   ]
  },
  {
   "cell_type": "code",
   "execution_count": 30,
   "id": "aebd43cb",
   "metadata": {},
   "outputs": [],
   "source": [
    "sampled1000_short =df_top_short.sample(n=1000, random_state=32)\n",
    "sampled1000_short.to_json(\"sampled_short_users.json\", orient=\"records\", lines=True, force_ascii=False)"
   ]
  },
  {
   "cell_type": "code",
   "execution_count": 32,
   "id": "6deee31e",
   "metadata": {},
   "outputs": [
    {
     "name": "stdout",
     "output_type": "stream",
     "text": [
      "Saved all comments for sampled 1000 short  preference users.\n"
     ]
    }
   ],
   "source": [
    "import os\n",
    "import json\n",
    "from collections import defaultdict\n",
    "\n",
    "# Base directory where the YouTube comment data is stored\n",
    "BASE_DIR = \"youtube_comments_v2\"\n",
    "\n",
    "# Load user IDs for short-video-preference and long-video-preference users\n",
    "short_user_ids = set(sampled1000_short[\"user\"])\n",
    "# Initialize storage for all comments from each user group\n",
    "user_comments = {\n",
    "    \"short\": defaultdict(list),\n",
    "    \"medium\": defaultdict(list),\n",
    "    \"long\": defaultdict(list)\n",
    "}\n",
    "\n",
    "# Traverse all videos directories to collect all comments\n",
    "for video_type_dir in [\"short\",\"medium\",\"long\"]:\n",
    "    video_dir = os.path.join(data_dir, video_type_dir)\n",
    "    for category in os.listdir(video_dir):\n",
    "        category_dir = os.path.join(video_dir, category)\n",
    "        if not os.path.isdir(category_dir):\n",
    "            continue\n",
    "        for filename in os.listdir(category_dir):\n",
    "            if not filename.endswith(\".json\"):\n",
    "                continue\n",
    "            filepath = os.path.join(category_dir, filename)\n",
    "            try:\n",
    "                with open(filepath, \"r\", encoding=\"utf-8\") as f:\n",
    "                    data = json.load(f)\n",
    "                    for comment in data.get(\"comments\", []):\n",
    "                        author = comment.get(\"author\")\n",
    "                        if author in short_user_ids:\n",
    "                            user_comments[\"short\"][author].append(comment)\n",
    "            except Exception as e:\n",
    "                print(f\"Error reading {filepath}: {e}\")\n",
    "\n",
    "# Save collected comments to JSON files for each user group\n",
    "output_path = f\"sampled1000_short_comments.json\"\n",
    "with open(output_path, \"w\", encoding=\"utf-8\") as f:\n",
    "        json.dump(user_comments[\"short\"], f, indent=2, ensure_ascii=False)\n",
    "\n",
    "print(\"Saved all comments for sampled 1000 short  preference users.\")"
   ]
  },
  {
   "cell_type": "code",
   "execution_count": null,
   "id": "8e4325fd",
   "metadata": {},
   "outputs": [
    {
     "name": "stdout",
     "output_type": "stream",
     "text": [
      "\n",
      "========== PROCESSING SHORT VIDEOS ==========\n"
     ]
    },
    {
     "name": "stderr",
     "output_type": "stream",
     "text": [
      "Processing short users:   0%|          | 0/1000 [00:00<?, ?it/s]"
     ]
    },
    {
     "name": "stdout",
     "output_type": "stream",
     "text": [
      "\n",
      "Evaluating user: @MaskHysteria | 22 comments\n"
     ]
    },
    {
     "name": "stderr",
     "output_type": "stream",
     "text": [
      "Processing short users:   0%|          | 1/1000 [00:05<1:34:57,  5.70s/it]"
     ]
    },
    {
     "name": "stdout",
     "output_type": "stream",
     "text": [
      "Saved progress after user: @MaskHysteria\n",
      "\n",
      "Evaluating user: @Apoc_Bone_Daddy | 38 comments\n"
     ]
    },
    {
     "name": "stderr",
     "output_type": "stream",
     "text": [
      "Processing short users:   0%|          | 2/1000 [00:11<1:35:13,  5.73s/it]"
     ]
    },
    {
     "name": "stdout",
     "output_type": "stream",
     "text": [
      "Saved progress after user: @Apoc_Bone_Daddy\n",
      "\n",
      "Evaluating user: @cosmealcantar9396 | 18 comments\n"
     ]
    },
    {
     "name": "stderr",
     "output_type": "stream",
     "text": [
      "Processing short users:   0%|          | 3/1000 [00:16<1:27:21,  5.26s/it]"
     ]
    },
    {
     "name": "stdout",
     "output_type": "stream",
     "text": [
      "Saved progress after user: @cosmealcantar9396\n",
      "\n",
      "Evaluating user: @Daf__XL | 23 comments\n"
     ]
    },
    {
     "name": "stderr",
     "output_type": "stream",
     "text": [
      "Processing short users:   0%|          | 4/1000 [00:20<1:23:41,  5.04s/it]"
     ]
    },
    {
     "name": "stdout",
     "output_type": "stream",
     "text": [
      "Saved progress after user: @Daf__XL\n",
      "\n",
      "Evaluating user: @classmst89 | 19 comments\n"
     ]
    },
    {
     "name": "stderr",
     "output_type": "stream",
     "text": [
      "Processing short users:   0%|          | 5/1000 [00:25<1:21:36,  4.92s/it]"
     ]
    },
    {
     "name": "stdout",
     "output_type": "stream",
     "text": [
      "Saved progress after user: @classmst89\n",
      "\n",
      "Evaluating user: @Jesusesfanboy | 22 comments\n"
     ]
    },
    {
     "name": "stderr",
     "output_type": "stream",
     "text": [
      "Processing short users:   1%|          | 6/1000 [00:30<1:19:11,  4.78s/it]"
     ]
    },
    {
     "name": "stdout",
     "output_type": "stream",
     "text": [
      "Saved progress after user: @Jesusesfanboy\n",
      "\n",
      "Evaluating user: @thesorrowsofmotherlovejoy9894 | 24 comments\n"
     ]
    },
    {
     "name": "stderr",
     "output_type": "stream",
     "text": [
      "Processing short users:   1%|          | 7/1000 [00:34<1:17:37,  4.69s/it]"
     ]
    },
    {
     "name": "stdout",
     "output_type": "stream",
     "text": [
      "Saved progress after user: @thesorrowsofmotherlovejoy9894\n",
      "\n",
      "Evaluating user: @RandomYT05_01 | 18 comments\n"
     ]
    },
    {
     "name": "stderr",
     "output_type": "stream",
     "text": [
      "Processing short users:   1%|          | 8/1000 [00:38<1:13:20,  4.44s/it]"
     ]
    },
    {
     "name": "stdout",
     "output_type": "stream",
     "text": [
      "Saved progress after user: @RandomYT05_01\n",
      "\n",
      "Evaluating user: @misterpoopnose6547 | 35 comments\n"
     ]
    },
    {
     "name": "stderr",
     "output_type": "stream",
     "text": [
      "Processing short users:   1%|          | 9/1000 [00:46<1:29:29,  5.42s/it]"
     ]
    },
    {
     "name": "stdout",
     "output_type": "stream",
     "text": [
      "Saved progress after user: @misterpoopnose6547\n",
      "\n",
      "Evaluating user: @ShotzFired88 | 22 comments\n"
     ]
    },
    {
     "name": "stderr",
     "output_type": "stream",
     "text": [
      "Processing short users:   1%|          | 10/1000 [00:50<1:23:11,  5.04s/it]"
     ]
    },
    {
     "name": "stdout",
     "output_type": "stream",
     "text": [
      "Saved progress after user: @ShotzFired88\n",
      "\n",
      "Evaluating user: @exelierxe.e | 27 comments\n"
     ]
    },
    {
     "name": "stderr",
     "output_type": "stream",
     "text": [
      "Processing short users:   1%|          | 11/1000 [00:58<1:37:58,  5.94s/it]"
     ]
    },
    {
     "name": "stdout",
     "output_type": "stream",
     "text": [
      "Saved progress after user: @exelierxe.e\n",
      "\n",
      "Evaluating user: @BeADad2447 | 17 comments\n"
     ]
    },
    {
     "name": "stderr",
     "output_type": "stream",
     "text": [
      "Processing short users:   1%|          | 12/1000 [01:01<1:26:03,  5.23s/it]"
     ]
    },
    {
     "name": "stdout",
     "output_type": "stream",
     "text": [
      "Saved progress after user: @BeADad2447\n",
      "\n",
      "Evaluating user: @Goddessonly | 18 comments\n"
     ]
    },
    {
     "name": "stderr",
     "output_type": "stream",
     "text": [
      "Processing short users:   1%|▏         | 13/1000 [01:07<1:26:00,  5.23s/it]"
     ]
    },
    {
     "name": "stdout",
     "output_type": "stream",
     "text": [
      "Saved progress after user: @Goddessonly\n",
      "\n",
      "Evaluating user: @XParabolic | 18 comments\n"
     ]
    },
    {
     "name": "stderr",
     "output_type": "stream",
     "text": [
      "Processing short users:   1%|▏         | 14/1000 [01:11<1:20:45,  4.91s/it]"
     ]
    },
    {
     "name": "stdout",
     "output_type": "stream",
     "text": [
      "Saved progress after user: @XParabolic\n",
      "\n",
      "Evaluating user: @ii_MnBCT | 21 comments\n"
     ]
    },
    {
     "name": "stderr",
     "output_type": "stream",
     "text": [
      "Processing short users:   2%|▏         | 15/1000 [01:16<1:21:02,  4.94s/it]"
     ]
    },
    {
     "name": "stdout",
     "output_type": "stream",
     "text": [
      "Saved progress after user: @ii_MnBCT\n",
      "\n",
      "Evaluating user: @Atomic-toons00 | 24 comments\n"
     ]
    },
    {
     "name": "stderr",
     "output_type": "stream",
     "text": [
      "Processing short users:   2%|▏         | 16/1000 [01:21<1:24:03,  5.13s/it]"
     ]
    },
    {
     "name": "stdout",
     "output_type": "stream",
     "text": [
      "Saved progress after user: @Atomic-toons00\n",
      "\n",
      "Evaluating user: @james-ob9rz | 18 comments\n"
     ]
    },
    {
     "name": "stderr",
     "output_type": "stream",
     "text": [
      "Processing short users:   2%|▏         | 17/1000 [01:25<1:18:20,  4.78s/it]"
     ]
    },
    {
     "name": "stdout",
     "output_type": "stream",
     "text": [
      "Saved progress after user: @james-ob9rz\n",
      "\n",
      "Evaluating user: @TheBlueGrinchofSurgery | 28 comments\n"
     ]
    },
    {
     "name": "stderr",
     "output_type": "stream",
     "text": [
      "Processing short users:   2%|▏         | 18/1000 [01:29<1:15:24,  4.61s/it]"
     ]
    },
    {
     "name": "stdout",
     "output_type": "stream",
     "text": [
      "Saved progress after user: @TheBlueGrinchofSurgery\n",
      "\n",
      "Evaluating user: @The_nobody2.0 | 18 comments\n"
     ]
    },
    {
     "name": "stderr",
     "output_type": "stream",
     "text": [
      "Processing short users:   2%|▏         | 19/1000 [01:43<1:57:31,  7.19s/it]"
     ]
    },
    {
     "name": "stdout",
     "output_type": "stream",
     "text": [
      "Saved progress after user: @The_nobody2.0\n",
      "\n",
      "Evaluating user: @Optim40 | 19 comments\n"
     ]
    },
    {
     "name": "stderr",
     "output_type": "stream",
     "text": [
      "Processing short users:   2%|▏         | 20/1000 [01:47<1:42:02,  6.25s/it]"
     ]
    },
    {
     "name": "stdout",
     "output_type": "stream",
     "text": [
      "Saved progress after user: @Optim40\n",
      "\n",
      "Evaluating user: @Three_Rivers_Adventure | 20 comments\n"
     ]
    },
    {
     "name": "stderr",
     "output_type": "stream",
     "text": [
      "Processing short users:   2%|▏         | 21/1000 [01:54<1:44:51,  6.43s/it]"
     ]
    },
    {
     "name": "stdout",
     "output_type": "stream",
     "text": [
      "Saved progress after user: @Three_Rivers_Adventure\n",
      "\n",
      "Evaluating user: @agaba5500 | 23 comments\n"
     ]
    },
    {
     "name": "stderr",
     "output_type": "stream",
     "text": [
      "Processing short users:   2%|▏         | 22/1000 [01:58<1:36:25,  5.92s/it]"
     ]
    },
    {
     "name": "stdout",
     "output_type": "stream",
     "text": [
      "Saved progress after user: @agaba5500\n",
      "\n",
      "Evaluating user: @GeneralG1810 | 31 comments\n"
     ]
    },
    {
     "name": "stderr",
     "output_type": "stream",
     "text": [
      "Processing short users:   2%|▏         | 23/1000 [02:02<1:27:38,  5.38s/it]"
     ]
    },
    {
     "name": "stdout",
     "output_type": "stream",
     "text": [
      "Saved progress after user: @GeneralG1810\n",
      "\n",
      "Evaluating user: @WhiteBloggerBlackSpecs | 30 comments\n"
     ]
    },
    {
     "name": "stderr",
     "output_type": "stream",
     "text": [
      "Processing short users:   2%|▏         | 24/1000 [02:08<1:30:49,  5.58s/it]"
     ]
    },
    {
     "name": "stdout",
     "output_type": "stream",
     "text": [
      "Saved progress after user: @WhiteBloggerBlackSpecs\n",
      "\n",
      "Evaluating user: @skeleton_craftGaming | 19 comments\n"
     ]
    },
    {
     "name": "stderr",
     "output_type": "stream",
     "text": [
      "Processing short users:   2%|▎         | 25/1000 [02:12<1:21:28,  5.01s/it]"
     ]
    },
    {
     "name": "stdout",
     "output_type": "stream",
     "text": [
      "Saved progress after user: @skeleton_craftGaming\n",
      "\n",
      "Evaluating user: @Dev-qs2yb | 21 comments\n"
     ]
    },
    {
     "name": "stderr",
     "output_type": "stream",
     "text": [
      "Processing short users:   3%|▎         | 26/1000 [02:16<1:16:55,  4.74s/it]"
     ]
    },
    {
     "name": "stdout",
     "output_type": "stream",
     "text": [
      "Saved progress after user: @Dev-qs2yb\n",
      "\n",
      "Evaluating user: @BearerOfLightSonOfGod | 23 comments\n"
     ]
    },
    {
     "name": "stderr",
     "output_type": "stream",
     "text": [
      "Processing short users:   3%|▎         | 27/1000 [02:21<1:15:42,  4.67s/it]"
     ]
    },
    {
     "name": "stdout",
     "output_type": "stream",
     "text": [
      "Saved progress after user: @BearerOfLightSonOfGod\n",
      "\n",
      "Evaluating user: @jessecockrum5273 | 18 comments\n"
     ]
    },
    {
     "name": "stderr",
     "output_type": "stream",
     "text": [
      "Processing short users:   3%|▎         | 28/1000 [02:25<1:12:21,  4.47s/it]"
     ]
    },
    {
     "name": "stdout",
     "output_type": "stream",
     "text": [
      "Saved progress after user: @jessecockrum5273\n",
      "\n",
      "Evaluating user: @Rydonattelo | 23 comments\n"
     ]
    },
    {
     "name": "stderr",
     "output_type": "stream",
     "text": [
      "Processing short users:   3%|▎         | 29/1000 [02:30<1:17:56,  4.82s/it]"
     ]
    },
    {
     "name": "stdout",
     "output_type": "stream",
     "text": [
      "Saved progress after user: @Rydonattelo\n",
      "\n",
      "Evaluating user: @daboys1215 | 21 comments\n"
     ]
    },
    {
     "name": "stderr",
     "output_type": "stream",
     "text": [
      "Processing short users:   3%|▎         | 30/1000 [02:34<1:11:21,  4.41s/it]"
     ]
    },
    {
     "name": "stdout",
     "output_type": "stream",
     "text": [
      "Saved progress after user: @daboys1215\n",
      "\n",
      "Evaluating user: @Fandar | 24 comments\n"
     ]
    },
    {
     "name": "stderr",
     "output_type": "stream",
     "text": [
      "Processing short users:   3%|▎         | 31/1000 [02:39<1:13:44,  4.57s/it]"
     ]
    },
    {
     "name": "stdout",
     "output_type": "stream",
     "text": [
      "Saved progress after user: @Fandar\n",
      "\n",
      "Evaluating user: @viperdemonz-jenkins | 34 comments\n"
     ]
    },
    {
     "name": "stderr",
     "output_type": "stream",
     "text": [
      "Processing short users:   3%|▎         | 32/1000 [02:43<1:11:57,  4.46s/it]"
     ]
    },
    {
     "name": "stdout",
     "output_type": "stream",
     "text": [
      "Saved progress after user: @viperdemonz-jenkins\n",
      "\n",
      "Evaluating user: @violettracey | 37 comments\n"
     ]
    },
    {
     "name": "stderr",
     "output_type": "stream",
     "text": [
      "Processing short users:   3%|▎         | 33/1000 [02:46<1:06:05,  4.10s/it]"
     ]
    },
    {
     "name": "stdout",
     "output_type": "stream",
     "text": [
      "Saved progress after user: @violettracey\n",
      "\n",
      "Evaluating user: @onetomeplz5825 | 33 comments\n"
     ]
    },
    {
     "name": "stderr",
     "output_type": "stream",
     "text": [
      "Processing short users:   3%|▎         | 34/1000 [02:50<1:05:29,  4.07s/it]"
     ]
    },
    {
     "name": "stdout",
     "output_type": "stream",
     "text": [
      "Saved progress after user: @onetomeplz5825\n",
      "\n",
      "Evaluating user: @giovannigiorgio2262 | 25 comments\n"
     ]
    },
    {
     "name": "stderr",
     "output_type": "stream",
     "text": [
      "Processing short users:   4%|▎         | 35/1000 [02:54<1:05:19,  4.06s/it]"
     ]
    },
    {
     "name": "stdout",
     "output_type": "stream",
     "text": [
      "Saved progress after user: @giovannigiorgio2262\n",
      "\n",
      "Evaluating user: @Hotdogcookie20 | 23 comments\n"
     ]
    },
    {
     "name": "stderr",
     "output_type": "stream",
     "text": [
      "Processing short users:   4%|▎         | 36/1000 [03:01<1:16:31,  4.76s/it]"
     ]
    },
    {
     "name": "stdout",
     "output_type": "stream",
     "text": [
      "Saved progress after user: @Hotdogcookie20\n",
      "\n",
      "Evaluating user: @Wertyber | 42 comments\n"
     ]
    },
    {
     "name": "stderr",
     "output_type": "stream",
     "text": [
      "Processing short users:   4%|▎         | 37/1000 [03:05<1:12:14,  4.50s/it]"
     ]
    },
    {
     "name": "stdout",
     "output_type": "stream",
     "text": [
      "Saved progress after user: @Wertyber\n",
      "\n",
      "Evaluating user: @FRISHR | 28 comments\n"
     ]
    },
    {
     "name": "stderr",
     "output_type": "stream",
     "text": [
      "Processing short users:   4%|▍         | 38/1000 [03:11<1:21:03,  5.06s/it]"
     ]
    },
    {
     "name": "stdout",
     "output_type": "stream",
     "text": [
      "Saved progress after user: @FRISHR\n",
      "\n",
      "Evaluating user: @CătălinaMaria1896 | 31 comments\n"
     ]
    },
    {
     "name": "stderr",
     "output_type": "stream",
     "text": [
      "Processing short users:   4%|▍         | 39/1000 [03:15<1:18:20,  4.89s/it]"
     ]
    },
    {
     "name": "stdout",
     "output_type": "stream",
     "text": [
      "Saved progress after user: @CătălinaMaria1896\n",
      "\n",
      "Evaluating user: @pandamilkshake | 52 comments\n"
     ]
    },
    {
     "name": "stderr",
     "output_type": "stream",
     "text": [
      "Processing short users:   4%|▍         | 40/1000 [03:19<1:13:27,  4.59s/it]"
     ]
    },
    {
     "name": "stdout",
     "output_type": "stream",
     "text": [
      "Saved progress after user: @pandamilkshake\n",
      "\n",
      "Evaluating user: @cinemaflixtrailers8636 | 22 comments\n"
     ]
    },
    {
     "name": "stderr",
     "output_type": "stream",
     "text": [
      "Processing short users:   4%|▍         | 41/1000 [03:23<1:09:32,  4.35s/it]"
     ]
    },
    {
     "name": "stdout",
     "output_type": "stream",
     "text": [
      "Saved progress after user: @cinemaflixtrailers8636\n",
      "\n",
      "Evaluating user: @danielanthony8373 | 22 comments\n"
     ]
    },
    {
     "name": "stderr",
     "output_type": "stream",
     "text": [
      "Processing short users:   4%|▍         | 42/1000 [03:27<1:06:13,  4.15s/it]"
     ]
    },
    {
     "name": "stdout",
     "output_type": "stream",
     "text": [
      "Saved progress after user: @danielanthony8373\n",
      "\n",
      "Evaluating user: @anandmohansingh1972 | 19 comments\n"
     ]
    },
    {
     "name": "stderr",
     "output_type": "stream",
     "text": [
      "Processing short users:   4%|▍         | 43/1000 [03:33<1:15:07,  4.71s/it]"
     ]
    },
    {
     "name": "stdout",
     "output_type": "stream",
     "text": [
      "Saved progress after user: @anandmohansingh1972\n",
      "\n",
      "Evaluating user: @lolo0302 | 34 comments\n"
     ]
    },
    {
     "name": "stderr",
     "output_type": "stream",
     "text": [
      "Processing short users:   4%|▍         | 44/1000 [03:37<1:11:46,  4.50s/it]"
     ]
    },
    {
     "name": "stdout",
     "output_type": "stream",
     "text": [
      "Saved progress after user: @lolo0302\n",
      "\n",
      "Evaluating user: @knuckle-sandwichmma681 | 23 comments\n"
     ]
    },
    {
     "name": "stderr",
     "output_type": "stream",
     "text": [
      "Processing short users:   4%|▍         | 45/1000 [03:40<1:07:13,  4.22s/it]"
     ]
    },
    {
     "name": "stdout",
     "output_type": "stream",
     "text": [
      "Saved progress after user: @knuckle-sandwichmma681\n",
      "\n",
      "Evaluating user: @ShrekThaOGEE | 26 comments\n"
     ]
    },
    {
     "name": "stderr",
     "output_type": "stream",
     "text": [
      "Processing short users:   5%|▍         | 46/1000 [03:45<1:10:31,  4.44s/it]"
     ]
    },
    {
     "name": "stdout",
     "output_type": "stream",
     "text": [
      "Saved progress after user: @ShrekThaOGEE\n",
      "\n",
      "Evaluating user: @FACTS.not.FEELINGS.vet. | 23 comments\n"
     ]
    },
    {
     "name": "stderr",
     "output_type": "stream",
     "text": [
      "Processing short users:   5%|▍         | 47/1000 [03:50<1:10:33,  4.44s/it]"
     ]
    },
    {
     "name": "stdout",
     "output_type": "stream",
     "text": [
      "Saved progress after user: @FACTS.not.FEELINGS.vet.\n",
      "\n",
      "Evaluating user: @glenharrison1410 | 20 comments\n"
     ]
    },
    {
     "name": "stderr",
     "output_type": "stream",
     "text": [
      "Processing short users:   5%|▍         | 48/1000 [03:59<1:33:26,  5.89s/it]"
     ]
    },
    {
     "name": "stdout",
     "output_type": "stream",
     "text": [
      "Saved progress after user: @glenharrison1410\n",
      "\n",
      "Evaluating user: @SyzithYT | 19 comments\n"
     ]
    },
    {
     "name": "stderr",
     "output_type": "stream",
     "text": [
      "Processing short users:   5%|▍         | 49/1000 [04:04<1:26:45,  5.47s/it]"
     ]
    },
    {
     "name": "stdout",
     "output_type": "stream",
     "text": [
      "Saved progress after user: @SyzithYT\n",
      "\n",
      "Evaluating user: @LBCB94025 | 21 comments\n"
     ]
    },
    {
     "name": "stderr",
     "output_type": "stream",
     "text": [
      "Processing short users:   5%|▌         | 50/1000 [04:10<1:29:23,  5.65s/it]"
     ]
    },
    {
     "name": "stdout",
     "output_type": "stream",
     "text": [
      "Saved progress after user: @LBCB94025\n",
      "\n",
      "Evaluating user: @ethanrocha8803 | 20 comments\n"
     ]
    },
    {
     "name": "stderr",
     "output_type": "stream",
     "text": [
      "Processing short users:   5%|▌         | 51/1000 [04:13<1:19:43,  5.04s/it]"
     ]
    },
    {
     "name": "stdout",
     "output_type": "stream",
     "text": [
      "Saved progress after user: @ethanrocha8803\n",
      "\n",
      "Evaluating user: @100.9 | 31 comments\n"
     ]
    },
    {
     "name": "stderr",
     "output_type": "stream",
     "text": [
      "Processing short users:   5%|▌         | 52/1000 [04:18<1:18:48,  4.99s/it]"
     ]
    },
    {
     "name": "stdout",
     "output_type": "stream",
     "text": [
      "Saved progress after user: @100.9\n",
      "\n",
      "Evaluating user: @A87-p1l | 31 comments\n"
     ]
    },
    {
     "name": "stderr",
     "output_type": "stream",
     "text": [
      "Processing short users:   5%|▌         | 53/1000 [04:23<1:17:53,  4.93s/it]"
     ]
    },
    {
     "name": "stdout",
     "output_type": "stream",
     "text": [
      "Saved progress after user: @A87-p1l\n",
      "\n",
      "Evaluating user: @JustAPersonWhoComments | 56 comments\n"
     ]
    },
    {
     "name": "stderr",
     "output_type": "stream",
     "text": [
      "Processing short users:   5%|▌         | 54/1000 [04:28<1:19:04,  5.02s/it]"
     ]
    },
    {
     "name": "stdout",
     "output_type": "stream",
     "text": [
      "Saved progress after user: @JustAPersonWhoComments\n",
      "\n",
      "Evaluating user: @ILiterallyFeltThat | 28 comments\n"
     ]
    },
    {
     "name": "stderr",
     "output_type": "stream",
     "text": [
      "Processing short users:   6%|▌         | 55/1000 [04:33<1:16:12,  4.84s/it]"
     ]
    },
    {
     "name": "stdout",
     "output_type": "stream",
     "text": [
      "Saved progress after user: @ILiterallyFeltThat\n",
      "\n",
      "Evaluating user: @skarletshadow4481 | 27 comments\n"
     ]
    },
    {
     "name": "stderr",
     "output_type": "stream",
     "text": [
      "Processing short users:   6%|▌         | 56/1000 [04:37<1:13:34,  4.68s/it]"
     ]
    },
    {
     "name": "stdout",
     "output_type": "stream",
     "text": [
      "Saved progress after user: @skarletshadow4481\n",
      "\n",
      "Evaluating user: @Dragonlord826 | 27 comments\n"
     ]
    },
    {
     "name": "stderr",
     "output_type": "stream",
     "text": [
      "Processing short users:   6%|▌         | 57/1000 [04:41<1:12:01,  4.58s/it]"
     ]
    },
    {
     "name": "stdout",
     "output_type": "stream",
     "text": [
      "Saved progress after user: @Dragonlord826\n",
      "\n",
      "Evaluating user: @imamangoo8632 | 22 comments\n"
     ]
    },
    {
     "name": "stderr",
     "output_type": "stream",
     "text": [
      "Processing short users:   6%|▌         | 58/1000 [04:45<1:09:51,  4.45s/it]"
     ]
    },
    {
     "name": "stdout",
     "output_type": "stream",
     "text": [
      "Saved progress after user: @imamangoo8632\n",
      "\n",
      "Evaluating user: @memerified | 20 comments\n"
     ]
    },
    {
     "name": "stderr",
     "output_type": "stream",
     "text": [
      "Processing short users:   6%|▌         | 59/1000 [04:49<1:07:08,  4.28s/it]"
     ]
    },
    {
     "name": "stdout",
     "output_type": "stream",
     "text": [
      "Saved progress after user: @memerified\n",
      "\n",
      "Evaluating user: @CertifiedCat1 | 18 comments\n"
     ]
    },
    {
     "name": "stderr",
     "output_type": "stream",
     "text": [
      "Processing short users:   6%|▌         | 60/1000 [04:53<1:04:16,  4.10s/it]"
     ]
    },
    {
     "name": "stdout",
     "output_type": "stream",
     "text": [
      "Saved progress after user: @CertifiedCat1\n",
      "\n",
      "Evaluating user: @Thorninjag | 36 comments\n"
     ]
    },
    {
     "name": "stderr",
     "output_type": "stream",
     "text": [
      "Processing short users:   6%|▌         | 61/1000 [04:57<1:06:05,  4.22s/it]"
     ]
    },
    {
     "name": "stdout",
     "output_type": "stream",
     "text": [
      "Saved progress after user: @Thorninjag\n",
      "\n",
      "Evaluating user: @DonnieToys | 219 comments\n"
     ]
    },
    {
     "name": "stderr",
     "output_type": "stream",
     "text": [
      "Processing short users:   6%|▌         | 62/1000 [05:03<1:13:06,  4.68s/it]"
     ]
    },
    {
     "name": "stdout",
     "output_type": "stream",
     "text": [
      "Saved progress after user: @DonnieToys\n",
      "\n",
      "Evaluating user: @CalebHigginbotham | 38 comments\n"
     ]
    },
    {
     "name": "stderr",
     "output_type": "stream",
     "text": [
      "Processing short users:   6%|▋         | 63/1000 [05:09<1:18:29,  5.03s/it]"
     ]
    },
    {
     "name": "stdout",
     "output_type": "stream",
     "text": [
      "Saved progress after user: @CalebHigginbotham\n",
      "\n",
      "Evaluating user: @lnr12241 | 19 comments\n"
     ]
    },
    {
     "name": "stderr",
     "output_type": "stream",
     "text": [
      "Processing short users:   6%|▋         | 64/1000 [05:14<1:16:26,  4.90s/it]"
     ]
    },
    {
     "name": "stdout",
     "output_type": "stream",
     "text": [
      "Saved progress after user: @lnr12241\n",
      "\n",
      "Evaluating user: @clarkkent3730 | 24 comments\n"
     ]
    },
    {
     "name": "stderr",
     "output_type": "stream",
     "text": [
      "Processing short users:   6%|▋         | 65/1000 [05:18<1:14:31,  4.78s/it]"
     ]
    },
    {
     "name": "stdout",
     "output_type": "stream",
     "text": [
      "Saved progress after user: @clarkkent3730\n",
      "\n",
      "Evaluating user: @idiomasentusiasticos7954 | 37 comments\n"
     ]
    },
    {
     "name": "stderr",
     "output_type": "stream",
     "text": [
      "Processing short users:   7%|▋         | 66/1000 [05:22<1:11:14,  4.58s/it]"
     ]
    },
    {
     "name": "stdout",
     "output_type": "stream",
     "text": [
      "Saved progress after user: @idiomasentusiasticos7954\n",
      "\n",
      "Evaluating user: @FreshlyWILD | 20 comments\n"
     ]
    },
    {
     "name": "stderr",
     "output_type": "stream",
     "text": [
      "Processing short users:   7%|▋         | 67/1000 [05:26<1:07:57,  4.37s/it]"
     ]
    },
    {
     "name": "stdout",
     "output_type": "stream",
     "text": [
      "Saved progress after user: @FreshlyWILD\n",
      "\n",
      "Evaluating user: @mrbigg151 | 21 comments\n"
     ]
    },
    {
     "name": "stderr",
     "output_type": "stream",
     "text": [
      "Processing short users:   7%|▋         | 68/1000 [05:30<1:05:10,  4.20s/it]"
     ]
    },
    {
     "name": "stdout",
     "output_type": "stream",
     "text": [
      "Saved progress after user: @mrbigg151\n",
      "\n",
      "Evaluating user: @firestonegraywolf | 20 comments\n"
     ]
    },
    {
     "name": "stderr",
     "output_type": "stream",
     "text": [
      "Processing short users:   7%|▋         | 69/1000 [05:34<1:04:56,  4.18s/it]"
     ]
    },
    {
     "name": "stdout",
     "output_type": "stream",
     "text": [
      "Saved progress after user: @firestonegraywolf\n",
      "\n",
      "Evaluating user: @tiromandal6399 | 19 comments\n"
     ]
    },
    {
     "name": "stderr",
     "output_type": "stream",
     "text": [
      "Processing short users:   7%|▋         | 70/1000 [05:39<1:08:35,  4.43s/it]"
     ]
    },
    {
     "name": "stdout",
     "output_type": "stream",
     "text": [
      "Saved progress after user: @tiromandal6399\n",
      "\n",
      "Evaluating user: @Phoenixspin | 19 comments\n"
     ]
    },
    {
     "name": "stderr",
     "output_type": "stream",
     "text": [
      "Processing short users:   7%|▋         | 71/1000 [05:44<1:11:32,  4.62s/it]"
     ]
    },
    {
     "name": "stdout",
     "output_type": "stream",
     "text": [
      "Saved progress after user: @Phoenixspin\n",
      "\n",
      "Evaluating user: @henry605 | 22 comments\n"
     ]
    },
    {
     "name": "stderr",
     "output_type": "stream",
     "text": [
      "Processing short users:   7%|▋         | 72/1000 [05:50<1:18:47,  5.09s/it]"
     ]
    },
    {
     "name": "stdout",
     "output_type": "stream",
     "text": [
      "Saved progress after user: @henry605\n",
      "\n",
      "Evaluating user: @k7l3rworkman97 | 19 comments\n"
     ]
    },
    {
     "name": "stderr",
     "output_type": "stream",
     "text": [
      "Processing short users:   7%|▋         | 73/1000 [05:55<1:18:48,  5.10s/it]"
     ]
    },
    {
     "name": "stdout",
     "output_type": "stream",
     "text": [
      "Saved progress after user: @k7l3rworkman97\n",
      "\n",
      "Evaluating user: @gyromurphy | 20 comments\n"
     ]
    },
    {
     "name": "stderr",
     "output_type": "stream",
     "text": [
      "Processing short users:   7%|▋         | 74/1000 [05:59<1:12:47,  4.72s/it]"
     ]
    },
    {
     "name": "stdout",
     "output_type": "stream",
     "text": [
      "Saved progress after user: @gyromurphy\n",
      "\n",
      "Evaluating user: @2PIXELS24 | 31 comments\n"
     ]
    },
    {
     "name": "stderr",
     "output_type": "stream",
     "text": [
      "Processing short users:   8%|▊         | 75/1000 [06:05<1:16:36,  4.97s/it]"
     ]
    },
    {
     "name": "stdout",
     "output_type": "stream",
     "text": [
      "Saved progress after user: @2PIXELS24\n",
      "\n",
      "Evaluating user: @Werdnasemajjamesandrew | 28 comments\n"
     ]
    },
    {
     "name": "stderr",
     "output_type": "stream",
     "text": [
      "Processing short users:   8%|▊         | 76/1000 [06:12<1:24:59,  5.52s/it]"
     ]
    },
    {
     "name": "stdout",
     "output_type": "stream",
     "text": [
      "Saved progress after user: @Werdnasemajjamesandrew\n",
      "\n",
      "Evaluating user: @mattsheezy5469 | 22 comments\n"
     ]
    },
    {
     "name": "stderr",
     "output_type": "stream",
     "text": [
      "Processing short users:   8%|▊         | 77/1000 [06:16<1:19:33,  5.17s/it]"
     ]
    },
    {
     "name": "stdout",
     "output_type": "stream",
     "text": [
      "Saved progress after user: @mattsheezy5469\n",
      "\n",
      "Evaluating user: @exposingproxystalkingorgan4164 | 29 comments\n"
     ]
    },
    {
     "name": "stderr",
     "output_type": "stream",
     "text": [
      "Processing short users:   8%|▊         | 78/1000 [06:21<1:16:52,  5.00s/it]"
     ]
    },
    {
     "name": "stdout",
     "output_type": "stream",
     "text": [
      "Saved progress after user: @exposingproxystalkingorgan4164\n",
      "\n",
      "Evaluating user: @joshuaperales3408 | 19 comments\n"
     ]
    },
    {
     "name": "stderr",
     "output_type": "stream",
     "text": [
      "Processing short users:   8%|▊         | 79/1000 [06:25<1:13:33,  4.79s/it]"
     ]
    },
    {
     "name": "stdout",
     "output_type": "stream",
     "text": [
      "Saved progress after user: @joshuaperales3408\n",
      "\n",
      "Evaluating user: @hrdgms27 | 19 comments\n"
     ]
    },
    {
     "name": "stderr",
     "output_type": "stream",
     "text": [
      "Processing short users:   8%|▊         | 80/1000 [06:29<1:09:31,  4.53s/it]"
     ]
    },
    {
     "name": "stdout",
     "output_type": "stream",
     "text": [
      "Saved progress after user: @hrdgms27\n",
      "\n",
      "Evaluating user: @VygoUwU | 26 comments\n"
     ]
    },
    {
     "name": "stderr",
     "output_type": "stream",
     "text": [
      "Processing short users:   8%|▊         | 81/1000 [06:34<1:11:00,  4.64s/it]"
     ]
    },
    {
     "name": "stdout",
     "output_type": "stream",
     "text": [
      "Saved progress after user: @VygoUwU\n",
      "\n",
      "Evaluating user: @FoodNerds | 19 comments\n"
     ]
    },
    {
     "name": "stderr",
     "output_type": "stream",
     "text": [
      "Processing short users:   8%|▊         | 82/1000 [06:39<1:12:40,  4.75s/it]"
     ]
    },
    {
     "name": "stdout",
     "output_type": "stream",
     "text": [
      "Saved progress after user: @FoodNerds\n",
      "\n",
      "Evaluating user: @giosy0072 | 19 comments\n"
     ]
    },
    {
     "name": "stderr",
     "output_type": "stream",
     "text": [
      "Processing short users:   8%|▊         | 83/1000 [06:44<1:15:42,  4.95s/it]"
     ]
    },
    {
     "name": "stdout",
     "output_type": "stream",
     "text": [
      "Saved progress after user: @giosy0072\n",
      "\n",
      "Evaluating user: @jessies16 | 28 comments\n"
     ]
    },
    {
     "name": "stderr",
     "output_type": "stream",
     "text": [
      "Processing short users:   8%|▊         | 84/1000 [06:50<1:17:49,  5.10s/it]"
     ]
    },
    {
     "name": "stdout",
     "output_type": "stream",
     "text": [
      "Saved progress after user: @jessies16\n",
      "\n",
      "Evaluating user: @Bald1_Bas1cs | 30 comments\n"
     ]
    },
    {
     "name": "stderr",
     "output_type": "stream",
     "text": [
      "Processing short users:   8%|▊         | 85/1000 [06:57<1:27:10,  5.72s/it]"
     ]
    },
    {
     "name": "stdout",
     "output_type": "stream",
     "text": [
      "Saved progress after user: @Bald1_Bas1cs\n",
      "\n",
      "Evaluating user: @l_Ronan_l | 29 comments\n"
     ]
    },
    {
     "name": "stderr",
     "output_type": "stream",
     "text": [
      "Processing short users:   9%|▊         | 86/1000 [07:01<1:22:34,  5.42s/it]"
     ]
    },
    {
     "name": "stdout",
     "output_type": "stream",
     "text": [
      "Saved progress after user: @l_Ronan_l\n",
      "\n",
      "Evaluating user: @HFIAPY | 54 comments\n"
     ]
    },
    {
     "name": "stderr",
     "output_type": "stream",
     "text": [
      "Processing short users:   9%|▊         | 87/1000 [07:06<1:18:24,  5.15s/it]"
     ]
    },
    {
     "name": "stdout",
     "output_type": "stream",
     "text": [
      "Saved progress after user: @HFIAPY\n",
      "\n",
      "Evaluating user: @Son-Goku1227 | 19 comments\n"
     ]
    },
    {
     "name": "stderr",
     "output_type": "stream",
     "text": [
      "Processing short users:   9%|▉         | 88/1000 [07:11<1:16:05,  5.01s/it]"
     ]
    },
    {
     "name": "stdout",
     "output_type": "stream",
     "text": [
      "Saved progress after user: @Son-Goku1227\n",
      "\n",
      "Evaluating user: @krtc4102 | 34 comments\n"
     ]
    },
    {
     "name": "stderr",
     "output_type": "stream",
     "text": [
      "Processing short users:   9%|▉         | 89/1000 [07:15<1:11:34,  4.71s/it]"
     ]
    },
    {
     "name": "stdout",
     "output_type": "stream",
     "text": [
      "Saved progress after user: @krtc4102\n",
      "\n",
      "Evaluating user: @LoganBakerBL | 18 comments\n"
     ]
    },
    {
     "name": "stderr",
     "output_type": "stream",
     "text": [
      "Processing short users:   9%|▉         | 90/1000 [07:20<1:13:05,  4.82s/it]"
     ]
    },
    {
     "name": "stdout",
     "output_type": "stream",
     "text": [
      "Saved progress after user: @LoganBakerBL\n",
      "\n",
      "Evaluating user: @durplepurpleee | 18 comments\n"
     ]
    },
    {
     "name": "stderr",
     "output_type": "stream",
     "text": [
      "Processing short users:   9%|▉         | 91/1000 [07:23<1:07:57,  4.49s/it]"
     ]
    },
    {
     "name": "stdout",
     "output_type": "stream",
     "text": [
      "Saved progress after user: @durplepurpleee\n",
      "\n",
      "Evaluating user: @JamTSAA | 20 comments\n"
     ]
    },
    {
     "name": "stderr",
     "output_type": "stream",
     "text": [
      "Processing short users:   9%|▉         | 92/1000 [07:28<1:08:11,  4.51s/it]"
     ]
    },
    {
     "name": "stdout",
     "output_type": "stream",
     "text": [
      "Saved progress after user: @JamTSAA\n",
      "\n",
      "Evaluating user: @kafkasja | 21 comments\n"
     ]
    },
    {
     "name": "stderr",
     "output_type": "stream",
     "text": [
      "Processing short users:   9%|▉         | 93/1000 [07:37<1:30:00,  5.95s/it]"
     ]
    },
    {
     "name": "stdout",
     "output_type": "stream",
     "text": [
      "Saved progress after user: @kafkasja\n",
      "\n",
      "Evaluating user: @neongurl1999 | 25 comments\n"
     ]
    },
    {
     "name": "stderr",
     "output_type": "stream",
     "text": [
      "Processing short users:   9%|▉         | 94/1000 [07:43<1:27:26,  5.79s/it]"
     ]
    },
    {
     "name": "stdout",
     "output_type": "stream",
     "text": [
      "Saved progress after user: @neongurl1999\n",
      "\n",
      "Evaluating user: @HoliGallistur1023 | 66 comments\n"
     ]
    },
    {
     "name": "stderr",
     "output_type": "stream",
     "text": [
      "Processing short users:  10%|▉         | 95/1000 [07:47<1:20:24,  5.33s/it]"
     ]
    },
    {
     "name": "stdout",
     "output_type": "stream",
     "text": [
      "Saved progress after user: @HoliGallistur1023\n",
      "\n",
      "Evaluating user: @marciarobinson8200 | 45 comments\n"
     ]
    },
    {
     "name": "stderr",
     "output_type": "stream",
     "text": [
      "Processing short users:  10%|▉         | 96/1000 [07:51<1:15:17,  5.00s/it]"
     ]
    },
    {
     "name": "stdout",
     "output_type": "stream",
     "text": [
      "Saved progress after user: @marciarobinson8200\n",
      "\n",
      "Evaluating user: @2near_death | 18 comments\n"
     ]
    },
    {
     "name": "stderr",
     "output_type": "stream",
     "text": [
      "Processing short users:  10%|▉         | 97/1000 [07:58<1:22:34,  5.49s/it]"
     ]
    },
    {
     "name": "stdout",
     "output_type": "stream",
     "text": [
      "Saved progress after user: @2near_death\n",
      "\n",
      "Evaluating user: @purwaaninataplaya | 23 comments\n"
     ]
    },
    {
     "name": "stderr",
     "output_type": "stream",
     "text": [
      "Processing short users:  10%|▉         | 98/1000 [08:02<1:14:51,  4.98s/it]"
     ]
    },
    {
     "name": "stdout",
     "output_type": "stream",
     "text": [
      "Saved progress after user: @purwaaninataplaya\n",
      "\n",
      "Evaluating user: @daengchannel789 | 68 comments\n"
     ]
    },
    {
     "name": "stderr",
     "output_type": "stream",
     "text": [
      "Processing short users:  10%|▉         | 99/1000 [08:05<1:06:37,  4.44s/it]"
     ]
    },
    {
     "name": "stdout",
     "output_type": "stream",
     "text": [
      "Saved progress after user: @daengchannel789\n",
      "\n",
      "Evaluating user: @krisynwave9644 | 22 comments\n"
     ]
    },
    {
     "name": "stderr",
     "output_type": "stream",
     "text": [
      "Processing short users:  10%|█         | 100/1000 [08:10<1:07:47,  4.52s/it]"
     ]
    },
    {
     "name": "stdout",
     "output_type": "stream",
     "text": [
      "Saved progress after user: @krisynwave9644\n",
      "\n",
      "Evaluating user: @smilemaask | 24 comments\n"
     ]
    },
    {
     "name": "stderr",
     "output_type": "stream",
     "text": [
      "Processing short users:  10%|█         | 101/1000 [08:14<1:08:34,  4.58s/it]"
     ]
    },
    {
     "name": "stdout",
     "output_type": "stream",
     "text": [
      "Saved progress after user: @smilemaask\n",
      "\n",
      "Evaluating user: @psychedeli_ | 28 comments\n"
     ]
    },
    {
     "name": "stderr",
     "output_type": "stream",
     "text": [
      "Processing short users:  10%|█         | 102/1000 [08:18<1:06:20,  4.43s/it]"
     ]
    },
    {
     "name": "stdout",
     "output_type": "stream",
     "text": [
      "Saved progress after user: @psychedeli_\n",
      "\n",
      "Evaluating user: @jwzc | 26 comments\n"
     ]
    },
    {
     "name": "stderr",
     "output_type": "stream",
     "text": [
      "Processing short users:  10%|█         | 103/1000 [08:24<1:12:34,  4.85s/it]"
     ]
    },
    {
     "name": "stdout",
     "output_type": "stream",
     "text": [
      "Saved progress after user: @jwzc\n",
      "\n",
      "Evaluating user: @certified_l0ser | 34 comments\n"
     ]
    },
    {
     "name": "stderr",
     "output_type": "stream",
     "text": [
      "Processing short users:  10%|█         | 104/1000 [08:29<1:13:33,  4.93s/it]"
     ]
    },
    {
     "name": "stdout",
     "output_type": "stream",
     "text": [
      "Saved progress after user: @certified_l0ser\n",
      "\n",
      "Evaluating user: @TNTboyz1997 | 25 comments\n"
     ]
    },
    {
     "name": "stderr",
     "output_type": "stream",
     "text": [
      "Processing short users:  10%|█         | 105/1000 [08:34<1:10:46,  4.74s/it]"
     ]
    },
    {
     "name": "stdout",
     "output_type": "stream",
     "text": [
      "Saved progress after user: @TNTboyz1997\n",
      "\n",
      "Evaluating user: @Star17Platinum17 | 25 comments\n"
     ]
    },
    {
     "name": "stderr",
     "output_type": "stream",
     "text": [
      "Processing short users:  11%|█         | 106/1000 [08:38<1:07:48,  4.55s/it]"
     ]
    },
    {
     "name": "stdout",
     "output_type": "stream",
     "text": [
      "Saved progress after user: @Star17Platinum17\n",
      "\n",
      "Evaluating user: @ChrisTian-sd5yq | 25 comments\n"
     ]
    },
    {
     "name": "stderr",
     "output_type": "stream",
     "text": [
      "Processing short users:  11%|█         | 107/1000 [08:42<1:06:36,  4.48s/it]"
     ]
    },
    {
     "name": "stdout",
     "output_type": "stream",
     "text": [
      "Saved progress after user: @ChrisTian-sd5yq\n",
      "\n",
      "Evaluating user: @PRINCEofRAMPAGEGHDGahAGEGEHMMM | 25 comments\n"
     ]
    },
    {
     "name": "stderr",
     "output_type": "stream",
     "text": [
      "Processing short users:  11%|█         | 108/1000 [08:48<1:11:05,  4.78s/it]"
     ]
    },
    {
     "name": "stdout",
     "output_type": "stream",
     "text": [
      "Saved progress after user: @PRINCEofRAMPAGEGHDGahAGEGEHMMM\n",
      "\n",
      "Evaluating user: @arfriedman4577 | 60 comments\n"
     ]
    },
    {
     "name": "stderr",
     "output_type": "stream",
     "text": [
      "Processing short users:  11%|█         | 109/1000 [08:51<1:05:04,  4.38s/it]"
     ]
    },
    {
     "name": "stdout",
     "output_type": "stream",
     "text": [
      "Saved progress after user: @arfriedman4577\n",
      "\n",
      "Evaluating user: @mihaela7118 | 26 comments\n"
     ]
    },
    {
     "name": "stderr",
     "output_type": "stream",
     "text": [
      "Processing short users:  11%|█         | 110/1000 [08:55<1:05:23,  4.41s/it]"
     ]
    },
    {
     "name": "stdout",
     "output_type": "stream",
     "text": [
      "Saved progress after user: @mihaela7118\n",
      "\n",
      "Evaluating user: @BochenZhang-i4p | 26 comments\n"
     ]
    },
    {
     "name": "stderr",
     "output_type": "stream",
     "text": [
      "Processing short users:  11%|█         | 111/1000 [09:01<1:12:07,  4.87s/it]"
     ]
    },
    {
     "name": "stdout",
     "output_type": "stream",
     "text": [
      "Saved progress after user: @BochenZhang-i4p\n",
      "\n",
      "Evaluating user: @catherinmus9364 | 19 comments\n"
     ]
    },
    {
     "name": "stderr",
     "output_type": "stream",
     "text": [
      "Processing short users:  11%|█         | 112/1000 [09:06<1:10:26,  4.76s/it]"
     ]
    },
    {
     "name": "stdout",
     "output_type": "stream",
     "text": [
      "Saved progress after user: @catherinmus9364\n",
      "\n",
      "Evaluating user: @vanessaking292 | 41 comments\n"
     ]
    },
    {
     "name": "stderr",
     "output_type": "stream",
     "text": [
      "Processing short users:  11%|█▏        | 113/1000 [09:10<1:06:58,  4.53s/it]"
     ]
    },
    {
     "name": "stdout",
     "output_type": "stream",
     "text": [
      "Saved progress after user: @vanessaking292\n",
      "\n",
      "Evaluating user: @THE_REAL_VELIKAN | 33 comments\n"
     ]
    },
    {
     "name": "stderr",
     "output_type": "stream",
     "text": [
      "Processing short users:  11%|█▏        | 114/1000 [09:15<1:08:07,  4.61s/it]"
     ]
    },
    {
     "name": "stdout",
     "output_type": "stream",
     "text": [
      "Saved progress after user: @THE_REAL_VELIKAN\n",
      "\n",
      "Evaluating user: @DannySettle-yi2ef | 22 comments\n"
     ]
    },
    {
     "name": "stderr",
     "output_type": "stream",
     "text": [
      "Processing short users:  12%|█▏        | 115/1000 [09:20<1:11:11,  4.83s/it]"
     ]
    },
    {
     "name": "stdout",
     "output_type": "stream",
     "text": [
      "Saved progress after user: @DannySettle-yi2ef\n",
      "\n",
      "Evaluating user: @dan260100 | 25 comments\n"
     ]
    },
    {
     "name": "stderr",
     "output_type": "stream",
     "text": [
      "Processing short users:  12%|█▏        | 116/1000 [09:25<1:10:36,  4.79s/it]"
     ]
    },
    {
     "name": "stdout",
     "output_type": "stream",
     "text": [
      "Saved progress after user: @dan260100\n",
      "\n",
      "Evaluating user: @Respectless20 | 19 comments\n"
     ]
    },
    {
     "name": "stderr",
     "output_type": "stream",
     "text": [
      "Processing short users:  12%|█▏        | 117/1000 [09:29<1:07:54,  4.61s/it]"
     ]
    },
    {
     "name": "stdout",
     "output_type": "stream",
     "text": [
      "Saved progress after user: @Respectless20\n",
      "\n",
      "Evaluating user: @crewlolthevyonder9542 | 20 comments\n"
     ]
    },
    {
     "name": "stderr",
     "output_type": "stream",
     "text": [
      "Processing short users:  12%|█▏        | 118/1000 [09:33<1:06:53,  4.55s/it]"
     ]
    },
    {
     "name": "stdout",
     "output_type": "stream",
     "text": [
      "Saved progress after user: @crewlolthevyonder9542\n",
      "\n",
      "Evaluating user: @senshiendo | 20 comments\n"
     ]
    },
    {
     "name": "stderr",
     "output_type": "stream",
     "text": [
      "Processing short users:  12%|█▏        | 119/1000 [09:38<1:07:00,  4.56s/it]"
     ]
    },
    {
     "name": "stdout",
     "output_type": "stream",
     "text": [
      "Saved progress after user: @senshiendo\n",
      "\n",
      "Evaluating user: @Lisa.IlikefnafOk. | 26 comments\n"
     ]
    },
    {
     "name": "stderr",
     "output_type": "stream",
     "text": [
      "Processing short users:  12%|█▏        | 120/1000 [09:44<1:14:51,  5.10s/it]"
     ]
    },
    {
     "name": "stdout",
     "output_type": "stream",
     "text": [
      "Saved progress after user: @Lisa.IlikefnafOk.\n",
      "\n",
      "Evaluating user: @tonymonxana992 | 20 comments\n"
     ]
    },
    {
     "name": "stderr",
     "output_type": "stream",
     "text": [
      "Processing short users:  12%|█▏        | 121/1000 [09:49<1:12:22,  4.94s/it]"
     ]
    },
    {
     "name": "stdout",
     "output_type": "stream",
     "text": [
      "Saved progress after user: @tonymonxana992\n",
      "\n",
      "Evaluating user: @Nenekitchen82 | 21 comments\n"
     ]
    },
    {
     "name": "stderr",
     "output_type": "stream",
     "text": [
      "Processing short users:  12%|█▏        | 122/1000 [09:53<1:08:37,  4.69s/it]"
     ]
    },
    {
     "name": "stdout",
     "output_type": "stream",
     "text": [
      "Saved progress after user: @Nenekitchen82\n",
      "\n",
      "Evaluating user: @Alastors_biggest_fan | 22 comments\n"
     ]
    },
    {
     "name": "stderr",
     "output_type": "stream",
     "text": [
      "Processing short users:  12%|█▏        | 123/1000 [09:59<1:12:51,  4.98s/it]"
     ]
    },
    {
     "name": "stdout",
     "output_type": "stream",
     "text": [
      "Saved progress after user: @Alastors_biggest_fan\n",
      "\n",
      "Evaluating user: @SwedePotato314 | 23 comments\n"
     ]
    },
    {
     "name": "stderr",
     "output_type": "stream",
     "text": [
      "Processing short users:  12%|█▏        | 124/1000 [10:03<1:08:04,  4.66s/it]"
     ]
    },
    {
     "name": "stdout",
     "output_type": "stream",
     "text": [
      "Saved progress after user: @SwedePotato314\n",
      "\n",
      "Evaluating user: @社群指南 | 21 comments\n"
     ]
    },
    {
     "name": "stderr",
     "output_type": "stream",
     "text": [
      "Processing short users:  12%|█▎        | 125/1000 [10:07<1:06:19,  4.55s/it]"
     ]
    },
    {
     "name": "stdout",
     "output_type": "stream",
     "text": [
      "Saved progress after user: @社群指南\n",
      "\n",
      "Evaluating user: @ger_weet | 27 comments\n"
     ]
    },
    {
     "name": "stderr",
     "output_type": "stream",
     "text": [
      "Processing short users:  13%|█▎        | 126/1000 [10:12<1:08:17,  4.69s/it]"
     ]
    },
    {
     "name": "stdout",
     "output_type": "stream",
     "text": [
      "Saved progress after user: @ger_weet\n",
      "\n",
      "Evaluating user: @xenon10-w7h | 18 comments\n"
     ]
    },
    {
     "name": "stderr",
     "output_type": "stream",
     "text": [
      "Processing short users:  13%|█▎        | 127/1000 [10:16<1:06:58,  4.60s/it]"
     ]
    },
    {
     "name": "stdout",
     "output_type": "stream",
     "text": [
      "Saved progress after user: @xenon10-w7h\n",
      "\n",
      "Evaluating user: @fishcake6151 | 27 comments\n"
     ]
    },
    {
     "name": "stderr",
     "output_type": "stream",
     "text": [
      "Processing short users:  13%|█▎        | 128/1000 [10:22<1:12:30,  4.99s/it]"
     ]
    },
    {
     "name": "stdout",
     "output_type": "stream",
     "text": [
      "Saved progress after user: @fishcake6151\n",
      "\n",
      "Evaluating user: @mr.austin8007 | 29 comments\n"
     ]
    },
    {
     "name": "stderr",
     "output_type": "stream",
     "text": [
      "Processing short users:  13%|█▎        | 129/1000 [10:28<1:15:10,  5.18s/it]"
     ]
    },
    {
     "name": "stdout",
     "output_type": "stream",
     "text": [
      "Saved progress after user: @mr.austin8007\n",
      "\n",
      "Evaluating user: @stoopid.ideeit | 24 comments\n"
     ]
    },
    {
     "name": "stderr",
     "output_type": "stream",
     "text": [
      "Processing short users:  13%|█▎        | 130/1000 [10:33<1:13:45,  5.09s/it]"
     ]
    },
    {
     "name": "stdout",
     "output_type": "stream",
     "text": [
      "Saved progress after user: @stoopid.ideeit\n",
      "\n",
      "Evaluating user: @meguelbarcenas5491 | 18 comments\n"
     ]
    },
    {
     "name": "stderr",
     "output_type": "stream",
     "text": [
      "Processing short users:  13%|█▎        | 131/1000 [10:37<1:12:03,  4.97s/it]"
     ]
    },
    {
     "name": "stdout",
     "output_type": "stream",
     "text": [
      "Saved progress after user: @meguelbarcenas5491\n",
      "\n",
      "Evaluating user: @Su5hanth | 21 comments\n"
     ]
    },
    {
     "name": "stderr",
     "output_type": "stream",
     "text": [
      "Processing short users:  13%|█▎        | 132/1000 [10:41<1:06:21,  4.59s/it]"
     ]
    },
    {
     "name": "stdout",
     "output_type": "stream",
     "text": [
      "Saved progress after user: @Su5hanth\n",
      "\n",
      "Evaluating user: @spin-brickz7557 | 18 comments\n"
     ]
    },
    {
     "name": "stderr",
     "output_type": "stream",
     "text": [
      "Processing short users:  13%|█▎        | 133/1000 [10:46<1:08:35,  4.75s/it]"
     ]
    },
    {
     "name": "stdout",
     "output_type": "stream",
     "text": [
      "Saved progress after user: @spin-brickz7557\n",
      "\n",
      "Evaluating user: @SimonIsVeryHandsome | 20 comments\n"
     ]
    },
    {
     "name": "stderr",
     "output_type": "stream",
     "text": [
      "Processing short users:  13%|█▎        | 134/1000 [10:51<1:08:48,  4.77s/it]"
     ]
    },
    {
     "name": "stdout",
     "output_type": "stream",
     "text": [
      "Saved progress after user: @SimonIsVeryHandsome\n",
      "\n",
      "Evaluating user: @lioniplays5137 | 24 comments\n"
     ]
    },
    {
     "name": "stderr",
     "output_type": "stream",
     "text": [
      "Processing short users:  14%|█▎        | 135/1000 [10:55<1:06:43,  4.63s/it]"
     ]
    },
    {
     "name": "stdout",
     "output_type": "stream",
     "text": [
      "Saved progress after user: @lioniplays5137\n",
      "\n",
      "Evaluating user: @warrenmccormackjnr4813 | 63 comments\n"
     ]
    },
    {
     "name": "stderr",
     "output_type": "stream",
     "text": [
      "Processing short users:  14%|█▎        | 136/1000 [11:01<1:13:10,  5.08s/it]"
     ]
    },
    {
     "name": "stdout",
     "output_type": "stream",
     "text": [
      "Saved progress after user: @warrenmccormackjnr4813\n",
      "\n",
      "Evaluating user: @lisazhao3227 | 27 comments\n"
     ]
    },
    {
     "name": "stderr",
     "output_type": "stream",
     "text": [
      "Processing short users:  14%|█▎        | 137/1000 [11:07<1:14:08,  5.15s/it]"
     ]
    },
    {
     "name": "stdout",
     "output_type": "stream",
     "text": [
      "Saved progress after user: @lisazhao3227\n",
      "\n",
      "Evaluating user: @cromagnonidiot | 34 comments\n"
     ]
    },
    {
     "name": "stderr",
     "output_type": "stream",
     "text": [
      "Processing short users:  14%|█▍        | 138/1000 [11:10<1:04:38,  4.50s/it]"
     ]
    },
    {
     "name": "stdout",
     "output_type": "stream",
     "text": [
      "Saved progress after user: @cromagnonidiot\n",
      "\n",
      "Evaluating user: @mr.miyagi881 | 22 comments\n"
     ]
    },
    {
     "name": "stderr",
     "output_type": "stream",
     "text": [
      "Processing short users:  14%|█▍        | 139/1000 [11:15<1:06:47,  4.65s/it]"
     ]
    },
    {
     "name": "stdout",
     "output_type": "stream",
     "text": [
      "Saved progress after user: @mr.miyagi881\n",
      "\n",
      "Evaluating user: @Kanna_Kizuchi | 20 comments\n"
     ]
    },
    {
     "name": "stderr",
     "output_type": "stream",
     "text": [
      "Processing short users:  14%|█▍        | 140/1000 [11:20<1:09:35,  4.86s/it]"
     ]
    },
    {
     "name": "stdout",
     "output_type": "stream",
     "text": [
      "Saved progress after user: @Kanna_Kizuchi\n",
      "\n",
      "Evaluating user: @burntbeansoup | 29 comments\n"
     ]
    },
    {
     "name": "stderr",
     "output_type": "stream",
     "text": [
      "Processing short users:  14%|█▍        | 141/1000 [11:24<1:05:22,  4.57s/it]"
     ]
    },
    {
     "name": "stdout",
     "output_type": "stream",
     "text": [
      "Saved progress after user: @burntbeansoup\n",
      "\n",
      "Evaluating user: @iich.bin.sway. | 19 comments\n"
     ]
    },
    {
     "name": "stderr",
     "output_type": "stream",
     "text": [
      "Processing short users:  14%|█▍        | 142/1000 [11:30<1:12:30,  5.07s/it]"
     ]
    },
    {
     "name": "stdout",
     "output_type": "stream",
     "text": [
      "Saved progress after user: @iich.bin.sway.\n",
      "\n",
      "Evaluating user: @NovikNikolovic | 18 comments\n"
     ]
    },
    {
     "name": "stderr",
     "output_type": "stream",
     "text": [
      "Processing short users:  14%|█▍        | 143/1000 [11:36<1:13:56,  5.18s/it]"
     ]
    },
    {
     "name": "stdout",
     "output_type": "stream",
     "text": [
      "Saved progress after user: @NovikNikolovic\n",
      "\n",
      "Evaluating user: @møon.m3rm4id | 26 comments\n"
     ]
    },
    {
     "name": "stderr",
     "output_type": "stream",
     "text": [
      "Processing short users:  14%|█▍        | 144/1000 [11:39<1:07:30,  4.73s/it]"
     ]
    },
    {
     "name": "stdout",
     "output_type": "stream",
     "text": [
      "Saved progress after user: @møon.m3rm4id\n",
      "\n",
      "Evaluating user: @tiger_moon001 | 23 comments\n"
     ]
    },
    {
     "name": "stderr",
     "output_type": "stream",
     "text": [
      "Processing short users:  14%|█▍        | 145/1000 [11:44<1:07:19,  4.72s/it]"
     ]
    },
    {
     "name": "stdout",
     "output_type": "stream",
     "text": [
      "Saved progress after user: @tiger_moon001\n",
      "\n",
      "Evaluating user: @michaeldmingo1525 | 19 comments\n"
     ]
    },
    {
     "name": "stderr",
     "output_type": "stream",
     "text": [
      "Processing short users:  15%|█▍        | 146/1000 [11:49<1:10:29,  4.95s/it]"
     ]
    },
    {
     "name": "stdout",
     "output_type": "stream",
     "text": [
      "Saved progress after user: @michaeldmingo1525\n",
      "\n",
      "Evaluating user: @timhensley3695 | 36 comments\n"
     ]
    },
    {
     "name": "stderr",
     "output_type": "stream",
     "text": [
      "Processing short users:  15%|█▍        | 147/1000 [11:54<1:08:41,  4.83s/it]"
     ]
    },
    {
     "name": "stdout",
     "output_type": "stream",
     "text": [
      "Saved progress after user: @timhensley3695\n",
      "\n",
      "Evaluating user: @angrytedtalks | 40 comments\n"
     ]
    },
    {
     "name": "stderr",
     "output_type": "stream",
     "text": [
      "Processing short users:  15%|█▍        | 148/1000 [11:58<1:07:00,  4.72s/it]"
     ]
    },
    {
     "name": "stdout",
     "output_type": "stream",
     "text": [
      "Saved progress after user: @angrytedtalks\n",
      "\n",
      "Evaluating user: @BiggleVonDoofsnortIV | 23 comments\n"
     ]
    },
    {
     "name": "stderr",
     "output_type": "stream",
     "text": [
      "Processing short users:  15%|█▍        | 149/1000 [12:07<1:22:21,  5.81s/it]"
     ]
    },
    {
     "name": "stdout",
     "output_type": "stream",
     "text": [
      "Saved progress after user: @BiggleVonDoofsnortIV\n",
      "\n",
      "Evaluating user: @KINGhotaru11 | 23 comments\n"
     ]
    },
    {
     "name": "stderr",
     "output_type": "stream",
     "text": [
      "Processing short users:  15%|█▌        | 150/1000 [12:12<1:21:30,  5.75s/it]"
     ]
    },
    {
     "name": "stdout",
     "output_type": "stream",
     "text": [
      "Saved progress after user: @KINGhotaru11\n",
      "\n",
      "Evaluating user: @zstrode.8953 | 18 comments\n"
     ]
    },
    {
     "name": "stderr",
     "output_type": "stream",
     "text": [
      "Processing short users:  15%|█▌        | 151/1000 [12:18<1:20:27,  5.69s/it]"
     ]
    },
    {
     "name": "stdout",
     "output_type": "stream",
     "text": [
      "Saved progress after user: @zstrode.8953\n",
      "\n",
      "Evaluating user: @muirick9924 | 35 comments\n"
     ]
    },
    {
     "name": "stderr",
     "output_type": "stream",
     "text": [
      "Processing short users:  15%|█▌        | 152/1000 [12:23<1:17:58,  5.52s/it]"
     ]
    },
    {
     "name": "stdout",
     "output_type": "stream",
     "text": [
      "Saved progress after user: @muirick9924\n",
      "\n",
      "Evaluating user: @RedOnCod | 20 comments\n"
     ]
    },
    {
     "name": "stderr",
     "output_type": "stream",
     "text": [
      "Processing short users:  15%|█▌        | 153/1000 [12:26<1:07:57,  4.81s/it]"
     ]
    },
    {
     "name": "stdout",
     "output_type": "stream",
     "text": [
      "Saved progress after user: @RedOnCod\n",
      "\n",
      "Evaluating user: @reiryghts639 | 23 comments\n"
     ]
    },
    {
     "name": "stderr",
     "output_type": "stream",
     "text": [
      "Processing short users:  15%|█▌        | 154/1000 [12:30<1:01:55,  4.39s/it]"
     ]
    },
    {
     "name": "stdout",
     "output_type": "stream",
     "text": [
      "Saved progress after user: @reiryghts639\n",
      "\n",
      "Evaluating user: @saillak | 33 comments\n"
     ]
    },
    {
     "name": "stderr",
     "output_type": "stream",
     "text": [
      "Processing short users:  16%|█▌        | 155/1000 [12:33<57:19,  4.07s/it]  "
     ]
    },
    {
     "name": "stdout",
     "output_type": "stream",
     "text": [
      "Saved progress after user: @saillak\n",
      "\n",
      "Evaluating user: @endofthelineOFFICIAL_ALT | 19 comments\n"
     ]
    },
    {
     "name": "stderr",
     "output_type": "stream",
     "text": [
      "Processing short users:  16%|█▌        | 156/1000 [12:38<59:39,  4.24s/it]"
     ]
    },
    {
     "name": "stdout",
     "output_type": "stream",
     "text": [
      "Saved progress after user: @endofthelineOFFICIAL_ALT\n",
      "\n",
      "Evaluating user: @SUSMAN312 | 31 comments\n"
     ]
    },
    {
     "name": "stderr",
     "output_type": "stream",
     "text": [
      "Processing short users:  16%|█▌        | 157/1000 [12:42<59:23,  4.23s/it]"
     ]
    },
    {
     "name": "stdout",
     "output_type": "stream",
     "text": [
      "Saved progress after user: @SUSMAN312\n",
      "\n",
      "Evaluating user: @ClodsireBcuzYes | 23 comments\n"
     ]
    },
    {
     "name": "stderr",
     "output_type": "stream",
     "text": [
      "Processing short users:  16%|█▌        | 158/1000 [12:46<57:29,  4.10s/it]"
     ]
    },
    {
     "name": "stdout",
     "output_type": "stream",
     "text": [
      "Saved progress after user: @ClodsireBcuzYes\n",
      "\n",
      "Evaluating user: @1_Trollhunter | 20 comments\n"
     ]
    },
    {
     "name": "stderr",
     "output_type": "stream",
     "text": [
      "Processing short users:  16%|█▌        | 159/1000 [12:51<1:02:20,  4.45s/it]"
     ]
    },
    {
     "name": "stdout",
     "output_type": "stream",
     "text": [
      "Saved progress after user: @1_Trollhunter\n",
      "\n",
      "Evaluating user: @pro-bacon134 | 22 comments\n"
     ]
    },
    {
     "name": "stderr",
     "output_type": "stream",
     "text": [
      "Processing short users:  16%|█▌        | 160/1000 [12:56<1:04:07,  4.58s/it]"
     ]
    },
    {
     "name": "stdout",
     "output_type": "stream",
     "text": [
      "Saved progress after user: @pro-bacon134\n",
      "\n",
      "Evaluating user: @SeniorCrude15 | 18 comments\n"
     ]
    },
    {
     "name": "stderr",
     "output_type": "stream",
     "text": [
      "Processing short users:  16%|█▌        | 161/1000 [13:01<1:06:57,  4.79s/it]"
     ]
    },
    {
     "name": "stdout",
     "output_type": "stream",
     "text": [
      "Saved progress after user: @SeniorCrude15\n",
      "\n",
      "Evaluating user: @viperdio69420 | 29 comments\n"
     ]
    },
    {
     "name": "stderr",
     "output_type": "stream",
     "text": [
      "Processing short users:  16%|█▌        | 162/1000 [13:05<1:04:58,  4.65s/it]"
     ]
    },
    {
     "name": "stdout",
     "output_type": "stream",
     "text": [
      "Saved progress after user: @viperdio69420\n",
      "\n",
      "Evaluating user: @Solestial_dusk | 30 comments\n"
     ]
    },
    {
     "name": "stderr",
     "output_type": "stream",
     "text": [
      "Processing short users:  16%|█▋        | 163/1000 [13:12<1:12:26,  5.19s/it]"
     ]
    },
    {
     "name": "stdout",
     "output_type": "stream",
     "text": [
      "Saved progress after user: @Solestial_dusk\n",
      "\n",
      "Evaluating user: @ace_king3602 | 19 comments\n"
     ]
    },
    {
     "name": "stderr",
     "output_type": "stream",
     "text": [
      "Processing short users:  16%|█▋        | 164/1000 [13:17<1:12:28,  5.20s/it]"
     ]
    },
    {
     "name": "stdout",
     "output_type": "stream",
     "text": [
      "Saved progress after user: @ace_king3602\n",
      "\n",
      "Evaluating user: @hs43a | 26 comments\n"
     ]
    },
    {
     "name": "stderr",
     "output_type": "stream",
     "text": [
      "Processing short users:  16%|█▋        | 165/1000 [13:22<1:09:53,  5.02s/it]"
     ]
    },
    {
     "name": "stdout",
     "output_type": "stream",
     "text": [
      "Saved progress after user: @hs43a\n",
      "\n",
      "Evaluating user: @Xxblade17 | 91 comments\n"
     ]
    },
    {
     "name": "stderr",
     "output_type": "stream",
     "text": [
      "Processing short users:  17%|█▋        | 166/1000 [13:26<1:07:40,  4.87s/it]"
     ]
    },
    {
     "name": "stdout",
     "output_type": "stream",
     "text": [
      "Saved progress after user: @Xxblade17\n",
      "\n",
      "Evaluating user: @DipperMabel-2025 | 19 comments\n"
     ]
    },
    {
     "name": "stderr",
     "output_type": "stream",
     "text": [
      "Processing short users:  17%|█▋        | 167/1000 [13:30<1:05:13,  4.70s/it]"
     ]
    },
    {
     "name": "stdout",
     "output_type": "stream",
     "text": [
      "Saved progress after user: @DipperMabel-2025\n",
      "\n",
      "Evaluating user: @NoThing-ec9km | 24 comments\n"
     ]
    },
    {
     "name": "stderr",
     "output_type": "stream",
     "text": [
      "Processing short users:  17%|█▋        | 168/1000 [13:36<1:09:01,  4.98s/it]"
     ]
    },
    {
     "name": "stdout",
     "output_type": "stream",
     "text": [
      "Saved progress after user: @NoThing-ec9km\n",
      "\n",
      "Evaluating user: @hirenahir76200 | 21 comments\n"
     ]
    },
    {
     "name": "stderr",
     "output_type": "stream",
     "text": [
      "Processing short users:  17%|█▋        | 169/1000 [13:40<1:04:51,  4.68s/it]"
     ]
    },
    {
     "name": "stdout",
     "output_type": "stream",
     "text": [
      "Saved progress after user: @hirenahir76200\n",
      "\n",
      "Evaluating user: @TackWithNoLack | 23 comments\n"
     ]
    },
    {
     "name": "stderr",
     "output_type": "stream",
     "text": [
      "Processing short users:  17%|█▋        | 170/1000 [13:45<1:05:18,  4.72s/it]"
     ]
    },
    {
     "name": "stdout",
     "output_type": "stream",
     "text": [
      "Saved progress after user: @TackWithNoLack\n",
      "\n",
      "Evaluating user: @TEXAS2459 | 30 comments\n"
     ]
    },
    {
     "name": "stderr",
     "output_type": "stream",
     "text": [
      "Processing short users:  17%|█▋        | 171/1000 [13:49<1:03:04,  4.57s/it]"
     ]
    },
    {
     "name": "stdout",
     "output_type": "stream",
     "text": [
      "Saved progress after user: @TEXAS2459\n",
      "\n",
      "Evaluating user: @ConfusedBoardGames-qe8xt | 100 comments\n"
     ]
    },
    {
     "name": "stderr",
     "output_type": "stream",
     "text": [
      "Processing short users:  17%|█▋        | 172/1000 [13:54<1:02:44,  4.55s/it]"
     ]
    },
    {
     "name": "stdout",
     "output_type": "stream",
     "text": [
      "Saved progress after user: @ConfusedBoardGames-qe8xt\n",
      "\n",
      "Evaluating user: @AidanHufton | 137 comments\n"
     ]
    },
    {
     "name": "stderr",
     "output_type": "stream",
     "text": [
      "Processing short users:  17%|█▋        | 173/1000 [13:58<1:00:48,  4.41s/it]"
     ]
    },
    {
     "name": "stdout",
     "output_type": "stream",
     "text": [
      "Saved progress after user: @AidanHufton\n",
      "\n",
      "Evaluating user: @Jackson-q3p5f | 54 comments\n"
     ]
    },
    {
     "name": "stderr",
     "output_type": "stream",
     "text": [
      "Processing short users:  17%|█▋        | 174/1000 [14:03<1:02:48,  4.56s/it]"
     ]
    },
    {
     "name": "stdout",
     "output_type": "stream",
     "text": [
      "Saved progress after user: @Jackson-q3p5f\n",
      "\n",
      "Evaluating user: @diamondplayz2145 | 46 comments\n"
     ]
    },
    {
     "name": "stderr",
     "output_type": "stream",
     "text": [
      "Processing short users:  18%|█▊        | 175/1000 [14:07<1:02:30,  4.55s/it]"
     ]
    },
    {
     "name": "stdout",
     "output_type": "stream",
     "text": [
      "Saved progress after user: @diamondplayz2145\n",
      "\n",
      "Evaluating user: @RonaldinoBoavida | 36 comments\n"
     ]
    },
    {
     "name": "stderr",
     "output_type": "stream",
     "text": [
      "Processing short users:  18%|█▊        | 176/1000 [14:11<59:44,  4.35s/it]  "
     ]
    },
    {
     "name": "stdout",
     "output_type": "stream",
     "text": [
      "Saved progress after user: @RonaldinoBoavida\n",
      "\n",
      "Evaluating user: @JoonaTuhkanen-z7i | 18 comments\n"
     ]
    },
    {
     "name": "stderr",
     "output_type": "stream",
     "text": [
      "Processing short users:  18%|█▊        | 177/1000 [14:16<1:01:59,  4.52s/it]"
     ]
    },
    {
     "name": "stdout",
     "output_type": "stream",
     "text": [
      "Saved progress after user: @JoonaTuhkanen-z7i\n",
      "\n",
      "Evaluating user: @Mahdiking2007 | 19 comments\n"
     ]
    },
    {
     "name": "stderr",
     "output_type": "stream",
     "text": [
      "Processing short users:  18%|█▊        | 178/1000 [14:22<1:09:25,  5.07s/it]"
     ]
    },
    {
     "name": "stdout",
     "output_type": "stream",
     "text": [
      "Saved progress after user: @Mahdiking2007\n",
      "\n",
      "Evaluating user: @chrisdaven4775 | 20 comments\n"
     ]
    },
    {
     "name": "stderr",
     "output_type": "stream",
     "text": [
      "Processing short users:  18%|█▊        | 179/1000 [14:27<1:07:52,  4.96s/it]"
     ]
    },
    {
     "name": "stdout",
     "output_type": "stream",
     "text": [
      "Saved progress after user: @chrisdaven4775\n",
      "\n",
      "Evaluating user: @еленасапожникова-х8р | 20 comments\n"
     ]
    },
    {
     "name": "stderr",
     "output_type": "stream",
     "text": [
      "Processing short users:  18%|█▊        | 180/1000 [14:31<1:05:05,  4.76s/it]"
     ]
    },
    {
     "name": "stdout",
     "output_type": "stream",
     "text": [
      "Saved progress after user: @еленасапожникова-х8р\n",
      "\n",
      "Evaluating user: @anthonycourteaux8165 | 33 comments\n"
     ]
    },
    {
     "name": "stderr",
     "output_type": "stream",
     "text": [
      "Processing short users:  18%|█▊        | 181/1000 [14:37<1:07:18,  4.93s/it]"
     ]
    },
    {
     "name": "stdout",
     "output_type": "stream",
     "text": [
      "Saved progress after user: @anthonycourteaux8165\n",
      "\n",
      "Evaluating user: @thenashmin | 24 comments\n"
     ]
    },
    {
     "name": "stderr",
     "output_type": "stream",
     "text": [
      "Processing short users:  18%|█▊        | 182/1000 [14:42<1:08:00,  4.99s/it]"
     ]
    },
    {
     "name": "stdout",
     "output_type": "stream",
     "text": [
      "Saved progress after user: @thenashmin\n",
      "\n",
      "Evaluating user: @jiss5428 | 61 comments\n"
     ]
    },
    {
     "name": "stderr",
     "output_type": "stream",
     "text": [
      "Processing short users:  18%|█▊        | 183/1000 [14:46<1:06:22,  4.87s/it]"
     ]
    },
    {
     "name": "stdout",
     "output_type": "stream",
     "text": [
      "Saved progress after user: @jiss5428\n",
      "\n",
      "Evaluating user: @geronomi_youzyo | 84 comments\n"
     ]
    },
    {
     "name": "stderr",
     "output_type": "stream",
     "text": [
      "Processing short users:  18%|█▊        | 184/1000 [14:50<1:02:41,  4.61s/it]"
     ]
    },
    {
     "name": "stdout",
     "output_type": "stream",
     "text": [
      "Saved progress after user: @geronomi_youzyo\n",
      "\n",
      "Evaluating user: @duckbufflehead6294 | 211 comments\n"
     ]
    },
    {
     "name": "stderr",
     "output_type": "stream",
     "text": [
      "Processing short users:  18%|█▊        | 185/1000 [14:55<1:03:26,  4.67s/it]"
     ]
    },
    {
     "name": "stdout",
     "output_type": "stream",
     "text": [
      "Saved progress after user: @duckbufflehead6294\n",
      "\n",
      "Evaluating user: @brandon-nguyen | 77 comments\n"
     ]
    },
    {
     "name": "stderr",
     "output_type": "stream",
     "text": [
      "Processing short users:  19%|█▊        | 186/1000 [15:00<1:04:46,  4.77s/it]"
     ]
    },
    {
     "name": "stdout",
     "output_type": "stream",
     "text": [
      "Saved progress after user: @brandon-nguyen\n",
      "\n",
      "Evaluating user: @LebronBPFIM | 24 comments\n"
     ]
    },
    {
     "name": "stderr",
     "output_type": "stream",
     "text": [
      "Processing short users:  19%|█▊        | 187/1000 [15:04<59:02,  4.36s/it]  "
     ]
    },
    {
     "name": "stdout",
     "output_type": "stream",
     "text": [
      "Saved progress after user: @LebronBPFIM\n",
      "\n",
      "Evaluating user: @shunliu4661 | 24 comments\n"
     ]
    },
    {
     "name": "stderr",
     "output_type": "stream",
     "text": [
      "Processing short users:  19%|█▉        | 188/1000 [15:08<57:54,  4.28s/it]"
     ]
    },
    {
     "name": "stdout",
     "output_type": "stream",
     "text": [
      "Saved progress after user: @shunliu4661\n",
      "\n",
      "Evaluating user: @irem-rl9qm | 51 comments\n"
     ]
    },
    {
     "name": "stderr",
     "output_type": "stream",
     "text": [
      "Processing short users:  19%|█▉        | 189/1000 [15:12<56:41,  4.19s/it]"
     ]
    },
    {
     "name": "stdout",
     "output_type": "stream",
     "text": [
      "Saved progress after user: @irem-rl9qm\n",
      "\n",
      "Evaluating user: @yellowofficial1198 | 55 comments\n"
     ]
    },
    {
     "name": "stderr",
     "output_type": "stream",
     "text": [
      "Processing short users:  19%|█▉        | 190/1000 [15:17<59:30,  4.41s/it]"
     ]
    },
    {
     "name": "stdout",
     "output_type": "stream",
     "text": [
      "Saved progress after user: @yellowofficial1198\n",
      "\n",
      "Evaluating user: @PintuBomaby | 29 comments\n"
     ]
    },
    {
     "name": "stderr",
     "output_type": "stream",
     "text": [
      "Processing short users:  19%|█▉        | 191/1000 [15:22<1:03:34,  4.71s/it]"
     ]
    },
    {
     "name": "stdout",
     "output_type": "stream",
     "text": [
      "Saved progress after user: @PintuBomaby\n",
      "\n",
      "Evaluating user: @rosiearerosie-u5s | 48 comments\n"
     ]
    },
    {
     "name": "stderr",
     "output_type": "stream",
     "text": [
      "Processing short users:  19%|█▉        | 192/1000 [15:26<1:01:48,  4.59s/it]"
     ]
    },
    {
     "name": "stdout",
     "output_type": "stream",
     "text": [
      "Saved progress after user: @rosiearerosie-u5s\n",
      "\n",
      "Evaluating user: @TristanCarlLeano | 83 comments\n"
     ]
    },
    {
     "name": "stderr",
     "output_type": "stream",
     "text": [
      "Processing short users:  19%|█▉        | 193/1000 [15:31<1:00:58,  4.53s/it]"
     ]
    },
    {
     "name": "stdout",
     "output_type": "stream",
     "text": [
      "Saved progress after user: @TristanCarlLeano\n",
      "\n",
      "Evaluating user: @oohsura | 23 comments\n"
     ]
    },
    {
     "name": "stderr",
     "output_type": "stream",
     "text": [
      "Processing short users:  19%|█▉        | 194/1000 [15:34<57:54,  4.31s/it]  "
     ]
    },
    {
     "name": "stdout",
     "output_type": "stream",
     "text": [
      "Saved progress after user: @oohsura\n",
      "\n",
      "Evaluating user: @user-dp4gy9vr1c | 40 comments\n"
     ]
    },
    {
     "name": "stderr",
     "output_type": "stream",
     "text": [
      "Processing short users:  20%|█▉        | 195/1000 [15:41<1:08:31,  5.11s/it]"
     ]
    },
    {
     "name": "stdout",
     "output_type": "stream",
     "text": [
      "Saved progress after user: @user-dp4gy9vr1c\n",
      "\n",
      "Evaluating user: @roses_are_rosie-fan | 24 comments\n"
     ]
    },
    {
     "name": "stderr",
     "output_type": "stream",
     "text": [
      "Processing short users:  20%|█▉        | 196/1000 [15:46<1:05:35,  4.90s/it]"
     ]
    },
    {
     "name": "stdout",
     "output_type": "stream",
     "text": [
      "Saved progress after user: @roses_are_rosie-fan\n",
      "\n",
      "Evaluating user: @dschung11 | 90 comments\n"
     ]
    },
    {
     "name": "stderr",
     "output_type": "stream",
     "text": [
      "Processing short users:  20%|█▉        | 197/1000 [15:50<1:03:31,  4.75s/it]"
     ]
    },
    {
     "name": "stdout",
     "output_type": "stream",
     "text": [
      "Saved progress after user: @dschung11\n",
      "\n",
      "Evaluating user: @R41ph3a7b6 | 56 comments\n"
     ]
    },
    {
     "name": "stderr",
     "output_type": "stream",
     "text": [
      "Processing short users:  20%|█▉        | 198/1000 [15:55<1:03:18,  4.74s/it]"
     ]
    },
    {
     "name": "stdout",
     "output_type": "stream",
     "text": [
      "Saved progress after user: @R41ph3a7b6\n",
      "\n",
      "Evaluating user: @leorguz1905 | 20 comments\n"
     ]
    },
    {
     "name": "stderr",
     "output_type": "stream",
     "text": [
      "Processing short users:  20%|█▉        | 199/1000 [15:59<1:02:18,  4.67s/it]"
     ]
    },
    {
     "name": "stdout",
     "output_type": "stream",
     "text": [
      "Saved progress after user: @leorguz1905\n",
      "\n",
      "Evaluating user: @mightyobserver12 | 21 comments\n"
     ]
    },
    {
     "name": "stderr",
     "output_type": "stream",
     "text": [
      "Processing short users:  20%|██        | 200/1000 [16:05<1:04:35,  4.84s/it]"
     ]
    },
    {
     "name": "stdout",
     "output_type": "stream",
     "text": [
      "Saved progress after user: @mightyobserver12\n",
      "\n",
      "Evaluating user: @JoseCarbajal-g3r | 30 comments\n"
     ]
    },
    {
     "name": "stderr",
     "output_type": "stream",
     "text": [
      "Processing short users:  20%|██        | 201/1000 [16:10<1:04:14,  4.82s/it]"
     ]
    },
    {
     "name": "stdout",
     "output_type": "stream",
     "text": [
      "Saved progress after user: @JoseCarbajal-g3r\n",
      "\n",
      "Evaluating user: @Burty_YT | 30 comments\n"
     ]
    },
    {
     "name": "stderr",
     "output_type": "stream",
     "text": [
      "Processing short users:  20%|██        | 202/1000 [16:14<1:02:54,  4.73s/it]"
     ]
    },
    {
     "name": "stdout",
     "output_type": "stream",
     "text": [
      "Saved progress after user: @Burty_YT\n",
      "\n",
      "Evaluating user: @alexlloyd2154 | 39 comments\n"
     ]
    },
    {
     "name": "stderr",
     "output_type": "stream",
     "text": [
      "Processing short users:  20%|██        | 203/1000 [16:17<57:48,  4.35s/it]  "
     ]
    },
    {
     "name": "stdout",
     "output_type": "stream",
     "text": [
      "Saved progress after user: @alexlloyd2154\n",
      "\n",
      "Evaluating user: @danieltempleton2887 | 25 comments\n"
     ]
    },
    {
     "name": "stderr",
     "output_type": "stream",
     "text": [
      "Processing short users:  20%|██        | 204/1000 [16:22<59:11,  4.46s/it]"
     ]
    },
    {
     "name": "stdout",
     "output_type": "stream",
     "text": [
      "Saved progress after user: @danieltempleton2887\n",
      "\n",
      "Evaluating user: @angelareich2856 | 23 comments\n"
     ]
    },
    {
     "name": "stderr",
     "output_type": "stream",
     "text": [
      "Processing short users:  20%|██        | 205/1000 [16:26<56:39,  4.28s/it]"
     ]
    },
    {
     "name": "stdout",
     "output_type": "stream",
     "text": [
      "Saved progress after user: @angelareich2856\n",
      "\n",
      "Evaluating user: @ariffhamid | 91 comments\n"
     ]
    },
    {
     "name": "stderr",
     "output_type": "stream",
     "text": [
      "Processing short users:  21%|██        | 206/1000 [16:32<1:01:45,  4.67s/it]"
     ]
    },
    {
     "name": "stdout",
     "output_type": "stream",
     "text": [
      "Saved progress after user: @ariffhamid\n",
      "\n",
      "Evaluating user: @KatyPerrysmanJamesArnold666 | 66 comments\n"
     ]
    },
    {
     "name": "stderr",
     "output_type": "stream",
     "text": [
      "Processing short users:  21%|██        | 207/1000 [16:42<1:22:57,  6.28s/it]"
     ]
    },
    {
     "name": "stdout",
     "output_type": "stream",
     "text": [
      "Saved progress after user: @KatyPerrysmanJamesArnold666\n",
      "\n",
      "Evaluating user: @marioalberto4972 | 132 comments\n"
     ]
    },
    {
     "name": "stderr",
     "output_type": "stream",
     "text": [
      "Processing short users:  21%|██        | 208/1000 [16:46<1:17:02,  5.84s/it]"
     ]
    },
    {
     "name": "stdout",
     "output_type": "stream",
     "text": [
      "Saved progress after user: @marioalberto4972\n",
      "\n",
      "Evaluating user: @KatyperrysmanJamesAndrewArnold | 30 comments\n"
     ]
    },
    {
     "name": "stderr",
     "output_type": "stream",
     "text": [
      "Processing short users:  21%|██        | 209/1000 [16:51<1:12:54,  5.53s/it]"
     ]
    },
    {
     "name": "stdout",
     "output_type": "stream",
     "text": [
      "Saved progress after user: @KatyperrysmanJamesAndrewArnold\n",
      "\n",
      "Evaluating user: @matheusoliveiraferreira6775 | 20 comments\n"
     ]
    },
    {
     "name": "stderr",
     "output_type": "stream",
     "text": [
      "Processing short users:  21%|██        | 210/1000 [16:56<1:10:23,  5.35s/it]"
     ]
    },
    {
     "name": "stdout",
     "output_type": "stream",
     "text": [
      "Saved progress after user: @matheusoliveiraferreira6775\n",
      "\n",
      "Evaluating user: @AdailsonCampos-d3q | 40 comments\n"
     ]
    },
    {
     "name": "stderr",
     "output_type": "stream",
     "text": [
      "Processing short users:  21%|██        | 211/1000 [17:01<1:06:10,  5.03s/it]"
     ]
    },
    {
     "name": "stdout",
     "output_type": "stream",
     "text": [
      "Saved progress after user: @AdailsonCampos-d3q\n",
      "\n",
      "Evaluating user: @leonsantoiemma4204 | 19 comments\n"
     ]
    },
    {
     "name": "stderr",
     "output_type": "stream",
     "text": [
      "Processing short users:  21%|██        | 212/1000 [17:04<1:00:47,  4.63s/it]"
     ]
    },
    {
     "name": "stdout",
     "output_type": "stream",
     "text": [
      "Saved progress after user: @leonsantoiemma4204\n",
      "\n",
      "Evaluating user: @OscarChávez-x9c | 18 comments\n"
     ]
    },
    {
     "name": "stderr",
     "output_type": "stream",
     "text": [
      "Processing short users:  21%|██▏       | 213/1000 [17:09<1:02:12,  4.74s/it]"
     ]
    },
    {
     "name": "stdout",
     "output_type": "stream",
     "text": [
      "Saved progress after user: @OscarChávez-x9c\n",
      "\n",
      "Evaluating user: @MucusYTsubcribe | 18 comments\n"
     ]
    },
    {
     "name": "stderr",
     "output_type": "stream",
     "text": [
      "Processing short users:  21%|██▏       | 214/1000 [17:14<1:03:38,  4.86s/it]"
     ]
    },
    {
     "name": "stdout",
     "output_type": "stream",
     "text": [
      "Saved progress after user: @MucusYTsubcribe\n",
      "\n",
      "Evaluating user: @roldanarabe867 | 33 comments\n"
     ]
    },
    {
     "name": "stderr",
     "output_type": "stream",
     "text": [
      "Processing short users:  22%|██▏       | 215/1000 [17:18<58:46,  4.49s/it]  "
     ]
    },
    {
     "name": "stdout",
     "output_type": "stream",
     "text": [
      "Saved progress after user: @roldanarabe867\n",
      "\n",
      "Evaluating user: @bouazghiahmed1144 | 42 comments\n"
     ]
    },
    {
     "name": "stderr",
     "output_type": "stream",
     "text": [
      "Processing short users:  22%|██▏       | 216/1000 [17:21<54:07,  4.14s/it]"
     ]
    },
    {
     "name": "stdout",
     "output_type": "stream",
     "text": [
      "Saved progress after user: @bouazghiahmed1144\n",
      "\n",
      "Evaluating user: @ThatShitGood | 21 comments\n"
     ]
    },
    {
     "name": "stderr",
     "output_type": "stream",
     "text": [
      "Processing short users:  22%|██▏       | 217/1000 [17:27<59:54,  4.59s/it]"
     ]
    },
    {
     "name": "stdout",
     "output_type": "stream",
     "text": [
      "Saved progress after user: @ThatShitGood\n",
      "\n",
      "Evaluating user: @aleeben7201 | 24 comments\n"
     ]
    },
    {
     "name": "stderr",
     "output_type": "stream",
     "text": [
      "Processing short users:  22%|██▏       | 218/1000 [17:32<1:02:49,  4.82s/it]"
     ]
    },
    {
     "name": "stdout",
     "output_type": "stream",
     "text": [
      "Saved progress after user: @aleeben7201\n",
      "\n",
      "Evaluating user: @TheLordIsMyShepherd-1 | 20 comments\n"
     ]
    },
    {
     "name": "stderr",
     "output_type": "stream",
     "text": [
      "Processing short users:  22%|██▏       | 219/1000 [17:36<59:33,  4.57s/it]  "
     ]
    },
    {
     "name": "stdout",
     "output_type": "stream",
     "text": [
      "Saved progress after user: @TheLordIsMyShepherd-1\n",
      "\n",
      "Evaluating user: @Cosmicmorales | 20 comments\n"
     ]
    },
    {
     "name": "stderr",
     "output_type": "stream",
     "text": [
      "Processing short users:  22%|██▏       | 220/1000 [17:49<1:30:57,  7.00s/it]"
     ]
    },
    {
     "name": "stdout",
     "output_type": "stream",
     "text": [
      "Saved progress after user: @Cosmicmorales\n",
      "\n",
      "Evaluating user: @BanditHeeler559 | 20 comments\n"
     ]
    },
    {
     "name": "stderr",
     "output_type": "stream",
     "text": [
      "Processing short users:  22%|██▏       | 221/1000 [17:53<1:17:58,  6.01s/it]"
     ]
    },
    {
     "name": "stdout",
     "output_type": "stream",
     "text": [
      "Saved progress after user: @BanditHeeler559\n",
      "\n",
      "Evaluating user: @mughalmehwish7183 | 36 comments\n"
     ]
    },
    {
     "name": "stderr",
     "output_type": "stream",
     "text": [
      "Processing short users:  22%|██▏       | 222/1000 [17:56<1:08:08,  5.25s/it]"
     ]
    },
    {
     "name": "stdout",
     "output_type": "stream",
     "text": [
      "Saved progress after user: @mughalmehwish7183\n",
      "\n",
      "Evaluating user: @LGDUDE | 20 comments\n"
     ]
    },
    {
     "name": "stderr",
     "output_type": "stream",
     "text": [
      "Processing short users:  22%|██▏       | 223/1000 [18:00<1:02:42,  4.84s/it]"
     ]
    },
    {
     "name": "stdout",
     "output_type": "stream",
     "text": [
      "Saved progress after user: @LGDUDE\n",
      "\n",
      "Evaluating user: @NoCluYT | 27 comments\n"
     ]
    },
    {
     "name": "stderr",
     "output_type": "stream",
     "text": [
      "Processing short users:  22%|██▏       | 224/1000 [18:04<57:43,  4.46s/it]  "
     ]
    },
    {
     "name": "stdout",
     "output_type": "stream",
     "text": [
      "Saved progress after user: @NoCluYT\n",
      "\n",
      "Evaluating user: @hera7884 | 19 comments\n"
     ]
    },
    {
     "name": "stderr",
     "output_type": "stream",
     "text": [
      "Processing short users:  22%|██▎       | 225/1000 [18:09<59:48,  4.63s/it]"
     ]
    },
    {
     "name": "stdout",
     "output_type": "stream",
     "text": [
      "Saved progress after user: @hera7884\n",
      "\n",
      "Evaluating user: @Estherajeigbe-b1p | 21 comments\n"
     ]
    },
    {
     "name": "stderr",
     "output_type": "stream",
     "text": [
      "Processing short users:  23%|██▎       | 226/1000 [18:13<59:13,  4.59s/it]"
     ]
    },
    {
     "name": "stdout",
     "output_type": "stream",
     "text": [
      "Saved progress after user: @Estherajeigbe-b1p\n",
      "\n",
      "Evaluating user: @lifeisactuallyveryboring.7771 | 34 comments\n"
     ]
    },
    {
     "name": "stderr",
     "output_type": "stream",
     "text": [
      "Processing short users:  23%|██▎       | 227/1000 [18:18<1:00:25,  4.69s/it]"
     ]
    },
    {
     "name": "stdout",
     "output_type": "stream",
     "text": [
      "Saved progress after user: @lifeisactuallyveryboring.7771\n",
      "\n",
      "Evaluating user: @HylensonBerald | 52 comments\n"
     ]
    },
    {
     "name": "stderr",
     "output_type": "stream",
     "text": [
      "Processing short users:  23%|██▎       | 228/1000 [18:22<56:28,  4.39s/it]  "
     ]
    },
    {
     "name": "stdout",
     "output_type": "stream",
     "text": [
      "Saved progress after user: @HylensonBerald\n",
      "\n",
      "Evaluating user: @Itsnoahscott | 19 comments\n"
     ]
    },
    {
     "name": "stderr",
     "output_type": "stream",
     "text": [
      "Processing short users:  23%|██▎       | 229/1000 [18:26<57:15,  4.46s/it]"
     ]
    },
    {
     "name": "stdout",
     "output_type": "stream",
     "text": [
      "Saved progress after user: @Itsnoahscott\n",
      "\n",
      "Evaluating user: @blanelittlewhirlwind5634 | 36 comments\n"
     ]
    },
    {
     "name": "stderr",
     "output_type": "stream",
     "text": [
      "Processing short users:  23%|██▎       | 230/1000 [18:31<58:32,  4.56s/it]"
     ]
    },
    {
     "name": "stdout",
     "output_type": "stream",
     "text": [
      "Saved progress after user: @blanelittlewhirlwind5634\n",
      "\n",
      "Evaluating user: @am.8576 | 37 comments\n"
     ]
    },
    {
     "name": "stderr",
     "output_type": "stream",
     "text": [
      "Processing short users:  23%|██▎       | 231/1000 [18:36<1:00:37,  4.73s/it]"
     ]
    },
    {
     "name": "stdout",
     "output_type": "stream",
     "text": [
      "Saved progress after user: @am.8576\n",
      "\n",
      "Evaluating user: @Emilythematerialgurl | 30 comments\n"
     ]
    },
    {
     "name": "stderr",
     "output_type": "stream",
     "text": [
      "Processing short users:  23%|██▎       | 232/1000 [18:40<57:42,  4.51s/it]  "
     ]
    },
    {
     "name": "stdout",
     "output_type": "stream",
     "text": [
      "Saved progress after user: @Emilythematerialgurl\n",
      "\n",
      "Evaluating user: @luana5528 | 22 comments\n"
     ]
    },
    {
     "name": "stderr",
     "output_type": "stream",
     "text": [
      "Processing short users:  23%|██▎       | 233/1000 [18:45<58:33,  4.58s/it]"
     ]
    },
    {
     "name": "stdout",
     "output_type": "stream",
     "text": [
      "Saved progress after user: @luana5528\n",
      "\n",
      "Evaluating user: @Chin12-u1e | 20 comments\n"
     ]
    },
    {
     "name": "stderr",
     "output_type": "stream",
     "text": [
      "Processing short users:  23%|██▎       | 234/1000 [18:49<56:28,  4.42s/it]"
     ]
    },
    {
     "name": "stdout",
     "output_type": "stream",
     "text": [
      "Saved progress after user: @Chin12-u1e\n",
      "\n",
      "Evaluating user: @annabellepartnerincrime5348 | 23 comments\n"
     ]
    },
    {
     "name": "stderr",
     "output_type": "stream",
     "text": [
      "Processing short users:  24%|██▎       | 235/1000 [18:54<59:19,  4.65s/it]"
     ]
    },
    {
     "name": "stdout",
     "output_type": "stream",
     "text": [
      "Saved progress after user: @annabellepartnerincrime5348\n",
      "\n",
      "Evaluating user: @Gracebloxxx | 30 comments\n"
     ]
    },
    {
     "name": "stderr",
     "output_type": "stream",
     "text": [
      "Processing short users:  24%|██▎       | 236/1000 [18:59<57:58,  4.55s/it]"
     ]
    },
    {
     "name": "stdout",
     "output_type": "stream",
     "text": [
      "Saved progress after user: @Gracebloxxx\n",
      "\n",
      "Evaluating user: @anamariacanda-eh9ux | 93 comments\n"
     ]
    },
    {
     "name": "stderr",
     "output_type": "stream",
     "text": [
      "Processing short users:  24%|██▎       | 237/1000 [19:04<59:44,  4.70s/it]"
     ]
    },
    {
     "name": "stdout",
     "output_type": "stream",
     "text": [
      "Saved progress after user: @anamariacanda-eh9ux\n",
      "\n",
      "Evaluating user: @viveroevangelho | 29 comments\n"
     ]
    },
    {
     "name": "stderr",
     "output_type": "stream",
     "text": [
      "Processing short users:  24%|██▍       | 238/1000 [19:08<57:22,  4.52s/it]"
     ]
    },
    {
     "name": "stdout",
     "output_type": "stream",
     "text": [
      "Saved progress after user: @viveroevangelho\n",
      "\n",
      "Evaluating user: @azizamineaa | 37 comments\n"
     ]
    },
    {
     "name": "stderr",
     "output_type": "stream",
     "text": [
      "Processing short users:  24%|██▍       | 239/1000 [19:13<1:00:44,  4.79s/it]"
     ]
    },
    {
     "name": "stdout",
     "output_type": "stream",
     "text": [
      "Saved progress after user: @azizamineaa\n",
      "\n",
      "Evaluating user: @nickphaux | 21 comments\n"
     ]
    },
    {
     "name": "stderr",
     "output_type": "stream",
     "text": [
      "Processing short users:  24%|██▍       | 240/1000 [19:18<59:35,  4.70s/it]  "
     ]
    },
    {
     "name": "stdout",
     "output_type": "stream",
     "text": [
      "Saved progress after user: @nickphaux\n",
      "\n",
      "Evaluating user: @BeruBeruIce | 26 comments\n"
     ]
    },
    {
     "name": "stderr",
     "output_type": "stream",
     "text": [
      "Processing short users:  24%|██▍       | 241/1000 [19:22<59:32,  4.71s/it]"
     ]
    },
    {
     "name": "stdout",
     "output_type": "stream",
     "text": [
      "Saved progress after user: @BeruBeruIce\n",
      "\n",
      "Evaluating user: @emmanuelrajah9688 | 19 comments\n"
     ]
    },
    {
     "name": "stderr",
     "output_type": "stream",
     "text": [
      "Processing short users:  24%|██▍       | 242/1000 [19:27<57:38,  4.56s/it]"
     ]
    },
    {
     "name": "stdout",
     "output_type": "stream",
     "text": [
      "Saved progress after user: @emmanuelrajah9688\n",
      "\n",
      "Evaluating user: @ElidaOchoa-v5t | 19 comments\n"
     ]
    },
    {
     "name": "stderr",
     "output_type": "stream",
     "text": [
      "Processing short users:  24%|██▍       | 243/1000 [19:31<58:47,  4.66s/it]"
     ]
    },
    {
     "name": "stdout",
     "output_type": "stream",
     "text": [
      "Saved progress after user: @ElidaOchoa-v5t\n",
      "\n",
      "Evaluating user: @Someone_wrf | 59 comments\n"
     ]
    },
    {
     "name": "stderr",
     "output_type": "stream",
     "text": [
      "Processing short users:  24%|██▍       | 244/1000 [19:37<1:02:46,  4.98s/it]"
     ]
    },
    {
     "name": "stdout",
     "output_type": "stream",
     "text": [
      "Saved progress after user: @Someone_wrf\n",
      "\n",
      "Evaluating user: @AmyAmy-er8bp | 56 comments\n"
     ]
    },
    {
     "name": "stderr",
     "output_type": "stream",
     "text": [
      "Processing short users:  24%|██▍       | 245/1000 [19:42<1:01:55,  4.92s/it]"
     ]
    },
    {
     "name": "stdout",
     "output_type": "stream",
     "text": [
      "Saved progress after user: @AmyAmy-er8bp\n",
      "\n",
      "Evaluating user: @ChantalLajeunesse | 28 comments\n"
     ]
    },
    {
     "name": "stderr",
     "output_type": "stream",
     "text": [
      "Processing short users:  25%|██▍       | 246/1000 [19:48<1:04:16,  5.11s/it]"
     ]
    },
    {
     "name": "stdout",
     "output_type": "stream",
     "text": [
      "Saved progress after user: @ChantalLajeunesse\n",
      "\n",
      "Evaluating user: @madimadikeluarga5480 | 73 comments\n"
     ]
    },
    {
     "name": "stderr",
     "output_type": "stream",
     "text": [
      "Processing short users:  25%|██▍       | 247/1000 [19:52<1:02:35,  4.99s/it]"
     ]
    },
    {
     "name": "stdout",
     "output_type": "stream",
     "text": [
      "Saved progress after user: @madimadikeluarga5480\n",
      "\n",
      "Evaluating user: @NanınıBəyalızadə | 22 comments\n"
     ]
    },
    {
     "name": "stderr",
     "output_type": "stream",
     "text": [
      "Processing short users:  25%|██▍       | 248/1000 [19:58<1:04:13,  5.12s/it]"
     ]
    },
    {
     "name": "stdout",
     "output_type": "stream",
     "text": [
      "Saved progress after user: @NanınıBəyalızadə\n",
      "\n",
      "Evaluating user: @mohd.shaheersiddiqui6792 | 80 comments\n"
     ]
    },
    {
     "name": "stderr",
     "output_type": "stream",
     "text": [
      "Processing short users:  25%|██▍       | 249/1000 [20:02<1:01:36,  4.92s/it]"
     ]
    },
    {
     "name": "stdout",
     "output_type": "stream",
     "text": [
      "Saved progress after user: @mohd.shaheersiddiqui6792\n",
      "\n",
      "Evaluating user: @Elizabeth912-v6o | 34 comments\n"
     ]
    },
    {
     "name": "stderr",
     "output_type": "stream",
     "text": [
      "Processing short users:  25%|██▌       | 250/1000 [20:08<1:04:01,  5.12s/it]"
     ]
    },
    {
     "name": "stdout",
     "output_type": "stream",
     "text": [
      "Saved progress after user: @Elizabeth912-v6o\n",
      "\n",
      "Evaluating user: @LFC_GAMERFN | 20 comments\n"
     ]
    },
    {
     "name": "stderr",
     "output_type": "stream",
     "text": [
      "Processing short users:  25%|██▌       | 251/1000 [20:12<1:00:06,  4.81s/it]"
     ]
    },
    {
     "name": "stdout",
     "output_type": "stream",
     "text": [
      "Saved progress after user: @LFC_GAMERFN\n",
      "\n",
      "Evaluating user: @LunaHund234 | 18 comments\n"
     ]
    },
    {
     "name": "stderr",
     "output_type": "stream",
     "text": [
      "Processing short users:  25%|██▌       | 252/1000 [20:18<1:04:59,  5.21s/it]"
     ]
    },
    {
     "name": "stdout",
     "output_type": "stream",
     "text": [
      "Saved progress after user: @LunaHund234\n",
      "\n",
      "Evaluating user: @PercyLee-vj1zy | 23 comments\n"
     ]
    },
    {
     "name": "stderr",
     "output_type": "stream",
     "text": [
      "Processing short users:  25%|██▌       | 253/1000 [20:23<1:03:47,  5.12s/it]"
     ]
    },
    {
     "name": "stdout",
     "output_type": "stream",
     "text": [
      "Saved progress after user: @PercyLee-vj1zy\n",
      "\n",
      "Evaluating user: @allwynsjourney2225 | 29 comments\n"
     ]
    },
    {
     "name": "stderr",
     "output_type": "stream",
     "text": [
      "Processing short users:  25%|██▌       | 254/1000 [20:27<59:06,  4.75s/it]  "
     ]
    },
    {
     "name": "stdout",
     "output_type": "stream",
     "text": [
      "Saved progress after user: @allwynsjourney2225\n",
      "\n",
      "Evaluating user: @allanboab | 24 comments\n"
     ]
    },
    {
     "name": "stderr",
     "output_type": "stream",
     "text": [
      "Processing short users:  26%|██▌       | 255/1000 [20:31<55:26,  4.46s/it]"
     ]
    },
    {
     "name": "stdout",
     "output_type": "stream",
     "text": [
      "Saved progress after user: @allanboab\n",
      "\n",
      "Evaluating user: @Soyeon_harry | 40 comments\n"
     ]
    },
    {
     "name": "stderr",
     "output_type": "stream",
     "text": [
      "Processing short users:  26%|██▌       | 256/1000 [20:35<56:19,  4.54s/it]"
     ]
    },
    {
     "name": "stdout",
     "output_type": "stream",
     "text": [
      "Saved progress after user: @Soyeon_harry\n",
      "\n",
      "Evaluating user: @stephenino | 20 comments\n"
     ]
    },
    {
     "name": "stderr",
     "output_type": "stream",
     "text": [
      "Processing short users:  26%|██▌       | 257/1000 [20:41<59:06,  4.77s/it]"
     ]
    },
    {
     "name": "stdout",
     "output_type": "stream",
     "text": [
      "Saved progress after user: @stephenino\n",
      "\n",
      "Evaluating user: @Everyday_Eva | 45 comments\n"
     ]
    },
    {
     "name": "stderr",
     "output_type": "stream",
     "text": [
      "Processing short users:  26%|██▌       | 258/1000 [20:46<1:00:41,  4.91s/it]"
     ]
    },
    {
     "name": "stdout",
     "output_type": "stream",
     "text": [
      "Saved progress after user: @Everyday_Eva\n",
      "\n",
      "Evaluating user: @TheOnlyDannyDoggy | 23 comments\n"
     ]
    },
    {
     "name": "stderr",
     "output_type": "stream",
     "text": [
      "Processing short users:  26%|██▌       | 259/1000 [20:50<59:05,  4.79s/it]  "
     ]
    },
    {
     "name": "stdout",
     "output_type": "stream",
     "text": [
      "Saved progress after user: @TheOnlyDannyDoggy\n",
      "\n",
      "Evaluating user: @Deeyuh242 | 36 comments\n"
     ]
    },
    {
     "name": "stderr",
     "output_type": "stream",
     "text": [
      "Processing short users:  26%|██▌       | 260/1000 [20:55<58:00,  4.70s/it]"
     ]
    },
    {
     "name": "stdout",
     "output_type": "stream",
     "text": [
      "Saved progress after user: @Deeyuh242\n",
      "\n",
      "Evaluating user: @Ghost0_D | 27 comments\n"
     ]
    },
    {
     "name": "stderr",
     "output_type": "stream",
     "text": [
      "Processing short users:  26%|██▌       | 261/1000 [21:01<1:02:06,  5.04s/it]"
     ]
    },
    {
     "name": "stdout",
     "output_type": "stream",
     "text": [
      "Saved progress after user: @Ghost0_D\n",
      "\n",
      "Evaluating user: @aeciolisboa7998 | 52 comments\n"
     ]
    },
    {
     "name": "stderr",
     "output_type": "stream",
     "text": [
      "Processing short users:  26%|██▌       | 262/1000 [21:07<1:06:05,  5.37s/it]"
     ]
    },
    {
     "name": "stdout",
     "output_type": "stream",
     "text": [
      "Saved progress after user: @aeciolisboa7998\n",
      "\n",
      "Evaluating user: @user-rv4dq4ep2gp80 | 26 comments\n"
     ]
    },
    {
     "name": "stderr",
     "output_type": "stream",
     "text": [
      "Processing short users:  26%|██▋       | 263/1000 [21:10<59:38,  4.86s/it]  "
     ]
    },
    {
     "name": "stdout",
     "output_type": "stream",
     "text": [
      "Saved progress after user: @user-rv4dq4ep2gp80\n",
      "\n",
      "Evaluating user: @Petruwolf | 22 comments\n"
     ]
    },
    {
     "name": "stderr",
     "output_type": "stream",
     "text": [
      "Processing short users:  26%|██▋       | 264/1000 [21:15<58:02,  4.73s/it]"
     ]
    },
    {
     "name": "stdout",
     "output_type": "stream",
     "text": [
      "Saved progress after user: @Petruwolf\n",
      "\n",
      "Evaluating user: @brp2286-y2c | 18 comments\n"
     ]
    },
    {
     "name": "stderr",
     "output_type": "stream",
     "text": [
      "Processing short users:  26%|██▋       | 265/1000 [21:20<1:00:09,  4.91s/it]"
     ]
    },
    {
     "name": "stdout",
     "output_type": "stream",
     "text": [
      "Saved progress after user: @brp2286-y2c\n",
      "\n",
      "Evaluating user: @selmayildiz1499 | 23 comments\n"
     ]
    },
    {
     "name": "stderr",
     "output_type": "stream",
     "text": [
      "Processing short users:  27%|██▋       | 266/1000 [21:25<1:00:49,  4.97s/it]"
     ]
    },
    {
     "name": "stdout",
     "output_type": "stream",
     "text": [
      "Saved progress after user: @selmayildiz1499\n",
      "\n",
      "Evaluating user: @yagmurcesmeci3748 | 30 comments\n"
     ]
    },
    {
     "name": "stderr",
     "output_type": "stream",
     "text": [
      "Processing short users:  27%|██▋       | 267/1000 [21:29<56:01,  4.59s/it]  "
     ]
    },
    {
     "name": "stdout",
     "output_type": "stream",
     "text": [
      "Saved progress after user: @yagmurcesmeci3748\n",
      "\n",
      "Evaluating user: @Loris7C52 | 40 comments\n"
     ]
    },
    {
     "name": "stderr",
     "output_type": "stream",
     "text": [
      "Processing short users:  27%|██▋       | 268/1000 [21:33<53:25,  4.38s/it]"
     ]
    },
    {
     "name": "stdout",
     "output_type": "stream",
     "text": [
      "Saved progress after user: @Loris7C52\n",
      "\n",
      "Evaluating user: @esmawq_5 | 20 comments\n"
     ]
    },
    {
     "name": "stderr",
     "output_type": "stream",
     "text": [
      "Processing short users:  27%|██▋       | 269/1000 [21:37<52:57,  4.35s/it]"
     ]
    },
    {
     "name": "stdout",
     "output_type": "stream",
     "text": [
      "Saved progress after user: @esmawq_5\n",
      "\n",
      "Evaluating user: @ipekwsie | 18 comments\n"
     ]
    },
    {
     "name": "stderr",
     "output_type": "stream",
     "text": [
      "Processing short users:  27%|██▋       | 270/1000 [21:41<52:43,  4.33s/it]"
     ]
    },
    {
     "name": "stdout",
     "output_type": "stream",
     "text": [
      "Saved progress after user: @ipekwsie\n",
      "\n",
      "Evaluating user: @bucurukyoda | 31 comments\n"
     ]
    },
    {
     "name": "stderr",
     "output_type": "stream",
     "text": [
      "Processing short users:  27%|██▋       | 271/1000 [21:46<53:00,  4.36s/it]"
     ]
    },
    {
     "name": "stdout",
     "output_type": "stream",
     "text": [
      "Saved progress after user: @bucurukyoda\n",
      "\n",
      "Evaluating user: @dntknet | 30 comments\n"
     ]
    },
    {
     "name": "stderr",
     "output_type": "stream",
     "text": [
      "Processing short users:  27%|██▋       | 272/1000 [21:51<57:10,  4.71s/it]"
     ]
    },
    {
     "name": "stdout",
     "output_type": "stream",
     "text": [
      "Saved progress after user: @dntknet\n",
      "\n",
      "Evaluating user: @jurajvivana | 18 comments\n"
     ]
    },
    {
     "name": "stderr",
     "output_type": "stream",
     "text": [
      "Processing short users:  27%|██▋       | 273/1000 [21:56<55:13,  4.56s/it]"
     ]
    },
    {
     "name": "stdout",
     "output_type": "stream",
     "text": [
      "Saved progress after user: @jurajvivana\n",
      "\n",
      "Evaluating user: @MateoEscobar-mv8eb | 23 comments\n"
     ]
    },
    {
     "name": "stderr",
     "output_type": "stream",
     "text": [
      "Processing short users:  27%|██▋       | 274/1000 [22:00<53:06,  4.39s/it]"
     ]
    },
    {
     "name": "stdout",
     "output_type": "stream",
     "text": [
      "Saved progress after user: @MateoEscobar-mv8eb\n",
      "\n",
      "Evaluating user: @amore6276 | 47 comments\n"
     ]
    },
    {
     "name": "stderr",
     "output_type": "stream",
     "text": [
      "Processing short users:  28%|██▊       | 275/1000 [22:05<54:56,  4.55s/it]"
     ]
    },
    {
     "name": "stdout",
     "output_type": "stream",
     "text": [
      "Saved progress after user: @amore6276\n",
      "\n",
      "Evaluating user: @laurenschenck5355 | 105 comments\n"
     ]
    },
    {
     "name": "stderr",
     "output_type": "stream",
     "text": [
      "Processing short users:  28%|██▊       | 276/1000 [22:14<1:13:21,  6.08s/it]"
     ]
    },
    {
     "name": "stdout",
     "output_type": "stream",
     "text": [
      "Saved progress after user: @laurenschenck5355\n",
      "\n",
      "Evaluating user: @rosesuarez3372 | 22 comments\n"
     ]
    },
    {
     "name": "stderr",
     "output_type": "stream",
     "text": [
      "Processing short users:  28%|██▊       | 277/1000 [22:19<1:08:06,  5.65s/it]"
     ]
    },
    {
     "name": "stdout",
     "output_type": "stream",
     "text": [
      "Saved progress after user: @rosesuarez3372\n",
      "\n",
      "Evaluating user: @tristanferrer0192 | 69 comments\n"
     ]
    },
    {
     "name": "stderr",
     "output_type": "stream",
     "text": [
      "Processing short users:  28%|██▊       | 278/1000 [22:23<1:02:07,  5.16s/it]"
     ]
    },
    {
     "name": "stdout",
     "output_type": "stream",
     "text": [
      "Saved progress after user: @tristanferrer0192\n",
      "\n",
      "Evaluating user: @joab757 | 31 comments\n"
     ]
    },
    {
     "name": "stderr",
     "output_type": "stream",
     "text": [
      "Processing short users:  28%|██▊       | 279/1000 [22:27<57:26,  4.78s/it]  "
     ]
    },
    {
     "name": "stdout",
     "output_type": "stream",
     "text": [
      "Saved progress after user: @joab757\n",
      "\n",
      "Evaluating user: @Son-Of-David1990 | 27 comments\n"
     ]
    },
    {
     "name": "stderr",
     "output_type": "stream",
     "text": [
      "Processing short users:  28%|██▊       | 280/1000 [22:31<53:41,  4.47s/it]"
     ]
    },
    {
     "name": "stdout",
     "output_type": "stream",
     "text": [
      "Saved progress after user: @Son-Of-David1990\n",
      "\n",
      "Evaluating user: @Ki-KisWorld | 30 comments\n"
     ]
    },
    {
     "name": "stderr",
     "output_type": "stream",
     "text": [
      "Processing short users:  28%|██▊       | 281/1000 [22:37<1:00:27,  5.05s/it]"
     ]
    },
    {
     "name": "stdout",
     "output_type": "stream",
     "text": [
      "Saved progress after user: @Ki-KisWorld\n",
      "\n",
      "Evaluating user: @baronghede2365 | 22 comments\n"
     ]
    },
    {
     "name": "stderr",
     "output_type": "stream",
     "text": [
      "Processing short users:  28%|██▊       | 282/1000 [22:41<56:14,  4.70s/it]  "
     ]
    },
    {
     "name": "stdout",
     "output_type": "stream",
     "text": [
      "Saved progress after user: @baronghede2365\n",
      "\n",
      "Evaluating user: @infntegaming | 45 comments\n"
     ]
    },
    {
     "name": "stderr",
     "output_type": "stream",
     "text": [
      "Processing short users:  28%|██▊       | 283/1000 [22:45<55:27,  4.64s/it]"
     ]
    },
    {
     "name": "stdout",
     "output_type": "stream",
     "text": [
      "Saved progress after user: @infntegaming\n",
      "\n",
      "Evaluating user: @Nico_Di_Angelo_Official | 20 comments\n"
     ]
    },
    {
     "name": "stderr",
     "output_type": "stream",
     "text": [
      "Processing short users:  28%|██▊       | 284/1000 [22:50<54:54,  4.60s/it]"
     ]
    },
    {
     "name": "stdout",
     "output_type": "stream",
     "text": [
      "Saved progress after user: @Nico_Di_Angelo_Official\n",
      "\n",
      "Evaluating user: @daanbos5918 | 37 comments\n"
     ]
    },
    {
     "name": "stderr",
     "output_type": "stream",
     "text": [
      "Processing short users:  28%|██▊       | 285/1000 [22:54<54:29,  4.57s/it]"
     ]
    },
    {
     "name": "stdout",
     "output_type": "stream",
     "text": [
      "Saved progress after user: @daanbos5918\n",
      "\n",
      "Evaluating user: @purringcatzz196 | 26 comments\n"
     ]
    },
    {
     "name": "stderr",
     "output_type": "stream",
     "text": [
      "Processing short users:  29%|██▊       | 286/1000 [23:00<58:15,  4.90s/it]"
     ]
    },
    {
     "name": "stdout",
     "output_type": "stream",
     "text": [
      "Saved progress after user: @purringcatzz196\n",
      "\n",
      "Evaluating user: @matthewmartinez9835 | 30 comments\n"
     ]
    },
    {
     "name": "stderr",
     "output_type": "stream",
     "text": [
      "Processing short users:  29%|██▊       | 287/1000 [23:05<1:00:00,  5.05s/it]"
     ]
    },
    {
     "name": "stdout",
     "output_type": "stream",
     "text": [
      "Saved progress after user: @matthewmartinez9835\n",
      "\n",
      "Evaluating user: @liltjfireworks | 50 comments\n"
     ]
    },
    {
     "name": "stderr",
     "output_type": "stream",
     "text": [
      "Processing short users:  29%|██▉       | 288/1000 [23:10<57:52,  4.88s/it]  "
     ]
    },
    {
     "name": "stdout",
     "output_type": "stream",
     "text": [
      "Saved progress after user: @liltjfireworks\n",
      "\n",
      "Evaluating user: @luceroepifanio8514 | 80 comments\n"
     ]
    },
    {
     "name": "stderr",
     "output_type": "stream",
     "text": [
      "Processing short users:  29%|██▉       | 289/1000 [23:15<57:03,  4.81s/it]"
     ]
    },
    {
     "name": "stdout",
     "output_type": "stream",
     "text": [
      "Saved progress after user: @luceroepifanio8514\n",
      "\n",
      "Evaluating user: @lydiamukono8374 | 18 comments\n"
     ]
    },
    {
     "name": "stderr",
     "output_type": "stream",
     "text": [
      "Processing short users:  29%|██▉       | 290/1000 [23:18<53:57,  4.56s/it]"
     ]
    },
    {
     "name": "stdout",
     "output_type": "stream",
     "text": [
      "Saved progress after user: @lydiamukono8374\n",
      "\n",
      "Evaluating user: @anchors_H | 25 comments\n"
     ]
    },
    {
     "name": "stderr",
     "output_type": "stream",
     "text": [
      "Processing short users:  29%|██▉       | 291/1000 [23:25<1:01:41,  5.22s/it]"
     ]
    },
    {
     "name": "stdout",
     "output_type": "stream",
     "text": [
      "Saved progress after user: @anchors_H\n",
      "\n",
      "Evaluating user: @hsd287 | 21 comments\n"
     ]
    },
    {
     "name": "stderr",
     "output_type": "stream",
     "text": [
      "Processing short users:  29%|██▉       | 292/1000 [23:30<58:19,  4.94s/it]  "
     ]
    },
    {
     "name": "stdout",
     "output_type": "stream",
     "text": [
      "Saved progress after user: @hsd287\n",
      "\n",
      "Evaluating user: @mharieprado8000 | 18 comments\n"
     ]
    },
    {
     "name": "stderr",
     "output_type": "stream",
     "text": [
      "Processing short users:  29%|██▉       | 293/1000 [23:43<1:27:28,  7.42s/it]"
     ]
    },
    {
     "name": "stdout",
     "output_type": "stream",
     "text": [
      "Saved progress after user: @mharieprado8000\n",
      "\n",
      "Evaluating user: @Halalboy1 | 20 comments\n"
     ]
    },
    {
     "name": "stderr",
     "output_type": "stream",
     "text": [
      "Processing short users:  29%|██▉       | 294/1000 [23:47<1:15:36,  6.43s/it]"
     ]
    },
    {
     "name": "stdout",
     "output_type": "stream",
     "text": [
      "Saved progress after user: @Halalboy1\n",
      "\n",
      "Evaluating user: @benpan9406 | 19 comments\n"
     ]
    },
    {
     "name": "stderr",
     "output_type": "stream",
     "text": [
      "Processing short users:  30%|██▉       | 295/1000 [23:51<1:08:28,  5.83s/it]"
     ]
    },
    {
     "name": "stdout",
     "output_type": "stream",
     "text": [
      "Saved progress after user: @benpan9406\n",
      "\n",
      "Evaluating user: @TomeStoneOfGold | 32 comments\n"
     ]
    },
    {
     "name": "stderr",
     "output_type": "stream",
     "text": [
      "Processing short users:  30%|██▉       | 296/1000 [23:56<1:06:09,  5.64s/it]"
     ]
    },
    {
     "name": "stdout",
     "output_type": "stream",
     "text": [
      "Saved progress after user: @TomeStoneOfGold\n",
      "\n",
      "Evaluating user: @HOURLYSNIPES | 31 comments\n"
     ]
    },
    {
     "name": "stderr",
     "output_type": "stream",
     "text": [
      "Processing short users:  30%|██▉       | 297/1000 [24:01<1:03:08,  5.39s/it]"
     ]
    },
    {
     "name": "stdout",
     "output_type": "stream",
     "text": [
      "Saved progress after user: @HOURLYSNIPES\n",
      "\n",
      "Evaluating user: @AsijaMitchem | 25 comments\n"
     ]
    },
    {
     "name": "stderr",
     "output_type": "stream",
     "text": [
      "Processing short users:  30%|██▉       | 298/1000 [24:06<1:01:23,  5.25s/it]"
     ]
    },
    {
     "name": "stdout",
     "output_type": "stream",
     "text": [
      "Saved progress after user: @AsijaMitchem\n",
      "\n",
      "Evaluating user: @Kyoto99952 | 21 comments\n"
     ]
    },
    {
     "name": "stderr",
     "output_type": "stream",
     "text": [
      "Processing short users:  30%|██▉       | 299/1000 [24:12<1:03:00,  5.39s/it]"
     ]
    },
    {
     "name": "stdout",
     "output_type": "stream",
     "text": [
      "Saved progress after user: @Kyoto99952\n",
      "\n",
      "Evaluating user: @radouanemegherbi3499 | 21 comments\n"
     ]
    },
    {
     "name": "stderr",
     "output_type": "stream",
     "text": [
      "Processing short users:  30%|███       | 300/1000 [24:17<1:03:23,  5.43s/it]"
     ]
    },
    {
     "name": "stdout",
     "output_type": "stream",
     "text": [
      "Saved progress after user: @radouanemegherbi3499\n",
      "\n",
      "Evaluating user: @HafidaMani-zh8mr | 56 comments\n"
     ]
    },
    {
     "name": "stderr",
     "output_type": "stream",
     "text": [
      "Processing short users:  30%|███       | 301/1000 [24:22<1:01:08,  5.25s/it]"
     ]
    },
    {
     "name": "stdout",
     "output_type": "stream",
     "text": [
      "Saved progress after user: @HafidaMani-zh8mr\n",
      "\n",
      "Evaluating user: @zoeyj8022 | 18 comments\n"
     ]
    },
    {
     "name": "stderr",
     "output_type": "stream",
     "text": [
      "Processing short users:  30%|███       | 302/1000 [24:26<54:47,  4.71s/it]  "
     ]
    },
    {
     "name": "stdout",
     "output_type": "stream",
     "text": [
      "Saved progress after user: @zoeyj8022\n",
      "\n",
      "Evaluating user: @khalidgucci1933 | 19 comments\n"
     ]
    },
    {
     "name": "stderr",
     "output_type": "stream",
     "text": [
      "Processing short users:  30%|███       | 303/1000 [24:29<49:20,  4.25s/it]"
     ]
    },
    {
     "name": "stdout",
     "output_type": "stream",
     "text": [
      "Saved progress after user: @khalidgucci1933\n",
      "\n",
      "Evaluating user: @GoobertNoobster | 19 comments\n"
     ]
    },
    {
     "name": "stderr",
     "output_type": "stream",
     "text": [
      "Processing short users:  30%|███       | 304/1000 [24:33<49:54,  4.30s/it]"
     ]
    },
    {
     "name": "stdout",
     "output_type": "stream",
     "text": [
      "Saved progress after user: @GoobertNoobster\n",
      "\n",
      "Evaluating user: @randalthor2859 | 19 comments\n"
     ]
    },
    {
     "name": "stderr",
     "output_type": "stream",
     "text": [
      "Processing short users:  30%|███       | 305/1000 [24:37<48:46,  4.21s/it]"
     ]
    },
    {
     "name": "stdout",
     "output_type": "stream",
     "text": [
      "Saved progress after user: @randalthor2859\n",
      "\n",
      "Evaluating user: @AColonDashSix | 24 comments\n"
     ]
    },
    {
     "name": "stderr",
     "output_type": "stream",
     "text": [
      "Processing short users:  31%|███       | 306/1000 [24:42<49:22,  4.27s/it]"
     ]
    },
    {
     "name": "stdout",
     "output_type": "stream",
     "text": [
      "Saved progress after user: @AColonDashSix\n",
      "\n",
      "Evaluating user: @timdavis7845 | 18 comments\n"
     ]
    },
    {
     "name": "stderr",
     "output_type": "stream",
     "text": [
      "Processing short users:  31%|███       | 307/1000 [24:46<50:28,  4.37s/it]"
     ]
    },
    {
     "name": "stdout",
     "output_type": "stream",
     "text": [
      "Saved progress after user: @timdavis7845\n",
      "\n",
      "Evaluating user: @chokocastro7988 | 23 comments\n"
     ]
    },
    {
     "name": "stderr",
     "output_type": "stream",
     "text": [
      "Processing short users:  31%|███       | 308/1000 [24:52<53:21,  4.63s/it]"
     ]
    },
    {
     "name": "stdout",
     "output_type": "stream",
     "text": [
      "Saved progress after user: @chokocastro7988\n",
      "\n",
      "Evaluating user: @davidbermudez7704 | 21 comments\n"
     ]
    },
    {
     "name": "stderr",
     "output_type": "stream",
     "text": [
      "Processing short users:  31%|███       | 309/1000 [24:58<58:52,  5.11s/it]"
     ]
    },
    {
     "name": "stdout",
     "output_type": "stream",
     "text": [
      "Saved progress after user: @davidbermudez7704\n",
      "\n",
      "Evaluating user: @ProxCQ | 26 comments\n"
     ]
    },
    {
     "name": "stderr",
     "output_type": "stream",
     "text": [
      "Processing short users:  31%|███       | 310/1000 [25:02<57:02,  4.96s/it]"
     ]
    },
    {
     "name": "stdout",
     "output_type": "stream",
     "text": [
      "Saved progress after user: @ProxCQ\n",
      "\n",
      "Evaluating user: @NickyAlii | 21 comments\n"
     ]
    },
    {
     "name": "stderr",
     "output_type": "stream",
     "text": [
      "Processing short users:  31%|███       | 311/1000 [25:07<55:03,  4.79s/it]"
     ]
    },
    {
     "name": "stdout",
     "output_type": "stream",
     "text": [
      "Saved progress after user: @NickyAlii\n",
      "\n",
      "Evaluating user: @fredwilliams420 | 23 comments\n"
     ]
    },
    {
     "name": "stderr",
     "output_type": "stream",
     "text": [
      "Processing short users:  31%|███       | 312/1000 [25:12<56:47,  4.95s/it]"
     ]
    },
    {
     "name": "stdout",
     "output_type": "stream",
     "text": [
      "Saved progress after user: @fredwilliams420\n",
      "\n",
      "Evaluating user: @Psalms20A21 | 19 comments\n"
     ]
    },
    {
     "name": "stderr",
     "output_type": "stream",
     "text": [
      "Processing short users:  31%|███▏      | 313/1000 [25:17<57:38,  5.03s/it]"
     ]
    },
    {
     "name": "stdout",
     "output_type": "stream",
     "text": [
      "Saved progress after user: @Psalms20A21\n",
      "\n",
      "Evaluating user: @Keikimainecoon | 20 comments\n"
     ]
    },
    {
     "name": "stderr",
     "output_type": "stream",
     "text": [
      "Processing short users:  31%|███▏      | 314/1000 [25:21<53:59,  4.72s/it]"
     ]
    },
    {
     "name": "stdout",
     "output_type": "stream",
     "text": [
      "Saved progress after user: @Keikimainecoon\n",
      "\n",
      "Evaluating user: @paulashe61 | 23 comments\n"
     ]
    },
    {
     "name": "stderr",
     "output_type": "stream",
     "text": [
      "Processing short users:  32%|███▏      | 315/1000 [25:25<48:36,  4.26s/it]"
     ]
    },
    {
     "name": "stdout",
     "output_type": "stream",
     "text": [
      "Saved progress after user: @paulashe61\n",
      "\n",
      "Evaluating user: @qaissyahiranosman7168 | 20 comments\n"
     ]
    },
    {
     "name": "stderr",
     "output_type": "stream",
     "text": [
      "Processing short users:  32%|███▏      | 316/1000 [25:30<51:28,  4.52s/it]"
     ]
    },
    {
     "name": "stdout",
     "output_type": "stream",
     "text": [
      "Saved progress after user: @qaissyahiranosman7168\n",
      "\n",
      "Evaluating user: @BossFinale | 26 comments\n"
     ]
    },
    {
     "name": "stderr",
     "output_type": "stream",
     "text": [
      "Processing short users:  32%|███▏      | 317/1000 [25:34<50:19,  4.42s/it]"
     ]
    },
    {
     "name": "stdout",
     "output_type": "stream",
     "text": [
      "Saved progress after user: @BossFinale\n",
      "\n",
      "Evaluating user: @romystumpy1197 | 18 comments\n"
     ]
    },
    {
     "name": "stderr",
     "output_type": "stream",
     "text": [
      "Processing short users:  32%|███▏      | 318/1000 [25:40<54:43,  4.82s/it]"
     ]
    },
    {
     "name": "stdout",
     "output_type": "stream",
     "text": [
      "Saved progress after user: @romystumpy1197\n",
      "\n",
      "Evaluating user: @ohmygodbecky6829 | 23 comments\n"
     ]
    },
    {
     "name": "stderr",
     "output_type": "stream",
     "text": [
      "Processing short users:  32%|███▏      | 319/1000 [25:43<51:09,  4.51s/it]"
     ]
    },
    {
     "name": "stdout",
     "output_type": "stream",
     "text": [
      "Saved progress after user: @ohmygodbecky6829\n",
      "\n",
      "Evaluating user: @dr.subodhsdentalclinic836 | 21 comments\n"
     ]
    },
    {
     "name": "stderr",
     "output_type": "stream",
     "text": [
      "Processing short users:  32%|███▏      | 320/1000 [25:47<46:53,  4.14s/it]"
     ]
    },
    {
     "name": "stdout",
     "output_type": "stream",
     "text": [
      "Saved progress after user: @dr.subodhsdentalclinic836\n",
      "\n",
      "Evaluating user: @piamoltzau4382 | 26 comments\n"
     ]
    },
    {
     "name": "stderr",
     "output_type": "stream",
     "text": [
      "Processing short users:  32%|███▏      | 321/1000 [25:50<44:56,  3.97s/it]"
     ]
    },
    {
     "name": "stdout",
     "output_type": "stream",
     "text": [
      "Saved progress after user: @piamoltzau4382\n",
      "\n",
      "Evaluating user: @Turtoooo | 33 comments\n"
     ]
    },
    {
     "name": "stderr",
     "output_type": "stream",
     "text": [
      "Processing short users:  32%|███▏      | 322/1000 [25:55<47:02,  4.16s/it]"
     ]
    },
    {
     "name": "stdout",
     "output_type": "stream",
     "text": [
      "Saved progress after user: @Turtoooo\n",
      "\n",
      "Evaluating user: @NinjaSushi2 | 38 comments\n"
     ]
    },
    {
     "name": "stderr",
     "output_type": "stream",
     "text": [
      "Processing short users:  32%|███▏      | 323/1000 [26:03<59:16,  5.25s/it]"
     ]
    },
    {
     "name": "stdout",
     "output_type": "stream",
     "text": [
      "Saved progress after user: @NinjaSushi2\n",
      "\n",
      "Evaluating user: @RafaDrawingAcademy | 30 comments\n"
     ]
    },
    {
     "name": "stderr",
     "output_type": "stream",
     "text": [
      "Processing short users:  32%|███▏      | 324/1000 [26:08<58:20,  5.18s/it]"
     ]
    },
    {
     "name": "stdout",
     "output_type": "stream",
     "text": [
      "Saved progress after user: @RafaDrawingAcademy\n",
      "\n",
      "Evaluating user: @Minaare | 33 comments\n"
     ]
    },
    {
     "name": "stderr",
     "output_type": "stream",
     "text": [
      "Processing short users:  32%|███▎      | 325/1000 [26:11<52:52,  4.70s/it]"
     ]
    },
    {
     "name": "stdout",
     "output_type": "stream",
     "text": [
      "Saved progress after user: @Minaare\n",
      "\n",
      "Evaluating user: @georginacat7667 | 19 comments\n"
     ]
    },
    {
     "name": "stderr",
     "output_type": "stream",
     "text": [
      "Processing short users:  33%|███▎      | 326/1000 [26:15<49:22,  4.40s/it]"
     ]
    },
    {
     "name": "stdout",
     "output_type": "stream",
     "text": [
      "Saved progress after user: @georginacat7667\n",
      "\n",
      "Evaluating user: @Krayzillepaigee | 23 comments\n"
     ]
    },
    {
     "name": "stderr",
     "output_type": "stream",
     "text": [
      "Processing short users:  33%|███▎      | 327/1000 [26:19<48:27,  4.32s/it]"
     ]
    },
    {
     "name": "stdout",
     "output_type": "stream",
     "text": [
      "Saved progress after user: @Krayzillepaigee\n",
      "\n",
      "Evaluating user: @bingbongmcgee | 28 comments\n"
     ]
    },
    {
     "name": "stderr",
     "output_type": "stream",
     "text": [
      "Processing short users:  33%|███▎      | 328/1000 [26:23<47:49,  4.27s/it]"
     ]
    },
    {
     "name": "stdout",
     "output_type": "stream",
     "text": [
      "Saved progress after user: @bingbongmcgee\n",
      "\n",
      "Evaluating user: @JessieNihilist | 22 comments\n"
     ]
    },
    {
     "name": "stderr",
     "output_type": "stream",
     "text": [
      "Processing short users:  33%|███▎      | 329/1000 [26:27<45:27,  4.06s/it]"
     ]
    },
    {
     "name": "stdout",
     "output_type": "stream",
     "text": [
      "Saved progress after user: @JessieNihilist\n",
      "\n",
      "Evaluating user: @supernewuser | 30 comments\n"
     ]
    },
    {
     "name": "stderr",
     "output_type": "stream",
     "text": [
      "Processing short users:  33%|███▎      | 330/1000 [26:32<48:34,  4.35s/it]"
     ]
    },
    {
     "name": "stdout",
     "output_type": "stream",
     "text": [
      "Saved progress after user: @supernewuser\n",
      "\n",
      "Evaluating user: @ryanrafanan2852 | 29 comments\n"
     ]
    },
    {
     "name": "stderr",
     "output_type": "stream",
     "text": [
      "Processing short users:  33%|███▎      | 331/1000 [26:37<49:42,  4.46s/it]"
     ]
    },
    {
     "name": "stdout",
     "output_type": "stream",
     "text": [
      "Saved progress after user: @ryanrafanan2852\n",
      "\n",
      "Evaluating user: @terriseaton3049 | 26 comments\n"
     ]
    },
    {
     "name": "stderr",
     "output_type": "stream",
     "text": [
      "Processing short users:  33%|███▎      | 332/1000 [26:40<45:41,  4.10s/it]"
     ]
    },
    {
     "name": "stdout",
     "output_type": "stream",
     "text": [
      "Saved progress after user: @terriseaton3049\n",
      "\n",
      "Evaluating user: @powerpuff4ever | 21 comments\n"
     ]
    },
    {
     "name": "stderr",
     "output_type": "stream",
     "text": [
      "Processing short users:  33%|███▎      | 333/1000 [26:44<45:51,  4.13s/it]"
     ]
    },
    {
     "name": "stdout",
     "output_type": "stream",
     "text": [
      "Saved progress after user: @powerpuff4ever\n",
      "\n",
      "Evaluating user: @A207. | 23 comments\n"
     ]
    },
    {
     "name": "stderr",
     "output_type": "stream",
     "text": [
      "Processing short users:  33%|███▎      | 334/1000 [26:48<46:27,  4.18s/it]"
     ]
    },
    {
     "name": "stdout",
     "output_type": "stream",
     "text": [
      "Saved progress after user: @A207.\n",
      "\n",
      "Evaluating user: @thekingkizen2952 | 18 comments\n"
     ]
    },
    {
     "name": "stderr",
     "output_type": "stream",
     "text": [
      "Processing short users:  34%|███▎      | 335/1000 [26:53<47:47,  4.31s/it]"
     ]
    },
    {
     "name": "stdout",
     "output_type": "stream",
     "text": [
      "Saved progress after user: @thekingkizen2952\n",
      "\n",
      "Evaluating user: @ikarus_07 | 23 comments\n"
     ]
    },
    {
     "name": "stderr",
     "output_type": "stream",
     "text": [
      "Processing short users:  34%|███▎      | 336/1000 [26:57<46:59,  4.25s/it]"
     ]
    },
    {
     "name": "stdout",
     "output_type": "stream",
     "text": [
      "Saved progress after user: @ikarus_07\n",
      "\n",
      "Evaluating user: @sleddi98 | 18 comments\n"
     ]
    },
    {
     "name": "stderr",
     "output_type": "stream",
     "text": [
      "Processing short users:  34%|███▎      | 337/1000 [27:02<49:29,  4.48s/it]"
     ]
    },
    {
     "name": "stdout",
     "output_type": "stream",
     "text": [
      "Saved progress after user: @sleddi98\n",
      "\n",
      "Evaluating user: @entername3840 | 20 comments\n"
     ]
    },
    {
     "name": "stderr",
     "output_type": "stream",
     "text": [
      "Processing short users:  34%|███▍      | 338/1000 [27:05<45:27,  4.12s/it]"
     ]
    },
    {
     "name": "stdout",
     "output_type": "stream",
     "text": [
      "Saved progress after user: @entername3840\n",
      "\n",
      "Evaluating user: @morenacampanero | 23 comments\n"
     ]
    },
    {
     "name": "stderr",
     "output_type": "stream",
     "text": [
      "Processing short users:  34%|███▍      | 339/1000 [27:09<43:15,  3.93s/it]"
     ]
    },
    {
     "name": "stdout",
     "output_type": "stream",
     "text": [
      "Saved progress after user: @morenacampanero\n",
      "\n",
      "Evaluating user: @Sar-ahG | 22 comments\n"
     ]
    },
    {
     "name": "stderr",
     "output_type": "stream",
     "text": [
      "Processing short users:  34%|███▍      | 340/1000 [27:13<44:51,  4.08s/it]"
     ]
    },
    {
     "name": "stdout",
     "output_type": "stream",
     "text": [
      "Saved progress after user: @Sar-ahG\n",
      "\n",
      "Evaluating user: @shodapad07 | 20 comments\n"
     ]
    },
    {
     "name": "stderr",
     "output_type": "stream",
     "text": [
      "Processing short users:  34%|███▍      | 341/1000 [27:17<45:05,  4.11s/it]"
     ]
    },
    {
     "name": "stdout",
     "output_type": "stream",
     "text": [
      "Saved progress after user: @shodapad07\n",
      "\n",
      "Evaluating user: @Khronically-online-kat | 23 comments\n"
     ]
    },
    {
     "name": "stderr",
     "output_type": "stream",
     "text": [
      "Processing short users:  34%|███▍      | 342/1000 [27:23<49:42,  4.53s/it]"
     ]
    },
    {
     "name": "stdout",
     "output_type": "stream",
     "text": [
      "Saved progress after user: @Khronically-online-kat\n",
      "\n",
      "Evaluating user: @jep9092 | 22 comments\n"
     ]
    },
    {
     "name": "stderr",
     "output_type": "stream",
     "text": [
      "Processing short users:  34%|███▍      | 343/1000 [27:27<49:12,  4.49s/it]"
     ]
    },
    {
     "name": "stdout",
     "output_type": "stream",
     "text": [
      "Saved progress after user: @jep9092\n",
      "\n",
      "Evaluating user: @sexygirlmax2019 | 22 comments\n"
     ]
    },
    {
     "name": "stderr",
     "output_type": "stream",
     "text": [
      "Processing short users:  34%|███▍      | 344/1000 [27:32<48:32,  4.44s/it]"
     ]
    },
    {
     "name": "stdout",
     "output_type": "stream",
     "text": [
      "Saved progress after user: @sexygirlmax2019\n",
      "\n",
      "Evaluating user: @MaNNeRz91 | 28 comments\n"
     ]
    },
    {
     "name": "stderr",
     "output_type": "stream",
     "text": [
      "Processing short users:  34%|███▍      | 345/1000 [27:36<46:57,  4.30s/it]"
     ]
    },
    {
     "name": "stdout",
     "output_type": "stream",
     "text": [
      "Saved progress after user: @MaNNeRz91\n",
      "\n",
      "Evaluating user: @gayareeepany268 | 48 comments\n"
     ]
    },
    {
     "name": "stderr",
     "output_type": "stream",
     "text": [
      "Processing short users:  35%|███▍      | 346/1000 [27:39<45:12,  4.15s/it]"
     ]
    },
    {
     "name": "stdout",
     "output_type": "stream",
     "text": [
      "Saved progress after user: @gayareeepany268\n",
      "\n",
      "Evaluating user: @GamesforCykits | 28 comments\n"
     ]
    },
    {
     "name": "stderr",
     "output_type": "stream",
     "text": [
      "Processing short users:  35%|███▍      | 347/1000 [27:44<47:34,  4.37s/it]"
     ]
    },
    {
     "name": "stdout",
     "output_type": "stream",
     "text": [
      "Saved progress after user: @GamesforCykits\n",
      "\n",
      "Evaluating user: @_KI7A | 30 comments\n"
     ]
    },
    {
     "name": "stderr",
     "output_type": "stream",
     "text": [
      "Processing short users:  35%|███▍      | 348/1000 [27:48<45:40,  4.20s/it]"
     ]
    },
    {
     "name": "stdout",
     "output_type": "stream",
     "text": [
      "Saved progress after user: @_KI7A\n",
      "\n",
      "Evaluating user: @ohmielevisope4237 | 29 comments\n"
     ]
    },
    {
     "name": "stderr",
     "output_type": "stream",
     "text": [
      "Processing short users:  35%|███▍      | 349/1000 [27:58<1:05:35,  6.05s/it]"
     ]
    },
    {
     "name": "stdout",
     "output_type": "stream",
     "text": [
      "Saved progress after user: @ohmielevisope4237\n",
      "\n",
      "Evaluating user: @Sg190th | 37 comments\n"
     ]
    },
    {
     "name": "stderr",
     "output_type": "stream",
     "text": [
      "Processing short users:  35%|███▌      | 350/1000 [28:02<58:29,  5.40s/it]  "
     ]
    },
    {
     "name": "stdout",
     "output_type": "stream",
     "text": [
      "Saved progress after user: @Sg190th\n",
      "\n",
      "Evaluating user: @Cloudz3468 | 24 comments\n"
     ]
    },
    {
     "name": "stderr",
     "output_type": "stream",
     "text": [
      "Processing short users:  35%|███▌      | 351/1000 [28:07<54:49,  5.07s/it]"
     ]
    },
    {
     "name": "stdout",
     "output_type": "stream",
     "text": [
      "Saved progress after user: @Cloudz3468\n",
      "\n",
      "Evaluating user: @jackiebiskan4748 | 18 comments\n"
     ]
    },
    {
     "name": "stderr",
     "output_type": "stream",
     "text": [
      "Processing short users:  35%|███▌      | 352/1000 [28:12<56:14,  5.21s/it]"
     ]
    },
    {
     "name": "stdout",
     "output_type": "stream",
     "text": [
      "Saved progress after user: @jackiebiskan4748\n",
      "\n",
      "Evaluating user: @gracegwozdz8185 | 26 comments\n"
     ]
    },
    {
     "name": "stderr",
     "output_type": "stream",
     "text": [
      "Processing short users:  35%|███▌      | 353/1000 [28:18<58:31,  5.43s/it]"
     ]
    },
    {
     "name": "stdout",
     "output_type": "stream",
     "text": [
      "Saved progress after user: @gracegwozdz8185\n",
      "\n",
      "Evaluating user: @johnheuslerjr9623 | 18 comments\n"
     ]
    },
    {
     "name": "stderr",
     "output_type": "stream",
     "text": [
      "Processing short users:  35%|███▌      | 354/1000 [28:22<52:48,  4.90s/it]"
     ]
    },
    {
     "name": "stdout",
     "output_type": "stream",
     "text": [
      "Saved progress after user: @johnheuslerjr9623\n",
      "\n",
      "Evaluating user: @Jacob-ldk | 22 comments\n"
     ]
    },
    {
     "name": "stderr",
     "output_type": "stream",
     "text": [
      "Processing short users:  36%|███▌      | 355/1000 [28:27<54:24,  5.06s/it]"
     ]
    },
    {
     "name": "stdout",
     "output_type": "stream",
     "text": [
      "Saved progress after user: @Jacob-ldk\n",
      "\n",
      "Evaluating user: @ammo-for-freedom | 20 comments\n"
     ]
    },
    {
     "name": "stderr",
     "output_type": "stream",
     "text": [
      "Processing short users:  36%|███▌      | 356/1000 [28:33<55:10,  5.14s/it]"
     ]
    },
    {
     "name": "stdout",
     "output_type": "stream",
     "text": [
      "Saved progress after user: @ammo-for-freedom\n",
      "\n",
      "Evaluating user: @Tugg_on_a_segway101 | 31 comments\n"
     ]
    },
    {
     "name": "stderr",
     "output_type": "stream",
     "text": [
      "Processing short users:  36%|███▌      | 357/1000 [28:38<57:19,  5.35s/it]"
     ]
    },
    {
     "name": "stdout",
     "output_type": "stream",
     "text": [
      "Saved progress after user: @Tugg_on_a_segway101\n",
      "\n",
      "Evaluating user: @LeslieFlemons | 19 comments\n"
     ]
    },
    {
     "name": "stderr",
     "output_type": "stream",
     "text": [
      "Processing short users:  36%|███▌      | 358/1000 [28:43<54:51,  5.13s/it]"
     ]
    },
    {
     "name": "stdout",
     "output_type": "stream",
     "text": [
      "Saved progress after user: @LeslieFlemons\n",
      "\n",
      "Evaluating user: @XRyanK | 25 comments\n"
     ]
    },
    {
     "name": "stderr",
     "output_type": "stream",
     "text": [
      "Processing short users:  36%|███▌      | 359/1000 [28:47<51:08,  4.79s/it]"
     ]
    },
    {
     "name": "stdout",
     "output_type": "stream",
     "text": [
      "Saved progress after user: @XRyanK\n",
      "\n",
      "Evaluating user: @Dara-ih6jq | 21 comments\n"
     ]
    },
    {
     "name": "stderr",
     "output_type": "stream",
     "text": [
      "Processing short users:  36%|███▌      | 360/1000 [28:55<1:01:57,  5.81s/it]"
     ]
    },
    {
     "name": "stdout",
     "output_type": "stream",
     "text": [
      "Saved progress after user: @Dara-ih6jq\n",
      "\n",
      "Evaluating user: @timmorten7000 | 20 comments\n"
     ]
    },
    {
     "name": "stderr",
     "output_type": "stream",
     "text": [
      "Processing short users:  36%|███▌      | 361/1000 [29:00<59:59,  5.63s/it]  "
     ]
    },
    {
     "name": "stdout",
     "output_type": "stream",
     "text": [
      "Saved progress after user: @timmorten7000\n",
      "\n",
      "Evaluating user: @linda6987 | 24 comments\n"
     ]
    },
    {
     "name": "stderr",
     "output_type": "stream",
     "text": [
      "Processing short users:  36%|███▌      | 362/1000 [29:05<55:19,  5.20s/it]"
     ]
    },
    {
     "name": "stdout",
     "output_type": "stream",
     "text": [
      "Saved progress after user: @linda6987\n",
      "\n",
      "Evaluating user: @robertthomas6127 | 21 comments\n"
     ]
    },
    {
     "name": "stderr",
     "output_type": "stream",
     "text": [
      "Processing short users:  36%|███▋      | 363/1000 [29:09<53:39,  5.05s/it]"
     ]
    },
    {
     "name": "stdout",
     "output_type": "stream",
     "text": [
      "Saved progress after user: @robertthomas6127\n",
      "\n",
      "Evaluating user: @Marcycat7 | 21 comments\n"
     ]
    },
    {
     "name": "stderr",
     "output_type": "stream",
     "text": [
      "Processing short users:  36%|███▋      | 364/1000 [29:14<53:08,  5.01s/it]"
     ]
    },
    {
     "name": "stdout",
     "output_type": "stream",
     "text": [
      "Saved progress after user: @Marcycat7\n",
      "\n",
      "Evaluating user: @laraoneal7284 | 27 comments\n"
     ]
    },
    {
     "name": "stderr",
     "output_type": "stream",
     "text": [
      "Processing short users:  36%|███▋      | 365/1000 [29:18<48:02,  4.54s/it]"
     ]
    },
    {
     "name": "stdout",
     "output_type": "stream",
     "text": [
      "Saved progress after user: @laraoneal7284\n",
      "\n",
      "Evaluating user: @TheDeadCobraTheDeadCobra | 31 comments\n"
     ]
    },
    {
     "name": "stderr",
     "output_type": "stream",
     "text": [
      "Processing short users:  37%|███▋      | 366/1000 [29:22<45:44,  4.33s/it]"
     ]
    },
    {
     "name": "stdout",
     "output_type": "stream",
     "text": [
      "Saved progress after user: @TheDeadCobraTheDeadCobra\n",
      "\n",
      "Evaluating user: @walter9724 | 23 comments\n"
     ]
    },
    {
     "name": "stderr",
     "output_type": "stream",
     "text": [
      "Processing short users:  37%|███▋      | 367/1000 [29:26<47:11,  4.47s/it]"
     ]
    },
    {
     "name": "stdout",
     "output_type": "stream",
     "text": [
      "Saved progress after user: @walter9724\n",
      "\n",
      "Evaluating user: @nitrokid | 23 comments\n"
     ]
    },
    {
     "name": "stderr",
     "output_type": "stream",
     "text": [
      "Processing short users:  37%|███▋      | 368/1000 [29:33<55:18,  5.25s/it]"
     ]
    },
    {
     "name": "stdout",
     "output_type": "stream",
     "text": [
      "Saved progress after user: @nitrokid\n",
      "\n",
      "Evaluating user: @SmokeyOwOs | 53 comments\n"
     ]
    },
    {
     "name": "stderr",
     "output_type": "stream",
     "text": [
      "Processing short users:  37%|███▋      | 369/1000 [29:38<53:50,  5.12s/it]"
     ]
    },
    {
     "name": "stdout",
     "output_type": "stream",
     "text": [
      "Saved progress after user: @SmokeyOwOs\n",
      "\n",
      "Evaluating user: @nexogacha6109 | 37 comments\n"
     ]
    },
    {
     "name": "stderr",
     "output_type": "stream",
     "text": [
      "Processing short users:  37%|███▋      | 370/1000 [29:42<48:16,  4.60s/it]"
     ]
    },
    {
     "name": "stdout",
     "output_type": "stream",
     "text": [
      "Saved progress after user: @nexogacha6109\n",
      "\n",
      "Evaluating user: @piwaze3716 | 24 comments\n"
     ]
    },
    {
     "name": "stderr",
     "output_type": "stream",
     "text": [
      "Processing short users:  37%|███▋      | 371/1000 [29:45<45:39,  4.35s/it]"
     ]
    },
    {
     "name": "stdout",
     "output_type": "stream",
     "text": [
      "Saved progress after user: @piwaze3716\n",
      "\n",
      "Evaluating user: @Overneed-Belkan-Witch | 31 comments\n"
     ]
    },
    {
     "name": "stderr",
     "output_type": "stream",
     "text": [
      "Processing short users:  37%|███▋      | 372/1000 [29:50<45:44,  4.37s/it]"
     ]
    },
    {
     "name": "stdout",
     "output_type": "stream",
     "text": [
      "Saved progress after user: @Overneed-Belkan-Witch\n",
      "\n",
      "Evaluating user: @shidqy0003 | 20 comments\n"
     ]
    },
    {
     "name": "stderr",
     "output_type": "stream",
     "text": [
      "Processing short users:  37%|███▋      | 373/1000 [29:53<43:31,  4.16s/it]"
     ]
    },
    {
     "name": "stdout",
     "output_type": "stream",
     "text": [
      "Saved progress after user: @shidqy0003\n",
      "\n",
      "Evaluating user: @Hugo-yz1vb | 18 comments\n"
     ]
    },
    {
     "name": "stderr",
     "output_type": "stream",
     "text": [
      "Processing short users:  37%|███▋      | 374/1000 [29:58<44:11,  4.24s/it]"
     ]
    },
    {
     "name": "stdout",
     "output_type": "stream",
     "text": [
      "Saved progress after user: @Hugo-yz1vb\n",
      "\n",
      "Evaluating user: @ColossalKaiju | 19 comments\n"
     ]
    },
    {
     "name": "stderr",
     "output_type": "stream",
     "text": [
      "Processing short users:  38%|███▊      | 375/1000 [30:04<49:45,  4.78s/it]"
     ]
    },
    {
     "name": "stdout",
     "output_type": "stream",
     "text": [
      "Saved progress after user: @ColossalKaiju\n",
      "\n",
      "Evaluating user: @johnathanabrams8434 | 21 comments\n"
     ]
    },
    {
     "name": "stderr",
     "output_type": "stream",
     "text": [
      "Processing short users:  38%|███▊      | 376/1000 [30:09<50:07,  4.82s/it]"
     ]
    },
    {
     "name": "stdout",
     "output_type": "stream",
     "text": [
      "Saved progress after user: @johnathanabrams8434\n",
      "\n",
      "Evaluating user: @MirageUchiha | 21 comments\n"
     ]
    },
    {
     "name": "stderr",
     "output_type": "stream",
     "text": [
      "Processing short users:  38%|███▊      | 377/1000 [30:13<47:33,  4.58s/it]"
     ]
    },
    {
     "name": "stdout",
     "output_type": "stream",
     "text": [
      "Saved progress after user: @MirageUchiha\n",
      "\n",
      "Evaluating user: @NusratMaria-xe7vl | 21 comments\n"
     ]
    },
    {
     "name": "stderr",
     "output_type": "stream",
     "text": [
      "Processing short users:  38%|███▊      | 378/1000 [30:17<46:31,  4.49s/it]"
     ]
    },
    {
     "name": "stdout",
     "output_type": "stream",
     "text": [
      "Saved progress after user: @NusratMaria-xe7vl\n",
      "\n",
      "Evaluating user: @zzzut | 18 comments\n"
     ]
    },
    {
     "name": "stderr",
     "output_type": "stream",
     "text": [
      "Processing short users:  38%|███▊      | 379/1000 [30:21<45:59,  4.44s/it]"
     ]
    },
    {
     "name": "stdout",
     "output_type": "stream",
     "text": [
      "Saved progress after user: @zzzut\n",
      "\n",
      "Evaluating user: @dereksoad | 29 comments\n"
     ]
    },
    {
     "name": "stderr",
     "output_type": "stream",
     "text": [
      "Processing short users:  38%|███▊      | 380/1000 [30:26<45:21,  4.39s/it]"
     ]
    },
    {
     "name": "stdout",
     "output_type": "stream",
     "text": [
      "Saved progress after user: @dereksoad\n",
      "\n",
      "Evaluating user: @teartrapz2897 | 18 comments\n"
     ]
    },
    {
     "name": "stderr",
     "output_type": "stream",
     "text": [
      "Processing short users:  38%|███▊      | 381/1000 [30:30<45:00,  4.36s/it]"
     ]
    },
    {
     "name": "stdout",
     "output_type": "stream",
     "text": [
      "Saved progress after user: @teartrapz2897\n",
      "\n",
      "Evaluating user: @Liam.Johnston_ | 18 comments\n"
     ]
    },
    {
     "name": "stderr",
     "output_type": "stream",
     "text": [
      "Processing short users:  38%|███▊      | 382/1000 [30:35<45:22,  4.41s/it]"
     ]
    },
    {
     "name": "stdout",
     "output_type": "stream",
     "text": [
      "Saved progress after user: @Liam.Johnston_\n",
      "\n",
      "Evaluating user: @Ray_Blade | 36 comments\n"
     ]
    },
    {
     "name": "stderr",
     "output_type": "stream",
     "text": [
      "Processing short users:  38%|███▊      | 383/1000 [30:38<42:08,  4.10s/it]"
     ]
    },
    {
     "name": "stdout",
     "output_type": "stream",
     "text": [
      "Saved progress after user: @Ray_Blade\n",
      "\n",
      "Evaluating user: @SilverStallion.eSports | 19 comments\n"
     ]
    },
    {
     "name": "stderr",
     "output_type": "stream",
     "text": [
      "Processing short users:  38%|███▊      | 384/1000 [30:43<44:16,  4.31s/it]"
     ]
    },
    {
     "name": "stdout",
     "output_type": "stream",
     "text": [
      "Saved progress after user: @SilverStallion.eSports\n",
      "\n",
      "Evaluating user: @SeeingSebastian | 25 comments\n"
     ]
    },
    {
     "name": "stderr",
     "output_type": "stream",
     "text": [
      "Processing short users:  38%|███▊      | 385/1000 [30:47<43:13,  4.22s/it]"
     ]
    },
    {
     "name": "stdout",
     "output_type": "stream",
     "text": [
      "Saved progress after user: @SeeingSebastian\n",
      "\n",
      "Evaluating user: @Yeizmarie | 26 comments\n"
     ]
    },
    {
     "name": "stderr",
     "output_type": "stream",
     "text": [
      "Processing short users:  39%|███▊      | 386/1000 [30:51<43:23,  4.24s/it]"
     ]
    },
    {
     "name": "stdout",
     "output_type": "stream",
     "text": [
      "Saved progress after user: @Yeizmarie\n",
      "\n",
      "Evaluating user: @sugarlaroche9604 | 18 comments\n"
     ]
    },
    {
     "name": "stderr",
     "output_type": "stream",
     "text": [
      "Processing short users:  39%|███▊      | 387/1000 [30:55<41:28,  4.06s/it]"
     ]
    },
    {
     "name": "stdout",
     "output_type": "stream",
     "text": [
      "Saved progress after user: @sugarlaroche9604\n",
      "\n",
      "Evaluating user: @justinlawlor3898 | 24 comments\n"
     ]
    },
    {
     "name": "stderr",
     "output_type": "stream",
     "text": [
      "Processing short users:  39%|███▉      | 388/1000 [31:01<47:00,  4.61s/it]"
     ]
    },
    {
     "name": "stdout",
     "output_type": "stream",
     "text": [
      "Saved progress after user: @justinlawlor3898\n",
      "\n",
      "Evaluating user: @Undisputeddd_ | 26 comments\n"
     ]
    },
    {
     "name": "stderr",
     "output_type": "stream",
     "text": [
      "Processing short users:  39%|███▉      | 389/1000 [31:06<48:29,  4.76s/it]"
     ]
    },
    {
     "name": "stdout",
     "output_type": "stream",
     "text": [
      "Saved progress after user: @Undisputeddd_\n",
      "\n",
      "Evaluating user: @fofo6513 | 36 comments\n"
     ]
    },
    {
     "name": "stderr",
     "output_type": "stream",
     "text": [
      "Processing short users:  39%|███▉      | 390/1000 [31:12<53:33,  5.27s/it]"
     ]
    },
    {
     "name": "stdout",
     "output_type": "stream",
     "text": [
      "Saved progress after user: @fofo6513\n",
      "\n",
      "Evaluating user: @skylarsgalaxychannel | 30 comments\n"
     ]
    },
    {
     "name": "stderr",
     "output_type": "stream",
     "text": [
      "Processing short users:  39%|███▉      | 391/1000 [31:17<53:20,  5.26s/it]"
     ]
    },
    {
     "name": "stdout",
     "output_type": "stream",
     "text": [
      "Saved progress after user: @skylarsgalaxychannel\n",
      "\n",
      "Evaluating user: @TeriNardi-dz5is | 20 comments\n"
     ]
    },
    {
     "name": "stderr",
     "output_type": "stream",
     "text": [
      "Processing short users:  39%|███▉      | 392/1000 [31:21<49:24,  4.88s/it]"
     ]
    },
    {
     "name": "stdout",
     "output_type": "stream",
     "text": [
      "Saved progress after user: @TeriNardi-dz5is\n",
      "\n",
      "Evaluating user: @Healingwithflo | 23 comments\n"
     ]
    },
    {
     "name": "stderr",
     "output_type": "stream",
     "text": [
      "Processing short users:  39%|███▉      | 393/1000 [31:25<46:20,  4.58s/it]"
     ]
    },
    {
     "name": "stdout",
     "output_type": "stream",
     "text": [
      "Saved progress after user: @Healingwithflo\n",
      "\n",
      "Evaluating user: @Zulkak1357 | 22 comments\n"
     ]
    },
    {
     "name": "stderr",
     "output_type": "stream",
     "text": [
      "Processing short users:  39%|███▉      | 394/1000 [31:28<42:19,  4.19s/it]"
     ]
    },
    {
     "name": "stdout",
     "output_type": "stream",
     "text": [
      "Saved progress after user: @Zulkak1357\n",
      "\n",
      "Evaluating user: @BlueMemeZ | 26 comments\n"
     ]
    },
    {
     "name": "stderr",
     "output_type": "stream",
     "text": [
      "Processing short users:  40%|███▉      | 395/1000 [31:32<39:10,  3.88s/it]"
     ]
    },
    {
     "name": "stdout",
     "output_type": "stream",
     "text": [
      "Saved progress after user: @BlueMemeZ\n",
      "\n",
      "Evaluating user: @ThuyloanDuong-gg7ni | 23 comments\n"
     ]
    },
    {
     "name": "stderr",
     "output_type": "stream",
     "text": [
      "Processing short users:  40%|███▉      | 396/1000 [31:35<38:12,  3.80s/it]"
     ]
    },
    {
     "name": "stdout",
     "output_type": "stream",
     "text": [
      "Saved progress after user: @ThuyloanDuong-gg7ni\n",
      "\n",
      "Evaluating user: @betaplays1242 | 26 comments\n"
     ]
    },
    {
     "name": "stderr",
     "output_type": "stream",
     "text": [
      "Processing short users:  40%|███▉      | 397/1000 [31:39<38:25,  3.82s/it]"
     ]
    },
    {
     "name": "stdout",
     "output_type": "stream",
     "text": [
      "Saved progress after user: @betaplays1242\n",
      "\n",
      "Evaluating user: @Vinay-j8v | 83 comments\n"
     ]
    },
    {
     "name": "stderr",
     "output_type": "stream",
     "text": [
      "Processing short users:  40%|███▉      | 398/1000 [31:43<39:19,  3.92s/it]"
     ]
    },
    {
     "name": "stdout",
     "output_type": "stream",
     "text": [
      "Saved progress after user: @Vinay-j8v\n",
      "\n",
      "Evaluating user: @alexajo12 | 105 comments\n"
     ]
    },
    {
     "name": "stderr",
     "output_type": "stream",
     "text": [
      "Processing short users:  40%|███▉      | 399/1000 [31:49<43:38,  4.36s/it]"
     ]
    },
    {
     "name": "stdout",
     "output_type": "stream",
     "text": [
      "Saved progress after user: @alexajo12\n",
      "\n",
      "Evaluating user: @-pinkbarbie-8676 | 20 comments\n"
     ]
    },
    {
     "name": "stderr",
     "output_type": "stream",
     "text": [
      "Processing short users:  40%|████      | 400/1000 [31:54<46:47,  4.68s/it]"
     ]
    },
    {
     "name": "stdout",
     "output_type": "stream",
     "text": [
      "Saved progress after user: @-pinkbarbie-8676\n",
      "\n",
      "Evaluating user: @naib3488 | 20 comments\n"
     ]
    },
    {
     "name": "stderr",
     "output_type": "stream",
     "text": [
      "Processing short users:  40%|████      | 401/1000 [31:58<44:02,  4.41s/it]"
     ]
    },
    {
     "name": "stdout",
     "output_type": "stream",
     "text": [
      "Saved progress after user: @naib3488\n",
      "\n",
      "Evaluating user: @giusytravaglio2784 | 18 comments\n"
     ]
    },
    {
     "name": "stderr",
     "output_type": "stream",
     "text": [
      "Processing short users:  40%|████      | 402/1000 [32:03<45:48,  4.60s/it]"
     ]
    },
    {
     "name": "stdout",
     "output_type": "stream",
     "text": [
      "Saved progress after user: @giusytravaglio2784\n",
      "\n",
      "Evaluating user: @Mycatsveaissocute | 23 comments\n"
     ]
    },
    {
     "name": "stderr",
     "output_type": "stream",
     "text": [
      "Processing short users:  40%|████      | 403/1000 [32:07<44:12,  4.44s/it]"
     ]
    },
    {
     "name": "stdout",
     "output_type": "stream",
     "text": [
      "Saved progress after user: @Mycatsveaissocute\n",
      "\n",
      "Evaluating user: @Rayeast-uv3uo | 21 comments\n"
     ]
    },
    {
     "name": "stderr",
     "output_type": "stream",
     "text": [
      "Processing short users:  40%|████      | 404/1000 [32:11<41:53,  4.22s/it]"
     ]
    },
    {
     "name": "stdout",
     "output_type": "stream",
     "text": [
      "Saved progress after user: @Rayeast-uv3uo\n",
      "\n",
      "Evaluating user: @askjeevescosby2928 | 36 comments\n"
     ]
    },
    {
     "name": "stderr",
     "output_type": "stream",
     "text": [
      "Processing short users:  40%|████      | 405/1000 [32:15<42:21,  4.27s/it]"
     ]
    },
    {
     "name": "stdout",
     "output_type": "stream",
     "text": [
      "Saved progress after user: @askjeevescosby2928\n",
      "\n",
      "Evaluating user: @sub_zero7ik3 | 20 comments\n"
     ]
    },
    {
     "name": "stderr",
     "output_type": "stream",
     "text": [
      "Processing short users:  41%|████      | 406/1000 [32:19<41:17,  4.17s/it]"
     ]
    },
    {
     "name": "stdout",
     "output_type": "stream",
     "text": [
      "Saved progress after user: @sub_zero7ik3\n",
      "\n",
      "Evaluating user: @BlackEnigma908 | 39 comments\n"
     ]
    },
    {
     "name": "stderr",
     "output_type": "stream",
     "text": [
      "Processing short users:  41%|████      | 407/1000 [32:25<45:14,  4.58s/it]"
     ]
    },
    {
     "name": "stdout",
     "output_type": "stream",
     "text": [
      "Saved progress after user: @BlackEnigma908\n",
      "\n",
      "Evaluating user: @DeuceGenius | 27 comments\n"
     ]
    },
    {
     "name": "stderr",
     "output_type": "stream",
     "text": [
      "Processing short users:  41%|████      | 408/1000 [32:28<42:42,  4.33s/it]"
     ]
    },
    {
     "name": "stdout",
     "output_type": "stream",
     "text": [
      "Saved progress after user: @DeuceGenius\n",
      "\n",
      "Evaluating user: @UntitledVideoChannel | 39 comments\n"
     ]
    },
    {
     "name": "stderr",
     "output_type": "stream",
     "text": [
      "Processing short users:  41%|████      | 409/1000 [32:33<42:51,  4.35s/it]"
     ]
    },
    {
     "name": "stdout",
     "output_type": "stream",
     "text": [
      "Saved progress after user: @UntitledVideoChannel\n",
      "\n",
      "Evaluating user: @ThunderMuffinMan | 22 comments\n"
     ]
    },
    {
     "name": "stderr",
     "output_type": "stream",
     "text": [
      "Processing short users:  41%|████      | 410/1000 [32:36<41:00,  4.17s/it]"
     ]
    },
    {
     "name": "stdout",
     "output_type": "stream",
     "text": [
      "Saved progress after user: @ThunderMuffinMan\n",
      "\n",
      "Evaluating user: @domi-no1826 | 30 comments\n"
     ]
    },
    {
     "name": "stderr",
     "output_type": "stream",
     "text": [
      "Processing short users:  41%|████      | 411/1000 [32:40<40:14,  4.10s/it]"
     ]
    },
    {
     "name": "stdout",
     "output_type": "stream",
     "text": [
      "Saved progress after user: @domi-no1826\n",
      "\n",
      "Evaluating user: @Tazerboy_10 | 18 comments\n"
     ]
    },
    {
     "name": "stderr",
     "output_type": "stream",
     "text": [
      "Processing short users:  41%|████      | 412/1000 [32:44<38:39,  3.94s/it]"
     ]
    },
    {
     "name": "stdout",
     "output_type": "stream",
     "text": [
      "Saved progress after user: @Tazerboy_10\n",
      "\n",
      "Evaluating user: @WhatWhy42 | 21 comments\n"
     ]
    },
    {
     "name": "stderr",
     "output_type": "stream",
     "text": [
      "Processing short users:  41%|████▏     | 413/1000 [32:47<36:55,  3.77s/it]"
     ]
    },
    {
     "name": "stdout",
     "output_type": "stream",
     "text": [
      "Saved progress after user: @WhatWhy42\n",
      "\n",
      "Evaluating user: @apscafe | 48 comments\n"
     ]
    },
    {
     "name": "stderr",
     "output_type": "stream",
     "text": [
      "Processing short users:  41%|████▏     | 414/1000 [32:52<39:54,  4.09s/it]"
     ]
    },
    {
     "name": "stdout",
     "output_type": "stream",
     "text": [
      "Saved progress after user: @apscafe\n",
      "\n",
      "Evaluating user: @blockwearingman | 28 comments\n"
     ]
    },
    {
     "name": "stderr",
     "output_type": "stream",
     "text": [
      "Processing short users:  42%|████▏     | 415/1000 [32:58<44:57,  4.61s/it]"
     ]
    },
    {
     "name": "stdout",
     "output_type": "stream",
     "text": [
      "Saved progress after user: @blockwearingman\n",
      "\n",
      "Evaluating user: @dorislucas5506 | 23 comments\n"
     ]
    },
    {
     "name": "stderr",
     "output_type": "stream",
     "text": [
      "Processing short users:  42%|████▏     | 416/1000 [33:03<44:52,  4.61s/it]"
     ]
    },
    {
     "name": "stdout",
     "output_type": "stream",
     "text": [
      "Saved progress after user: @dorislucas5506\n",
      "\n",
      "Evaluating user: @Byhrudbvuidvbjr | 22 comments\n"
     ]
    },
    {
     "name": "stderr",
     "output_type": "stream",
     "text": [
      "Processing short users:  42%|████▏     | 417/1000 [33:07<43:17,  4.46s/it]"
     ]
    },
    {
     "name": "stdout",
     "output_type": "stream",
     "text": [
      "Saved progress after user: @Byhrudbvuidvbjr\n",
      "\n",
      "Evaluating user: @crawfisf3089 | 18 comments\n"
     ]
    },
    {
     "name": "stderr",
     "output_type": "stream",
     "text": [
      "Processing short users:  42%|████▏     | 418/1000 [33:11<42:11,  4.35s/it]"
     ]
    },
    {
     "name": "stdout",
     "output_type": "stream",
     "text": [
      "Saved progress after user: @crawfisf3089\n",
      "\n",
      "Evaluating user: @BigNoe-u7u | 18 comments\n"
     ]
    },
    {
     "name": "stderr",
     "output_type": "stream",
     "text": [
      "Processing short users:  42%|████▏     | 419/1000 [33:14<39:39,  4.10s/it]"
     ]
    },
    {
     "name": "stdout",
     "output_type": "stream",
     "text": [
      "Saved progress after user: @BigNoe-u7u\n",
      "\n",
      "Evaluating user: @connor7272 | 21 comments\n"
     ]
    },
    {
     "name": "stderr",
     "output_type": "stream",
     "text": [
      "Processing short users:  42%|████▏     | 420/1000 [33:18<39:31,  4.09s/it]"
     ]
    },
    {
     "name": "stdout",
     "output_type": "stream",
     "text": [
      "Saved progress after user: @connor7272\n",
      "\n",
      "Evaluating user: @TGWT | 27 comments\n"
     ]
    },
    {
     "name": "stderr",
     "output_type": "stream",
     "text": [
      "Processing short users:  42%|████▏     | 421/1000 [33:24<44:09,  4.58s/it]"
     ]
    },
    {
     "name": "stdout",
     "output_type": "stream",
     "text": [
      "Saved progress after user: @TGWT\n",
      "\n",
      "Evaluating user: @KhaoticDeterminism | 27 comments\n"
     ]
    },
    {
     "name": "stderr",
     "output_type": "stream",
     "text": [
      "Processing short users:  42%|████▏     | 422/1000 [33:29<44:13,  4.59s/it]"
     ]
    },
    {
     "name": "stdout",
     "output_type": "stream",
     "text": [
      "Saved progress after user: @KhaoticDeterminism\n",
      "\n",
      "Evaluating user: @Axcyantol | 21 comments\n"
     ]
    },
    {
     "name": "stderr",
     "output_type": "stream",
     "text": [
      "Processing short users:  42%|████▏     | 423/1000 [33:32<40:57,  4.26s/it]"
     ]
    },
    {
     "name": "stdout",
     "output_type": "stream",
     "text": [
      "Saved progress after user: @Axcyantol\n",
      "\n",
      "Evaluating user: @GemGirl2009 | 21 comments\n"
     ]
    },
    {
     "name": "stderr",
     "output_type": "stream",
     "text": [
      "Processing short users:  42%|████▏     | 424/1000 [33:38<44:50,  4.67s/it]"
     ]
    },
    {
     "name": "stdout",
     "output_type": "stream",
     "text": [
      "Saved progress after user: @GemGirl2009\n",
      "\n",
      "Evaluating user: @gigidotto9014 | 21 comments\n"
     ]
    },
    {
     "name": "stderr",
     "output_type": "stream",
     "text": [
      "Processing short users:  42%|████▎     | 425/1000 [33:44<49:52,  5.20s/it]"
     ]
    },
    {
     "name": "stdout",
     "output_type": "stream",
     "text": [
      "Saved progress after user: @gigidotto9014\n",
      "\n",
      "Evaluating user: @colddarkness1798 | 19 comments\n"
     ]
    },
    {
     "name": "stderr",
     "output_type": "stream",
     "text": [
      "Processing short users:  43%|████▎     | 426/1000 [33:48<45:43,  4.78s/it]"
     ]
    },
    {
     "name": "stdout",
     "output_type": "stream",
     "text": [
      "Saved progress after user: @colddarkness1798\n",
      "\n",
      "Evaluating user: @violetkalico | 24 comments\n"
     ]
    },
    {
     "name": "stderr",
     "output_type": "stream",
     "text": [
      "Processing short users:  43%|████▎     | 427/1000 [33:52<42:40,  4.47s/it]"
     ]
    },
    {
     "name": "stdout",
     "output_type": "stream",
     "text": [
      "Saved progress after user: @violetkalico\n",
      "\n",
      "Evaluating user: @edithchinyere7387 | 21 comments\n"
     ]
    },
    {
     "name": "stderr",
     "output_type": "stream",
     "text": [
      "Processing short users:  43%|████▎     | 428/1000 [33:56<42:32,  4.46s/it]"
     ]
    },
    {
     "name": "stdout",
     "output_type": "stream",
     "text": [
      "Saved progress after user: @edithchinyere7387\n",
      "\n",
      "Evaluating user: @Just_PLAN3TST4R | 19 comments\n"
     ]
    },
    {
     "name": "stderr",
     "output_type": "stream",
     "text": [
      "Processing short users:  43%|████▎     | 429/1000 [34:01<43:21,  4.56s/it]"
     ]
    },
    {
     "name": "stdout",
     "output_type": "stream",
     "text": [
      "Saved progress after user: @Just_PLAN3TST4R\n",
      "\n",
      "Evaluating user: @azeemtariasutariaTarasutariaaz | 19 comments\n"
     ]
    },
    {
     "name": "stderr",
     "output_type": "stream",
     "text": [
      "Processing short users:  43%|████▎     | 430/1000 [34:06<44:07,  4.65s/it]"
     ]
    },
    {
     "name": "stdout",
     "output_type": "stream",
     "text": [
      "Saved progress after user: @azeemtariasutariaTarasutariaaz\n",
      "\n",
      "Evaluating user: @chicagogalaxy670 | 37 comments\n"
     ]
    },
    {
     "name": "stderr",
     "output_type": "stream",
     "text": [
      "Processing short users:  43%|████▎     | 431/1000 [34:10<43:21,  4.57s/it]"
     ]
    },
    {
     "name": "stdout",
     "output_type": "stream",
     "text": [
      "Saved progress after user: @chicagogalaxy670\n",
      "\n",
      "Evaluating user: @SCP-FoundationMember | 26 comments\n"
     ]
    },
    {
     "name": "stderr",
     "output_type": "stream",
     "text": [
      "Processing short users:  43%|████▎     | 432/1000 [34:15<44:51,  4.74s/it]"
     ]
    },
    {
     "name": "stdout",
     "output_type": "stream",
     "text": [
      "Saved progress after user: @SCP-FoundationMember\n",
      "\n",
      "Evaluating user: @taylor.... | 18 comments\n"
     ]
    },
    {
     "name": "stderr",
     "output_type": "stream",
     "text": [
      "Processing short users:  43%|████▎     | 433/1000 [34:20<43:15,  4.58s/it]"
     ]
    },
    {
     "name": "stdout",
     "output_type": "stream",
     "text": [
      "Saved progress after user: @taylor....\n",
      "\n",
      "Evaluating user: @BrodyFlynn-w5h | 18 comments\n"
     ]
    },
    {
     "name": "stderr",
     "output_type": "stream",
     "text": [
      "Processing short users:  43%|████▎     | 434/1000 [34:24<43:14,  4.58s/it]"
     ]
    },
    {
     "name": "stdout",
     "output_type": "stream",
     "text": [
      "Saved progress after user: @BrodyFlynn-w5h\n",
      "\n",
      "Evaluating user: @gracielerodrigues9131 | 236 comments\n"
     ]
    },
    {
     "name": "stderr",
     "output_type": "stream",
     "text": [
      "Processing short users:  44%|████▎     | 435/1000 [34:29<44:39,  4.74s/it]"
     ]
    },
    {
     "name": "stdout",
     "output_type": "stream",
     "text": [
      "Saved progress after user: @gracielerodrigues9131\n",
      "\n",
      "Evaluating user: @karenconti4247 | 26 comments\n"
     ]
    },
    {
     "name": "stderr",
     "output_type": "stream",
     "text": [
      "Processing short users:  44%|████▎     | 436/1000 [34:34<44:47,  4.77s/it]"
     ]
    },
    {
     "name": "stdout",
     "output_type": "stream",
     "text": [
      "Saved progress after user: @karenconti4247\n",
      "\n",
      "Evaluating user: @Makayla757 | 22 comments\n"
     ]
    },
    {
     "name": "stderr",
     "output_type": "stream",
     "text": [
      "Processing short users:  44%|████▎     | 437/1000 [34:39<44:10,  4.71s/it]"
     ]
    },
    {
     "name": "stdout",
     "output_type": "stream",
     "text": [
      "Saved progress after user: @Makayla757\n",
      "\n",
      "Evaluating user: @JasonSoto-z5i | 21 comments\n"
     ]
    },
    {
     "name": "stderr",
     "output_type": "stream",
     "text": [
      "Processing short users:  44%|████▍     | 438/1000 [34:43<41:54,  4.47s/it]"
     ]
    },
    {
     "name": "stdout",
     "output_type": "stream",
     "text": [
      "Saved progress after user: @JasonSoto-z5i\n",
      "\n",
      "Evaluating user: @lawrencenjawe9875 | 18 comments\n"
     ]
    },
    {
     "name": "stderr",
     "output_type": "stream",
     "text": [
      "Processing short users:  44%|████▍     | 439/1000 [34:47<41:37,  4.45s/it]"
     ]
    },
    {
     "name": "stdout",
     "output_type": "stream",
     "text": [
      "Saved progress after user: @lawrencenjawe9875\n",
      "\n",
      "Evaluating user: @martinminkov9632 | 23 comments\n"
     ]
    },
    {
     "name": "stderr",
     "output_type": "stream",
     "text": [
      "Processing short users:  44%|████▍     | 440/1000 [34:51<40:50,  4.38s/it]"
     ]
    },
    {
     "name": "stdout",
     "output_type": "stream",
     "text": [
      "Saved progress after user: @martinminkov9632\n",
      "\n",
      "Evaluating user: @faisuhaneef5951 | 34 comments\n"
     ]
    },
    {
     "name": "stderr",
     "output_type": "stream",
     "text": [
      "Processing short users:  44%|████▍     | 441/1000 [34:55<38:16,  4.11s/it]"
     ]
    },
    {
     "name": "stdout",
     "output_type": "stream",
     "text": [
      "Saved progress after user: @faisuhaneef5951\n",
      "\n",
      "Evaluating user: @StabbyMcPokepoke | 22 comments\n"
     ]
    },
    {
     "name": "stderr",
     "output_type": "stream",
     "text": [
      "Processing short users:  44%|████▍     | 442/1000 [34:58<37:02,  3.98s/it]"
     ]
    },
    {
     "name": "stdout",
     "output_type": "stream",
     "text": [
      "Saved progress after user: @StabbyMcPokepoke\n",
      "\n",
      "Evaluating user: @henrysrobloxgamingchannel424 | 19 comments\n"
     ]
    },
    {
     "name": "stderr",
     "output_type": "stream",
     "text": [
      "Processing short users:  44%|████▍     | 443/1000 [35:02<35:51,  3.86s/it]"
     ]
    },
    {
     "name": "stdout",
     "output_type": "stream",
     "text": [
      "Saved progress after user: @henrysrobloxgamingchannel424\n",
      "\n",
      "Evaluating user: @mukithasan9684 | 22 comments\n"
     ]
    },
    {
     "name": "stderr",
     "output_type": "stream",
     "text": [
      "Processing short users:  44%|████▍     | 444/1000 [35:06<37:12,  4.02s/it]"
     ]
    },
    {
     "name": "stdout",
     "output_type": "stream",
     "text": [
      "Saved progress after user: @mukithasan9684\n",
      "\n",
      "Evaluating user: @Raven_Ray1 | 19 comments\n"
     ]
    },
    {
     "name": "stderr",
     "output_type": "stream",
     "text": [
      "Processing short users:  44%|████▍     | 445/1000 [35:11<38:25,  4.15s/it]"
     ]
    },
    {
     "name": "stdout",
     "output_type": "stream",
     "text": [
      "Saved progress after user: @Raven_Ray1\n",
      "\n",
      "Evaluating user: @yolandapenn6211 | 35 comments\n"
     ]
    },
    {
     "name": "stderr",
     "output_type": "stream",
     "text": [
      "Processing short users:  45%|████▍     | 446/1000 [35:16<40:21,  4.37s/it]"
     ]
    },
    {
     "name": "stdout",
     "output_type": "stream",
     "text": [
      "Saved progress after user: @yolandapenn6211\n",
      "\n",
      "Evaluating user: @justicetherott2509 | 21 comments\n"
     ]
    },
    {
     "name": "stderr",
     "output_type": "stream",
     "text": [
      "Processing short users:  45%|████▍     | 447/1000 [35:21<41:46,  4.53s/it]"
     ]
    },
    {
     "name": "stdout",
     "output_type": "stream",
     "text": [
      "Saved progress after user: @justicetherott2509\n",
      "\n",
      "Evaluating user: @Hackedpw | 53 comments\n"
     ]
    },
    {
     "name": "stderr",
     "output_type": "stream",
     "text": [
      "Processing short users:  45%|████▍     | 448/1000 [35:26<43:02,  4.68s/it]"
     ]
    },
    {
     "name": "stdout",
     "output_type": "stream",
     "text": [
      "Saved progress after user: @Hackedpw\n",
      "\n",
      "Evaluating user: @TheBestEverEverEver | 18 comments\n"
     ]
    },
    {
     "name": "stderr",
     "output_type": "stream",
     "text": [
      "Processing short users:  45%|████▍     | 449/1000 [35:30<40:47,  4.44s/it]"
     ]
    },
    {
     "name": "stdout",
     "output_type": "stream",
     "text": [
      "Saved progress after user: @TheBestEverEverEver\n",
      "\n",
      "Evaluating user: @Yvng_Zy | 24 comments\n"
     ]
    },
    {
     "name": "stderr",
     "output_type": "stream",
     "text": [
      "Processing short users:  45%|████▌     | 450/1000 [35:34<42:01,  4.58s/it]"
     ]
    },
    {
     "name": "stdout",
     "output_type": "stream",
     "text": [
      "Saved progress after user: @Yvng_Zy\n",
      "\n",
      "Evaluating user: @bewareofsasquatch | 25 comments\n"
     ]
    },
    {
     "name": "stderr",
     "output_type": "stream",
     "text": [
      "Processing short users:  45%|████▌     | 451/1000 [35:40<45:39,  4.99s/it]"
     ]
    },
    {
     "name": "stdout",
     "output_type": "stream",
     "text": [
      "Saved progress after user: @bewareofsasquatch\n",
      "\n",
      "Evaluating user: @TheTyphoon365 | 18 comments\n"
     ]
    },
    {
     "name": "stderr",
     "output_type": "stream",
     "text": [
      "Processing short users:  45%|████▌     | 452/1000 [35:45<44:48,  4.91s/it]"
     ]
    },
    {
     "name": "stdout",
     "output_type": "stream",
     "text": [
      "Saved progress after user: @TheTyphoon365\n",
      "\n",
      "Evaluating user: @ByrdColon | 22 comments\n"
     ]
    },
    {
     "name": "stderr",
     "output_type": "stream",
     "text": [
      "Processing short users:  45%|████▌     | 453/1000 [35:50<45:19,  4.97s/it]"
     ]
    },
    {
     "name": "stdout",
     "output_type": "stream",
     "text": [
      "Saved progress after user: @ByrdColon\n",
      "\n",
      "Evaluating user: @Rasheens-Story | 28 comments\n"
     ]
    },
    {
     "name": "stderr",
     "output_type": "stream",
     "text": [
      "Processing short users:  45%|████▌     | 454/1000 [35:56<47:52,  5.26s/it]"
     ]
    },
    {
     "name": "stdout",
     "output_type": "stream",
     "text": [
      "Saved progress after user: @Rasheens-Story\n",
      "\n",
      "Evaluating user: @RobinTillman-xp6rg | 18 comments\n"
     ]
    },
    {
     "name": "stderr",
     "output_type": "stream",
     "text": [
      "Processing short users:  46%|████▌     | 455/1000 [36:00<44:53,  4.94s/it]"
     ]
    },
    {
     "name": "stdout",
     "output_type": "stream",
     "text": [
      "Saved progress after user: @RobinTillman-xp6rg\n",
      "\n",
      "Evaluating user: @appletherapy | 21 comments\n"
     ]
    },
    {
     "name": "stderr",
     "output_type": "stream",
     "text": [
      "Processing short users:  46%|████▌     | 456/1000 [36:07<48:54,  5.40s/it]"
     ]
    },
    {
     "name": "stdout",
     "output_type": "stream",
     "text": [
      "Saved progress after user: @appletherapy\n",
      "\n",
      "Evaluating user: @nicolemontcadadupont935 | 24 comments\n"
     ]
    },
    {
     "name": "stderr",
     "output_type": "stream",
     "text": [
      "Processing short users:  46%|████▌     | 457/1000 [36:12<47:08,  5.21s/it]"
     ]
    },
    {
     "name": "stdout",
     "output_type": "stream",
     "text": [
      "Saved progress after user: @nicolemontcadadupont935\n",
      "\n",
      "Evaluating user: @John-fk1ny | 25 comments\n"
     ]
    },
    {
     "name": "stderr",
     "output_type": "stream",
     "text": [
      "Processing short users:  46%|████▌     | 458/1000 [36:16<44:57,  4.98s/it]"
     ]
    },
    {
     "name": "stdout",
     "output_type": "stream",
     "text": [
      "Saved progress after user: @John-fk1ny\n",
      "\n",
      "Evaluating user: @youtubersdigest | 20 comments\n"
     ]
    },
    {
     "name": "stderr",
     "output_type": "stream",
     "text": [
      "Processing short users:  46%|████▌     | 459/1000 [36:21<45:16,  5.02s/it]"
     ]
    },
    {
     "name": "stdout",
     "output_type": "stream",
     "text": [
      "Saved progress after user: @youtubersdigest\n",
      "\n",
      "Evaluating user: @IberianCraftsman | 26 comments\n"
     ]
    },
    {
     "name": "stderr",
     "output_type": "stream",
     "text": [
      "Processing short users:  46%|████▌     | 460/1000 [36:25<41:52,  4.65s/it]"
     ]
    },
    {
     "name": "stdout",
     "output_type": "stream",
     "text": [
      "Saved progress after user: @IberianCraftsman\n",
      "\n",
      "Evaluating user: @justanormal16yearoldkid51 | 20 comments\n"
     ]
    },
    {
     "name": "stderr",
     "output_type": "stream",
     "text": [
      "Processing short users:  46%|████▌     | 461/1000 [36:29<40:00,  4.45s/it]"
     ]
    },
    {
     "name": "stdout",
     "output_type": "stream",
     "text": [
      "Saved progress after user: @justanormal16yearoldkid51\n",
      "\n",
      "Evaluating user: @vinnykitty1983 | 18 comments\n"
     ]
    },
    {
     "name": "stderr",
     "output_type": "stream",
     "text": [
      "Processing short users:  46%|████▌     | 462/1000 [36:34<40:21,  4.50s/it]"
     ]
    },
    {
     "name": "stdout",
     "output_type": "stream",
     "text": [
      "Saved progress after user: @vinnykitty1983\n",
      "\n",
      "Evaluating user: @shadowsoulless6227 | 44 comments\n"
     ]
    },
    {
     "name": "stderr",
     "output_type": "stream",
     "text": [
      "Processing short users:  46%|████▋     | 463/1000 [36:38<40:50,  4.56s/it]"
     ]
    },
    {
     "name": "stdout",
     "output_type": "stream",
     "text": [
      "Saved progress after user: @shadowsoulless6227\n",
      "\n",
      "Evaluating user: @myeggyweggy | 38 comments\n"
     ]
    },
    {
     "name": "stderr",
     "output_type": "stream",
     "text": [
      "Processing short users:  46%|████▋     | 464/1000 [36:42<39:14,  4.39s/it]"
     ]
    },
    {
     "name": "stdout",
     "output_type": "stream",
     "text": [
      "Saved progress after user: @myeggyweggy\n",
      "\n",
      "Evaluating user: @missmaylife42 | 24 comments\n"
     ]
    },
    {
     "name": "stderr",
     "output_type": "stream",
     "text": [
      "Processing short users:  46%|████▋     | 465/1000 [36:47<41:06,  4.61s/it]"
     ]
    },
    {
     "name": "stdout",
     "output_type": "stream",
     "text": [
      "Saved progress after user: @missmaylife42\n",
      "\n",
      "Evaluating user: @simply_cammy | 27 comments\n"
     ]
    },
    {
     "name": "stderr",
     "output_type": "stream",
     "text": [
      "Processing short users:  47%|████▋     | 466/1000 [36:52<42:01,  4.72s/it]"
     ]
    },
    {
     "name": "stdout",
     "output_type": "stream",
     "text": [
      "Saved progress after user: @simply_cammy\n",
      "\n",
      "Evaluating user: @IM2MERS | 22 comments\n"
     ]
    },
    {
     "name": "stderr",
     "output_type": "stream",
     "text": [
      "Processing short users:  47%|████▋     | 467/1000 [36:57<42:14,  4.76s/it]"
     ]
    },
    {
     "name": "stdout",
     "output_type": "stream",
     "text": [
      "Saved progress after user: @IM2MERS\n",
      "\n",
      "Evaluating user: @richardeast3328 | 23 comments\n"
     ]
    },
    {
     "name": "stderr",
     "output_type": "stream",
     "text": [
      "Processing short users:  47%|████▋     | 468/1000 [37:01<40:57,  4.62s/it]"
     ]
    },
    {
     "name": "stdout",
     "output_type": "stream",
     "text": [
      "Saved progress after user: @richardeast3328\n",
      "\n",
      "Evaluating user: @billjenkins5693 | 18 comments\n"
     ]
    },
    {
     "name": "stderr",
     "output_type": "stream",
     "text": [
      "Processing short users:  47%|████▋     | 469/1000 [37:06<41:25,  4.68s/it]"
     ]
    },
    {
     "name": "stdout",
     "output_type": "stream",
     "text": [
      "Saved progress after user: @billjenkins5693\n",
      "\n",
      "Evaluating user: @Bart-Did-it | 42 comments\n"
     ]
    },
    {
     "name": "stderr",
     "output_type": "stream",
     "text": [
      "Processing short users:  47%|████▋     | 470/1000 [37:11<41:09,  4.66s/it]"
     ]
    },
    {
     "name": "stdout",
     "output_type": "stream",
     "text": [
      "Saved progress after user: @Bart-Did-it\n",
      "\n",
      "Evaluating user: @Joeh1154 | 25 comments\n"
     ]
    },
    {
     "name": "stderr",
     "output_type": "stream",
     "text": [
      "Processing short users:  47%|████▋     | 471/1000 [37:16<41:12,  4.67s/it]"
     ]
    },
    {
     "name": "stdout",
     "output_type": "stream",
     "text": [
      "Saved progress after user: @Joeh1154\n",
      "\n",
      "Evaluating user: @nicoldavis-johnson7080 | 31 comments\n"
     ]
    },
    {
     "name": "stderr",
     "output_type": "stream",
     "text": [
      "Processing short users:  47%|████▋     | 472/1000 [37:20<39:46,  4.52s/it]"
     ]
    },
    {
     "name": "stdout",
     "output_type": "stream",
     "text": [
      "Saved progress after user: @nicoldavis-johnson7080\n",
      "\n",
      "Evaluating user: @siyeducation | 20 comments\n"
     ]
    },
    {
     "name": "stderr",
     "output_type": "stream",
     "text": [
      "Processing short users:  47%|████▋     | 473/1000 [37:27<47:19,  5.39s/it]"
     ]
    },
    {
     "name": "stdout",
     "output_type": "stream",
     "text": [
      "Saved progress after user: @siyeducation\n",
      "\n",
      "Evaluating user: @geocentrist6567 | 30 comments\n"
     ]
    },
    {
     "name": "stderr",
     "output_type": "stream",
     "text": [
      "Processing short users:  47%|████▋     | 474/1000 [37:31<42:13,  4.82s/it]"
     ]
    },
    {
     "name": "stdout",
     "output_type": "stream",
     "text": [
      "Saved progress after user: @geocentrist6567\n",
      "\n",
      "Evaluating user: @DaveE99 | 20 comments\n"
     ]
    },
    {
     "name": "stderr",
     "output_type": "stream",
     "text": [
      "Processing short users:  48%|████▊     | 475/1000 [37:35<41:59,  4.80s/it]"
     ]
    },
    {
     "name": "stdout",
     "output_type": "stream",
     "text": [
      "Saved progress after user: @DaveE99\n",
      "\n",
      "Evaluating user: @GustavoSilva-ny8jc | 47 comments\n"
     ]
    },
    {
     "name": "stderr",
     "output_type": "stream",
     "text": [
      "Processing short users:  48%|████▊     | 476/1000 [37:40<41:05,  4.71s/it]"
     ]
    },
    {
     "name": "stdout",
     "output_type": "stream",
     "text": [
      "Saved progress after user: @GustavoSilva-ny8jc\n",
      "\n",
      "Evaluating user: @DMartins-mn9dt | 22 comments\n"
     ]
    },
    {
     "name": "stderr",
     "output_type": "stream",
     "text": [
      "Processing short users:  48%|████▊     | 477/1000 [37:44<38:32,  4.42s/it]"
     ]
    },
    {
     "name": "stdout",
     "output_type": "stream",
     "text": [
      "Saved progress after user: @DMartins-mn9dt\n",
      "\n",
      "Evaluating user: @pharaohmedjaylawofmedjay2680 | 27 comments\n"
     ]
    },
    {
     "name": "stderr",
     "output_type": "stream",
     "text": [
      "Processing short users:  48%|████▊     | 478/1000 [37:48<38:41,  4.45s/it]"
     ]
    },
    {
     "name": "stdout",
     "output_type": "stream",
     "text": [
      "Saved progress after user: @pharaohmedjaylawofmedjay2680\n",
      "\n",
      "Evaluating user: @hafplace1346 | 21 comments\n"
     ]
    },
    {
     "name": "stderr",
     "output_type": "stream",
     "text": [
      "Processing short users:  48%|████▊     | 479/1000 [37:52<37:09,  4.28s/it]"
     ]
    },
    {
     "name": "stdout",
     "output_type": "stream",
     "text": [
      "Saved progress after user: @hafplace1346\n",
      "\n",
      "Evaluating user: @kokujin5446 | 30 comments\n"
     ]
    },
    {
     "name": "stderr",
     "output_type": "stream",
     "text": [
      "Processing short users:  48%|████▊     | 480/1000 [37:57<38:49,  4.48s/it]"
     ]
    },
    {
     "name": "stdout",
     "output_type": "stream",
     "text": [
      "Saved progress after user: @kokujin5446\n",
      "\n",
      "Evaluating user: @ProtoType4588 | 25 comments\n"
     ]
    },
    {
     "name": "stderr",
     "output_type": "stream",
     "text": [
      "Processing short users:  48%|████▊     | 481/1000 [38:02<40:08,  4.64s/it]"
     ]
    },
    {
     "name": "stdout",
     "output_type": "stream",
     "text": [
      "Saved progress after user: @ProtoType4588\n",
      "\n",
      "Evaluating user: @thewafflegamer6152 | 22 comments\n"
     ]
    },
    {
     "name": "stderr",
     "output_type": "stream",
     "text": [
      "Processing short users:  48%|████▊     | 482/1000 [38:06<39:23,  4.56s/it]"
     ]
    },
    {
     "name": "stdout",
     "output_type": "stream",
     "text": [
      "Saved progress after user: @thewafflegamer6152\n",
      "\n",
      "Evaluating user: @blacklight683 | 32 comments\n"
     ]
    },
    {
     "name": "stderr",
     "output_type": "stream",
     "text": [
      "Processing short users:  48%|████▊     | 483/1000 [38:12<40:44,  4.73s/it]"
     ]
    },
    {
     "name": "stdout",
     "output_type": "stream",
     "text": [
      "Saved progress after user: @blacklight683\n",
      "\n",
      "Evaluating user: @JmKrokY | 19 comments\n"
     ]
    },
    {
     "name": "stderr",
     "output_type": "stream",
     "text": [
      "Processing short users:  48%|████▊     | 484/1000 [38:16<39:13,  4.56s/it]"
     ]
    },
    {
     "name": "stdout",
     "output_type": "stream",
     "text": [
      "Saved progress after user: @JmKrokY\n",
      "\n",
      "Evaluating user: @iamboringvideos6832 | 22 comments\n"
     ]
    },
    {
     "name": "stderr",
     "output_type": "stream",
     "text": [
      "Processing short users:  48%|████▊     | 485/1000 [38:19<36:42,  4.28s/it]"
     ]
    },
    {
     "name": "stdout",
     "output_type": "stream",
     "text": [
      "Saved progress after user: @iamboringvideos6832\n",
      "\n",
      "Evaluating user: @charlita25 | 21 comments\n"
     ]
    },
    {
     "name": "stderr",
     "output_type": "stream",
     "text": [
      "Processing short users:  49%|████▊     | 486/1000 [38:24<37:48,  4.41s/it]"
     ]
    },
    {
     "name": "stdout",
     "output_type": "stream",
     "text": [
      "Saved progress after user: @charlita25\n",
      "\n",
      "Evaluating user: @vishalchaudhary-nf6gr | 29 comments\n"
     ]
    },
    {
     "name": "stderr",
     "output_type": "stream",
     "text": [
      "Processing short users:  49%|████▊     | 487/1000 [38:28<37:16,  4.36s/it]"
     ]
    },
    {
     "name": "stdout",
     "output_type": "stream",
     "text": [
      "Saved progress after user: @vishalchaudhary-nf6gr\n",
      "\n",
      "Evaluating user: @esmerldamendoza5855 | 21 comments\n"
     ]
    },
    {
     "name": "stderr",
     "output_type": "stream",
     "text": [
      "Processing short users:  49%|████▉     | 488/1000 [38:32<35:42,  4.18s/it]"
     ]
    },
    {
     "name": "stdout",
     "output_type": "stream",
     "text": [
      "Saved progress after user: @esmerldamendoza5855\n",
      "\n",
      "Evaluating user: @shantoreywilkins651 | 28 comments\n"
     ]
    },
    {
     "name": "stderr",
     "output_type": "stream",
     "text": [
      "Processing short users:  49%|████▉     | 489/1000 [38:36<35:49,  4.21s/it]"
     ]
    },
    {
     "name": "stdout",
     "output_type": "stream",
     "text": [
      "Saved progress after user: @shantoreywilkins651\n",
      "\n",
      "Evaluating user: @Rreackless | 19 comments\n"
     ]
    },
    {
     "name": "stderr",
     "output_type": "stream",
     "text": [
      "Processing short users:  49%|████▉     | 490/1000 [38:40<34:46,  4.09s/it]"
     ]
    },
    {
     "name": "stdout",
     "output_type": "stream",
     "text": [
      "Saved progress after user: @Rreackless\n",
      "\n",
      "Evaluating user: @RUGER5264 | 50 comments\n"
     ]
    },
    {
     "name": "stderr",
     "output_type": "stream",
     "text": [
      "Processing short users:  49%|████▉     | 491/1000 [38:44<33:34,  3.96s/it]"
     ]
    },
    {
     "name": "stdout",
     "output_type": "stream",
     "text": [
      "Saved progress after user: @RUGER5264\n",
      "\n",
      "Evaluating user: @Maximalistcollector | 22 comments\n"
     ]
    },
    {
     "name": "stderr",
     "output_type": "stream",
     "text": [
      "Processing short users:  49%|████▉     | 492/1000 [38:48<33:52,  4.00s/it]"
     ]
    },
    {
     "name": "stdout",
     "output_type": "stream",
     "text": [
      "Saved progress after user: @Maximalistcollector\n",
      "\n",
      "Evaluating user: @savekillqqpsounds8473 | 21 comments\n"
     ]
    },
    {
     "name": "stderr",
     "output_type": "stream",
     "text": [
      "Processing short users:  49%|████▉     | 493/1000 [38:54<37:55,  4.49s/it]"
     ]
    },
    {
     "name": "stdout",
     "output_type": "stream",
     "text": [
      "Saved progress after user: @savekillqqpsounds8473\n",
      "\n",
      "Evaluating user: @TheSkullofHell | 20 comments\n"
     ]
    },
    {
     "name": "stderr",
     "output_type": "stream",
     "text": [
      "Processing short users:  49%|████▉     | 494/1000 [38:59<39:27,  4.68s/it]"
     ]
    },
    {
     "name": "stdout",
     "output_type": "stream",
     "text": [
      "Saved progress after user: @TheSkullofHell\n",
      "\n",
      "Evaluating user: @gsosyso_Gsoshotxt | 18 comments\n"
     ]
    },
    {
     "name": "stderr",
     "output_type": "stream",
     "text": [
      "Processing short users:  50%|████▉     | 495/1000 [39:02<36:21,  4.32s/it]"
     ]
    },
    {
     "name": "stdout",
     "output_type": "stream",
     "text": [
      "Saved progress after user: @gsosyso_Gsoshotxt\n",
      "\n",
      "Evaluating user: @Phriffo | 24 comments\n"
     ]
    },
    {
     "name": "stderr",
     "output_type": "stream",
     "text": [
      "Processing short users:  50%|████▉     | 496/1000 [39:11<47:11,  5.62s/it]"
     ]
    },
    {
     "name": "stdout",
     "output_type": "stream",
     "text": [
      "Saved progress after user: @Phriffo\n",
      "\n",
      "Evaluating user: @임진영 | 19 comments\n"
     ]
    },
    {
     "name": "stderr",
     "output_type": "stream",
     "text": [
      "Processing short users:  50%|████▉     | 497/1000 [39:14<41:36,  4.96s/it]"
     ]
    },
    {
     "name": "stdout",
     "output_type": "stream",
     "text": [
      "Saved progress after user: @임진영\n",
      "\n",
      "Evaluating user: @emonkhan1443 | 23 comments\n"
     ]
    },
    {
     "name": "stderr",
     "output_type": "stream",
     "text": [
      "Processing short users:  50%|████▉     | 498/1000 [39:19<40:22,  4.83s/it]"
     ]
    },
    {
     "name": "stdout",
     "output_type": "stream",
     "text": [
      "Saved progress after user: @emonkhan1443\n",
      "\n",
      "Evaluating user: @alksi1 | 20 comments\n"
     ]
    },
    {
     "name": "stderr",
     "output_type": "stream",
     "text": [
      "Processing short users:  50%|████▉     | 499/1000 [39:24<42:19,  5.07s/it]"
     ]
    },
    {
     "name": "stdout",
     "output_type": "stream",
     "text": [
      "Saved progress after user: @alksi1\n",
      "\n",
      "Evaluating user: @techfall1142 | 18 comments\n"
     ]
    },
    {
     "name": "stderr",
     "output_type": "stream",
     "text": [
      "Processing short users:  50%|█████     | 500/1000 [39:29<41:05,  4.93s/it]"
     ]
    },
    {
     "name": "stdout",
     "output_type": "stream",
     "text": [
      "Saved progress after user: @techfall1142\n",
      "\n",
      "Evaluating user: @Coralalal | 22 comments\n"
     ]
    },
    {
     "name": "stderr",
     "output_type": "stream",
     "text": [
      "Processing short users:  50%|█████     | 501/1000 [39:32<37:22,  4.49s/it]"
     ]
    },
    {
     "name": "stdout",
     "output_type": "stream",
     "text": [
      "Saved progress after user: @Coralalal\n",
      "\n",
      "Evaluating user: @pradyumn2453 | 52 comments\n"
     ]
    },
    {
     "name": "stderr",
     "output_type": "stream",
     "text": [
      "Processing short users:  50%|█████     | 502/1000 [39:36<34:32,  4.16s/it]"
     ]
    },
    {
     "name": "stdout",
     "output_type": "stream",
     "text": [
      "Saved progress after user: @pradyumn2453\n",
      "\n",
      "Evaluating user: @MKapybara | 21 comments\n"
     ]
    },
    {
     "name": "stderr",
     "output_type": "stream",
     "text": [
      "Processing short users:  50%|█████     | 503/1000 [39:40<33:32,  4.05s/it]"
     ]
    },
    {
     "name": "stdout",
     "output_type": "stream",
     "text": [
      "Saved progress after user: @MKapybara\n",
      "\n",
      "Evaluating user: @Bloodimpaler | 22 comments\n"
     ]
    },
    {
     "name": "stderr",
     "output_type": "stream",
     "text": [
      "Processing short users:  50%|█████     | 504/1000 [39:44<33:20,  4.03s/it]"
     ]
    },
    {
     "name": "stdout",
     "output_type": "stream",
     "text": [
      "Saved progress after user: @Bloodimpaler\n",
      "\n",
      "Evaluating user: @peelingpeely2524 | 43 comments\n"
     ]
    },
    {
     "name": "stderr",
     "output_type": "stream",
     "text": [
      "Processing short users:  50%|█████     | 505/1000 [39:47<32:14,  3.91s/it]"
     ]
    },
    {
     "name": "stdout",
     "output_type": "stream",
     "text": [
      "Saved progress after user: @peelingpeely2524\n",
      "\n",
      "Evaluating user: @Ssseexxxyyman | 27 comments\n"
     ]
    },
    {
     "name": "stderr",
     "output_type": "stream",
     "text": [
      "Processing short users:  51%|█████     | 506/1000 [39:50<30:18,  3.68s/it]"
     ]
    },
    {
     "name": "stdout",
     "output_type": "stream",
     "text": [
      "Saved progress after user: @Ssseexxxyyman\n",
      "\n",
      "Evaluating user: @lkhdmrtn | 24 comments\n"
     ]
    },
    {
     "name": "stderr",
     "output_type": "stream",
     "text": [
      "Processing short users:  51%|█████     | 507/1000 [39:54<29:58,  3.65s/it]"
     ]
    },
    {
     "name": "stdout",
     "output_type": "stream",
     "text": [
      "Saved progress after user: @lkhdmrtn\n",
      "\n",
      "Evaluating user: @depon3737 | 24 comments\n"
     ]
    },
    {
     "name": "stderr",
     "output_type": "stream",
     "text": [
      "Processing short users:  51%|█████     | 508/1000 [39:59<34:33,  4.21s/it]"
     ]
    },
    {
     "name": "stdout",
     "output_type": "stream",
     "text": [
      "Saved progress after user: @depon3737\n",
      "\n",
      "Evaluating user: @dylancapate8341 | 29 comments\n"
     ]
    },
    {
     "name": "stderr",
     "output_type": "stream",
     "text": [
      "Processing short users:  51%|█████     | 509/1000 [40:04<35:00,  4.28s/it]"
     ]
    },
    {
     "name": "stdout",
     "output_type": "stream",
     "text": [
      "Saved progress after user: @dylancapate8341\n",
      "\n",
      "Evaluating user: @RedGhostWCUE | 25 comments\n"
     ]
    },
    {
     "name": "stderr",
     "output_type": "stream",
     "text": [
      "Processing short users:  51%|█████     | 510/1000 [40:09<36:10,  4.43s/it]"
     ]
    },
    {
     "name": "stdout",
     "output_type": "stream",
     "text": [
      "Saved progress after user: @RedGhostWCUE\n",
      "\n",
      "Evaluating user: @luka_75 | 29 comments\n"
     ]
    },
    {
     "name": "stderr",
     "output_type": "stream",
     "text": [
      "Processing short users:  51%|█████     | 511/1000 [40:12<33:02,  4.05s/it]"
     ]
    },
    {
     "name": "stdout",
     "output_type": "stream",
     "text": [
      "Saved progress after user: @luka_75\n",
      "\n",
      "Evaluating user: @battleaxe990 | 19 comments\n"
     ]
    },
    {
     "name": "stderr",
     "output_type": "stream",
     "text": [
      "Processing short users:  51%|█████     | 512/1000 [40:16<33:04,  4.07s/it]"
     ]
    },
    {
     "name": "stdout",
     "output_type": "stream",
     "text": [
      "Saved progress after user: @battleaxe990\n",
      "\n",
      "Evaluating user: @yoeza | 19 comments\n"
     ]
    },
    {
     "name": "stderr",
     "output_type": "stream",
     "text": [
      "Processing short users:  51%|█████▏    | 513/1000 [40:20<31:49,  3.92s/it]"
     ]
    },
    {
     "name": "stdout",
     "output_type": "stream",
     "text": [
      "Saved progress after user: @yoeza\n",
      "\n",
      "Evaluating user: @dankcraft7386 | 20 comments\n"
     ]
    },
    {
     "name": "stderr",
     "output_type": "stream",
     "text": [
      "Processing short users:  51%|█████▏    | 514/1000 [40:24<33:13,  4.10s/it]"
     ]
    },
    {
     "name": "stdout",
     "output_type": "stream",
     "text": [
      "Saved progress after user: @dankcraft7386\n",
      "\n",
      "Evaluating user: @CHARIZARD1926 | 21 comments\n"
     ]
    },
    {
     "name": "stderr",
     "output_type": "stream",
     "text": [
      "Processing short users:  52%|█████▏    | 515/1000 [40:28<33:50,  4.19s/it]"
     ]
    },
    {
     "name": "stdout",
     "output_type": "stream",
     "text": [
      "Saved progress after user: @CHARIZARD1926\n",
      "\n",
      "Evaluating user: @Two-TorialDreemurr | 19 comments\n"
     ]
    },
    {
     "name": "stderr",
     "output_type": "stream",
     "text": [
      "Processing short users:  52%|█████▏    | 516/1000 [40:33<35:32,  4.41s/it]"
     ]
    },
    {
     "name": "stdout",
     "output_type": "stream",
     "text": [
      "Saved progress after user: @Two-TorialDreemurr\n",
      "\n",
      "Evaluating user: @这不是你的问题 | 29 comments\n"
     ]
    },
    {
     "name": "stderr",
     "output_type": "stream",
     "text": [
      "Processing short users:  52%|█████▏    | 517/1000 [40:37<33:14,  4.13s/it]"
     ]
    },
    {
     "name": "stdout",
     "output_type": "stream",
     "text": [
      "Saved progress after user: @这不是你的问题\n",
      "\n",
      "Evaluating user: @furkanbozdag8198 | 20 comments\n"
     ]
    },
    {
     "name": "stderr",
     "output_type": "stream",
     "text": [
      "Processing short users:  52%|█████▏    | 518/1000 [40:42<34:34,  4.30s/it]"
     ]
    },
    {
     "name": "stdout",
     "output_type": "stream",
     "text": [
      "Saved progress after user: @furkanbozdag8198\n",
      "\n",
      "Evaluating user: @nallelyrangel821 | 19 comments\n"
     ]
    },
    {
     "name": "stderr",
     "output_type": "stream",
     "text": [
      "Processing short users:  52%|█████▏    | 519/1000 [40:46<33:59,  4.24s/it]"
     ]
    },
    {
     "name": "stdout",
     "output_type": "stream",
     "text": [
      "Saved progress after user: @nallelyrangel821\n",
      "\n",
      "Evaluating user: @tsd_adg_gaming | 31 comments\n"
     ]
    },
    {
     "name": "stderr",
     "output_type": "stream",
     "text": [
      "Processing short users:  52%|█████▏    | 520/1000 [40:49<32:36,  4.08s/it]"
     ]
    },
    {
     "name": "stdout",
     "output_type": "stream",
     "text": [
      "Saved progress after user: @tsd_adg_gaming\n",
      "\n",
      "Evaluating user: @morningivy | 21 comments\n"
     ]
    },
    {
     "name": "stderr",
     "output_type": "stream",
     "text": [
      "Processing short users:  52%|█████▏    | 521/1000 [40:54<33:19,  4.17s/it]"
     ]
    },
    {
     "name": "stdout",
     "output_type": "stream",
     "text": [
      "Saved progress after user: @morningivy\n",
      "\n",
      "Evaluating user: @joshua1846 | 18 comments\n"
     ]
    },
    {
     "name": "stderr",
     "output_type": "stream",
     "text": [
      "Processing short users:  52%|█████▏    | 522/1000 [40:58<33:33,  4.21s/it]"
     ]
    },
    {
     "name": "stdout",
     "output_type": "stream",
     "text": [
      "Saved progress after user: @joshua1846\n",
      "\n",
      "Evaluating user: @The_dragonHQ | 22 comments\n"
     ]
    },
    {
     "name": "stderr",
     "output_type": "stream",
     "text": [
      "Processing short users:  52%|█████▏    | 523/1000 [41:04<36:37,  4.61s/it]"
     ]
    },
    {
     "name": "stdout",
     "output_type": "stream",
     "text": [
      "Saved progress after user: @The_dragonHQ\n",
      "\n",
      "Evaluating user: @veteranRL | 21 comments\n"
     ]
    },
    {
     "name": "stderr",
     "output_type": "stream",
     "text": [
      "Processing short users:  52%|█████▏    | 524/1000 [41:08<36:47,  4.64s/it]"
     ]
    },
    {
     "name": "stdout",
     "output_type": "stream",
     "text": [
      "Saved progress after user: @veteranRL\n",
      "\n",
      "Evaluating user: @shadyshrimp4169 | 33 comments\n"
     ]
    },
    {
     "name": "stderr",
     "output_type": "stream",
     "text": [
      "Processing short users:  52%|█████▎    | 525/1000 [41:12<33:58,  4.29s/it]"
     ]
    },
    {
     "name": "stdout",
     "output_type": "stream",
     "text": [
      "Saved progress after user: @shadyshrimp4169\n",
      "\n",
      "Evaluating user: @CaucasianFreak | 26 comments\n"
     ]
    },
    {
     "name": "stderr",
     "output_type": "stream",
     "text": [
      "Processing short users:  53%|█████▎    | 526/1000 [41:17<35:08,  4.45s/it]"
     ]
    },
    {
     "name": "stdout",
     "output_type": "stream",
     "text": [
      "Saved progress after user: @CaucasianFreak\n",
      "\n",
      "Evaluating user: @Hellodude-el1sp | 19 comments\n"
     ]
    },
    {
     "name": "stderr",
     "output_type": "stream",
     "text": [
      "Processing short users:  53%|█████▎    | 527/1000 [41:20<33:44,  4.28s/it]"
     ]
    },
    {
     "name": "stdout",
     "output_type": "stream",
     "text": [
      "Saved progress after user: @Hellodude-el1sp\n",
      "\n",
      "Evaluating user: @akiprox7 | 44 comments\n"
     ]
    },
    {
     "name": "stderr",
     "output_type": "stream",
     "text": [
      "Processing short users:  53%|█████▎    | 528/1000 [41:26<35:39,  4.53s/it]"
     ]
    },
    {
     "name": "stdout",
     "output_type": "stream",
     "text": [
      "Saved progress after user: @akiprox7\n",
      "\n",
      "Evaluating user: @Untitled_Edits | 20 comments\n"
     ]
    },
    {
     "name": "stderr",
     "output_type": "stream",
     "text": [
      "Processing short users:  53%|█████▎    | 529/1000 [41:30<34:31,  4.40s/it]"
     ]
    },
    {
     "name": "stdout",
     "output_type": "stream",
     "text": [
      "Saved progress after user: @Untitled_Edits\n",
      "\n",
      "Evaluating user: @Lazyschoolstudent | 28 comments\n"
     ]
    },
    {
     "name": "stderr",
     "output_type": "stream",
     "text": [
      "Processing short users:  53%|█████▎    | 530/1000 [41:34<34:15,  4.37s/it]"
     ]
    },
    {
     "name": "stdout",
     "output_type": "stream",
     "text": [
      "Saved progress after user: @Lazyschoolstudent\n",
      "\n",
      "Evaluating user: @char.yippee | 20 comments\n"
     ]
    },
    {
     "name": "stderr",
     "output_type": "stream",
     "text": [
      "Processing short users:  53%|█████▎    | 531/1000 [41:38<34:29,  4.41s/it]"
     ]
    },
    {
     "name": "stdout",
     "output_type": "stream",
     "text": [
      "Saved progress after user: @char.yippee\n",
      "\n",
      "Evaluating user: @hangrypatrick5993 | 25 comments\n"
     ]
    },
    {
     "name": "stderr",
     "output_type": "stream",
     "text": [
      "Processing short users:  53%|█████▎    | 532/1000 [41:44<36:33,  4.69s/it]"
     ]
    },
    {
     "name": "stdout",
     "output_type": "stream",
     "text": [
      "Saved progress after user: @hangrypatrick5993\n",
      "\n",
      "Evaluating user: @projecth4x267 | 18 comments\n"
     ]
    },
    {
     "name": "stderr",
     "output_type": "stream",
     "text": [
      "Processing short users:  53%|█████▎    | 533/1000 [41:48<35:34,  4.57s/it]"
     ]
    },
    {
     "name": "stdout",
     "output_type": "stream",
     "text": [
      "Saved progress after user: @projecth4x267\n",
      "\n",
      "Evaluating user: @ChangeNameEdits | 25 comments\n"
     ]
    },
    {
     "name": "stderr",
     "output_type": "stream",
     "text": [
      "Processing short users:  53%|█████▎    | 534/1000 [41:52<33:40,  4.34s/it]"
     ]
    },
    {
     "name": "stdout",
     "output_type": "stream",
     "text": [
      "Saved progress after user: @ChangeNameEdits\n",
      "\n",
      "Evaluating user: @bcraftr | 21 comments\n"
     ]
    },
    {
     "name": "stderr",
     "output_type": "stream",
     "text": [
      "Processing short users:  54%|█████▎    | 535/1000 [41:57<34:42,  4.48s/it]"
     ]
    },
    {
     "name": "stdout",
     "output_type": "stream",
     "text": [
      "Saved progress after user: @bcraftr\n",
      "\n",
      "Evaluating user: @LSDA_0ut | 44 comments\n"
     ]
    },
    {
     "name": "stderr",
     "output_type": "stream",
     "text": [
      "Processing short users:  54%|█████▎    | 536/1000 [42:01<33:02,  4.27s/it]"
     ]
    },
    {
     "name": "stdout",
     "output_type": "stream",
     "text": [
      "Saved progress after user: @LSDA_0ut\n",
      "\n",
      "Evaluating user: @mycomposure83 | 18 comments\n"
     ]
    },
    {
     "name": "stderr",
     "output_type": "stream",
     "text": [
      "Processing short users:  54%|█████▎    | 537/1000 [42:04<32:19,  4.19s/it]"
     ]
    },
    {
     "name": "stdout",
     "output_type": "stream",
     "text": [
      "Saved progress after user: @mycomposure83\n",
      "\n",
      "Evaluating user: @AlanZags | 29 comments\n"
     ]
    },
    {
     "name": "stderr",
     "output_type": "stream",
     "text": [
      "Processing short users:  54%|█████▍    | 538/1000 [42:09<32:02,  4.16s/it]"
     ]
    },
    {
     "name": "stdout",
     "output_type": "stream",
     "text": [
      "Saved progress after user: @AlanZags\n",
      "\n",
      "Evaluating user: @j.b.xpdesigns | 32 comments\n"
     ]
    },
    {
     "name": "stderr",
     "output_type": "stream",
     "text": [
      "Processing short users:  54%|█████▍    | 539/1000 [42:13<32:58,  4.29s/it]"
     ]
    },
    {
     "name": "stdout",
     "output_type": "stream",
     "text": [
      "Saved progress after user: @j.b.xpdesigns\n",
      "\n",
      "Evaluating user: @Now_Roxas | 29 comments\n"
     ]
    },
    {
     "name": "stderr",
     "output_type": "stream",
     "text": [
      "Processing short users:  54%|█████▍    | 540/1000 [42:18<34:07,  4.45s/it]"
     ]
    },
    {
     "name": "stdout",
     "output_type": "stream",
     "text": [
      "Saved progress after user: @Now_Roxas\n",
      "\n",
      "Evaluating user: @Game-42 | 20 comments\n"
     ]
    },
    {
     "name": "stderr",
     "output_type": "stream",
     "text": [
      "Processing short users:  54%|█████▍    | 541/1000 [42:22<33:14,  4.34s/it]"
     ]
    },
    {
     "name": "stdout",
     "output_type": "stream",
     "text": [
      "Saved progress after user: @Game-42\n",
      "\n",
      "Evaluating user: @arnelpanado-mz9qx | 46 comments\n"
     ]
    },
    {
     "name": "stderr",
     "output_type": "stream",
     "text": [
      "Processing short users:  54%|█████▍    | 542/1000 [42:26<32:35,  4.27s/it]"
     ]
    },
    {
     "name": "stdout",
     "output_type": "stream",
     "text": [
      "Saved progress after user: @arnelpanado-mz9qx\n",
      "\n",
      "Evaluating user: @Icepop_therina | 18 comments\n"
     ]
    },
    {
     "name": "stderr",
     "output_type": "stream",
     "text": [
      "Processing short users:  54%|█████▍    | 543/1000 [42:30<31:25,  4.13s/it]"
     ]
    },
    {
     "name": "stdout",
     "output_type": "stream",
     "text": [
      "Saved progress after user: @Icepop_therina\n",
      "\n",
      "Evaluating user: @NorwayCB872 | 18 comments\n"
     ]
    },
    {
     "name": "stderr",
     "output_type": "stream",
     "text": [
      "Processing short users:  54%|█████▍    | 544/1000 [42:34<30:21,  3.99s/it]"
     ]
    },
    {
     "name": "stdout",
     "output_type": "stream",
     "text": [
      "Saved progress after user: @NorwayCB872\n",
      "\n",
      "Evaluating user: @DanoshTech | 21 comments\n"
     ]
    },
    {
     "name": "stderr",
     "output_type": "stream",
     "text": [
      "Processing short users:  55%|█████▍    | 545/1000 [42:38<30:30,  4.02s/it]"
     ]
    },
    {
     "name": "stdout",
     "output_type": "stream",
     "text": [
      "Saved progress after user: @DanoshTech\n",
      "\n",
      "Evaluating user: @Cinccino777 | 19 comments\n"
     ]
    },
    {
     "name": "stderr",
     "output_type": "stream",
     "text": [
      "Processing short users:  55%|█████▍    | 546/1000 [42:42<30:36,  4.04s/it]"
     ]
    },
    {
     "name": "stdout",
     "output_type": "stream",
     "text": [
      "Saved progress after user: @Cinccino777\n",
      "\n",
      "Evaluating user: @lifesyphon1 | 29 comments\n"
     ]
    },
    {
     "name": "stderr",
     "output_type": "stream",
     "text": [
      "Processing short users:  55%|█████▍    | 547/1000 [42:47<32:04,  4.25s/it]"
     ]
    },
    {
     "name": "stdout",
     "output_type": "stream",
     "text": [
      "Saved progress after user: @lifesyphon1\n",
      "\n",
      "Evaluating user: @Elijahbdareal1926 | 21 comments\n"
     ]
    },
    {
     "name": "stderr",
     "output_type": "stream",
     "text": [
      "Processing short users:  55%|█████▍    | 548/1000 [42:52<35:34,  4.72s/it]"
     ]
    },
    {
     "name": "stdout",
     "output_type": "stream",
     "text": [
      "Saved progress after user: @Elijahbdareal1926\n",
      "\n",
      "Evaluating user: @Dabkiller59 | 21 comments\n"
     ]
    },
    {
     "name": "stderr",
     "output_type": "stream",
     "text": [
      "Processing short users:  55%|█████▍    | 549/1000 [42:57<35:00,  4.66s/it]"
     ]
    },
    {
     "name": "stdout",
     "output_type": "stream",
     "text": [
      "Saved progress after user: @Dabkiller59\n",
      "\n",
      "Evaluating user: @Mexican00b | 24 comments\n"
     ]
    },
    {
     "name": "stderr",
     "output_type": "stream",
     "text": [
      "Processing short users:  55%|█████▌    | 550/1000 [43:03<38:30,  5.14s/it]"
     ]
    },
    {
     "name": "stdout",
     "output_type": "stream",
     "text": [
      "Saved progress after user: @Mexican00b\n",
      "\n",
      "Evaluating user: @Traig_Born2006 | 24 comments\n"
     ]
    },
    {
     "name": "stderr",
     "output_type": "stream",
     "text": [
      "Processing short users:  55%|█████▌    | 551/1000 [43:07<36:19,  4.85s/it]"
     ]
    },
    {
     "name": "stdout",
     "output_type": "stream",
     "text": [
      "Saved progress after user: @Traig_Born2006\n",
      "\n",
      "Evaluating user: @Razear | 26 comments\n"
     ]
    },
    {
     "name": "stderr",
     "output_type": "stream",
     "text": [
      "Processing short users:  55%|█████▌    | 552/1000 [43:11<34:05,  4.57s/it]"
     ]
    },
    {
     "name": "stdout",
     "output_type": "stream",
     "text": [
      "Saved progress after user: @Razear\n",
      "\n",
      "Evaluating user: @Jason_Bover9000 | 28 comments\n"
     ]
    },
    {
     "name": "stderr",
     "output_type": "stream",
     "text": [
      "Processing short users:  55%|█████▌    | 553/1000 [43:17<36:23,  4.88s/it]"
     ]
    },
    {
     "name": "stdout",
     "output_type": "stream",
     "text": [
      "Saved progress after user: @Jason_Bover9000\n",
      "\n",
      "Evaluating user: @bup3493 | 21 comments\n"
     ]
    },
    {
     "name": "stderr",
     "output_type": "stream",
     "text": [
      "Processing short users:  55%|█████▌    | 554/1000 [43:22<35:55,  4.83s/it]"
     ]
    },
    {
     "name": "stdout",
     "output_type": "stream",
     "text": [
      "Saved progress after user: @bup3493\n",
      "\n",
      "Evaluating user: @cncdan1364 | 19 comments\n"
     ]
    },
    {
     "name": "stderr",
     "output_type": "stream",
     "text": [
      "Processing short users:  56%|█████▌    | 555/1000 [43:26<33:58,  4.58s/it]"
     ]
    },
    {
     "name": "stdout",
     "output_type": "stream",
     "text": [
      "Saved progress after user: @cncdan1364\n",
      "\n",
      "Evaluating user: @LOL2YOU | 23 comments\n"
     ]
    },
    {
     "name": "stderr",
     "output_type": "stream",
     "text": [
      "Processing short users:  56%|█████▌    | 556/1000 [43:30<34:24,  4.65s/it]"
     ]
    },
    {
     "name": "stdout",
     "output_type": "stream",
     "text": [
      "Saved progress after user: @LOL2YOU\n",
      "\n",
      "Evaluating user: @limo1795 | 21 comments\n"
     ]
    },
    {
     "name": "stderr",
     "output_type": "stream",
     "text": [
      "Processing short users:  56%|█████▌    | 557/1000 [43:35<34:59,  4.74s/it]"
     ]
    },
    {
     "name": "stdout",
     "output_type": "stream",
     "text": [
      "Saved progress after user: @limo1795\n",
      "\n",
      "Evaluating user: @cultofhampter | 31 comments\n"
     ]
    },
    {
     "name": "stderr",
     "output_type": "stream",
     "text": [
      "Processing short users:  56%|█████▌    | 558/1000 [43:40<33:38,  4.57s/it]"
     ]
    },
    {
     "name": "stdout",
     "output_type": "stream",
     "text": [
      "Saved progress after user: @cultofhampter\n",
      "\n",
      "Evaluating user: @averagechadlegionary5824 | 22 comments\n"
     ]
    },
    {
     "name": "stderr",
     "output_type": "stream",
     "text": [
      "Processing short users:  56%|█████▌    | 559/1000 [43:45<35:49,  4.87s/it]"
     ]
    },
    {
     "name": "stdout",
     "output_type": "stream",
     "text": [
      "Saved progress after user: @averagechadlegionary5824\n",
      "\n",
      "Evaluating user: @ragnorockcookie2868 | 24 comments\n"
     ]
    },
    {
     "name": "stderr",
     "output_type": "stream",
     "text": [
      "Processing short users:  56%|█████▌    | 560/1000 [43:50<36:11,  4.93s/it]"
     ]
    },
    {
     "name": "stdout",
     "output_type": "stream",
     "text": [
      "Saved progress after user: @ragnorockcookie2868\n",
      "\n",
      "Evaluating user: @happyeveryday1122 | 33 comments\n"
     ]
    },
    {
     "name": "stderr",
     "output_type": "stream",
     "text": [
      "Processing short users:  56%|█████▌    | 561/1000 [43:56<37:23,  5.11s/it]"
     ]
    },
    {
     "name": "stdout",
     "output_type": "stream",
     "text": [
      "Saved progress after user: @happyeveryday1122\n",
      "\n",
      "Evaluating user: @mr.starly2423 | 19 comments\n"
     ]
    },
    {
     "name": "stderr",
     "output_type": "stream",
     "text": [
      "Processing short users:  56%|█████▌    | 562/1000 [44:00<34:46,  4.76s/it]"
     ]
    },
    {
     "name": "stdout",
     "output_type": "stream",
     "text": [
      "Saved progress after user: @mr.starly2423\n",
      "\n",
      "Evaluating user: @Vosik_Splicer_Archpriest | 18 comments\n"
     ]
    },
    {
     "name": "stderr",
     "output_type": "stream",
     "text": [
      "Processing short users:  56%|█████▋    | 563/1000 [44:04<34:19,  4.71s/it]"
     ]
    },
    {
     "name": "stdout",
     "output_type": "stream",
     "text": [
      "Saved progress after user: @Vosik_Splicer_Archpriest\n",
      "\n",
      "Evaluating user: @1nfius948 | 23 comments\n"
     ]
    },
    {
     "name": "stderr",
     "output_type": "stream",
     "text": [
      "Processing short users:  56%|█████▋    | 564/1000 [44:09<33:27,  4.60s/it]"
     ]
    },
    {
     "name": "stdout",
     "output_type": "stream",
     "text": [
      "Saved progress after user: @1nfius948\n",
      "\n",
      "Evaluating user: @obiwanfisher537 | 19 comments\n"
     ]
    },
    {
     "name": "stderr",
     "output_type": "stream",
     "text": [
      "Processing short users:  56%|█████▋    | 565/1000 [44:12<31:23,  4.33s/it]"
     ]
    },
    {
     "name": "stdout",
     "output_type": "stream",
     "text": [
      "Saved progress after user: @obiwanfisher537\n",
      "\n",
      "Evaluating user: @consent2breedingu | 23 comments\n"
     ]
    },
    {
     "name": "stderr",
     "output_type": "stream",
     "text": [
      "Processing short users:  57%|█████▋    | 566/1000 [44:19<35:28,  4.90s/it]"
     ]
    },
    {
     "name": "stdout",
     "output_type": "stream",
     "text": [
      "Saved progress after user: @consent2breedingu\n",
      "\n",
      "Evaluating user: @DavePryor302 | 18 comments\n"
     ]
    },
    {
     "name": "stderr",
     "output_type": "stream",
     "text": [
      "Processing short users:  57%|█████▋    | 567/1000 [44:24<35:51,  4.97s/it]"
     ]
    },
    {
     "name": "stdout",
     "output_type": "stream",
     "text": [
      "Saved progress after user: @DavePryor302\n",
      "\n",
      "Evaluating user: @orshaartcraft | 31 comments\n"
     ]
    },
    {
     "name": "stderr",
     "output_type": "stream",
     "text": [
      "Processing short users:  57%|█████▋    | 568/1000 [44:28<34:12,  4.75s/it]"
     ]
    },
    {
     "name": "stdout",
     "output_type": "stream",
     "text": [
      "Saved progress after user: @orshaartcraft\n",
      "\n",
      "Evaluating user: @melodyshortmusic | 22 comments\n"
     ]
    },
    {
     "name": "stderr",
     "output_type": "stream",
     "text": [
      "Processing short users:  57%|█████▋    | 569/1000 [44:32<31:44,  4.42s/it]"
     ]
    },
    {
     "name": "stdout",
     "output_type": "stream",
     "text": [
      "Saved progress after user: @melodyshortmusic\n",
      "\n",
      "Evaluating user: @urmilamallah5726 | 25 comments\n"
     ]
    },
    {
     "name": "stderr",
     "output_type": "stream",
     "text": [
      "Processing short users:  57%|█████▋    | 570/1000 [44:35<30:31,  4.26s/it]"
     ]
    },
    {
     "name": "stdout",
     "output_type": "stream",
     "text": [
      "Saved progress after user: @urmilamallah5726\n",
      "\n",
      "Evaluating user: @mocha_lattecoffe7 | 22 comments\n"
     ]
    },
    {
     "name": "stderr",
     "output_type": "stream",
     "text": [
      "Processing short users:  57%|█████▋    | 571/1000 [44:40<30:33,  4.27s/it]"
     ]
    },
    {
     "name": "stdout",
     "output_type": "stream",
     "text": [
      "Saved progress after user: @mocha_lattecoffe7\n",
      "\n",
      "Evaluating user: @sehajsohal6840 | 19 comments\n"
     ]
    },
    {
     "name": "stderr",
     "output_type": "stream",
     "text": [
      "Processing short users:  57%|█████▋    | 572/1000 [44:45<33:23,  4.68s/it]"
     ]
    },
    {
     "name": "stdout",
     "output_type": "stream",
     "text": [
      "Saved progress after user: @sehajsohal6840\n",
      "\n",
      "Evaluating user: @AryanArtLab02 | 39 comments\n"
     ]
    },
    {
     "name": "stderr",
     "output_type": "stream",
     "text": [
      "Processing short users:  57%|█████▋    | 573/1000 [44:51<34:40,  4.87s/it]"
     ]
    },
    {
     "name": "stdout",
     "output_type": "stream",
     "text": [
      "Saved progress after user: @AryanArtLab02\n",
      "\n",
      "Evaluating user: @Malina97 | 36 comments\n"
     ]
    },
    {
     "name": "stderr",
     "output_type": "stream",
     "text": [
      "Processing short users:  57%|█████▋    | 574/1000 [44:56<34:41,  4.89s/it]"
     ]
    },
    {
     "name": "stdout",
     "output_type": "stream",
     "text": [
      "Saved progress after user: @Malina97\n",
      "\n",
      "Evaluating user: @xaidenpaxton2292 | 21 comments\n"
     ]
    },
    {
     "name": "stderr",
     "output_type": "stream",
     "text": [
      "Processing short users:  57%|█████▊    | 575/1000 [45:01<34:53,  4.93s/it]"
     ]
    },
    {
     "name": "stdout",
     "output_type": "stream",
     "text": [
      "Saved progress after user: @xaidenpaxton2292\n",
      "\n",
      "Evaluating user: @little_butterfly025 | 39 comments\n"
     ]
    },
    {
     "name": "stderr",
     "output_type": "stream",
     "text": [
      "Processing short users:  58%|█████▊    | 576/1000 [45:07<36:57,  5.23s/it]"
     ]
    },
    {
     "name": "stdout",
     "output_type": "stream",
     "text": [
      "Saved progress after user: @little_butterfly025\n",
      "\n",
      "Evaluating user: @darladingus9908 | 26 comments\n"
     ]
    },
    {
     "name": "stderr",
     "output_type": "stream",
     "text": [
      "Processing short users:  58%|█████▊    | 577/1000 [45:12<36:46,  5.22s/it]"
     ]
    },
    {
     "name": "stdout",
     "output_type": "stream",
     "text": [
      "Saved progress after user: @darladingus9908\n",
      "\n",
      "Evaluating user: @HumanHuman-fe8rc | 27 comments\n"
     ]
    },
    {
     "name": "stderr",
     "output_type": "stream",
     "text": [
      "Processing short users:  58%|█████▊    | 578/1000 [45:17<37:38,  5.35s/it]"
     ]
    },
    {
     "name": "stdout",
     "output_type": "stream",
     "text": [
      "Saved progress after user: @HumanHuman-fe8rc\n",
      "\n",
      "Evaluating user: @kuyadoug | 18 comments\n"
     ]
    },
    {
     "name": "stderr",
     "output_type": "stream",
     "text": [
      "Processing short users:  58%|█████▊    | 579/1000 [45:21<34:29,  4.92s/it]"
     ]
    },
    {
     "name": "stdout",
     "output_type": "stream",
     "text": [
      "Saved progress after user: @kuyadoug\n",
      "\n",
      "Evaluating user: @EllaAndTera_Cats | 24 comments\n"
     ]
    },
    {
     "name": "stderr",
     "output_type": "stream",
     "text": [
      "Processing short users:  58%|█████▊    | 580/1000 [45:25<30:57,  4.42s/it]"
     ]
    },
    {
     "name": "stdout",
     "output_type": "stream",
     "text": [
      "Saved progress after user: @EllaAndTera_Cats\n",
      "\n",
      "Evaluating user: @Fahima-om7jm | 26 comments\n"
     ]
    },
    {
     "name": "stderr",
     "output_type": "stream",
     "text": [
      "Processing short users:  58%|█████▊    | 581/1000 [45:29<30:11,  4.32s/it]"
     ]
    },
    {
     "name": "stdout",
     "output_type": "stream",
     "text": [
      "Saved progress after user: @Fahima-om7jm\n",
      "\n",
      "Evaluating user: @SymkiaCarter | 18 comments\n"
     ]
    },
    {
     "name": "stderr",
     "output_type": "stream",
     "text": [
      "Processing short users:  58%|█████▊    | 582/1000 [45:34<32:13,  4.62s/it]"
     ]
    },
    {
     "name": "stdout",
     "output_type": "stream",
     "text": [
      "Saved progress after user: @SymkiaCarter\n",
      "\n",
      "Evaluating user: @Reddit-778 | 24 comments\n"
     ]
    },
    {
     "name": "stderr",
     "output_type": "stream",
     "text": [
      "Processing short users:  58%|█████▊    | 583/1000 [45:41<36:35,  5.26s/it]"
     ]
    },
    {
     "name": "stdout",
     "output_type": "stream",
     "text": [
      "Saved progress after user: @Reddit-778\n",
      "\n",
      "Evaluating user: @Histich | 24 comments\n"
     ]
    },
    {
     "name": "stderr",
     "output_type": "stream",
     "text": [
      "Processing short users:  58%|█████▊    | 584/1000 [45:46<35:46,  5.16s/it]"
     ]
    },
    {
     "name": "stdout",
     "output_type": "stream",
     "text": [
      "Saved progress after user: @Histich\n",
      "\n",
      "Evaluating user: @IreneTamura | 25 comments\n"
     ]
    },
    {
     "name": "stderr",
     "output_type": "stream",
     "text": [
      "Processing short users:  58%|█████▊    | 585/1000 [45:51<36:27,  5.27s/it]"
     ]
    },
    {
     "name": "stdout",
     "output_type": "stream",
     "text": [
      "Saved progress after user: @IreneTamura\n",
      "\n",
      "Evaluating user: @กาญจนาคันทัพ | 28 comments\n"
     ]
    },
    {
     "name": "stderr",
     "output_type": "stream",
     "text": [
      "Processing short users:  59%|█████▊    | 586/1000 [45:56<35:25,  5.13s/it]"
     ]
    },
    {
     "name": "stdout",
     "output_type": "stream",
     "text": [
      "Saved progress after user: @กาญจนาคันทัพ\n",
      "\n",
      "Evaluating user: @Eee-n6e | 24 comments\n"
     ]
    },
    {
     "name": "stderr",
     "output_type": "stream",
     "text": [
      "Processing short users:  59%|█████▊    | 587/1000 [46:01<35:43,  5.19s/it]"
     ]
    },
    {
     "name": "stdout",
     "output_type": "stream",
     "text": [
      "Saved progress after user: @Eee-n6e\n",
      "\n",
      "Evaluating user: @gappagoshti4709 | 24 comments\n"
     ]
    },
    {
     "name": "stderr",
     "output_type": "stream",
     "text": [
      "Processing short users:  59%|█████▉    | 588/1000 [46:05<31:54,  4.65s/it]"
     ]
    },
    {
     "name": "stdout",
     "output_type": "stream",
     "text": [
      "Saved progress after user: @gappagoshti4709\n",
      "\n",
      "Evaluating user: @TheRat_Offical-Mika | 29 comments\n"
     ]
    },
    {
     "name": "stderr",
     "output_type": "stream",
     "text": [
      "Processing short users:  59%|█████▉    | 589/1000 [46:10<33:57,  4.96s/it]"
     ]
    },
    {
     "name": "stdout",
     "output_type": "stream",
     "text": [
      "Saved progress after user: @TheRat_Offical-Mika\n",
      "\n",
      "Evaluating user: @MarcelSchlatter-v6w | 18 comments\n"
     ]
    },
    {
     "name": "stderr",
     "output_type": "stream",
     "text": [
      "Processing short users:  59%|█████▉    | 590/1000 [46:14<31:38,  4.63s/it]"
     ]
    },
    {
     "name": "stdout",
     "output_type": "stream",
     "text": [
      "Saved progress after user: @MarcelSchlatter-v6w\n",
      "\n",
      "Evaluating user: @BIONGAFT_PHIGHTING | 18 comments\n"
     ]
    },
    {
     "name": "stderr",
     "output_type": "stream",
     "text": [
      "Processing short users:  59%|█████▉    | 591/1000 [46:19<32:18,  4.74s/it]"
     ]
    },
    {
     "name": "stdout",
     "output_type": "stream",
     "text": [
      "Saved progress after user: @BIONGAFT_PHIGHTING\n",
      "\n",
      "Evaluating user: @Ryuuko-chan | 19 comments\n"
     ]
    },
    {
     "name": "stderr",
     "output_type": "stream",
     "text": [
      "Processing short users:  59%|█████▉    | 592/1000 [46:24<32:02,  4.71s/it]"
     ]
    },
    {
     "name": "stdout",
     "output_type": "stream",
     "text": [
      "Saved progress after user: @Ryuuko-chan\n",
      "\n",
      "Evaluating user: @harinderkumar5819 | 18 comments\n"
     ]
    },
    {
     "name": "stderr",
     "output_type": "stream",
     "text": [
      "Processing short users:  59%|█████▉    | 593/1000 [46:28<30:24,  4.48s/it]"
     ]
    },
    {
     "name": "stdout",
     "output_type": "stream",
     "text": [
      "Saved progress after user: @harinderkumar5819\n",
      "\n",
      "Evaluating user: @FERUZAAA2108FERUZA | 22 comments\n"
     ]
    },
    {
     "name": "stderr",
     "output_type": "stream",
     "text": [
      "Processing short users:  59%|█████▉    | 594/1000 [46:33<30:48,  4.55s/it]"
     ]
    },
    {
     "name": "stdout",
     "output_type": "stream",
     "text": [
      "Saved progress after user: @FERUZAAA2108FERUZA\n",
      "\n",
      "Evaluating user: @amazon4716 | 23 comments\n"
     ]
    },
    {
     "name": "stderr",
     "output_type": "stream",
     "text": [
      "Processing short users:  60%|█████▉    | 595/1000 [46:38<31:52,  4.72s/it]"
     ]
    },
    {
     "name": "stdout",
     "output_type": "stream",
     "text": [
      "Saved progress after user: @amazon4716\n",
      "\n",
      "Evaluating user: @BrooklynDunn-f6z | 18 comments\n"
     ]
    },
    {
     "name": "stderr",
     "output_type": "stream",
     "text": [
      "Processing short users:  60%|█████▉    | 596/1000 [46:43<32:06,  4.77s/it]"
     ]
    },
    {
     "name": "stdout",
     "output_type": "stream",
     "text": [
      "Saved progress after user: @BrooklynDunn-f6z\n",
      "\n",
      "Evaluating user: @JakeKoenig | 20 comments\n"
     ]
    },
    {
     "name": "stderr",
     "output_type": "stream",
     "text": [
      "Processing short users:  60%|█████▉    | 597/1000 [46:48<33:01,  4.92s/it]"
     ]
    },
    {
     "name": "stdout",
     "output_type": "stream",
     "text": [
      "Saved progress after user: @JakeKoenig\n",
      "\n",
      "Evaluating user: @kamal-k4u6k | 18 comments\n"
     ]
    },
    {
     "name": "stderr",
     "output_type": "stream",
     "text": [
      "Processing short users:  60%|█████▉    | 598/1000 [46:52<31:29,  4.70s/it]"
     ]
    },
    {
     "name": "stdout",
     "output_type": "stream",
     "text": [
      "Saved progress after user: @kamal-k4u6k\n",
      "\n",
      "Evaluating user: @ksoo8243 | 22 comments\n"
     ]
    },
    {
     "name": "stderr",
     "output_type": "stream",
     "text": [
      "Processing short users:  60%|█████▉    | 599/1000 [46:57<31:12,  4.67s/it]"
     ]
    },
    {
     "name": "stdout",
     "output_type": "stream",
     "text": [
      "Saved progress after user: @ksoo8243\n",
      "\n",
      "Evaluating user: @Midnight-e2s | 18 comments\n"
     ]
    },
    {
     "name": "stderr",
     "output_type": "stream",
     "text": [
      "Processing short users:  60%|██████    | 600/1000 [47:00<28:22,  4.26s/it]"
     ]
    },
    {
     "name": "stdout",
     "output_type": "stream",
     "text": [
      "Saved progress after user: @Midnight-e2s\n",
      "\n",
      "Evaluating user: @mgachatv | 24 comments\n"
     ]
    },
    {
     "name": "stderr",
     "output_type": "stream",
     "text": [
      "Processing short users:  60%|██████    | 601/1000 [47:04<28:47,  4.33s/it]"
     ]
    },
    {
     "name": "stdout",
     "output_type": "stream",
     "text": [
      "Saved progress after user: @mgachatv\n",
      "\n",
      "Evaluating user: @ElenaHarabagiu-h8n | 22 comments\n"
     ]
    },
    {
     "name": "stderr",
     "output_type": "stream",
     "text": [
      "Processing short users:  60%|██████    | 602/1000 [47:08<27:39,  4.17s/it]"
     ]
    },
    {
     "name": "stdout",
     "output_type": "stream",
     "text": [
      "Saved progress after user: @ElenaHarabagiu-h8n\n",
      "\n",
      "Evaluating user: @carlofedeli2575 | 18 comments\n"
     ]
    },
    {
     "name": "stderr",
     "output_type": "stream",
     "text": [
      "Processing short users:  60%|██████    | 603/1000 [47:12<26:48,  4.05s/it]"
     ]
    },
    {
     "name": "stdout",
     "output_type": "stream",
     "text": [
      "Saved progress after user: @carlofedeli2575\n",
      "\n",
      "Evaluating user: @ladymallowyt | 18 comments\n"
     ]
    },
    {
     "name": "stderr",
     "output_type": "stream",
     "text": [
      "Processing short users:  60%|██████    | 604/1000 [47:17<28:52,  4.38s/it]"
     ]
    },
    {
     "name": "stdout",
     "output_type": "stream",
     "text": [
      "Saved progress after user: @ladymallowyt\n",
      "\n",
      "Evaluating user: @Dayumfreakery | 23 comments\n"
     ]
    },
    {
     "name": "stderr",
     "output_type": "stream",
     "text": [
      "Processing short users:  60%|██████    | 605/1000 [47:23<30:52,  4.69s/it]"
     ]
    },
    {
     "name": "stdout",
     "output_type": "stream",
     "text": [
      "Saved progress after user: @Dayumfreakery\n",
      "\n",
      "Evaluating user: @AhmedBinFahd | 23 comments\n"
     ]
    },
    {
     "name": "stderr",
     "output_type": "stream",
     "text": [
      "Processing short users:  61%|██████    | 606/1000 [47:26<28:05,  4.28s/it]"
     ]
    },
    {
     "name": "stdout",
     "output_type": "stream",
     "text": [
      "Saved progress after user: @AhmedBinFahd\n",
      "\n",
      "Evaluating user: @notbadsanta | 19 comments\n"
     ]
    },
    {
     "name": "stderr",
     "output_type": "stream",
     "text": [
      "Processing short users:  61%|██████    | 607/1000 [47:30<27:35,  4.21s/it]"
     ]
    },
    {
     "name": "stdout",
     "output_type": "stream",
     "text": [
      "Saved progress after user: @notbadsanta\n",
      "\n",
      "Evaluating user: @OfficialGame42 | 32 comments\n"
     ]
    },
    {
     "name": "stderr",
     "output_type": "stream",
     "text": [
      "Processing short users:  61%|██████    | 608/1000 [47:35<29:30,  4.52s/it]"
     ]
    },
    {
     "name": "stdout",
     "output_type": "stream",
     "text": [
      "Saved progress after user: @OfficialGame42\n",
      "\n",
      "Evaluating user: @PrezBøbcat | 19 comments\n"
     ]
    },
    {
     "name": "stderr",
     "output_type": "stream",
     "text": [
      "Processing short users:  61%|██████    | 609/1000 [47:39<29:00,  4.45s/it]"
     ]
    },
    {
     "name": "stdout",
     "output_type": "stream",
     "text": [
      "Saved progress after user: @PrezBøbcat\n",
      "\n",
      "Evaluating user: @RileyYardleyQuirk | 18 comments\n"
     ]
    },
    {
     "name": "stderr",
     "output_type": "stream",
     "text": [
      "Processing short users:  61%|██████    | 610/1000 [47:44<28:26,  4.38s/it]"
     ]
    },
    {
     "name": "stdout",
     "output_type": "stream",
     "text": [
      "Saved progress after user: @RileyYardleyQuirk\n",
      "\n",
      "Evaluating user: @Ultrion_abyss | 22 comments\n"
     ]
    },
    {
     "name": "stderr",
     "output_type": "stream",
     "text": [
      "Processing short users:  61%|██████    | 611/1000 [47:48<28:37,  4.42s/it]"
     ]
    },
    {
     "name": "stdout",
     "output_type": "stream",
     "text": [
      "Saved progress after user: @Ultrion_abyss\n",
      "\n",
      "Evaluating user: @SoFunny-e9r | 19 comments\n"
     ]
    },
    {
     "name": "stderr",
     "output_type": "stream",
     "text": [
      "Processing short users:  61%|██████    | 612/1000 [47:55<32:29,  5.03s/it]"
     ]
    },
    {
     "name": "stdout",
     "output_type": "stream",
     "text": [
      "Saved progress after user: @SoFunny-e9r\n",
      "\n",
      "Evaluating user: @GiggleJunkies22 | 18 comments\n"
     ]
    },
    {
     "name": "stderr",
     "output_type": "stream",
     "text": [
      "Processing short users:  61%|██████▏   | 613/1000 [47:59<31:00,  4.81s/it]"
     ]
    },
    {
     "name": "stdout",
     "output_type": "stream",
     "text": [
      "Saved progress after user: @GiggleJunkies22\n",
      "\n",
      "Evaluating user: @mifdie3421 | 18 comments\n"
     ]
    },
    {
     "name": "stderr",
     "output_type": "stream",
     "text": [
      "Processing short users:  61%|██████▏   | 614/1000 [48:03<29:09,  4.53s/it]"
     ]
    },
    {
     "name": "stdout",
     "output_type": "stream",
     "text": [
      "Saved progress after user: @mifdie3421\n",
      "\n",
      "Evaluating user: @4h3g | 40 comments\n"
     ]
    },
    {
     "name": "stderr",
     "output_type": "stream",
     "text": [
      "Processing short users:  62%|██████▏   | 615/1000 [48:12<38:17,  5.97s/it]"
     ]
    },
    {
     "name": "stdout",
     "output_type": "stream",
     "text": [
      "Saved progress after user: @4h3g\n",
      "\n",
      "Evaluating user: @JaydenTsui-fe3sc | 24 comments\n"
     ]
    },
    {
     "name": "stderr",
     "output_type": "stream",
     "text": [
      "Processing short users:  62%|██████▏   | 616/1000 [48:17<35:35,  5.56s/it]"
     ]
    },
    {
     "name": "stdout",
     "output_type": "stream",
     "text": [
      "Saved progress after user: @JaydenTsui-fe3sc\n",
      "\n",
      "Evaluating user: @masscreationbroadcasts | 23 comments\n"
     ]
    },
    {
     "name": "stderr",
     "output_type": "stream",
     "text": [
      "Processing short users:  62%|██████▏   | 617/1000 [48:21<33:16,  5.21s/it]"
     ]
    },
    {
     "name": "stdout",
     "output_type": "stream",
     "text": [
      "Saved progress after user: @masscreationbroadcasts\n",
      "\n",
      "Evaluating user: @seokimiko153 | 20 comments\n"
     ]
    },
    {
     "name": "stderr",
     "output_type": "stream",
     "text": [
      "Processing short users:  62%|██████▏   | 618/1000 [48:26<31:50,  5.00s/it]"
     ]
    },
    {
     "name": "stdout",
     "output_type": "stream",
     "text": [
      "Saved progress after user: @seokimiko153\n",
      "\n",
      "Evaluating user: @bide2505 | 20 comments\n"
     ]
    },
    {
     "name": "stderr",
     "output_type": "stream",
     "text": [
      "Processing short users:  62%|██████▏   | 619/1000 [48:29<29:26,  4.64s/it]"
     ]
    },
    {
     "name": "stdout",
     "output_type": "stream",
     "text": [
      "Saved progress after user: @bide2505\n",
      "\n",
      "Evaluating user: @ComedySan-Beethoven_Official | 24 comments\n"
     ]
    },
    {
     "name": "stderr",
     "output_type": "stream",
     "text": [
      "Processing short users:  62%|██████▏   | 620/1000 [48:35<30:28,  4.81s/it]"
     ]
    },
    {
     "name": "stdout",
     "output_type": "stream",
     "text": [
      "Saved progress after user: @ComedySan-Beethoven_Official\n",
      "\n",
      "Evaluating user: @prithvisinghpanwar007 | 27 comments\n"
     ]
    },
    {
     "name": "stderr",
     "output_type": "stream",
     "text": [
      "Processing short users:  62%|██████▏   | 621/1000 [48:39<29:02,  4.60s/it]"
     ]
    },
    {
     "name": "stdout",
     "output_type": "stream",
     "text": [
      "Saved progress after user: @prithvisinghpanwar007\n",
      "\n",
      "Evaluating user: @Chunkyloops | 27 comments\n"
     ]
    },
    {
     "name": "stderr",
     "output_type": "stream",
     "text": [
      "Processing short users:  62%|██████▏   | 622/1000 [48:44<29:45,  4.72s/it]"
     ]
    },
    {
     "name": "stdout",
     "output_type": "stream",
     "text": [
      "Saved progress after user: @Chunkyloops\n",
      "\n",
      "Evaluating user: @Christiano_Garnacho | 22 comments\n"
     ]
    },
    {
     "name": "stderr",
     "output_type": "stream",
     "text": [
      "Processing short users:  62%|██████▏   | 623/1000 [48:48<28:29,  4.54s/it]"
     ]
    },
    {
     "name": "stdout",
     "output_type": "stream",
     "text": [
      "Saved progress after user: @Christiano_Garnacho\n",
      "\n",
      "Evaluating user: @rajeshambili4848 | 23 comments\n"
     ]
    },
    {
     "name": "stderr",
     "output_type": "stream",
     "text": [
      "Processing short users:  62%|██████▏   | 624/1000 [48:52<27:01,  4.31s/it]"
     ]
    },
    {
     "name": "stdout",
     "output_type": "stream",
     "text": [
      "Saved progress after user: @rajeshambili4848\n",
      "\n",
      "Evaluating user: @NewPhilippinesfinalboss273 | 19 comments\n"
     ]
    },
    {
     "name": "stderr",
     "output_type": "stream",
     "text": [
      "Processing short users:  62%|██████▎   | 625/1000 [48:56<26:20,  4.22s/it]"
     ]
    },
    {
     "name": "stdout",
     "output_type": "stream",
     "text": [
      "Saved progress after user: @NewPhilippinesfinalboss273\n",
      "\n",
      "Evaluating user: @JohnPaulSheridan | 21 comments\n"
     ]
    },
    {
     "name": "stderr",
     "output_type": "stream",
     "text": [
      "Processing short users:  63%|██████▎   | 626/1000 [49:01<28:10,  4.52s/it]"
     ]
    },
    {
     "name": "stdout",
     "output_type": "stream",
     "text": [
      "Saved progress after user: @JohnPaulSheridan\n",
      "\n",
      "Evaluating user: @youtubebobguy | 26 comments\n"
     ]
    },
    {
     "name": "stderr",
     "output_type": "stream",
     "text": [
      "Processing short users:  63%|██████▎   | 627/1000 [49:06<29:12,  4.70s/it]"
     ]
    },
    {
     "name": "stdout",
     "output_type": "stream",
     "text": [
      "Saved progress after user: @youtubebobguy\n",
      "\n",
      "Evaluating user: @JabezBiwit | 18 comments\n"
     ]
    },
    {
     "name": "stderr",
     "output_type": "stream",
     "text": [
      "Processing short users:  63%|██████▎   | 628/1000 [49:11<29:20,  4.73s/it]"
     ]
    },
    {
     "name": "stdout",
     "output_type": "stream",
     "text": [
      "Saved progress after user: @JabezBiwit\n",
      "\n",
      "Evaluating user: @xoptic_editz866 | 22 comments\n"
     ]
    },
    {
     "name": "stderr",
     "output_type": "stream",
     "text": [
      "Processing short users:  63%|██████▎   | 629/1000 [49:15<29:02,  4.70s/it]"
     ]
    },
    {
     "name": "stdout",
     "output_type": "stream",
     "text": [
      "Saved progress after user: @xoptic_editz866\n",
      "\n",
      "Evaluating user: @ComedyCrate1 | 21 comments\n"
     ]
    },
    {
     "name": "stderr",
     "output_type": "stream",
     "text": [
      "Processing short users:  63%|██████▎   | 630/1000 [49:20<27:50,  4.52s/it]"
     ]
    },
    {
     "name": "stdout",
     "output_type": "stream",
     "text": [
      "Saved progress after user: @ComedyCrate1\n",
      "\n",
      "Evaluating user: @ACLIVE503 | 24 comments\n"
     ]
    },
    {
     "name": "stderr",
     "output_type": "stream",
     "text": [
      "Processing short users:  63%|██████▎   | 631/1000 [49:25<29:49,  4.85s/it]"
     ]
    },
    {
     "name": "stdout",
     "output_type": "stream",
     "text": [
      "Saved progress after user: @ACLIVE503\n",
      "\n",
      "Evaluating user: @Ash-c4p | 22 comments\n"
     ]
    },
    {
     "name": "stderr",
     "output_type": "stream",
     "text": [
      "Processing short users:  63%|██████▎   | 632/1000 [49:30<30:34,  4.99s/it]"
     ]
    },
    {
     "name": "stdout",
     "output_type": "stream",
     "text": [
      "Saved progress after user: @Ash-c4p\n",
      "\n",
      "Evaluating user: @thatoneredgirl | 30 comments\n"
     ]
    },
    {
     "name": "stderr",
     "output_type": "stream",
     "text": [
      "Processing short users:  63%|██████▎   | 633/1000 [49:35<29:28,  4.82s/it]"
     ]
    },
    {
     "name": "stdout",
     "output_type": "stream",
     "text": [
      "Saved progress after user: @thatoneredgirl\n",
      "\n",
      "Evaluating user: @VDFunny88 | 19 comments\n"
     ]
    },
    {
     "name": "stderr",
     "output_type": "stream",
     "text": [
      "Processing short users:  63%|██████▎   | 634/1000 [49:39<28:15,  4.63s/it]"
     ]
    },
    {
     "name": "stdout",
     "output_type": "stream",
     "text": [
      "Saved progress after user: @VDFunny88\n",
      "\n",
      "Evaluating user: @VuFunny-n1s | 27 comments\n"
     ]
    },
    {
     "name": "stderr",
     "output_type": "stream",
     "text": [
      "Processing short users:  64%|██████▎   | 635/1000 [49:43<26:42,  4.39s/it]"
     ]
    },
    {
     "name": "stdout",
     "output_type": "stream",
     "text": [
      "Saved progress after user: @VuFunny-n1s\n",
      "\n",
      "Evaluating user: @Shmol_kitten | 18 comments\n"
     ]
    },
    {
     "name": "stderr",
     "output_type": "stream",
     "text": [
      "Processing short users:  64%|██████▎   | 636/1000 [49:47<26:57,  4.44s/it]"
     ]
    },
    {
     "name": "stdout",
     "output_type": "stream",
     "text": [
      "Saved progress after user: @Shmol_kitten\n",
      "\n",
      "Evaluating user: @itsjadennjacobxdgamer3634 | 18 comments\n"
     ]
    },
    {
     "name": "stderr",
     "output_type": "stream",
     "text": [
      "Processing short users:  64%|██████▎   | 637/1000 [49:51<25:41,  4.25s/it]"
     ]
    },
    {
     "name": "stdout",
     "output_type": "stream",
     "text": [
      "Saved progress after user: @itsjadennjacobxdgamer3634\n",
      "\n",
      "Evaluating user: @bellaGBusch6 | 24 comments\n"
     ]
    },
    {
     "name": "stderr",
     "output_type": "stream",
     "text": [
      "Processing short users:  64%|██████▍   | 638/1000 [49:57<27:34,  4.57s/it]"
     ]
    },
    {
     "name": "stdout",
     "output_type": "stream",
     "text": [
      "Saved progress after user: @bellaGBusch6\n",
      "\n",
      "Evaluating user: @IndeeMalcolm-zi7yj | 20 comments\n"
     ]
    },
    {
     "name": "stderr",
     "output_type": "stream",
     "text": [
      "Processing short users:  64%|██████▍   | 639/1000 [50:02<28:29,  4.74s/it]"
     ]
    },
    {
     "name": "stdout",
     "output_type": "stream",
     "text": [
      "Saved progress after user: @IndeeMalcolm-zi7yj\n",
      "\n",
      "Evaluating user: @Emiko__wr | 18 comments\n"
     ]
    },
    {
     "name": "stderr",
     "output_type": "stream",
     "text": [
      "Processing short users:  64%|██████▍   | 640/1000 [50:08<31:53,  5.32s/it]"
     ]
    },
    {
     "name": "stdout",
     "output_type": "stream",
     "text": [
      "Saved progress after user: @Emiko__wr\n",
      "\n",
      "Evaluating user: @BayliHensley | 21 comments\n"
     ]
    },
    {
     "name": "stderr",
     "output_type": "stream",
     "text": [
      "Processing short users:  64%|██████▍   | 641/1000 [50:13<30:40,  5.13s/it]"
     ]
    },
    {
     "name": "stdout",
     "output_type": "stream",
     "text": [
      "Saved progress after user: @BayliHensley\n",
      "\n",
      "Evaluating user: @letmethinkaboutit2460 | 19 comments\n"
     ]
    },
    {
     "name": "stderr",
     "output_type": "stream",
     "text": [
      "Processing short users:  64%|██████▍   | 642/1000 [50:18<30:57,  5.19s/it]"
     ]
    },
    {
     "name": "stdout",
     "output_type": "stream",
     "text": [
      "Saved progress after user: @letmethinkaboutit2460\n",
      "\n",
      "Evaluating user: @Michael_493 | 25 comments\n"
     ]
    },
    {
     "name": "stderr",
     "output_type": "stream",
     "text": [
      "Processing short users:  64%|██████▍   | 643/1000 [50:24<31:17,  5.26s/it]"
     ]
    },
    {
     "name": "stdout",
     "output_type": "stream",
     "text": [
      "Saved progress after user: @Michael_493\n",
      "\n",
      "Evaluating user: @F1RST_BLUD1 | 21 comments\n"
     ]
    },
    {
     "name": "stderr",
     "output_type": "stream",
     "text": [
      "Processing short users:  64%|██████▍   | 644/1000 [50:29<30:46,  5.19s/it]"
     ]
    },
    {
     "name": "stdout",
     "output_type": "stream",
     "text": [
      "Saved progress after user: @F1RST_BLUD1\n",
      "\n",
      "Evaluating user: @Blaster2117 | 23 comments\n"
     ]
    },
    {
     "name": "stderr",
     "output_type": "stream",
     "text": [
      "Processing short users:  64%|██████▍   | 645/1000 [50:33<28:23,  4.80s/it]"
     ]
    },
    {
     "name": "stdout",
     "output_type": "stream",
     "text": [
      "Saved progress after user: @Blaster2117\n",
      "\n",
      "Evaluating user: @Flameemperor838 | 30 comments\n"
     ]
    },
    {
     "name": "stderr",
     "output_type": "stream",
     "text": [
      "Processing short users:  65%|██████▍   | 646/1000 [50:37<26:31,  4.50s/it]"
     ]
    },
    {
     "name": "stdout",
     "output_type": "stream",
     "text": [
      "Saved progress after user: @Flameemperor838\n",
      "\n",
      "Evaluating user: @bacongang-m9x | 18 comments\n"
     ]
    },
    {
     "name": "stderr",
     "output_type": "stream",
     "text": [
      "Processing short users:  65%|██████▍   | 647/1000 [50:41<25:43,  4.37s/it]"
     ]
    },
    {
     "name": "stdout",
     "output_type": "stream",
     "text": [
      "Saved progress after user: @bacongang-m9x\n",
      "\n",
      "Evaluating user: @Burrito_Legend | 25 comments\n"
     ]
    },
    {
     "name": "stderr",
     "output_type": "stream",
     "text": [
      "Processing short users:  65%|██████▍   | 648/1000 [50:45<25:07,  4.28s/it]"
     ]
    },
    {
     "name": "stdout",
     "output_type": "stream",
     "text": [
      "Saved progress after user: @Burrito_Legend\n",
      "\n",
      "Evaluating user: @Galaxycat34-z5s | 21 comments\n"
     ]
    },
    {
     "name": "stderr",
     "output_type": "stream",
     "text": [
      "Processing short users:  65%|██████▍   | 649/1000 [50:49<25:08,  4.30s/it]"
     ]
    },
    {
     "name": "stdout",
     "output_type": "stream",
     "text": [
      "Saved progress after user: @Galaxycat34-z5s\n",
      "\n",
      "Evaluating user: @AkChandra-xs7oq | 30 comments\n"
     ]
    },
    {
     "name": "stderr",
     "output_type": "stream",
     "text": [
      "Processing short users:  65%|██████▌   | 650/1000 [50:52<23:38,  4.05s/it]"
     ]
    },
    {
     "name": "stdout",
     "output_type": "stream",
     "text": [
      "Saved progress after user: @AkChandra-xs7oq\n",
      "\n",
      "Evaluating user: @thefightoffaith | 33 comments\n"
     ]
    },
    {
     "name": "stderr",
     "output_type": "stream",
     "text": [
      "Processing short users:  65%|██████▌   | 651/1000 [50:58<26:19,  4.52s/it]"
     ]
    },
    {
     "name": "stdout",
     "output_type": "stream",
     "text": [
      "Saved progress after user: @thefightoffaith\n",
      "\n",
      "Evaluating user: @Goku.ß | 18 comments\n"
     ]
    },
    {
     "name": "stderr",
     "output_type": "stream",
     "text": [
      "Processing short users:  65%|██████▌   | 652/1000 [51:03<27:22,  4.72s/it]"
     ]
    },
    {
     "name": "stdout",
     "output_type": "stream",
     "text": [
      "Saved progress after user: @Goku.ß\n",
      "\n",
      "Evaluating user: @SalomeM2124 | 23 comments\n"
     ]
    },
    {
     "name": "stderr",
     "output_type": "stream",
     "text": [
      "Processing short users:  65%|██████▌   | 653/1000 [51:08<26:49,  4.64s/it]"
     ]
    },
    {
     "name": "stdout",
     "output_type": "stream",
     "text": [
      "Saved progress after user: @SalomeM2124\n",
      "\n",
      "Evaluating user: @beatryzfranca481 | 23 comments\n"
     ]
    },
    {
     "name": "stderr",
     "output_type": "stream",
     "text": [
      "Processing short users:  65%|██████▌   | 654/1000 [51:12<26:09,  4.54s/it]"
     ]
    },
    {
     "name": "stdout",
     "output_type": "stream",
     "text": [
      "Saved progress after user: @beatryzfranca481\n",
      "\n",
      "Evaluating user: @justindc0 | 19 comments\n"
     ]
    },
    {
     "name": "stderr",
     "output_type": "stream",
     "text": [
      "Processing short users:  66%|██████▌   | 655/1000 [51:16<24:48,  4.31s/it]"
     ]
    },
    {
     "name": "stdout",
     "output_type": "stream",
     "text": [
      "Saved progress after user: @justindc0\n",
      "\n",
      "Evaluating user: @alexthompson2257 | 18 comments\n"
     ]
    },
    {
     "name": "stderr",
     "output_type": "stream",
     "text": [
      "Processing short users:  66%|██████▌   | 656/1000 [51:21<26:28,  4.62s/it]"
     ]
    },
    {
     "name": "stdout",
     "output_type": "stream",
     "text": [
      "Saved progress after user: @alexthompson2257\n",
      "\n",
      "Evaluating user: @betsyclavette4103 | 18 comments\n"
     ]
    },
    {
     "name": "stderr",
     "output_type": "stream",
     "text": [
      "Processing short users:  66%|██████▌   | 657/1000 [51:26<26:35,  4.65s/it]"
     ]
    },
    {
     "name": "stdout",
     "output_type": "stream",
     "text": [
      "Saved progress after user: @betsyclavette4103\n",
      "\n",
      "Evaluating user: @Gasmasx | 18 comments\n"
     ]
    },
    {
     "name": "stderr",
     "output_type": "stream",
     "text": [
      "Processing short users:  66%|██████▌   | 658/1000 [51:31<26:45,  4.69s/it]"
     ]
    },
    {
     "name": "stdout",
     "output_type": "stream",
     "text": [
      "Saved progress after user: @Gasmasx\n",
      "\n",
      "Evaluating user: @xaismith157 | 19 comments\n"
     ]
    },
    {
     "name": "stderr",
     "output_type": "stream",
     "text": [
      "Processing short users:  66%|██████▌   | 659/1000 [51:37<28:50,  5.07s/it]"
     ]
    },
    {
     "name": "stdout",
     "output_type": "stream",
     "text": [
      "Saved progress after user: @xaismith157\n",
      "\n",
      "Evaluating user: @ErinMarthaDelaCruz | 20 comments\n"
     ]
    },
    {
     "name": "stderr",
     "output_type": "stream",
     "text": [
      "Processing short users:  66%|██████▌   | 660/1000 [51:42<28:48,  5.08s/it]"
     ]
    },
    {
     "name": "stdout",
     "output_type": "stream",
     "text": [
      "Saved progress after user: @ErinMarthaDelaCruz\n",
      "\n",
      "Evaluating user: @RAYDENBRYCETCO | 23 comments\n"
     ]
    },
    {
     "name": "stderr",
     "output_type": "stream",
     "text": [
      "Processing short users:  66%|██████▌   | 661/1000 [51:46<27:44,  4.91s/it]"
     ]
    },
    {
     "name": "stdout",
     "output_type": "stream",
     "text": [
      "Saved progress after user: @RAYDENBRYCETCO\n",
      "\n",
      "Evaluating user: @mouslimjaber-ze7sg | 19 comments\n"
     ]
    },
    {
     "name": "stderr",
     "output_type": "stream",
     "text": [
      "Processing short users:  66%|██████▌   | 662/1000 [51:50<26:06,  4.64s/it]"
     ]
    },
    {
     "name": "stdout",
     "output_type": "stream",
     "text": [
      "Saved progress after user: @mouslimjaber-ze7sg\n",
      "\n",
      "Evaluating user: @Mr.Cheese138 | 18 comments\n"
     ]
    },
    {
     "name": "stderr",
     "output_type": "stream",
     "text": [
      "Processing short users:  66%|██████▋   | 663/1000 [51:55<26:30,  4.72s/it]"
     ]
    },
    {
     "name": "stdout",
     "output_type": "stream",
     "text": [
      "Saved progress after user: @Mr.Cheese138\n",
      "\n",
      "Evaluating user: @scp_kids | 32 comments\n"
     ]
    },
    {
     "name": "stderr",
     "output_type": "stream",
     "text": [
      "Processing short users:  66%|██████▋   | 664/1000 [52:00<26:14,  4.69s/it]"
     ]
    },
    {
     "name": "stdout",
     "output_type": "stream",
     "text": [
      "Saved progress after user: @scp_kids\n",
      "\n",
      "Evaluating user: @factstv2156 | 20 comments\n"
     ]
    },
    {
     "name": "stderr",
     "output_type": "stream",
     "text": [
      "Processing short users:  66%|██████▋   | 665/1000 [52:04<25:51,  4.63s/it]"
     ]
    },
    {
     "name": "stdout",
     "output_type": "stream",
     "text": [
      "Saved progress after user: @factstv2156\n",
      "\n",
      "Evaluating user: @JTBULLY | 21 comments\n"
     ]
    },
    {
     "name": "stderr",
     "output_type": "stream",
     "text": [
      "Processing short users:  67%|██████▋   | 666/1000 [52:09<25:44,  4.62s/it]"
     ]
    },
    {
     "name": "stdout",
     "output_type": "stream",
     "text": [
      "Saved progress after user: @JTBULLY\n",
      "\n",
      "Evaluating user: @sansboyzGD | 24 comments\n"
     ]
    },
    {
     "name": "stderr",
     "output_type": "stream",
     "text": [
      "Processing short users:  67%|██████▋   | 667/1000 [52:15<28:22,  5.11s/it]"
     ]
    },
    {
     "name": "stdout",
     "output_type": "stream",
     "text": [
      "Saved progress after user: @sansboyzGD\n",
      "\n",
      "Evaluating user: @SnickerStudio-v7o | 26 comments\n"
     ]
    },
    {
     "name": "stderr",
     "output_type": "stream",
     "text": [
      "Processing short users:  67%|██████▋   | 668/1000 [52:19<26:21,  4.76s/it]"
     ]
    },
    {
     "name": "stdout",
     "output_type": "stream",
     "text": [
      "Saved progress after user: @SnickerStudio-v7o\n",
      "\n",
      "Evaluating user: @UnsoliciTEAdpodcastshow | 19 comments\n"
     ]
    },
    {
     "name": "stderr",
     "output_type": "stream",
     "text": [
      "Processing short users:  67%|██████▋   | 669/1000 [52:24<27:14,  4.94s/it]"
     ]
    },
    {
     "name": "stdout",
     "output_type": "stream",
     "text": [
      "Saved progress after user: @UnsoliciTEAdpodcastshow\n",
      "\n",
      "Evaluating user: @SiuFunny-b6x | 28 comments\n"
     ]
    },
    {
     "name": "stderr",
     "output_type": "stream",
     "text": [
      "Processing short users:  67%|██████▋   | 670/1000 [52:30<27:40,  5.03s/it]"
     ]
    },
    {
     "name": "stdout",
     "output_type": "stream",
     "text": [
      "Saved progress after user: @SiuFunny-b6x\n",
      "\n",
      "Evaluating user: @AnjaliGirish-j5r | 20 comments\n"
     ]
    },
    {
     "name": "stderr",
     "output_type": "stream",
     "text": [
      "Processing short users:  67%|██████▋   | 671/1000 [52:37<31:12,  5.69s/it]"
     ]
    },
    {
     "name": "stdout",
     "output_type": "stream",
     "text": [
      "Saved progress after user: @AnjaliGirish-j5r\n",
      "\n",
      "Evaluating user: @barbaratabora5517 | 18 comments\n"
     ]
    },
    {
     "name": "stderr",
     "output_type": "stream",
     "text": [
      "Processing short users:  67%|██████▋   | 672/1000 [52:41<28:25,  5.20s/it]"
     ]
    },
    {
     "name": "stdout",
     "output_type": "stream",
     "text": [
      "Saved progress after user: @barbaratabora5517\n",
      "\n",
      "Evaluating user: @LinzeeBrower | 27 comments\n"
     ]
    },
    {
     "name": "stderr",
     "output_type": "stream",
     "text": [
      "Processing short users:  67%|██████▋   | 673/1000 [52:45<26:48,  4.92s/it]"
     ]
    },
    {
     "name": "stdout",
     "output_type": "stream",
     "text": [
      "Saved progress after user: @LinzeeBrower\n",
      "\n",
      "Evaluating user: @Lanteenax | 22 comments\n"
     ]
    },
    {
     "name": "stderr",
     "output_type": "stream",
     "text": [
      "Processing short users:  67%|██████▋   | 674/1000 [52:50<26:34,  4.89s/it]"
     ]
    },
    {
     "name": "stdout",
     "output_type": "stream",
     "text": [
      "Saved progress after user: @Lanteenax\n",
      "\n",
      "Evaluating user: @Nyokee-r2k | 26 comments\n"
     ]
    },
    {
     "name": "stderr",
     "output_type": "stream",
     "text": [
      "Processing short users:  68%|██████▊   | 675/1000 [52:56<27:32,  5.08s/it]"
     ]
    },
    {
     "name": "stdout",
     "output_type": "stream",
     "text": [
      "Saved progress after user: @Nyokee-r2k\n",
      "\n",
      "Evaluating user: @UgurArslan-uj7ep | 29 comments\n"
     ]
    },
    {
     "name": "stderr",
     "output_type": "stream",
     "text": [
      "Processing short users:  68%|██████▊   | 676/1000 [53:00<26:56,  4.99s/it]"
     ]
    },
    {
     "name": "stdout",
     "output_type": "stream",
     "text": [
      "Saved progress after user: @UgurArslan-uj7ep\n",
      "\n",
      "Evaluating user: @Softmilko | 26 comments\n"
     ]
    },
    {
     "name": "stderr",
     "output_type": "stream",
     "text": [
      "Processing short users:  68%|██████▊   | 677/1000 [53:05<25:58,  4.83s/it]"
     ]
    },
    {
     "name": "stdout",
     "output_type": "stream",
     "text": [
      "Saved progress after user: @Softmilko\n",
      "\n",
      "Evaluating user: @ILoveRobloxb3n | 20 comments\n"
     ]
    },
    {
     "name": "stderr",
     "output_type": "stream",
     "text": [
      "Processing short users:  68%|██████▊   | 678/1000 [53:11<27:51,  5.19s/it]"
     ]
    },
    {
     "name": "stdout",
     "output_type": "stream",
     "text": [
      "Saved progress after user: @ILoveRobloxb3n\n",
      "\n",
      "Evaluating user: @donnajojean3217 | 18 comments\n"
     ]
    },
    {
     "name": "stderr",
     "output_type": "stream",
     "text": [
      "Processing short users:  68%|██████▊   | 679/1000 [53:18<31:36,  5.91s/it]"
     ]
    },
    {
     "name": "stdout",
     "output_type": "stream",
     "text": [
      "Saved progress after user: @donnajojean3217\n",
      "\n",
      "Evaluating user: @hydraotaku2607 | 28 comments\n"
     ]
    },
    {
     "name": "stderr",
     "output_type": "stream",
     "text": [
      "Processing short users:  68%|██████▊   | 680/1000 [53:23<29:15,  5.49s/it]"
     ]
    },
    {
     "name": "stdout",
     "output_type": "stream",
     "text": [
      "Saved progress after user: @hydraotaku2607\n",
      "\n",
      "Evaluating user: @ProRobloxGuy-o4g | 19 comments\n"
     ]
    },
    {
     "name": "stderr",
     "output_type": "stream",
     "text": [
      "Processing short users:  68%|██████▊   | 681/1000 [53:28<28:44,  5.41s/it]"
     ]
    },
    {
     "name": "stdout",
     "output_type": "stream",
     "text": [
      "Saved progress after user: @ProRobloxGuy-o4g\n",
      "\n",
      "Evaluating user: @petejones879 | 26 comments\n"
     ]
    },
    {
     "name": "stderr",
     "output_type": "stream",
     "text": [
      "Processing short users:  68%|██████▊   | 682/1000 [53:32<26:48,  5.06s/it]"
     ]
    },
    {
     "name": "stdout",
     "output_type": "stream",
     "text": [
      "Saved progress after user: @petejones879\n",
      "\n",
      "Evaluating user: @BlueBlacy | 28 comments\n"
     ]
    },
    {
     "name": "stderr",
     "output_type": "stream",
     "text": [
      "Processing short users:  68%|██████▊   | 683/1000 [53:36<24:48,  4.69s/it]"
     ]
    },
    {
     "name": "stdout",
     "output_type": "stream",
     "text": [
      "Saved progress after user: @BlueBlacy\n",
      "\n",
      "Evaluating user: @DaRealRocketMan | 64 comments\n"
     ]
    },
    {
     "name": "stderr",
     "output_type": "stream",
     "text": [
      "Processing short users:  68%|██████▊   | 684/1000 [53:40<23:31,  4.47s/it]"
     ]
    },
    {
     "name": "stdout",
     "output_type": "stream",
     "text": [
      "Saved progress after user: @DaRealRocketMan\n",
      "\n",
      "Evaluating user: @Ava13276 | 21 comments\n"
     ]
    },
    {
     "name": "stderr",
     "output_type": "stream",
     "text": [
      "Processing short users:  68%|██████▊   | 685/1000 [53:45<24:13,  4.61s/it]"
     ]
    },
    {
     "name": "stdout",
     "output_type": "stream",
     "text": [
      "Saved progress after user: @Ava13276\n",
      "\n",
      "Evaluating user: @megamechtransformer3114 | 18 comments\n"
     ]
    },
    {
     "name": "stderr",
     "output_type": "stream",
     "text": [
      "Processing short users:  69%|██████▊   | 686/1000 [53:50<24:40,  4.71s/it]"
     ]
    },
    {
     "name": "stdout",
     "output_type": "stream",
     "text": [
      "Saved progress after user: @megamechtransformer3114\n",
      "\n",
      "Evaluating user: @CommanderJSB | 33 comments\n"
     ]
    },
    {
     "name": "stderr",
     "output_type": "stream",
     "text": [
      "Processing short users:  69%|██████▊   | 687/1000 [53:55<24:24,  4.68s/it]"
     ]
    },
    {
     "name": "stdout",
     "output_type": "stream",
     "text": [
      "Saved progress after user: @CommanderJSB\n",
      "\n",
      "Evaluating user: @StarBrand.556 | 20 comments\n"
     ]
    },
    {
     "name": "stderr",
     "output_type": "stream",
     "text": [
      "Processing short users:  69%|██████▉   | 688/1000 [54:01<26:27,  5.09s/it]"
     ]
    },
    {
     "name": "stdout",
     "output_type": "stream",
     "text": [
      "Saved progress after user: @StarBrand.556\n",
      "\n",
      "Evaluating user: @richlo8887 | 21 comments\n"
     ]
    },
    {
     "name": "stderr",
     "output_type": "stream",
     "text": [
      "Processing short users:  69%|██████▉   | 689/1000 [54:05<24:59,  4.82s/it]"
     ]
    },
    {
     "name": "stdout",
     "output_type": "stream",
     "text": [
      "Saved progress after user: @richlo8887\n",
      "\n",
      "Evaluating user: @cleveland2022 | 24 comments\n"
     ]
    },
    {
     "name": "stderr",
     "output_type": "stream",
     "text": [
      "Processing short users:  69%|██████▉   | 690/1000 [54:09<24:05,  4.66s/it]"
     ]
    },
    {
     "name": "stdout",
     "output_type": "stream",
     "text": [
      "Saved progress after user: @cleveland2022\n",
      "\n",
      "Evaluating user: @judyalves-wu9lu | 21 comments\n"
     ]
    },
    {
     "name": "stderr",
     "output_type": "stream",
     "text": [
      "Processing short users:  69%|██████▉   | 691/1000 [54:13<23:08,  4.49s/it]"
     ]
    },
    {
     "name": "stdout",
     "output_type": "stream",
     "text": [
      "Saved progress after user: @judyalves-wu9lu\n",
      "\n",
      "Evaluating user: @vibemusic. | 26 comments\n"
     ]
    },
    {
     "name": "stderr",
     "output_type": "stream",
     "text": [
      "Processing short users:  69%|██████▉   | 692/1000 [54:19<25:08,  4.90s/it]"
     ]
    },
    {
     "name": "stdout",
     "output_type": "stream",
     "text": [
      "Saved progress after user: @vibemusic.\n",
      "\n",
      "Evaluating user: @MagpieMalone | 19 comments\n"
     ]
    },
    {
     "name": "stderr",
     "output_type": "stream",
     "text": [
      "Processing short users:  69%|██████▉   | 693/1000 [54:23<23:50,  4.66s/it]"
     ]
    },
    {
     "name": "stdout",
     "output_type": "stream",
     "text": [
      "Saved progress after user: @MagpieMalone\n",
      "\n",
      "Evaluating user: @JohnnatonBambino | 19 comments\n"
     ]
    },
    {
     "name": "stderr",
     "output_type": "stream",
     "text": [
      "Processing short users:  69%|██████▉   | 694/1000 [54:28<24:09,  4.74s/it]"
     ]
    },
    {
     "name": "stdout",
     "output_type": "stream",
     "text": [
      "Saved progress after user: @JohnnatonBambino\n",
      "\n",
      "Evaluating user: @templeosigwe3545 | 42 comments\n"
     ]
    },
    {
     "name": "stderr",
     "output_type": "stream",
     "text": [
      "Processing short users:  70%|██████▉   | 695/1000 [54:33<24:21,  4.79s/it]"
     ]
    },
    {
     "name": "stdout",
     "output_type": "stream",
     "text": [
      "Saved progress after user: @templeosigwe3545\n",
      "\n",
      "Evaluating user: @2013daxdaniel | 30 comments\n"
     ]
    },
    {
     "name": "stderr",
     "output_type": "stream",
     "text": [
      "Processing short users:  70%|██████▉   | 696/1000 [54:39<26:10,  5.17s/it]"
     ]
    },
    {
     "name": "stdout",
     "output_type": "stream",
     "text": [
      "Saved progress after user: @2013daxdaniel\n",
      "\n",
      "Evaluating user: @minepro2929 | 20 comments\n"
     ]
    },
    {
     "name": "stderr",
     "output_type": "stream",
     "text": [
      "Processing short users:  70%|██████▉   | 697/1000 [54:44<26:10,  5.18s/it]"
     ]
    },
    {
     "name": "stdout",
     "output_type": "stream",
     "text": [
      "Saved progress after user: @minepro2929\n",
      "\n",
      "Evaluating user: @Qwert-4960 | 22 comments\n"
     ]
    },
    {
     "name": "stderr",
     "output_type": "stream",
     "text": [
      "Processing short users:  70%|██████▉   | 698/1000 [54:49<24:57,  4.96s/it]"
     ]
    },
    {
     "name": "stdout",
     "output_type": "stream",
     "text": [
      "Saved progress after user: @Qwert-4960\n",
      "\n",
      "Evaluating user: @barkbarkbarkbarkbarkbarkbark | 19 comments\n"
     ]
    },
    {
     "name": "stderr",
     "output_type": "stream",
     "text": [
      "Processing short users:  70%|██████▉   | 699/1000 [54:53<23:16,  4.64s/it]"
     ]
    },
    {
     "name": "stdout",
     "output_type": "stream",
     "text": [
      "Saved progress after user: @barkbarkbarkbarkbarkbarkbark\n",
      "\n",
      "Evaluating user: @WasThatTheBiteOf87_FNAF | 18 comments\n"
     ]
    },
    {
     "name": "stderr",
     "output_type": "stream",
     "text": [
      "Processing short users:  70%|███████   | 700/1000 [55:01<28:47,  5.76s/it]"
     ]
    },
    {
     "name": "stdout",
     "output_type": "stream",
     "text": [
      "Saved progress after user: @WasThatTheBiteOf87_FNAF\n",
      "\n",
      "Evaluating user: @Dyslexic.D0ry | 23 comments\n"
     ]
    },
    {
     "name": "stderr",
     "output_type": "stream",
     "text": [
      "Processing short users:  70%|███████   | 701/1000 [55:08<30:02,  6.03s/it]"
     ]
    },
    {
     "name": "stdout",
     "output_type": "stream",
     "text": [
      "Saved progress after user: @Dyslexic.D0ry\n",
      "\n",
      "Evaluating user: @V3lk0n | 20 comments\n"
     ]
    },
    {
     "name": "stderr",
     "output_type": "stream",
     "text": [
      "Processing short users:  70%|███████   | 702/1000 [55:12<27:21,  5.51s/it]"
     ]
    },
    {
     "name": "stdout",
     "output_type": "stream",
     "text": [
      "Saved progress after user: @V3lk0n\n",
      "\n",
      "Evaluating user: @MiriamCalle-d8p | 24 comments\n"
     ]
    },
    {
     "name": "stderr",
     "output_type": "stream",
     "text": [
      "Processing short users:  70%|███████   | 703/1000 [55:17<26:14,  5.30s/it]"
     ]
    },
    {
     "name": "stdout",
     "output_type": "stream",
     "text": [
      "Saved progress after user: @MiriamCalle-d8p\n",
      "\n",
      "Evaluating user: @acedreamer2004 | 23 comments\n"
     ]
    },
    {
     "name": "stderr",
     "output_type": "stream",
     "text": [
      "Processing short users:  70%|███████   | 704/1000 [55:23<26:47,  5.43s/it]"
     ]
    },
    {
     "name": "stdout",
     "output_type": "stream",
     "text": [
      "Saved progress after user: @acedreamer2004\n",
      "\n",
      "Evaluating user: @queerantine69 | 18 comments\n"
     ]
    },
    {
     "name": "stderr",
     "output_type": "stream",
     "text": [
      "Processing short users:  70%|███████   | 705/1000 [55:28<26:47,  5.45s/it]"
     ]
    },
    {
     "name": "stdout",
     "output_type": "stream",
     "text": [
      "Saved progress after user: @queerantine69\n",
      "\n",
      "Evaluating user: @Minookhanom-sr5rh | 25 comments\n"
     ]
    },
    {
     "name": "stderr",
     "output_type": "stream",
     "text": [
      "Processing short users:  71%|███████   | 706/1000 [55:32<24:47,  5.06s/it]"
     ]
    },
    {
     "name": "stdout",
     "output_type": "stream",
     "text": [
      "Saved progress after user: @Minookhanom-sr5rh\n",
      "\n",
      "Evaluating user: @sinceslicedbread7422 | 19 comments\n"
     ]
    },
    {
     "name": "stderr",
     "output_type": "stream",
     "text": [
      "Processing short users:  71%|███████   | 707/1000 [55:36<22:30,  4.61s/it]"
     ]
    },
    {
     "name": "stdout",
     "output_type": "stream",
     "text": [
      "Saved progress after user: @sinceslicedbread7422\n",
      "\n",
      "Evaluating user: @Bitachon | 18 comments\n"
     ]
    },
    {
     "name": "stderr",
     "output_type": "stream",
     "text": [
      "Processing short users:  71%|███████   | 708/1000 [55:39<20:56,  4.30s/it]"
     ]
    },
    {
     "name": "stdout",
     "output_type": "stream",
     "text": [
      "Saved progress after user: @Bitachon\n",
      "\n",
      "Evaluating user: @mai881102 | 21 comments\n"
     ]
    },
    {
     "name": "stderr",
     "output_type": "stream",
     "text": [
      "Processing short users:  71%|███████   | 709/1000 [55:45<22:14,  4.58s/it]"
     ]
    },
    {
     "name": "stdout",
     "output_type": "stream",
     "text": [
      "Saved progress after user: @mai881102\n",
      "\n",
      "Evaluating user: @Jquan-o8l | 26 comments\n"
     ]
    },
    {
     "name": "stderr",
     "output_type": "stream",
     "text": [
      "Processing short users:  71%|███████   | 710/1000 [55:49<22:21,  4.62s/it]"
     ]
    },
    {
     "name": "stdout",
     "output_type": "stream",
     "text": [
      "Saved progress after user: @Jquan-o8l\n",
      "\n",
      "Evaluating user: @itsjustviv | 23 comments\n"
     ]
    },
    {
     "name": "stderr",
     "output_type": "stream",
     "text": [
      "Processing short users:  71%|███████   | 711/1000 [55:54<22:31,  4.68s/it]"
     ]
    },
    {
     "name": "stdout",
     "output_type": "stream",
     "text": [
      "Saved progress after user: @itsjustviv\n",
      "\n",
      "Evaluating user: @KristinKoenig-p4i | 26 comments\n"
     ]
    },
    {
     "name": "stderr",
     "output_type": "stream",
     "text": [
      "Processing short users:  71%|███████   | 712/1000 [56:00<24:39,  5.14s/it]"
     ]
    },
    {
     "name": "stdout",
     "output_type": "stream",
     "text": [
      "Saved progress after user: @KristinKoenig-p4i\n",
      "\n",
      "Evaluating user: @Arizona_lilly | 24 comments\n"
     ]
    },
    {
     "name": "stderr",
     "output_type": "stream",
     "text": [
      "Processing short users:  71%|███████▏  | 713/1000 [56:05<23:24,  4.89s/it]"
     ]
    },
    {
     "name": "stdout",
     "output_type": "stream",
     "text": [
      "Saved progress after user: @Arizona_lilly\n",
      "\n",
      "Evaluating user: @adamfox9245 | 34 comments\n"
     ]
    },
    {
     "name": "stderr",
     "output_type": "stream",
     "text": [
      "Processing short users:  71%|███████▏  | 714/1000 [56:10<24:12,  5.08s/it]"
     ]
    },
    {
     "name": "stdout",
     "output_type": "stream",
     "text": [
      "Saved progress after user: @adamfox9245\n",
      "\n",
      "Evaluating user: @Velxyee | 19 comments\n"
     ]
    },
    {
     "name": "stderr",
     "output_type": "stream",
     "text": [
      "Processing short users:  72%|███████▏  | 715/1000 [56:14<22:34,  4.75s/it]"
     ]
    },
    {
     "name": "stdout",
     "output_type": "stream",
     "text": [
      "Saved progress after user: @Velxyee\n",
      "\n",
      "Evaluating user: @limlianhui9462 | 21 comments\n"
     ]
    },
    {
     "name": "stderr",
     "output_type": "stream",
     "text": [
      "Processing short users:  72%|███████▏  | 716/1000 [56:21<24:55,  5.27s/it]"
     ]
    },
    {
     "name": "stdout",
     "output_type": "stream",
     "text": [
      "Saved progress after user: @limlianhui9462\n",
      "\n",
      "Evaluating user: @saveyourwombsblackwomen6908 | 19 comments\n"
     ]
    },
    {
     "name": "stderr",
     "output_type": "stream",
     "text": [
      "Processing short users:  72%|███████▏  | 717/1000 [56:27<25:46,  5.46s/it]"
     ]
    },
    {
     "name": "stdout",
     "output_type": "stream",
     "text": [
      "Saved progress after user: @saveyourwombsblackwomen6908\n",
      "\n",
      "Evaluating user: @GreenYoshi3881 | 19 comments\n"
     ]
    },
    {
     "name": "stderr",
     "output_type": "stream",
     "text": [
      "Processing short users:  72%|███████▏  | 718/1000 [56:32<25:31,  5.43s/it]"
     ]
    },
    {
     "name": "stdout",
     "output_type": "stream",
     "text": [
      "Saved progress after user: @GreenYoshi3881\n",
      "\n",
      "Evaluating user: @polopow134 | 29 comments\n"
     ]
    },
    {
     "name": "stderr",
     "output_type": "stream",
     "text": [
      "Processing short users:  72%|███████▏  | 719/1000 [56:36<24:11,  5.16s/it]"
     ]
    },
    {
     "name": "stdout",
     "output_type": "stream",
     "text": [
      "Saved progress after user: @polopow134\n",
      "\n",
      "Evaluating user: @mchelmiendaud8416 | 26 comments\n"
     ]
    },
    {
     "name": "stderr",
     "output_type": "stream",
     "text": [
      "Processing short users:  72%|███████▏  | 720/1000 [56:43<26:16,  5.63s/it]"
     ]
    },
    {
     "name": "stdout",
     "output_type": "stream",
     "text": [
      "Saved progress after user: @mchelmiendaud8416\n",
      "\n",
      "Evaluating user: @y.mma09 | 24 comments\n"
     ]
    },
    {
     "name": "stderr",
     "output_type": "stream",
     "text": [
      "Processing short users:  72%|███████▏  | 721/1000 [56:48<24:59,  5.37s/it]"
     ]
    },
    {
     "name": "stdout",
     "output_type": "stream",
     "text": [
      "Saved progress after user: @y.mma09\n",
      "\n",
      "Evaluating user: @djrosette | 19 comments\n"
     ]
    },
    {
     "name": "stderr",
     "output_type": "stream",
     "text": [
      "Processing short users:  72%|███████▏  | 722/1000 [56:53<24:32,  5.30s/it]"
     ]
    },
    {
     "name": "stdout",
     "output_type": "stream",
     "text": [
      "Saved progress after user: @djrosette\n",
      "\n",
      "Evaluating user: @melissabowers2041 | 35 comments\n"
     ]
    },
    {
     "name": "stderr",
     "output_type": "stream",
     "text": [
      "Processing short users:  72%|███████▏  | 723/1000 [57:00<27:14,  5.90s/it]"
     ]
    },
    {
     "name": "stdout",
     "output_type": "stream",
     "text": [
      "Saved progress after user: @melissabowers2041\n",
      "\n",
      "Evaluating user: @Bob-n2d | 42 comments\n"
     ]
    },
    {
     "name": "stderr",
     "output_type": "stream",
     "text": [
      "Processing short users:  72%|███████▏  | 724/1000 [57:05<24:48,  5.39s/it]"
     ]
    },
    {
     "name": "stdout",
     "output_type": "stream",
     "text": [
      "Saved progress after user: @Bob-n2d\n",
      "\n",
      "Evaluating user: @Raaddller | 33 comments\n"
     ]
    },
    {
     "name": "stderr",
     "output_type": "stream",
     "text": [
      "Processing short users:  72%|███████▎  | 725/1000 [57:10<25:10,  5.49s/it]"
     ]
    },
    {
     "name": "stdout",
     "output_type": "stream",
     "text": [
      "Saved progress after user: @Raaddller\n",
      "\n",
      "Evaluating user: @grottorabbit | 25 comments\n"
     ]
    },
    {
     "name": "stderr",
     "output_type": "stream",
     "text": [
      "Processing short users:  73%|███████▎  | 726/1000 [57:14<23:12,  5.08s/it]"
     ]
    },
    {
     "name": "stdout",
     "output_type": "stream",
     "text": [
      "Saved progress after user: @grottorabbit\n",
      "\n",
      "Evaluating user: @gvbalajee | 30 comments\n"
     ]
    },
    {
     "name": "stderr",
     "output_type": "stream",
     "text": [
      "Processing short users:  73%|███████▎  | 727/1000 [57:18<21:27,  4.72s/it]"
     ]
    },
    {
     "name": "stdout",
     "output_type": "stream",
     "text": [
      "Saved progress after user: @gvbalajee\n",
      "\n",
      "Evaluating user: @EverythingIsMahogany | 29 comments\n"
     ]
    },
    {
     "name": "stderr",
     "output_type": "stream",
     "text": [
      "Processing short users:  73%|███████▎  | 728/1000 [57:23<21:30,  4.75s/it]"
     ]
    },
    {
     "name": "stdout",
     "output_type": "stream",
     "text": [
      "Saved progress after user: @EverythingIsMahogany\n",
      "\n",
      "Evaluating user: @Random-Shtuff-3000 | 19 comments\n"
     ]
    },
    {
     "name": "stderr",
     "output_type": "stream",
     "text": [
      "Processing short users:  73%|███████▎  | 729/1000 [57:28<22:05,  4.89s/it]"
     ]
    },
    {
     "name": "stdout",
     "output_type": "stream",
     "text": [
      "Saved progress after user: @Random-Shtuff-3000\n",
      "\n",
      "Evaluating user: @Xoxo-Raccoon | 19 comments\n"
     ]
    },
    {
     "name": "stderr",
     "output_type": "stream",
     "text": [
      "Processing short users:  73%|███████▎  | 730/1000 [57:33<21:12,  4.71s/it]"
     ]
    },
    {
     "name": "stdout",
     "output_type": "stream",
     "text": [
      "Saved progress after user: @Xoxo-Raccoon\n",
      "\n",
      "Evaluating user: @10ksubsswithnovids | 23 comments\n"
     ]
    },
    {
     "name": "stderr",
     "output_type": "stream",
     "text": [
      "Processing short users:  73%|███████▎  | 731/1000 [57:36<19:19,  4.31s/it]"
     ]
    },
    {
     "name": "stdout",
     "output_type": "stream",
     "text": [
      "Saved progress after user: @10ksubsswithnovids\n",
      "\n",
      "Evaluating user: @HURRIC4NEyt | 31 comments\n"
     ]
    },
    {
     "name": "stderr",
     "output_type": "stream",
     "text": [
      "Processing short users:  73%|███████▎  | 732/1000 [57:42<21:18,  4.77s/it]"
     ]
    },
    {
     "name": "stdout",
     "output_type": "stream",
     "text": [
      "Saved progress after user: @HURRIC4NEyt\n",
      "\n",
      "Evaluating user: @SaleemaBee-lt8nx | 22 comments\n"
     ]
    },
    {
     "name": "stderr",
     "output_type": "stream",
     "text": [
      "Processing short users:  73%|███████▎  | 733/1000 [57:48<22:38,  5.09s/it]"
     ]
    },
    {
     "name": "stdout",
     "output_type": "stream",
     "text": [
      "Saved progress after user: @SaleemaBee-lt8nx\n",
      "\n",
      "Evaluating user: @CollectorBlox | 34 comments\n"
     ]
    },
    {
     "name": "stderr",
     "output_type": "stream",
     "text": [
      "Processing short users:  73%|███████▎  | 734/1000 [57:54<23:49,  5.38s/it]"
     ]
    },
    {
     "name": "stdout",
     "output_type": "stream",
     "text": [
      "Saved progress after user: @CollectorBlox\n",
      "\n",
      "Evaluating user: @TiberiusTheLivingLegend | 21 comments\n"
     ]
    },
    {
     "name": "stderr",
     "output_type": "stream",
     "text": [
      "Processing short users:  74%|███████▎  | 735/1000 [57:58<22:43,  5.15s/it]"
     ]
    },
    {
     "name": "stdout",
     "output_type": "stream",
     "text": [
      "Saved progress after user: @TiberiusTheLivingLegend\n",
      "\n",
      "Evaluating user: @DARK_1nOnly | 43 comments\n"
     ]
    },
    {
     "name": "stderr",
     "output_type": "stream",
     "text": [
      "Processing short users:  74%|███████▎  | 736/1000 [58:04<22:52,  5.20s/it]"
     ]
    },
    {
     "name": "stdout",
     "output_type": "stream",
     "text": [
      "Saved progress after user: @DARK_1nOnly\n",
      "\n",
      "Evaluating user: @ourkitchenmagic | 21 comments\n"
     ]
    },
    {
     "name": "stderr",
     "output_type": "stream",
     "text": [
      "Processing short users:  74%|███████▎  | 737/1000 [58:08<21:36,  4.93s/it]"
     ]
    },
    {
     "name": "stdout",
     "output_type": "stream",
     "text": [
      "Saved progress after user: @ourkitchenmagic\n",
      "\n",
      "Evaluating user: @madhumitham98 | 18 comments\n"
     ]
    },
    {
     "name": "stderr",
     "output_type": "stream",
     "text": [
      "Processing short users:  74%|███████▍  | 738/1000 [58:13<22:10,  5.08s/it]"
     ]
    },
    {
     "name": "stdout",
     "output_type": "stream",
     "text": [
      "Saved progress after user: @madhumitham98\n",
      "\n",
      "Evaluating user: @Gusflow01 | 25 comments\n"
     ]
    },
    {
     "name": "stderr",
     "output_type": "stream",
     "text": [
      "Processing short users:  74%|███████▍  | 739/1000 [58:18<21:36,  4.97s/it]"
     ]
    },
    {
     "name": "stdout",
     "output_type": "stream",
     "text": [
      "Saved progress after user: @Gusflow01\n",
      "\n",
      "Evaluating user: @TalhaPalaz | 23 comments\n"
     ]
    },
    {
     "name": "stderr",
     "output_type": "stream",
     "text": [
      "Processing short users:  74%|███████▍  | 740/1000 [58:23<21:35,  4.98s/it]"
     ]
    },
    {
     "name": "stdout",
     "output_type": "stream",
     "text": [
      "Saved progress after user: @TalhaPalaz\n",
      "\n",
      "Evaluating user: @GardeningInTheGraden | 20 comments\n"
     ]
    },
    {
     "name": "stderr",
     "output_type": "stream",
     "text": [
      "Processing short users:  74%|███████▍  | 741/1000 [58:28<21:33,  4.99s/it]"
     ]
    },
    {
     "name": "stdout",
     "output_type": "stream",
     "text": [
      "Saved progress after user: @GardeningInTheGraden\n",
      "\n",
      "Evaluating user: @alexanderlevy158 | 18 comments\n"
     ]
    },
    {
     "name": "stderr",
     "output_type": "stream",
     "text": [
      "Processing short users:  74%|███████▍  | 742/1000 [58:33<21:06,  4.91s/it]"
     ]
    },
    {
     "name": "stdout",
     "output_type": "stream",
     "text": [
      "Saved progress after user: @alexanderlevy158\n",
      "\n",
      "Evaluating user: @grshift | 19 comments\n"
     ]
    },
    {
     "name": "stderr",
     "output_type": "stream",
     "text": [
      "Processing short users:  74%|███████▍  | 743/1000 [58:39<23:00,  5.37s/it]"
     ]
    },
    {
     "name": "stdout",
     "output_type": "stream",
     "text": [
      "Saved progress after user: @grshift\n",
      "\n",
      "Evaluating user: @mrcontrol111 | 110 comments\n"
     ]
    },
    {
     "name": "stderr",
     "output_type": "stream",
     "text": [
      "Processing short users:  74%|███████▍  | 744/1000 [58:44<22:33,  5.29s/it]"
     ]
    },
    {
     "name": "stdout",
     "output_type": "stream",
     "text": [
      "Saved progress after user: @mrcontrol111\n",
      "\n",
      "Evaluating user: @FunBurstt | 20 comments\n"
     ]
    },
    {
     "name": "stderr",
     "output_type": "stream",
     "text": [
      "Processing short users:  74%|███████▍  | 745/1000 [58:50<22:25,  5.28s/it]"
     ]
    },
    {
     "name": "stdout",
     "output_type": "stream",
     "text": [
      "Saved progress after user: @FunBurstt\n",
      "\n",
      "Evaluating user: @MuraliswaransukirthaSukirtha | 18 comments\n"
     ]
    },
    {
     "name": "stderr",
     "output_type": "stream",
     "text": [
      "Processing short users:  75%|███████▍  | 746/1000 [58:55<22:39,  5.35s/it]"
     ]
    },
    {
     "name": "stdout",
     "output_type": "stream",
     "text": [
      "Saved progress after user: @MuraliswaransukirthaSukirtha\n",
      "\n",
      "Evaluating user: @Noah_guest_666 | 25 comments\n"
     ]
    },
    {
     "name": "stderr",
     "output_type": "stream",
     "text": [
      "Processing short users:  75%|███████▍  | 747/1000 [58:59<20:43,  4.91s/it]"
     ]
    },
    {
     "name": "stdout",
     "output_type": "stream",
     "text": [
      "Saved progress after user: @Noah_guest_666\n",
      "\n",
      "Evaluating user: @OlgaMaqueramamani | 33 comments\n"
     ]
    },
    {
     "name": "stderr",
     "output_type": "stream",
     "text": [
      "Processing short users:  75%|███████▍  | 748/1000 [59:03<19:36,  4.67s/it]"
     ]
    },
    {
     "name": "stdout",
     "output_type": "stream",
     "text": [
      "Saved progress after user: @OlgaMaqueramamani\n",
      "\n",
      "Evaluating user: @JustAnEpicGuy510 | 22 comments\n"
     ]
    },
    {
     "name": "stderr",
     "output_type": "stream",
     "text": [
      "Processing short users:  75%|███████▍  | 749/1000 [59:07<18:41,  4.47s/it]"
     ]
    },
    {
     "name": "stdout",
     "output_type": "stream",
     "text": [
      "Saved progress after user: @JustAnEpicGuy510\n",
      "\n",
      "Evaluating user: @Malaki112 | 24 comments\n"
     ]
    },
    {
     "name": "stderr",
     "output_type": "stream",
     "text": [
      "Processing short users:  75%|███████▌  | 750/1000 [59:12<18:39,  4.48s/it]"
     ]
    },
    {
     "name": "stdout",
     "output_type": "stream",
     "text": [
      "Saved progress after user: @Malaki112\n",
      "\n",
      "Evaluating user: @mercelindagarcia4857 | 35 comments\n"
     ]
    },
    {
     "name": "stderr",
     "output_type": "stream",
     "text": [
      "Processing short users:  75%|███████▌  | 751/1000 [59:15<17:27,  4.21s/it]"
     ]
    },
    {
     "name": "stdout",
     "output_type": "stream",
     "text": [
      "Saved progress after user: @mercelindagarcia4857\n",
      "\n",
      "Evaluating user: @TerryBarretteFanDecillion639 | 28 comments\n"
     ]
    },
    {
     "name": "stderr",
     "output_type": "stream",
     "text": [
      "Processing short users:  75%|███████▌  | 752/1000 [59:20<18:24,  4.45s/it]"
     ]
    },
    {
     "name": "stdout",
     "output_type": "stream",
     "text": [
      "Saved progress after user: @TerryBarretteFanDecillion639\n",
      "\n",
      "Evaluating user: @rachelsworld5922 | 36 comments\n"
     ]
    },
    {
     "name": "stderr",
     "output_type": "stream",
     "text": [
      "Processing short users:  75%|███████▌  | 753/1000 [59:25<18:39,  4.53s/it]"
     ]
    },
    {
     "name": "stdout",
     "output_type": "stream",
     "text": [
      "Saved progress after user: @rachelsworld5922\n",
      "\n",
      "Evaluating user: @princetkidgamer17 | 22 comments\n"
     ]
    },
    {
     "name": "stderr",
     "output_type": "stream",
     "text": [
      "Processing short users:  75%|███████▌  | 754/1000 [59:30<18:55,  4.61s/it]"
     ]
    },
    {
     "name": "stdout",
     "output_type": "stream",
     "text": [
      "Saved progress after user: @princetkidgamer17\n",
      "\n",
      "Evaluating user: @bryanthernandez9769 | 21 comments\n"
     ]
    },
    {
     "name": "stderr",
     "output_type": "stream",
     "text": [
      "Processing short users:  76%|███████▌  | 755/1000 [59:35<19:05,  4.68s/it]"
     ]
    },
    {
     "name": "stdout",
     "output_type": "stream",
     "text": [
      "Saved progress after user: @bryanthernandez9769\n",
      "\n",
      "Evaluating user: @marianasillva456 | 21 comments\n"
     ]
    },
    {
     "name": "stderr",
     "output_type": "stream",
     "text": [
      "Processing short users:  76%|███████▌  | 756/1000 [59:39<18:18,  4.50s/it]"
     ]
    },
    {
     "name": "stdout",
     "output_type": "stream",
     "text": [
      "Saved progress after user: @marianasillva456\n",
      "\n",
      "Evaluating user: @tiniagaffud-hagen6579 | 20 comments\n"
     ]
    },
    {
     "name": "stderr",
     "output_type": "stream",
     "text": [
      "Processing short users:  76%|███████▌  | 757/1000 [59:42<16:59,  4.19s/it]"
     ]
    },
    {
     "name": "stdout",
     "output_type": "stream",
     "text": [
      "Saved progress after user: @tiniagaffud-hagen6579\n",
      "\n",
      "Evaluating user: @justicebanda9920 | 47 comments\n"
     ]
    },
    {
     "name": "stderr",
     "output_type": "stream",
     "text": [
      "Processing short users:  76%|███████▌  | 758/1000 [59:46<16:47,  4.16s/it]"
     ]
    },
    {
     "name": "stdout",
     "output_type": "stream",
     "text": [
      "Saved progress after user: @justicebanda9920\n",
      "\n",
      "Evaluating user: @carlettethomas5252 | 18 comments\n"
     ]
    },
    {
     "name": "stderr",
     "output_type": "stream",
     "text": [
      "Processing short users:  76%|███████▌  | 759/1000 [59:50<16:46,  4.18s/it]"
     ]
    },
    {
     "name": "stdout",
     "output_type": "stream",
     "text": [
      "Saved progress after user: @carlettethomas5252\n",
      "\n",
      "Evaluating user: @bjohnston3659 | 21 comments\n"
     ]
    },
    {
     "name": "stderr",
     "output_type": "stream",
     "text": [
      "Processing short users:  76%|███████▌  | 760/1000 [59:55<17:13,  4.31s/it]"
     ]
    },
    {
     "name": "stdout",
     "output_type": "stream",
     "text": [
      "Saved progress after user: @bjohnston3659\n",
      "\n",
      "Evaluating user: @ob1kenobjunior208 | 22 comments\n"
     ]
    },
    {
     "name": "stderr",
     "output_type": "stream",
     "text": [
      "Processing short users:  76%|███████▌  | 761/1000 [59:59<16:53,  4.24s/it]"
     ]
    },
    {
     "name": "stdout",
     "output_type": "stream",
     "text": [
      "Saved progress after user: @ob1kenobjunior208\n",
      "\n",
      "Evaluating user: @智深含泪葬花 | 23 comments\n"
     ]
    },
    {
     "name": "stderr",
     "output_type": "stream",
     "text": [
      "Processing short users:  76%|███████▌  | 762/1000 [1:00:05<19:02,  4.80s/it]"
     ]
    },
    {
     "name": "stdout",
     "output_type": "stream",
     "text": [
      "Saved progress after user: @智深含泪葬花\n",
      "\n",
      "Evaluating user: @Salkinmusic | 19 comments\n"
     ]
    },
    {
     "name": "stderr",
     "output_type": "stream",
     "text": [
      "Processing short users:  76%|███████▋  | 763/1000 [1:00:10<19:07,  4.84s/it]"
     ]
    },
    {
     "name": "stdout",
     "output_type": "stream",
     "text": [
      "Saved progress after user: @Salkinmusic\n",
      "\n",
      "Evaluating user: @ChrisAndCats | 20 comments\n"
     ]
    },
    {
     "name": "stderr",
     "output_type": "stream",
     "text": [
      "Processing short users:  76%|███████▋  | 764/1000 [1:00:18<22:10,  5.64s/it]"
     ]
    },
    {
     "name": "stdout",
     "output_type": "stream",
     "text": [
      "Saved progress after user: @ChrisAndCats\n",
      "\n",
      "Evaluating user: @Cheezy-ee4er | 18 comments\n"
     ]
    },
    {
     "name": "stderr",
     "output_type": "stream",
     "text": [
      "Processing short users:  76%|███████▋  | 765/1000 [1:00:24<22:25,  5.73s/it]"
     ]
    },
    {
     "name": "stdout",
     "output_type": "stream",
     "text": [
      "Saved progress after user: @Cheezy-ee4er\n",
      "\n",
      "Evaluating user: @hydrolistconlanka4729 | 18 comments\n"
     ]
    },
    {
     "name": "stderr",
     "output_type": "stream",
     "text": [
      "Processing short users:  77%|███████▋  | 766/1000 [1:00:29<21:30,  5.51s/it]"
     ]
    },
    {
     "name": "stdout",
     "output_type": "stream",
     "text": [
      "Saved progress after user: @hydrolistconlanka4729\n",
      "\n",
      "Evaluating user: @CesarNostradamus-wj9uq | 29 comments\n"
     ]
    },
    {
     "name": "stderr",
     "output_type": "stream",
     "text": [
      "Processing short users:  77%|███████▋  | 767/1000 [1:00:34<20:57,  5.40s/it]"
     ]
    },
    {
     "name": "stdout",
     "output_type": "stream",
     "text": [
      "Saved progress after user: @CesarNostradamus-wj9uq\n",
      "\n",
      "Evaluating user: @atulxenpai | 25 comments\n"
     ]
    },
    {
     "name": "stderr",
     "output_type": "stream",
     "text": [
      "Processing short users:  77%|███████▋  | 768/1000 [1:00:42<23:38,  6.11s/it]"
     ]
    },
    {
     "name": "stdout",
     "output_type": "stream",
     "text": [
      "Saved progress after user: @atulxenpai\n",
      "\n",
      "Evaluating user: @Mike-h7y6v | 23 comments\n"
     ]
    },
    {
     "name": "stderr",
     "output_type": "stream",
     "text": [
      "Processing short users:  77%|███████▋  | 769/1000 [1:00:45<20:07,  5.23s/it]"
     ]
    },
    {
     "name": "stdout",
     "output_type": "stream",
     "text": [
      "Saved progress after user: @Mike-h7y6v\n",
      "\n",
      "Evaluating user: @jacobcasmus1882 | 21 comments\n"
     ]
    },
    {
     "name": "stderr",
     "output_type": "stream",
     "text": [
      "Processing short users:  77%|███████▋  | 770/1000 [1:00:49<19:13,  5.01s/it]"
     ]
    },
    {
     "name": "stdout",
     "output_type": "stream",
     "text": [
      "Saved progress after user: @jacobcasmus1882\n",
      "\n",
      "Evaluating user: @jonathanjoestar9317 | 21 comments\n"
     ]
    },
    {
     "name": "stderr",
     "output_type": "stream",
     "text": [
      "Processing short users:  77%|███████▋  | 771/1000 [1:00:54<18:36,  4.88s/it]"
     ]
    },
    {
     "name": "stdout",
     "output_type": "stream",
     "text": [
      "Saved progress after user: @jonathanjoestar9317\n",
      "\n",
      "Evaluating user: @Senibatualam1293channel | 25 comments\n"
     ]
    },
    {
     "name": "stderr",
     "output_type": "stream",
     "text": [
      "Processing short users:  77%|███████▋  | 772/1000 [1:00:58<17:21,  4.57s/it]"
     ]
    },
    {
     "name": "stdout",
     "output_type": "stream",
     "text": [
      "Saved progress after user: @Senibatualam1293channel\n",
      "\n",
      "Evaluating user: @zybimat | 18 comments\n"
     ]
    },
    {
     "name": "stderr",
     "output_type": "stream",
     "text": [
      "Processing short users:  77%|███████▋  | 773/1000 [1:01:02<16:43,  4.42s/it]"
     ]
    },
    {
     "name": "stdout",
     "output_type": "stream",
     "text": [
      "Saved progress after user: @zybimat\n",
      "\n",
      "Evaluating user: @arnaldocamargo855 | 20 comments\n"
     ]
    },
    {
     "name": "stderr",
     "output_type": "stream",
     "text": [
      "Processing short users:  77%|███████▋  | 774/1000 [1:01:06<16:17,  4.33s/it]"
     ]
    },
    {
     "name": "stdout",
     "output_type": "stream",
     "text": [
      "Saved progress after user: @arnaldocamargo855\n",
      "\n",
      "Evaluating user: @ProphetOfDoubt | 21 comments\n"
     ]
    },
    {
     "name": "stderr",
     "output_type": "stream",
     "text": [
      "Processing short users:  78%|███████▊  | 775/1000 [1:01:10<16:30,  4.40s/it]"
     ]
    },
    {
     "name": "stdout",
     "output_type": "stream",
     "text": [
      "Saved progress after user: @ProphetOfDoubt\n",
      "\n",
      "Evaluating user: @PeakyBlinder0408 | 23 comments\n"
     ]
    },
    {
     "name": "stderr",
     "output_type": "stream",
     "text": [
      "Processing short users:  78%|███████▊  | 776/1000 [1:01:15<16:55,  4.53s/it]"
     ]
    },
    {
     "name": "stdout",
     "output_type": "stream",
     "text": [
      "Saved progress after user: @PeakyBlinder0408\n",
      "\n",
      "Evaluating user: @Waqas_Mirza_in_Uk | 21 comments\n"
     ]
    },
    {
     "name": "stderr",
     "output_type": "stream",
     "text": [
      "Processing short users:  78%|███████▊  | 777/1000 [1:01:19<16:21,  4.40s/it]"
     ]
    },
    {
     "name": "stdout",
     "output_type": "stream",
     "text": [
      "Saved progress after user: @Waqas_Mirza_in_Uk\n",
      "\n",
      "Evaluating user: @SomuRai | 19 comments\n"
     ]
    },
    {
     "name": "stderr",
     "output_type": "stream",
     "text": [
      "Processing short users:  78%|███████▊  | 778/1000 [1:01:24<16:10,  4.37s/it]"
     ]
    },
    {
     "name": "stdout",
     "output_type": "stream",
     "text": [
      "Saved progress after user: @SomuRai\n",
      "\n",
      "Evaluating user: @balubhaichudasama5579 | 21 comments\n"
     ]
    },
    {
     "name": "stderr",
     "output_type": "stream",
     "text": [
      "Processing short users:  78%|███████▊  | 779/1000 [1:01:29<17:43,  4.81s/it]"
     ]
    },
    {
     "name": "stdout",
     "output_type": "stream",
     "text": [
      "Saved progress after user: @balubhaichudasama5579\n",
      "\n",
      "Evaluating user: @Mr_comicguy129 | 30 comments\n"
     ]
    },
    {
     "name": "stderr",
     "output_type": "stream",
     "text": [
      "Processing short users:  78%|███████▊  | 780/1000 [1:01:34<17:04,  4.66s/it]"
     ]
    },
    {
     "name": "stdout",
     "output_type": "stream",
     "text": [
      "Saved progress after user: @Mr_comicguy129\n",
      "\n",
      "Evaluating user: @Hello-911-HHH | 39 comments\n"
     ]
    },
    {
     "name": "stderr",
     "output_type": "stream",
     "text": [
      "Processing short users:  78%|███████▊  | 781/1000 [1:01:38<16:09,  4.43s/it]"
     ]
    },
    {
     "name": "stdout",
     "output_type": "stream",
     "text": [
      "Saved progress after user: @Hello-911-HHH\n",
      "\n",
      "Evaluating user: @LORD_SHEN_III | 19 comments\n"
     ]
    },
    {
     "name": "stderr",
     "output_type": "stream",
     "text": [
      "Processing short users:  78%|███████▊  | 782/1000 [1:01:43<17:19,  4.77s/it]"
     ]
    },
    {
     "name": "stdout",
     "output_type": "stream",
     "text": [
      "Saved progress after user: @LORD_SHEN_III\n",
      "\n",
      "Evaluating user: @elladanbferm1934 | 19 comments\n"
     ]
    },
    {
     "name": "stderr",
     "output_type": "stream",
     "text": [
      "Processing short users:  78%|███████▊  | 783/1000 [1:01:49<18:01,  4.98s/it]"
     ]
    },
    {
     "name": "stdout",
     "output_type": "stream",
     "text": [
      "Saved progress after user: @elladanbferm1934\n",
      "\n",
      "Evaluating user: @Winnerz32 | 23 comments\n"
     ]
    },
    {
     "name": "stderr",
     "output_type": "stream",
     "text": [
      "Processing short users:  78%|███████▊  | 784/1000 [1:01:54<18:40,  5.19s/it]"
     ]
    },
    {
     "name": "stdout",
     "output_type": "stream",
     "text": [
      "Saved progress after user: @Winnerz32\n",
      "\n",
      "Evaluating user: @AdamDaniec | 30 comments\n"
     ]
    },
    {
     "name": "stderr",
     "output_type": "stream",
     "text": [
      "Processing short users:  78%|███████▊  | 785/1000 [1:01:59<18:16,  5.10s/it]"
     ]
    },
    {
     "name": "stdout",
     "output_type": "stream",
     "text": [
      "Saved progress after user: @AdamDaniec\n",
      "\n",
      "Evaluating user: @zelura | 30 comments\n"
     ]
    },
    {
     "name": "stderr",
     "output_type": "stream",
     "text": [
      "Processing short users:  79%|███████▊  | 786/1000 [1:02:03<17:13,  4.83s/it]"
     ]
    },
    {
     "name": "stdout",
     "output_type": "stream",
     "text": [
      "Saved progress after user: @zelura\n",
      "\n",
      "Evaluating user: @Bot1.0-v3 | 18 comments\n"
     ]
    },
    {
     "name": "stderr",
     "output_type": "stream",
     "text": [
      "Processing short users:  79%|███████▊  | 787/1000 [1:02:09<18:26,  5.19s/it]"
     ]
    },
    {
     "name": "stdout",
     "output_type": "stream",
     "text": [
      "Saved progress after user: @Bot1.0-v3\n",
      "\n",
      "Evaluating user: @GigiGleave | 32 comments\n"
     ]
    },
    {
     "name": "stderr",
     "output_type": "stream",
     "text": [
      "Processing short users:  79%|███████▉  | 788/1000 [1:02:14<17:56,  5.08s/it]"
     ]
    },
    {
     "name": "stdout",
     "output_type": "stream",
     "text": [
      "Saved progress after user: @GigiGleave\n",
      "\n",
      "Evaluating user: @Jurian2004 | 19 comments\n"
     ]
    },
    {
     "name": "stderr",
     "output_type": "stream",
     "text": [
      "Processing short users:  79%|███████▉  | 789/1000 [1:02:19<17:21,  4.94s/it]"
     ]
    },
    {
     "name": "stdout",
     "output_type": "stream",
     "text": [
      "Saved progress after user: @Jurian2004\n",
      "\n",
      "Evaluating user: @Sans-t2p | 21 comments\n"
     ]
    },
    {
     "name": "stderr",
     "output_type": "stream",
     "text": [
      "Processing short users:  79%|███████▉  | 790/1000 [1:02:23<16:49,  4.81s/it]"
     ]
    },
    {
     "name": "stdout",
     "output_type": "stream",
     "text": [
      "Saved progress after user: @Sans-t2p\n",
      "\n",
      "Evaluating user: @estherlee8122 | 25 comments\n"
     ]
    },
    {
     "name": "stderr",
     "output_type": "stream",
     "text": [
      "Processing short users:  79%|███████▉  | 791/1000 [1:02:29<18:02,  5.18s/it]"
     ]
    },
    {
     "name": "stdout",
     "output_type": "stream",
     "text": [
      "Saved progress after user: @estherlee8122\n",
      "\n",
      "Evaluating user: @priyankayadav-nq2dw | 29 comments\n"
     ]
    },
    {
     "name": "stderr",
     "output_type": "stream",
     "text": [
      "Processing short users:  79%|███████▉  | 792/1000 [1:02:35<17:59,  5.19s/it]"
     ]
    },
    {
     "name": "stdout",
     "output_type": "stream",
     "text": [
      "Saved progress after user: @priyankayadav-nq2dw\n",
      "\n",
      "Evaluating user: @nouhabou8056 | 32 comments\n"
     ]
    },
    {
     "name": "stderr",
     "output_type": "stream",
     "text": [
      "Processing short users:  79%|███████▉  | 793/1000 [1:02:39<16:59,  4.92s/it]"
     ]
    },
    {
     "name": "stdout",
     "output_type": "stream",
     "text": [
      "Saved progress after user: @nouhabou8056\n",
      "\n",
      "Evaluating user: @Kiaw2313 | 18 comments\n"
     ]
    },
    {
     "name": "stderr",
     "output_type": "stream",
     "text": [
      "Processing short users:  79%|███████▉  | 794/1000 [1:02:44<16:47,  4.89s/it]"
     ]
    },
    {
     "name": "stdout",
     "output_type": "stream",
     "text": [
      "Saved progress after user: @Kiaw2313\n",
      "\n",
      "Evaluating user: @SalahAkrem | 33 comments\n"
     ]
    },
    {
     "name": "stderr",
     "output_type": "stream",
     "text": [
      "Processing short users:  80%|███████▉  | 795/1000 [1:02:48<16:00,  4.68s/it]"
     ]
    },
    {
     "name": "stdout",
     "output_type": "stream",
     "text": [
      "Saved progress after user: @SalahAkrem\n",
      "\n",
      "Evaluating user: @seemagowrising4388 | 20 comments\n"
     ]
    },
    {
     "name": "stderr",
     "output_type": "stream",
     "text": [
      "Processing short users:  80%|███████▉  | 796/1000 [1:02:53<15:55,  4.68s/it]"
     ]
    },
    {
     "name": "stdout",
     "output_type": "stream",
     "text": [
      "Saved progress after user: @seemagowrising4388\n",
      "\n",
      "Evaluating user: @ineseberzina754 | 21 comments\n"
     ]
    },
    {
     "name": "stderr",
     "output_type": "stream",
     "text": [
      "Processing short users:  80%|███████▉  | 797/1000 [1:02:56<14:22,  4.25s/it]"
     ]
    },
    {
     "name": "stdout",
     "output_type": "stream",
     "text": [
      "Saved progress after user: @ineseberzina754\n",
      "\n",
      "Evaluating user: @Zaidziz-e9y | 21 comments\n"
     ]
    },
    {
     "name": "stderr",
     "output_type": "stream",
     "text": [
      "Processing short users:  80%|███████▉  | 798/1000 [1:03:00<14:31,  4.31s/it]"
     ]
    },
    {
     "name": "stdout",
     "output_type": "stream",
     "text": [
      "Saved progress after user: @Zaidziz-e9y\n",
      "\n",
      "Evaluating user: @djmhammer331 | 20 comments\n"
     ]
    },
    {
     "name": "stderr",
     "output_type": "stream",
     "text": [
      "Processing short users:  80%|███████▉  | 799/1000 [1:03:05<14:26,  4.31s/it]"
     ]
    },
    {
     "name": "stdout",
     "output_type": "stream",
     "text": [
      "Saved progress after user: @djmhammer331\n",
      "\n",
      "Evaluating user: @JackTrahanOfficial | 25 comments\n"
     ]
    },
    {
     "name": "stderr",
     "output_type": "stream",
     "text": [
      "Processing short users:  80%|████████  | 800/1000 [1:03:09<14:46,  4.43s/it]"
     ]
    },
    {
     "name": "stdout",
     "output_type": "stream",
     "text": [
      "Saved progress after user: @JackTrahanOfficial\n",
      "\n",
      "Evaluating user: @Rinu...09 | 36 comments\n"
     ]
    },
    {
     "name": "stderr",
     "output_type": "stream",
     "text": [
      "Processing short users:  80%|████████  | 801/1000 [1:03:14<15:04,  4.55s/it]"
     ]
    },
    {
     "name": "stdout",
     "output_type": "stream",
     "text": [
      "Saved progress after user: @Rinu...09\n",
      "\n",
      "Evaluating user: @rizwanakhatoon7796 | 19 comments\n"
     ]
    },
    {
     "name": "stderr",
     "output_type": "stream",
     "text": [
      "Processing short users:  80%|████████  | 802/1000 [1:03:18<14:36,  4.42s/it]"
     ]
    },
    {
     "name": "stdout",
     "output_type": "stream",
     "text": [
      "Saved progress after user: @rizwanakhatoon7796\n",
      "\n",
      "Evaluating user: @ayaz_er_ma | 23 comments\n"
     ]
    },
    {
     "name": "stderr",
     "output_type": "stream",
     "text": [
      "Processing short users:  80%|████████  | 803/1000 [1:03:23<14:59,  4.57s/it]"
     ]
    },
    {
     "name": "stdout",
     "output_type": "stream",
     "text": [
      "Saved progress after user: @ayaz_er_ma\n",
      "\n",
      "Evaluating user: @sass4394 | 19 comments\n"
     ]
    },
    {
     "name": "stderr",
     "output_type": "stream",
     "text": [
      "Processing short users:  80%|████████  | 804/1000 [1:03:33<20:15,  6.20s/it]"
     ]
    },
    {
     "name": "stdout",
     "output_type": "stream",
     "text": [
      "Saved progress after user: @sass4394\n",
      "\n",
      "Evaluating user: @trashantemitchell9353 | 20 comments\n"
     ]
    },
    {
     "name": "stderr",
     "output_type": "stream",
     "text": [
      "Processing short users:  80%|████████  | 805/1000 [1:03:38<18:23,  5.66s/it]"
     ]
    },
    {
     "name": "stdout",
     "output_type": "stream",
     "text": [
      "Saved progress after user: @trashantemitchell9353\n",
      "\n",
      "Evaluating user: @manda651 | 28 comments\n"
     ]
    },
    {
     "name": "stderr",
     "output_type": "stream",
     "text": [
      "Processing short users:  81%|████████  | 806/1000 [1:03:43<17:52,  5.53s/it]"
     ]
    },
    {
     "name": "stdout",
     "output_type": "stream",
     "text": [
      "Saved progress after user: @manda651\n",
      "\n",
      "Evaluating user: @ChloeB-h2b | 24 comments\n"
     ]
    },
    {
     "name": "stderr",
     "output_type": "stream",
     "text": [
      "Processing short users:  81%|████████  | 807/1000 [1:03:46<15:36,  4.85s/it]"
     ]
    },
    {
     "name": "stdout",
     "output_type": "stream",
     "text": [
      "Saved progress after user: @ChloeB-h2b\n",
      "\n",
      "Evaluating user: @MANOJAKumar-j9p | 33 comments\n"
     ]
    },
    {
     "name": "stderr",
     "output_type": "stream",
     "text": [
      "Processing short users:  81%|████████  | 808/1000 [1:03:51<15:17,  4.78s/it]"
     ]
    },
    {
     "name": "stdout",
     "output_type": "stream",
     "text": [
      "Saved progress after user: @MANOJAKumar-j9p\n",
      "\n",
      "Evaluating user: @inescouvertier | 21 comments\n"
     ]
    },
    {
     "name": "stderr",
     "output_type": "stream",
     "text": [
      "Processing short users:  81%|████████  | 809/1000 [1:03:55<14:51,  4.67s/it]"
     ]
    },
    {
     "name": "stdout",
     "output_type": "stream",
     "text": [
      "Saved progress after user: @inescouvertier\n",
      "\n",
      "Evaluating user: @RobertWarrenjr-g8p | 24 comments\n"
     ]
    },
    {
     "name": "stderr",
     "output_type": "stream",
     "text": [
      "Processing short users:  81%|████████  | 810/1000 [1:03:59<13:50,  4.37s/it]"
     ]
    },
    {
     "name": "stdout",
     "output_type": "stream",
     "text": [
      "Saved progress after user: @RobertWarrenjr-g8p\n",
      "\n",
      "Evaluating user: @annexmumbi3079 | 24 comments\n"
     ]
    },
    {
     "name": "stderr",
     "output_type": "stream",
     "text": [
      "Processing short users:  81%|████████  | 811/1000 [1:04:04<14:40,  4.66s/it]"
     ]
    },
    {
     "name": "stdout",
     "output_type": "stream",
     "text": [
      "Saved progress after user: @annexmumbi3079\n",
      "\n",
      "Evaluating user: @FirstLast-cf9fj | 20 comments\n"
     ]
    },
    {
     "name": "stderr",
     "output_type": "stream",
     "text": [
      "Processing short users:  81%|████████  | 812/1000 [1:04:08<14:14,  4.54s/it]"
     ]
    },
    {
     "name": "stdout",
     "output_type": "stream",
     "text": [
      "Saved progress after user: @FirstLast-cf9fj\n",
      "\n",
      "Evaluating user: @MORTAZAAhmadzay-lf1yg | 25 comments\n"
     ]
    },
    {
     "name": "stderr",
     "output_type": "stream",
     "text": [
      "Processing short users:  81%|████████▏ | 813/1000 [1:04:12<13:09,  4.22s/it]"
     ]
    },
    {
     "name": "stdout",
     "output_type": "stream",
     "text": [
      "Saved progress after user: @MORTAZAAhmadzay-lf1yg\n",
      "\n",
      "Evaluating user: @RebeccaOduro-t1k | 18 comments\n"
     ]
    },
    {
     "name": "stderr",
     "output_type": "stream",
     "text": [
      "Processing short users:  81%|████████▏ | 814/1000 [1:04:17<13:40,  4.41s/it]"
     ]
    },
    {
     "name": "stdout",
     "output_type": "stream",
     "text": [
      "Saved progress after user: @RebeccaOduro-t1k\n",
      "\n",
      "Evaluating user: @e.zavalah.5613 | 25 comments\n"
     ]
    },
    {
     "name": "stderr",
     "output_type": "stream",
     "text": [
      "Processing short users:  82%|████████▏ | 815/1000 [1:04:21<13:46,  4.47s/it]"
     ]
    },
    {
     "name": "stdout",
     "output_type": "stream",
     "text": [
      "Saved progress after user: @e.zavalah.5613\n",
      "\n",
      "Evaluating user: @allysedang3506 | 27 comments\n"
     ]
    },
    {
     "name": "stderr",
     "output_type": "stream",
     "text": [
      "Processing short users:  82%|████████▏ | 816/1000 [1:04:27<14:57,  4.88s/it]"
     ]
    },
    {
     "name": "stdout",
     "output_type": "stream",
     "text": [
      "Saved progress after user: @allysedang3506\n",
      "\n",
      "Evaluating user: @JasmineJenman | 32 comments\n"
     ]
    },
    {
     "name": "stderr",
     "output_type": "stream",
     "text": [
      "Processing short users:  82%|████████▏ | 817/1000 [1:04:32<14:26,  4.74s/it]"
     ]
    },
    {
     "name": "stdout",
     "output_type": "stream",
     "text": [
      "Saved progress after user: @JasmineJenman\n",
      "\n",
      "Evaluating user: @user-tc8ln7qg1x | 24 comments\n"
     ]
    },
    {
     "name": "stderr",
     "output_type": "stream",
     "text": [
      "Processing short users:  82%|████████▏ | 818/1000 [1:04:39<16:34,  5.47s/it]"
     ]
    },
    {
     "name": "stdout",
     "output_type": "stream",
     "text": [
      "Saved progress after user: @user-tc8ln7qg1x\n",
      "\n",
      "Evaluating user: @Jie2-k9r | 32 comments\n"
     ]
    },
    {
     "name": "stderr",
     "output_type": "stream",
     "text": [
      "Processing short users:  82%|████████▏ | 819/1000 [1:04:43<14:58,  4.96s/it]"
     ]
    },
    {
     "name": "stdout",
     "output_type": "stream",
     "text": [
      "Saved progress after user: @Jie2-k9r\n",
      "\n",
      "Evaluating user: @nelsonbeckyu2488 | 33 comments\n"
     ]
    },
    {
     "name": "stderr",
     "output_type": "stream",
     "text": [
      "Processing short users:  82%|████████▏ | 820/1000 [1:04:47<14:22,  4.79s/it]"
     ]
    },
    {
     "name": "stdout",
     "output_type": "stream",
     "text": [
      "Saved progress after user: @nelsonbeckyu2488\n",
      "\n",
      "Evaluating user: @pyabalolemou4748 | 28 comments\n"
     ]
    },
    {
     "name": "stderr",
     "output_type": "stream",
     "text": [
      "Processing short users:  82%|████████▏ | 821/1000 [1:04:52<14:19,  4.80s/it]"
     ]
    },
    {
     "name": "stdout",
     "output_type": "stream",
     "text": [
      "Saved progress after user: @pyabalolemou4748\n",
      "\n",
      "Evaluating user: @FunTimeZone99 | 18 comments\n"
     ]
    },
    {
     "name": "stderr",
     "output_type": "stream",
     "text": [
      "Processing short users:  82%|████████▏ | 822/1000 [1:04:58<15:25,  5.20s/it]"
     ]
    },
    {
     "name": "stdout",
     "output_type": "stream",
     "text": [
      "Saved progress after user: @FunTimeZone99\n",
      "\n",
      "Evaluating user: @PappuRana-o8c | 48 comments\n"
     ]
    },
    {
     "name": "stderr",
     "output_type": "stream",
     "text": [
      "Processing short users:  82%|████████▏ | 823/1000 [1:05:03<15:27,  5.24s/it]"
     ]
    },
    {
     "name": "stdout",
     "output_type": "stream",
     "text": [
      "Saved progress after user: @PappuRana-o8c\n",
      "\n",
      "Evaluating user: @SurajMeena-rs8ws | 18 comments\n"
     ]
    },
    {
     "name": "stderr",
     "output_type": "stream",
     "text": [
      "Processing short users:  82%|████████▏ | 824/1000 [1:05:07<14:11,  4.84s/it]"
     ]
    },
    {
     "name": "stdout",
     "output_type": "stream",
     "text": [
      "Saved progress after user: @SurajMeena-rs8ws\n",
      "\n",
      "Evaluating user: @cutebabyediz2009 | 38 comments\n"
     ]
    },
    {
     "name": "stderr",
     "output_type": "stream",
     "text": [
      "Processing short users:  82%|████████▎ | 825/1000 [1:05:13<15:09,  5.20s/it]"
     ]
    },
    {
     "name": "stdout",
     "output_type": "stream",
     "text": [
      "Saved progress after user: @cutebabyediz2009\n",
      "\n",
      "Evaluating user: @SafiCidarath-bh5ct | 48 comments\n"
     ]
    },
    {
     "name": "stderr",
     "output_type": "stream",
     "text": [
      "Processing short users:  83%|████████▎ | 826/1000 [1:05:20<16:09,  5.57s/it]"
     ]
    },
    {
     "name": "stdout",
     "output_type": "stream",
     "text": [
      "Saved progress after user: @SafiCidarath-bh5ct\n",
      "\n",
      "Evaluating user: @KankesWaran | 18 comments\n"
     ]
    },
    {
     "name": "stderr",
     "output_type": "stream",
     "text": [
      "Processing short users:  83%|████████▎ | 827/1000 [1:05:25<15:45,  5.47s/it]"
     ]
    },
    {
     "name": "stdout",
     "output_type": "stream",
     "text": [
      "Saved progress after user: @KankesWaran\n",
      "\n",
      "Evaluating user: @TheScottZone | 23 comments\n"
     ]
    },
    {
     "name": "stderr",
     "output_type": "stream",
     "text": [
      "Processing short users:  83%|████████▎ | 828/1000 [1:05:29<14:40,  5.12s/it]"
     ]
    },
    {
     "name": "stdout",
     "output_type": "stream",
     "text": [
      "Saved progress after user: @TheScottZone\n",
      "\n",
      "Evaluating user: @AM-BLUE | 21 comments\n"
     ]
    },
    {
     "name": "stderr",
     "output_type": "stream",
     "text": [
      "Processing short users:  83%|████████▎ | 829/1000 [1:05:33<13:37,  4.78s/it]"
     ]
    },
    {
     "name": "stdout",
     "output_type": "stream",
     "text": [
      "Saved progress after user: @AM-BLUE\n",
      "\n",
      "Evaluating user: @itzdardz2638 | 30 comments\n"
     ]
    },
    {
     "name": "stderr",
     "output_type": "stream",
     "text": [
      "Processing short users:  83%|████████▎ | 830/1000 [1:05:38<13:50,  4.88s/it]"
     ]
    },
    {
     "name": "stdout",
     "output_type": "stream",
     "text": [
      "Saved progress after user: @itzdardz2638\n",
      "\n",
      "Evaluating user: @yudylamas7004 | 18 comments\n"
     ]
    },
    {
     "name": "stderr",
     "output_type": "stream",
     "text": [
      "Processing short users:  83%|████████▎ | 831/1000 [1:05:43<13:31,  4.80s/it]"
     ]
    },
    {
     "name": "stdout",
     "output_type": "stream",
     "text": [
      "Saved progress after user: @yudylamas7004\n",
      "\n",
      "Evaluating user: @Paulo207 | 22 comments\n"
     ]
    },
    {
     "name": "stderr",
     "output_type": "stream",
     "text": [
      "Processing short users:  83%|████████▎ | 832/1000 [1:05:47<12:30,  4.47s/it]"
     ]
    },
    {
     "name": "stdout",
     "output_type": "stream",
     "text": [
      "Saved progress after user: @Paulo207\n",
      "\n",
      "Evaluating user: @shivar2753 | 35 comments\n"
     ]
    },
    {
     "name": "stderr",
     "output_type": "stream",
     "text": [
      "Processing short users:  83%|████████▎ | 833/1000 [1:05:52<13:08,  4.72s/it]"
     ]
    },
    {
     "name": "stdout",
     "output_type": "stream",
     "text": [
      "Saved progress after user: @shivar2753\n",
      "\n",
      "Evaluating user: @HarshiniHarshi-hs3hd | 25 comments\n"
     ]
    },
    {
     "name": "stderr",
     "output_type": "stream",
     "text": [
      "Processing short users:  83%|████████▎ | 834/1000 [1:05:56<12:35,  4.55s/it]"
     ]
    },
    {
     "name": "stdout",
     "output_type": "stream",
     "text": [
      "Saved progress after user: @HarshiniHarshi-hs3hd\n",
      "\n",
      "Evaluating user: @mathiuthay6784 | 29 comments\n"
     ]
    },
    {
     "name": "stderr",
     "output_type": "stream",
     "text": [
      "Processing short users:  84%|████████▎ | 835/1000 [1:06:01<12:31,  4.55s/it]"
     ]
    },
    {
     "name": "stdout",
     "output_type": "stream",
     "text": [
      "Saved progress after user: @mathiuthay6784\n",
      "\n",
      "Evaluating user: @TishaPmk | 25 comments\n"
     ]
    },
    {
     "name": "stderr",
     "output_type": "stream",
     "text": [
      "Processing short users:  84%|████████▎ | 836/1000 [1:06:05<11:54,  4.35s/it]"
     ]
    },
    {
     "name": "stdout",
     "output_type": "stream",
     "text": [
      "Saved progress after user: @TishaPmk\n",
      "\n",
      "Evaluating user: @gayathri_Karthik | 24 comments\n"
     ]
    },
    {
     "name": "stderr",
     "output_type": "stream",
     "text": [
      "Processing short users:  84%|████████▎ | 837/1000 [1:06:11<13:18,  4.90s/it]"
     ]
    },
    {
     "name": "stdout",
     "output_type": "stream",
     "text": [
      "Saved progress after user: @gayathri_Karthik\n",
      "\n",
      "Evaluating user: @Kani-rithish | 23 comments\n"
     ]
    },
    {
     "name": "stderr",
     "output_type": "stream",
     "text": [
      "Processing short users:  84%|████████▍ | 838/1000 [1:06:16<13:57,  5.17s/it]"
     ]
    },
    {
     "name": "stdout",
     "output_type": "stream",
     "text": [
      "Saved progress after user: @Kani-rithish\n",
      "\n",
      "Evaluating user: @barnabydewa6698 | 24 comments\n"
     ]
    },
    {
     "name": "stderr",
     "output_type": "stream",
     "text": [
      "Processing short users:  84%|████████▍ | 839/1000 [1:06:22<13:50,  5.16s/it]"
     ]
    },
    {
     "name": "stdout",
     "output_type": "stream",
     "text": [
      "Saved progress after user: @barnabydewa6698\n",
      "\n",
      "Evaluating user: @देबुका-ध7ठ | 401 comments\n"
     ]
    },
    {
     "name": "stderr",
     "output_type": "stream",
     "text": [
      "Processing short users:  84%|████████▍ | 840/1000 [1:06:27<14:02,  5.27s/it]"
     ]
    },
    {
     "name": "stdout",
     "output_type": "stream",
     "text": [
      "Saved progress after user: @देबुका-ध7ठ\n",
      "\n",
      "Evaluating user: @VishvajeetPatel-t2x | 23 comments\n"
     ]
    },
    {
     "name": "stderr",
     "output_type": "stream",
     "text": [
      "Processing short users:  84%|████████▍ | 841/1000 [1:06:31<12:42,  4.79s/it]"
     ]
    },
    {
     "name": "stdout",
     "output_type": "stream",
     "text": [
      "Saved progress after user: @VishvajeetPatel-t2x\n",
      "\n",
      "Evaluating user: @NikhilPandey-m8o | 18 comments\n"
     ]
    },
    {
     "name": "stderr",
     "output_type": "stream",
     "text": [
      "Processing short users:  84%|████████▍ | 842/1000 [1:06:36<12:33,  4.77s/it]"
     ]
    },
    {
     "name": "stdout",
     "output_type": "stream",
     "text": [
      "Saved progress after user: @NikhilPandey-m8o\n",
      "\n",
      "Evaluating user: @goldenfacts-n6x | 37 comments\n"
     ]
    },
    {
     "name": "stderr",
     "output_type": "stream",
     "text": [
      "Processing short users:  84%|████████▍ | 843/1000 [1:06:39<11:37,  4.45s/it]"
     ]
    },
    {
     "name": "stdout",
     "output_type": "stream",
     "text": [
      "Saved progress after user: @goldenfacts-n6x\n",
      "\n",
      "Evaluating user: @sachinSachin-u2h | 24 comments\n"
     ]
    },
    {
     "name": "stderr",
     "output_type": "stream",
     "text": [
      "Processing short users:  84%|████████▍ | 844/1000 [1:06:43<11:20,  4.36s/it]"
     ]
    },
    {
     "name": "stdout",
     "output_type": "stream",
     "text": [
      "Saved progress after user: @sachinSachin-u2h\n",
      "\n",
      "Evaluating user: @PowerofBhojpuri7 | 23 comments\n"
     ]
    },
    {
     "name": "stderr",
     "output_type": "stream",
     "text": [
      "Processing short users:  84%|████████▍ | 845/1000 [1:06:48<11:38,  4.51s/it]"
     ]
    },
    {
     "name": "stdout",
     "output_type": "stream",
     "text": [
      "Saved progress after user: @PowerofBhojpuri7\n",
      "\n",
      "Evaluating user: @AJAY-d6l8t | 32 comments\n"
     ]
    },
    {
     "name": "stderr",
     "output_type": "stream",
     "text": [
      "Processing short users:  85%|████████▍ | 846/1000 [1:06:54<12:30,  4.88s/it]"
     ]
    },
    {
     "name": "stdout",
     "output_type": "stream",
     "text": [
      "Saved progress after user: @AJAY-d6l8t\n",
      "\n",
      "Evaluating user: @KushwahaKundan-j3k | 28 comments\n"
     ]
    },
    {
     "name": "stderr",
     "output_type": "stream",
     "text": [
      "Processing short users:  85%|████████▍ | 847/1000 [1:06:59<12:10,  4.78s/it]"
     ]
    },
    {
     "name": "stdout",
     "output_type": "stream",
     "text": [
      "Saved progress after user: @KushwahaKundan-j3k\n",
      "\n",
      "Evaluating user: @thebudman1980 | 28 comments\n"
     ]
    },
    {
     "name": "stderr",
     "output_type": "stream",
     "text": [
      "Processing short users:  85%|████████▍ | 848/1000 [1:07:09<16:03,  6.34s/it]"
     ]
    },
    {
     "name": "stdout",
     "output_type": "stream",
     "text": [
      "Saved progress after user: @thebudman1980\n",
      "\n",
      "Evaluating user: @kevinbrady598 | 27 comments\n"
     ]
    },
    {
     "name": "stderr",
     "output_type": "stream",
     "text": [
      "Processing short users:  85%|████████▍ | 849/1000 [1:07:12<13:43,  5.45s/it]"
     ]
    },
    {
     "name": "stdout",
     "output_type": "stream",
     "text": [
      "Saved progress after user: @kevinbrady598\n",
      "\n",
      "Evaluating user: @MayaBourbeau | 20 comments\n"
     ]
    },
    {
     "name": "stderr",
     "output_type": "stream",
     "text": [
      "Processing short users:  85%|████████▌ | 850/1000 [1:07:17<13:32,  5.41s/it]"
     ]
    },
    {
     "name": "stdout",
     "output_type": "stream",
     "text": [
      "Saved progress after user: @MayaBourbeau\n",
      "\n",
      "Evaluating user: @GlennDevillez | 48 comments\n"
     ]
    },
    {
     "name": "stderr",
     "output_type": "stream",
     "text": [
      "Processing short users:  85%|████████▌ | 851/1000 [1:07:22<12:38,  5.09s/it]"
     ]
    },
    {
     "name": "stdout",
     "output_type": "stream",
     "text": [
      "Saved progress after user: @GlennDevillez\n",
      "\n",
      "Evaluating user: @Mayainlove | 45 comments\n"
     ]
    },
    {
     "name": "stderr",
     "output_type": "stream",
     "text": [
      "Processing short users:  85%|████████▌ | 852/1000 [1:07:26<11:56,  4.84s/it]"
     ]
    },
    {
     "name": "stdout",
     "output_type": "stream",
     "text": [
      "Saved progress after user: @Mayainlove\n",
      "\n",
      "Evaluating user: @oislaojksaiskjoi1780 | 59 comments\n"
     ]
    },
    {
     "name": "stderr",
     "output_type": "stream",
     "text": [
      "Processing short users:  85%|████████▌ | 853/1000 [1:07:30<11:32,  4.71s/it]"
     ]
    },
    {
     "name": "stdout",
     "output_type": "stream",
     "text": [
      "Saved progress after user: @oislaojksaiskjoi1780\n",
      "\n",
      "Evaluating user: @MontyPanesar-by5yo | 24 comments\n"
     ]
    },
    {
     "name": "stderr",
     "output_type": "stream",
     "text": [
      "Processing short users:  85%|████████▌ | 854/1000 [1:07:37<12:56,  5.32s/it]"
     ]
    },
    {
     "name": "stdout",
     "output_type": "stream",
     "text": [
      "Saved progress after user: @MontyPanesar-by5yo\n",
      "\n",
      "Evaluating user: @RadhaVerma-ms2tz | 20 comments\n"
     ]
    },
    {
     "name": "stderr",
     "output_type": "stream",
     "text": [
      "Processing short users:  86%|████████▌ | 855/1000 [1:07:41<12:08,  5.02s/it]"
     ]
    },
    {
     "name": "stdout",
     "output_type": "stream",
     "text": [
      "Saved progress after user: @RadhaVerma-ms2tz\n",
      "\n",
      "Evaluating user: @PriyaGupta-zc3we | 20 comments\n"
     ]
    },
    {
     "name": "stderr",
     "output_type": "stream",
     "text": [
      "Processing short users:  86%|████████▌ | 856/1000 [1:07:45<11:23,  4.75s/it]"
     ]
    },
    {
     "name": "stdout",
     "output_type": "stream",
     "text": [
      "Saved progress after user: @PriyaGupta-zc3we\n",
      "\n",
      "Evaluating user: @Muskan-m3h9c | 20 comments\n"
     ]
    },
    {
     "name": "stderr",
     "output_type": "stream",
     "text": [
      "Processing short users:  86%|████████▌ | 857/1000 [1:07:51<12:00,  5.04s/it]"
     ]
    },
    {
     "name": "stdout",
     "output_type": "stream",
     "text": [
      "Saved progress after user: @Muskan-m3h9c\n",
      "\n",
      "Evaluating user: @Sapa-pn2ym | 20 comments\n"
     ]
    },
    {
     "name": "stderr",
     "output_type": "stream",
     "text": [
      "Processing short users:  86%|████████▌ | 858/1000 [1:07:56<11:28,  4.85s/it]"
     ]
    },
    {
     "name": "stdout",
     "output_type": "stream",
     "text": [
      "Saved progress after user: @Sapa-pn2ym\n",
      "\n",
      "Evaluating user: @TdoehDkd | 20 comments\n"
     ]
    },
    {
     "name": "stderr",
     "output_type": "stream",
     "text": [
      "Processing short users:  86%|████████▌ | 859/1000 [1:08:05<14:28,  6.16s/it]"
     ]
    },
    {
     "name": "stdout",
     "output_type": "stream",
     "text": [
      "Saved progress after user: @TdoehDkd\n",
      "\n",
      "Evaluating user: @adarshsharma1021 | 55 comments\n"
     ]
    },
    {
     "name": "stderr",
     "output_type": "stream",
     "text": [
      "Processing short users:  86%|████████▌ | 860/1000 [1:08:09<13:17,  5.69s/it]"
     ]
    },
    {
     "name": "stdout",
     "output_type": "stream",
     "text": [
      "Saved progress after user: @adarshsharma1021\n",
      "\n",
      "Evaluating user: @RinaClassy | 18 comments\n"
     ]
    },
    {
     "name": "stderr",
     "output_type": "stream",
     "text": [
      "Processing short users:  86%|████████▌ | 861/1000 [1:08:15<13:17,  5.74s/it]"
     ]
    },
    {
     "name": "stdout",
     "output_type": "stream",
     "text": [
      "Saved progress after user: @RinaClassy\n",
      "\n",
      "Evaluating user: @awesomeadamfrom2099 | 49 comments\n"
     ]
    },
    {
     "name": "stderr",
     "output_type": "stream",
     "text": [
      "Processing short users:  86%|████████▌ | 862/1000 [1:08:20<12:54,  5.61s/it]"
     ]
    },
    {
     "name": "stdout",
     "output_type": "stream",
     "text": [
      "Saved progress after user: @awesomeadamfrom2099\n",
      "\n",
      "Evaluating user: @thessbelen8669 | 18 comments\n"
     ]
    },
    {
     "name": "stderr",
     "output_type": "stream",
     "text": [
      "Processing short users:  86%|████████▋ | 863/1000 [1:08:25<11:50,  5.19s/it]"
     ]
    },
    {
     "name": "stdout",
     "output_type": "stream",
     "text": [
      "Saved progress after user: @thessbelen8669\n",
      "\n",
      "Evaluating user: @nivedhab2511 | 20 comments\n"
     ]
    },
    {
     "name": "stderr",
     "output_type": "stream",
     "text": [
      "Processing short users:  86%|████████▋ | 864/1000 [1:08:29<11:13,  4.95s/it]"
     ]
    },
    {
     "name": "stdout",
     "output_type": "stream",
     "text": [
      "Saved progress after user: @nivedhab2511\n",
      "\n",
      "Evaluating user: @AbdullaShaik-du1sn | 25 comments\n"
     ]
    },
    {
     "name": "stderr",
     "output_type": "stream",
     "text": [
      "Processing short users:  86%|████████▋ | 865/1000 [1:08:39<14:30,  6.45s/it]"
     ]
    },
    {
     "name": "stdout",
     "output_type": "stream",
     "text": [
      "Saved progress after user: @AbdullaShaik-du1sn\n",
      "\n",
      "Evaluating user: @GopikaS-321 | 24 comments\n"
     ]
    },
    {
     "name": "stderr",
     "output_type": "stream",
     "text": [
      "Processing short users:  87%|████████▋ | 866/1000 [1:08:43<13:01,  5.83s/it]"
     ]
    },
    {
     "name": "stdout",
     "output_type": "stream",
     "text": [
      "Saved progress after user: @GopikaS-321\n",
      "\n",
      "Evaluating user: @maheswarisaravanan967 | 25 comments\n"
     ]
    },
    {
     "name": "stderr",
     "output_type": "stream",
     "text": [
      "Processing short users:  87%|████████▋ | 867/1000 [1:08:47<11:41,  5.27s/it]"
     ]
    },
    {
     "name": "stdout",
     "output_type": "stream",
     "text": [
      "Saved progress after user: @maheswarisaravanan967\n",
      "\n",
      "Evaluating user: @Kavi_kutty_05 | 28 comments\n"
     ]
    },
    {
     "name": "stderr",
     "output_type": "stream",
     "text": [
      "Processing short users:  87%|████████▋ | 868/1000 [1:08:53<11:47,  5.36s/it]"
     ]
    },
    {
     "name": "stdout",
     "output_type": "stream",
     "text": [
      "Saved progress after user: @Kavi_kutty_05\n",
      "\n",
      "Evaluating user: @AnjaliKaviya-dv7tk | 26 comments\n"
     ]
    },
    {
     "name": "stderr",
     "output_type": "stream",
     "text": [
      "Processing short users:  87%|████████▋ | 869/1000 [1:08:58<11:49,  5.41s/it]"
     ]
    },
    {
     "name": "stdout",
     "output_type": "stream",
     "text": [
      "Saved progress after user: @AnjaliKaviya-dv7tk\n",
      "\n",
      "Evaluating user: @senthilr8032 | 33 comments\n"
     ]
    },
    {
     "name": "stderr",
     "output_type": "stream",
     "text": [
      "Processing short users:  87%|████████▋ | 870/1000 [1:09:04<11:39,  5.38s/it]"
     ]
    },
    {
     "name": "stdout",
     "output_type": "stream",
     "text": [
      "Saved progress after user: @senthilr8032\n",
      "\n",
      "Evaluating user: @SubiSubi-ge8ww | 23 comments\n"
     ]
    },
    {
     "name": "stderr",
     "output_type": "stream",
     "text": [
      "Processing short users:  87%|████████▋ | 871/1000 [1:09:08<11:04,  5.15s/it]"
     ]
    },
    {
     "name": "stdout",
     "output_type": "stream",
     "text": [
      "Saved progress after user: @SubiSubi-ge8ww\n",
      "\n",
      "Evaluating user: @nambipriya6467 | 25 comments\n"
     ]
    },
    {
     "name": "stderr",
     "output_type": "stream",
     "text": [
      "Processing short users:  87%|████████▋ | 872/1000 [1:09:13<10:50,  5.08s/it]"
     ]
    },
    {
     "name": "stdout",
     "output_type": "stream",
     "text": [
      "Saved progress after user: @nambipriya6467\n",
      "\n",
      "Evaluating user: @shilmiyashahulhameed1779 | 26 comments\n"
     ]
    },
    {
     "name": "stderr",
     "output_type": "stream",
     "text": [
      "Processing short users:  87%|████████▋ | 873/1000 [1:09:20<11:29,  5.43s/it]"
     ]
    },
    {
     "name": "stdout",
     "output_type": "stream",
     "text": [
      "Saved progress after user: @shilmiyashahulhameed1779\n",
      "\n",
      "Evaluating user: @prasanthselvam-xr9wo | 23 comments\n"
     ]
    },
    {
     "name": "stderr",
     "output_type": "stream",
     "text": [
      "Processing short users:  87%|████████▋ | 874/1000 [1:09:25<11:39,  5.55s/it]"
     ]
    },
    {
     "name": "stdout",
     "output_type": "stream",
     "text": [
      "Saved progress after user: @prasanthselvam-xr9wo\n",
      "\n",
      "Evaluating user: @Mychannelisboringme | 26 comments\n"
     ]
    },
    {
     "name": "stderr",
     "output_type": "stream",
     "text": [
      "Processing short users:  88%|████████▊ | 875/1000 [1:09:31<11:40,  5.61s/it]"
     ]
    },
    {
     "name": "stdout",
     "output_type": "stream",
     "text": [
      "Saved progress after user: @Mychannelisboringme\n",
      "\n",
      "Evaluating user: @luisayate-iq2he | 24 comments\n"
     ]
    },
    {
     "name": "stderr",
     "output_type": "stream",
     "text": [
      "Processing short users:  88%|████████▊ | 876/1000 [1:09:35<10:16,  4.97s/it]"
     ]
    },
    {
     "name": "stdout",
     "output_type": "stream",
     "text": [
      "Saved progress after user: @luisayate-iq2he\n",
      "\n",
      "Evaluating user: @王雪-n1l | 19 comments\n"
     ]
    },
    {
     "name": "stderr",
     "output_type": "stream",
     "text": [
      "Processing short users:  88%|████████▊ | 877/1000 [1:09:38<09:20,  4.55s/it]"
     ]
    },
    {
     "name": "stdout",
     "output_type": "stream",
     "text": [
      "Saved progress after user: @王雪-n1l\n",
      "\n",
      "Evaluating user: @HarishKumar-j7s9l | 20 comments\n"
     ]
    },
    {
     "name": "stderr",
     "output_type": "stream",
     "text": [
      "Processing short users:  88%|████████▊ | 878/1000 [1:09:43<09:10,  4.51s/it]"
     ]
    },
    {
     "name": "stdout",
     "output_type": "stream",
     "text": [
      "Saved progress after user: @HarishKumar-j7s9l\n",
      "\n",
      "Evaluating user: @theogberry | 20 comments\n"
     ]
    },
    {
     "name": "stderr",
     "output_type": "stream",
     "text": [
      "Processing short users:  88%|████████▊ | 879/1000 [1:09:45<07:58,  3.95s/it]"
     ]
    },
    {
     "name": "stdout",
     "output_type": "stream",
     "text": [
      "Saved progress after user: @theogberry\n",
      "\n",
      "Evaluating user: @PapouKayo | 43 comments\n"
     ]
    },
    {
     "name": "stderr",
     "output_type": "stream",
     "text": [
      "Processing short users:  88%|████████▊ | 880/1000 [1:09:51<09:06,  4.55s/it]"
     ]
    },
    {
     "name": "stdout",
     "output_type": "stream",
     "text": [
      "Saved progress after user: @PapouKayo\n",
      "\n",
      "Evaluating user: @MrGoneEXE | 18 comments\n"
     ]
    },
    {
     "name": "stderr",
     "output_type": "stream",
     "text": [
      "Processing short users:  88%|████████▊ | 881/1000 [1:09:57<09:32,  4.81s/it]"
     ]
    },
    {
     "name": "stdout",
     "output_type": "stream",
     "text": [
      "Saved progress after user: @MrGoneEXE\n",
      "\n",
      "Evaluating user: @CharroGl | 18 comments\n"
     ]
    },
    {
     "name": "stderr",
     "output_type": "stream",
     "text": [
      "Processing short users:  88%|████████▊ | 882/1000 [1:10:02<09:56,  5.06s/it]"
     ]
    },
    {
     "name": "stdout",
     "output_type": "stream",
     "text": [
      "Saved progress after user: @CharroGl\n",
      "\n",
      "Evaluating user: @melodysrobloxworld201 | 23 comments\n"
     ]
    },
    {
     "name": "stderr",
     "output_type": "stream",
     "text": [
      "Processing short users:  88%|████████▊ | 883/1000 [1:10:05<08:20,  4.28s/it]"
     ]
    },
    {
     "name": "stdout",
     "output_type": "stream",
     "text": [
      "Saved progress after user: @melodysrobloxworld201\n",
      "\n",
      "Evaluating user: @SarrieTek | 18 comments\n"
     ]
    },
    {
     "name": "stderr",
     "output_type": "stream",
     "text": [
      "Processing short users:  88%|████████▊ | 884/1000 [1:10:10<08:49,  4.56s/it]"
     ]
    },
    {
     "name": "stdout",
     "output_type": "stream",
     "text": [
      "Saved progress after user: @SarrieTek\n",
      "\n",
      "Evaluating user: @jpdza2881 | 21 comments\n"
     ]
    },
    {
     "name": "stderr",
     "output_type": "stream",
     "text": [
      "Processing short users:  88%|████████▊ | 885/1000 [1:10:15<08:46,  4.58s/it]"
     ]
    },
    {
     "name": "stdout",
     "output_type": "stream",
     "text": [
      "Saved progress after user: @jpdza2881\n",
      "\n",
      "Evaluating user: @DanijelColusic-v7j | 36 comments\n"
     ]
    },
    {
     "name": "stderr",
     "output_type": "stream",
     "text": [
      "Processing short users:  89%|████████▊ | 886/1000 [1:10:19<08:53,  4.68s/it]"
     ]
    },
    {
     "name": "stdout",
     "output_type": "stream",
     "text": [
      "Saved progress after user: @DanijelColusic-v7j\n",
      "\n",
      "Evaluating user: @vasoburduli1998 | 19 comments\n"
     ]
    },
    {
     "name": "stderr",
     "output_type": "stream",
     "text": [
      "Processing short users:  89%|████████▊ | 887/1000 [1:10:24<08:46,  4.66s/it]"
     ]
    },
    {
     "name": "stdout",
     "output_type": "stream",
     "text": [
      "Saved progress after user: @vasoburduli1998\n",
      "\n",
      "Evaluating user: @alizakate10 | 19 comments\n"
     ]
    },
    {
     "name": "stderr",
     "output_type": "stream",
     "text": [
      "Processing short users:  89%|████████▉ | 888/1000 [1:10:29<08:53,  4.77s/it]"
     ]
    },
    {
     "name": "stdout",
     "output_type": "stream",
     "text": [
      "Saved progress after user: @alizakate10\n",
      "\n",
      "Evaluating user: @Vijaybalan52937 | 22 comments\n"
     ]
    },
    {
     "name": "stderr",
     "output_type": "stream",
     "text": [
      "Processing short users:  89%|████████▉ | 889/1000 [1:10:34<08:43,  4.72s/it]"
     ]
    },
    {
     "name": "stdout",
     "output_type": "stream",
     "text": [
      "Saved progress after user: @Vijaybalan52937\n",
      "\n",
      "Evaluating user: @lakshuulagam2012 | 52 comments\n"
     ]
    },
    {
     "name": "stderr",
     "output_type": "stream",
     "text": [
      "Processing short users:  89%|████████▉ | 890/1000 [1:10:39<08:58,  4.90s/it]"
     ]
    },
    {
     "name": "stdout",
     "output_type": "stream",
     "text": [
      "Saved progress after user: @lakshuulagam2012\n",
      "\n",
      "Evaluating user: @Maharani-0509 | 21 comments\n"
     ]
    },
    {
     "name": "stderr",
     "output_type": "stream",
     "text": [
      "Processing short users:  89%|████████▉ | 891/1000 [1:10:50<12:05,  6.66s/it]"
     ]
    },
    {
     "name": "stdout",
     "output_type": "stream",
     "text": [
      "Saved progress after user: @Maharani-0509\n",
      "\n",
      "Evaluating user: @MDT-psycho | 20 comments\n"
     ]
    },
    {
     "name": "stderr",
     "output_type": "stream",
     "text": [
      "Processing short users:  89%|████████▉ | 892/1000 [1:10:55<10:55,  6.07s/it]"
     ]
    },
    {
     "name": "stdout",
     "output_type": "stream",
     "text": [
      "Saved progress after user: @MDT-psycho\n",
      "\n",
      "Evaluating user: @miyaanjamaican1247 | 45 comments\n"
     ]
    },
    {
     "name": "stderr",
     "output_type": "stream",
     "text": [
      "Processing short users:  89%|████████▉ | 893/1000 [1:10:59<09:49,  5.51s/it]"
     ]
    },
    {
     "name": "stdout",
     "output_type": "stream",
     "text": [
      "Saved progress after user: @miyaanjamaican1247\n",
      "\n",
      "Evaluating user: @ЕвгенийРамозанов-э2б | 34 comments\n"
     ]
    },
    {
     "name": "stderr",
     "output_type": "stream",
     "text": [
      "Processing short users:  89%|████████▉ | 894/1000 [1:11:05<10:03,  5.70s/it]"
     ]
    },
    {
     "name": "stdout",
     "output_type": "stream",
     "text": [
      "Saved progress after user: @ЕвгенийРамозанов-э2б\n",
      "\n",
      "Evaluating user: @Glitchrat_YT | 34 comments\n"
     ]
    },
    {
     "name": "stderr",
     "output_type": "stream",
     "text": [
      "Processing short users:  90%|████████▉ | 895/1000 [1:11:11<10:02,  5.74s/it]"
     ]
    },
    {
     "name": "stdout",
     "output_type": "stream",
     "text": [
      "Saved progress after user: @Glitchrat_YT\n",
      "\n",
      "Evaluating user: @denisefields7233 | 46 comments\n"
     ]
    },
    {
     "name": "stderr",
     "output_type": "stream",
     "text": [
      "Processing short users:  90%|████████▉ | 896/1000 [1:11:18<10:35,  6.11s/it]"
     ]
    },
    {
     "name": "stdout",
     "output_type": "stream",
     "text": [
      "Saved progress after user: @denisefields7233\n",
      "\n",
      "Evaluating user: @carrieclayborn | 32 comments\n"
     ]
    },
    {
     "name": "stderr",
     "output_type": "stream",
     "text": [
      "Processing short users:  90%|████████▉ | 897/1000 [1:11:22<09:42,  5.66s/it]"
     ]
    },
    {
     "name": "stdout",
     "output_type": "stream",
     "text": [
      "Saved progress after user: @carrieclayborn\n",
      "\n",
      "Evaluating user: @ValtonValtonn | 72 comments\n"
     ]
    },
    {
     "name": "stderr",
     "output_type": "stream",
     "text": [
      "Processing short users:  90%|████████▉ | 898/1000 [1:11:26<08:36,  5.06s/it]"
     ]
    },
    {
     "name": "stdout",
     "output_type": "stream",
     "text": [
      "Saved progress after user: @ValtonValtonn\n",
      "\n",
      "Evaluating user: @Matthew-cd5lo | 55 comments\n"
     ]
    },
    {
     "name": "stderr",
     "output_type": "stream",
     "text": [
      "Processing short users:  90%|████████▉ | 899/1000 [1:11:30<07:59,  4.75s/it]"
     ]
    },
    {
     "name": "stdout",
     "output_type": "stream",
     "text": [
      "Saved progress after user: @Matthew-cd5lo\n",
      "\n",
      "Evaluating user: @Roy-7272 | 97 comments\n"
     ]
    },
    {
     "name": "stderr",
     "output_type": "stream",
     "text": [
      "Processing short users:  90%|█████████ | 900/1000 [1:11:34<07:47,  4.68s/it]"
     ]
    },
    {
     "name": "stdout",
     "output_type": "stream",
     "text": [
      "Saved progress after user: @Roy-7272\n",
      "\n",
      "Evaluating user: @maurita000 | 73 comments\n"
     ]
    },
    {
     "name": "stderr",
     "output_type": "stream",
     "text": [
      "Processing short users:  90%|█████████ | 901/1000 [1:11:38<07:16,  4.41s/it]"
     ]
    },
    {
     "name": "stdout",
     "output_type": "stream",
     "text": [
      "Saved progress after user: @maurita000\n",
      "\n",
      "Evaluating user: @MRRudy321 | 24 comments\n"
     ]
    },
    {
     "name": "stderr",
     "output_type": "stream",
     "text": [
      "Processing short users:  90%|█████████ | 902/1000 [1:11:43<07:33,  4.63s/it]"
     ]
    },
    {
     "name": "stdout",
     "output_type": "stream",
     "text": [
      "Saved progress after user: @MRRudy321\n",
      "\n",
      "Evaluating user: @GTAmzanzilife | 18 comments\n"
     ]
    },
    {
     "name": "stderr",
     "output_type": "stream",
     "text": [
      "Processing short users:  90%|█████████ | 903/1000 [1:11:48<07:33,  4.68s/it]"
     ]
    },
    {
     "name": "stdout",
     "output_type": "stream",
     "text": [
      "Saved progress after user: @GTAmzanzilife\n",
      "\n",
      "Evaluating user: @N925u | 27 comments\n"
     ]
    },
    {
     "name": "stderr",
     "output_type": "stream",
     "text": [
      "Processing short users:  90%|█████████ | 904/1000 [1:11:52<07:12,  4.50s/it]"
     ]
    },
    {
     "name": "stdout",
     "output_type": "stream",
     "text": [
      "Saved progress after user: @N925u\n",
      "\n",
      "Evaluating user: @혜정한-q9w | 23 comments\n"
     ]
    },
    {
     "name": "stderr",
     "output_type": "stream",
     "text": [
      "Processing short users:  90%|█████████ | 905/1000 [1:11:56<06:59,  4.41s/it]"
     ]
    },
    {
     "name": "stdout",
     "output_type": "stream",
     "text": [
      "Saved progress after user: @혜정한-q9w\n",
      "\n",
      "Evaluating user: @myplanbdaimary3614 | 26 comments\n"
     ]
    },
    {
     "name": "stderr",
     "output_type": "stream",
     "text": [
      "Processing short users:  91%|█████████ | 906/1000 [1:12:00<06:42,  4.29s/it]"
     ]
    },
    {
     "name": "stdout",
     "output_type": "stream",
     "text": [
      "Saved progress after user: @myplanbdaimary3614\n",
      "\n",
      "Evaluating user: @HandActions11 | 18 comments\n"
     ]
    },
    {
     "name": "stderr",
     "output_type": "stream",
     "text": [
      "Processing short users:  91%|█████████ | 907/1000 [1:12:07<07:33,  4.87s/it]"
     ]
    },
    {
     "name": "stdout",
     "output_type": "stream",
     "text": [
      "Saved progress after user: @HandActions11\n",
      "\n",
      "Evaluating user: @AhmedAllam-f6y | 60 comments\n"
     ]
    },
    {
     "name": "stderr",
     "output_type": "stream",
     "text": [
      "Processing short users:  91%|█████████ | 908/1000 [1:12:10<06:47,  4.43s/it]"
     ]
    },
    {
     "name": "stdout",
     "output_type": "stream",
     "text": [
      "Saved progress after user: @AhmedAllam-f6y\n",
      "\n",
      "Evaluating user: @Iyal4589 | 20 comments\n"
     ]
    },
    {
     "name": "stderr",
     "output_type": "stream",
     "text": [
      "Processing short users:  91%|█████████ | 909/1000 [1:12:16<07:13,  4.76s/it]"
     ]
    },
    {
     "name": "stdout",
     "output_type": "stream",
     "text": [
      "Saved progress after user: @Iyal4589\n",
      "\n",
      "Evaluating user: @sdhakshayani5498 | 18 comments\n"
     ]
    },
    {
     "name": "stderr",
     "output_type": "stream",
     "text": [
      "Processing short users:  91%|█████████ | 910/1000 [1:12:20<07:09,  4.77s/it]"
     ]
    },
    {
     "name": "stdout",
     "output_type": "stream",
     "text": [
      "Saved progress after user: @sdhakshayani5498\n",
      "\n",
      "Evaluating user: @Green-Screen-King9566 | 21 comments\n"
     ]
    },
    {
     "name": "stderr",
     "output_type": "stream",
     "text": [
      "Processing short users:  91%|█████████ | 911/1000 [1:12:25<07:11,  4.84s/it]"
     ]
    },
    {
     "name": "stdout",
     "output_type": "stream",
     "text": [
      "Saved progress after user: @Green-Screen-King9566\n",
      "\n",
      "Evaluating user: @KavithaM-h2p | 22 comments\n"
     ]
    },
    {
     "name": "stderr",
     "output_type": "stream",
     "text": [
      "Processing short users:  91%|█████████ | 912/1000 [1:12:30<07:02,  4.81s/it]"
     ]
    },
    {
     "name": "stdout",
     "output_type": "stream",
     "text": [
      "Saved progress after user: @KavithaM-h2p\n",
      "\n",
      "Evaluating user: @VaithishwariWari | 26 comments\n"
     ]
    },
    {
     "name": "stderr",
     "output_type": "stream",
     "text": [
      "Processing short users:  91%|█████████▏| 913/1000 [1:12:34<06:23,  4.41s/it]"
     ]
    },
    {
     "name": "stdout",
     "output_type": "stream",
     "text": [
      "Saved progress after user: @VaithishwariWari\n",
      "\n",
      "Evaluating user: @sureshrajadurai8717 | 19 comments\n"
     ]
    },
    {
     "name": "stderr",
     "output_type": "stream",
     "text": [
      "Processing short users:  91%|█████████▏| 914/1000 [1:12:39<06:39,  4.65s/it]"
     ]
    },
    {
     "name": "stdout",
     "output_type": "stream",
     "text": [
      "Saved progress after user: @sureshrajadurai8717\n",
      "\n",
      "Evaluating user: @MuskhanSalman | 22 comments\n"
     ]
    },
    {
     "name": "stderr",
     "output_type": "stream",
     "text": [
      "Processing short users:  92%|█████████▏| 915/1000 [1:12:46<07:36,  5.37s/it]"
     ]
    },
    {
     "name": "stdout",
     "output_type": "stream",
     "text": [
      "Saved progress after user: @MuskhanSalman\n",
      "\n",
      "Evaluating user: @GhhSthj | 25 comments\n"
     ]
    },
    {
     "name": "stderr",
     "output_type": "stream",
     "text": [
      "Processing short users:  92%|█████████▏| 916/1000 [1:12:51<07:14,  5.18s/it]"
     ]
    },
    {
     "name": "stdout",
     "output_type": "stream",
     "text": [
      "Saved progress after user: @GhhSthj\n",
      "\n",
      "Evaluating user: @vijivijijegan | 19 comments\n"
     ]
    },
    {
     "name": "stderr",
     "output_type": "stream",
     "text": [
      "Processing short users:  92%|█████████▏| 917/1000 [1:12:55<06:53,  4.98s/it]"
     ]
    },
    {
     "name": "stdout",
     "output_type": "stream",
     "text": [
      "Saved progress after user: @vijivijijegan\n",
      "\n",
      "Evaluating user: @mailyasang4 | 23 comments\n"
     ]
    },
    {
     "name": "stderr",
     "output_type": "stream",
     "text": [
      "Processing short users:  92%|█████████▏| 918/1000 [1:12:58<05:46,  4.23s/it]"
     ]
    },
    {
     "name": "stdout",
     "output_type": "stream",
     "text": [
      "Saved progress after user: @mailyasang4\n",
      "\n",
      "Evaluating user: @premaprema247 | 22 comments\n"
     ]
    },
    {
     "name": "stderr",
     "output_type": "stream",
     "text": [
      "Processing short users:  92%|█████████▏| 919/1000 [1:13:02<05:41,  4.21s/it]"
     ]
    },
    {
     "name": "stdout",
     "output_type": "stream",
     "text": [
      "Saved progress after user: @premaprema247\n",
      "\n",
      "Evaluating user: @divyajalan3757 | 18 comments\n"
     ]
    },
    {
     "name": "stderr",
     "output_type": "stream",
     "text": [
      "Processing short users:  92%|█████████▏| 920/1000 [1:13:07<05:52,  4.41s/it]"
     ]
    },
    {
     "name": "stdout",
     "output_type": "stream",
     "text": [
      "Saved progress after user: @divyajalan3757\n",
      "\n",
      "Evaluating user: @adamchakibca | 22 comments\n"
     ]
    },
    {
     "name": "stderr",
     "output_type": "stream",
     "text": [
      "Processing short users:  92%|█████████▏| 921/1000 [1:13:10<05:32,  4.21s/it]"
     ]
    },
    {
     "name": "stdout",
     "output_type": "stream",
     "text": [
      "Saved progress after user: @adamchakibca\n",
      "\n",
      "Evaluating user: @LungLeing | 30 comments\n"
     ]
    },
    {
     "name": "stderr",
     "output_type": "stream",
     "text": [
      "Processing short users:  92%|█████████▏| 922/1000 [1:13:14<05:13,  4.02s/it]"
     ]
    },
    {
     "name": "stdout",
     "output_type": "stream",
     "text": [
      "Saved progress after user: @LungLeing\n",
      "\n",
      "Evaluating user: @sam-vs7lb | 20 comments\n"
     ]
    },
    {
     "name": "stderr",
     "output_type": "stream",
     "text": [
      "Processing short users:  92%|█████████▏| 923/1000 [1:13:19<05:35,  4.35s/it]"
     ]
    },
    {
     "name": "stdout",
     "output_type": "stream",
     "text": [
      "Saved progress after user: @sam-vs7lb\n",
      "\n",
      "Evaluating user: @neelampoddar6537 | 23 comments\n"
     ]
    },
    {
     "name": "stderr",
     "output_type": "stream",
     "text": [
      "Processing short users:  92%|█████████▏| 924/1000 [1:13:24<05:34,  4.40s/it]"
     ]
    },
    {
     "name": "stdout",
     "output_type": "stream",
     "text": [
      "Saved progress after user: @neelampoddar6537\n",
      "\n",
      "Evaluating user: @nagajena-s3d | 36 comments\n"
     ]
    },
    {
     "name": "stderr",
     "output_type": "stream",
     "text": [
      "Processing short users:  92%|█████████▎| 925/1000 [1:13:28<05:32,  4.43s/it]"
     ]
    },
    {
     "name": "stdout",
     "output_type": "stream",
     "text": [
      "Saved progress after user: @nagajena-s3d\n",
      "\n",
      "Evaluating user: @Backyard-sports10 | 81 comments\n"
     ]
    },
    {
     "name": "stderr",
     "output_type": "stream",
     "text": [
      "Processing short users:  93%|█████████▎| 926/1000 [1:13:33<05:31,  4.48s/it]"
     ]
    },
    {
     "name": "stdout",
     "output_type": "stream",
     "text": [
      "Saved progress after user: @Backyard-sports10\n",
      "\n",
      "Evaluating user: @michellep3814 | 19 comments\n"
     ]
    },
    {
     "name": "stderr",
     "output_type": "stream",
     "text": [
      "Processing short users:  93%|█████████▎| 927/1000 [1:13:35<04:47,  3.94s/it]"
     ]
    },
    {
     "name": "stdout",
     "output_type": "stream",
     "text": [
      "Saved progress after user: @michellep3814\n",
      "\n",
      "Evaluating user: @IsoRoro-h8j | 28 comments\n"
     ]
    },
    {
     "name": "stderr",
     "output_type": "stream",
     "text": [
      "Processing short users:  93%|█████████▎| 928/1000 [1:13:40<04:55,  4.11s/it]"
     ]
    },
    {
     "name": "stdout",
     "output_type": "stream",
     "text": [
      "Saved progress after user: @IsoRoro-h8j\n",
      "\n",
      "Evaluating user: @onedreamcompany2354 | 31 comments\n"
     ]
    },
    {
     "name": "stderr",
     "output_type": "stream",
     "text": [
      "Processing short users:  93%|█████████▎| 929/1000 [1:13:45<05:06,  4.32s/it]"
     ]
    },
    {
     "name": "stdout",
     "output_type": "stream",
     "text": [
      "Saved progress after user: @onedreamcompany2354\n",
      "\n",
      "Evaluating user: @patriciam5563 | 25 comments\n"
     ]
    },
    {
     "name": "stderr",
     "output_type": "stream",
     "text": [
      "Processing short users:  93%|█████████▎| 930/1000 [1:13:50<05:17,  4.53s/it]"
     ]
    },
    {
     "name": "stdout",
     "output_type": "stream",
     "text": [
      "Saved progress after user: @patriciam5563\n",
      "\n",
      "Evaluating user: @futbal7n10 | 24 comments\n"
     ]
    },
    {
     "name": "stderr",
     "output_type": "stream",
     "text": [
      "Processing short users:  93%|█████████▎| 931/1000 [1:13:54<05:09,  4.49s/it]"
     ]
    },
    {
     "name": "stdout",
     "output_type": "stream",
     "text": [
      "Saved progress after user: @futbal7n10\n",
      "\n",
      "Evaluating user: @millicentwoods6046 | 131 comments\n"
     ]
    },
    {
     "name": "stderr",
     "output_type": "stream",
     "text": [
      "Processing short users:  93%|█████████▎| 932/1000 [1:14:01<05:47,  5.11s/it]"
     ]
    },
    {
     "name": "stdout",
     "output_type": "stream",
     "text": [
      "Saved progress after user: @millicentwoods6046\n",
      "\n",
      "Evaluating user: @meowcansancio393 | 64 comments\n"
     ]
    },
    {
     "name": "stderr",
     "output_type": "stream",
     "text": [
      "Processing short users:  93%|█████████▎| 933/1000 [1:14:05<05:21,  4.81s/it]"
     ]
    },
    {
     "name": "stdout",
     "output_type": "stream",
     "text": [
      "Saved progress after user: @meowcansancio393\n",
      "\n",
      "Evaluating user: @merichmepretty4711 | 20 comments\n"
     ]
    },
    {
     "name": "stderr",
     "output_type": "stream",
     "text": [
      "Processing short users:  93%|█████████▎| 934/1000 [1:14:10<05:19,  4.84s/it]"
     ]
    },
    {
     "name": "stdout",
     "output_type": "stream",
     "text": [
      "Saved progress after user: @merichmepretty4711\n",
      "\n",
      "Evaluating user: @taerutowoo6657 | 18 comments\n"
     ]
    },
    {
     "name": "stderr",
     "output_type": "stream",
     "text": [
      "Processing short users:  94%|█████████▎| 935/1000 [1:14:14<05:02,  4.65s/it]"
     ]
    },
    {
     "name": "stdout",
     "output_type": "stream",
     "text": [
      "Saved progress after user: @taerutowoo6657\n",
      "\n",
      "Evaluating user: @vtlc2024-m2q | 18 comments\n"
     ]
    },
    {
     "name": "stderr",
     "output_type": "stream",
     "text": [
      "Processing short users:  94%|█████████▎| 936/1000 [1:14:17<04:32,  4.27s/it]"
     ]
    },
    {
     "name": "stdout",
     "output_type": "stream",
     "text": [
      "Saved progress after user: @vtlc2024-m2q\n",
      "\n",
      "Evaluating user: @TejaBharvad-pu9wv | 22 comments\n"
     ]
    },
    {
     "name": "stderr",
     "output_type": "stream",
     "text": [
      "Processing short users:  94%|█████████▎| 937/1000 [1:14:22<04:43,  4.49s/it]"
     ]
    },
    {
     "name": "stdout",
     "output_type": "stream",
     "text": [
      "Saved progress after user: @TejaBharvad-pu9wv\n",
      "\n",
      "Evaluating user: @swatisinha1497 | 20 comments\n"
     ]
    },
    {
     "name": "stderr",
     "output_type": "stream",
     "text": [
      "Processing short users:  94%|█████████▍| 938/1000 [1:14:27<04:37,  4.47s/it]"
     ]
    },
    {
     "name": "stdout",
     "output_type": "stream",
     "text": [
      "Saved progress after user: @swatisinha1497\n",
      "\n",
      "Evaluating user: @emianiza5678 | 20 comments\n"
     ]
    },
    {
     "name": "stderr",
     "output_type": "stream",
     "text": [
      "Processing short users:  94%|█████████▍| 939/1000 [1:14:31<04:25,  4.35s/it]"
     ]
    },
    {
     "name": "stdout",
     "output_type": "stream",
     "text": [
      "Saved progress after user: @emianiza5678\n",
      "\n",
      "Evaluating user: @kevbrix9686 | 19 comments\n"
     ]
    },
    {
     "name": "stderr",
     "output_type": "stream",
     "text": [
      "Processing short users:  94%|█████████▍| 940/1000 [1:14:35<04:12,  4.22s/it]"
     ]
    },
    {
     "name": "stdout",
     "output_type": "stream",
     "text": [
      "Saved progress after user: @kevbrix9686\n",
      "\n",
      "Evaluating user: @ARGfanforever | 19 comments\n"
     ]
    },
    {
     "name": "stderr",
     "output_type": "stream",
     "text": [
      "Processing short users:  94%|█████████▍| 941/1000 [1:14:40<04:35,  4.66s/it]"
     ]
    },
    {
     "name": "stdout",
     "output_type": "stream",
     "text": [
      "Saved progress after user: @ARGfanforever\n",
      "\n",
      "Evaluating user: @josechavarria7652 | 40 comments\n"
     ]
    },
    {
     "name": "stderr",
     "output_type": "stream",
     "text": [
      "Processing short users:  94%|█████████▍| 942/1000 [1:14:45<04:28,  4.62s/it]"
     ]
    },
    {
     "name": "stdout",
     "output_type": "stream",
     "text": [
      "Saved progress after user: @josechavarria7652\n",
      "\n",
      "Evaluating user: @user-mb8ik3cm3xfz | 34 comments\n"
     ]
    },
    {
     "name": "stderr",
     "output_type": "stream",
     "text": [
      "Processing short users:  94%|█████████▍| 943/1000 [1:14:50<04:28,  4.71s/it]"
     ]
    },
    {
     "name": "stdout",
     "output_type": "stream",
     "text": [
      "Saved progress after user: @user-mb8ik3cm3xfz\n",
      "\n",
      "Evaluating user: @ryanfares263 | 27 comments\n"
     ]
    },
    {
     "name": "stderr",
     "output_type": "stream",
     "text": [
      "Processing short users:  94%|█████████▍| 944/1000 [1:14:54<04:15,  4.56s/it]"
     ]
    },
    {
     "name": "stdout",
     "output_type": "stream",
     "text": [
      "Saved progress after user: @ryanfares263\n",
      "\n",
      "Evaluating user: @TTVYungMenace30 | 37 comments\n"
     ]
    },
    {
     "name": "stderr",
     "output_type": "stream",
     "text": [
      "Processing short users:  94%|█████████▍| 945/1000 [1:14:59<04:13,  4.60s/it]"
     ]
    },
    {
     "name": "stdout",
     "output_type": "stream",
     "text": [
      "Saved progress after user: @TTVYungMenace30\n",
      "\n",
      "Evaluating user: @Sintrocity. | 19 comments\n"
     ]
    },
    {
     "name": "stderr",
     "output_type": "stream",
     "text": [
      "Processing short users:  95%|█████████▍| 946/1000 [1:15:03<03:57,  4.40s/it]"
     ]
    },
    {
     "name": "stdout",
     "output_type": "stream",
     "text": [
      "Saved progress after user: @Sintrocity.\n",
      "\n",
      "Evaluating user: @Thatonegingerkid78 | 21 comments\n"
     ]
    },
    {
     "name": "stderr",
     "output_type": "stream",
     "text": [
      "Processing short users:  95%|█████████▍| 947/1000 [1:15:08<04:08,  4.69s/it]"
     ]
    },
    {
     "name": "stdout",
     "output_type": "stream",
     "text": [
      "Saved progress after user: @Thatonegingerkid78\n",
      "\n",
      "Evaluating user: @Amber-yx7md | 32 comments\n"
     ]
    },
    {
     "name": "stderr",
     "output_type": "stream",
     "text": [
      "Processing short users:  95%|█████████▍| 948/1000 [1:15:12<03:56,  4.55s/it]"
     ]
    },
    {
     "name": "stdout",
     "output_type": "stream",
     "text": [
      "Saved progress after user: @Amber-yx7md\n",
      "\n",
      "Evaluating user: @sonisaifi644 | 23 comments\n"
     ]
    },
    {
     "name": "stderr",
     "output_type": "stream",
     "text": [
      "Processing short users:  95%|█████████▍| 949/1000 [1:15:18<04:11,  4.93s/it]"
     ]
    },
    {
     "name": "stdout",
     "output_type": "stream",
     "text": [
      "Saved progress after user: @sonisaifi644\n",
      "\n",
      "Evaluating user: @Senz.Pubg.official | 22 comments\n"
     ]
    },
    {
     "name": "stderr",
     "output_type": "stream",
     "text": [
      "Processing short users:  95%|█████████▌| 950/1000 [1:15:22<03:57,  4.75s/it]"
     ]
    },
    {
     "name": "stdout",
     "output_type": "stream",
     "text": [
      "Saved progress after user: @Senz.Pubg.official\n",
      "\n",
      "Evaluating user: @XC_Tamim | 37 comments\n"
     ]
    },
    {
     "name": "stderr",
     "output_type": "stream",
     "text": [
      "Processing short users:  95%|█████████▌| 951/1000 [1:15:26<03:42,  4.54s/it]"
     ]
    },
    {
     "name": "stdout",
     "output_type": "stream",
     "text": [
      "Saved progress after user: @XC_Tamim\n",
      "\n",
      "Evaluating user: @mayank9894 | 41 comments\n"
     ]
    },
    {
     "name": "stderr",
     "output_type": "stream",
     "text": [
      "Processing short users:  95%|█████████▌| 952/1000 [1:15:31<03:38,  4.55s/it]"
     ]
    },
    {
     "name": "stdout",
     "output_type": "stream",
     "text": [
      "Saved progress after user: @mayank9894\n",
      "\n",
      "Evaluating user: @gaming_7873 | 59 comments\n"
     ]
    },
    {
     "name": "stderr",
     "output_type": "stream",
     "text": [
      "Processing short users:  95%|█████████▌| 953/1000 [1:15:35<03:24,  4.35s/it]"
     ]
    },
    {
     "name": "stdout",
     "output_type": "stream",
     "text": [
      "Saved progress after user: @gaming_7873\n",
      "\n",
      "Evaluating user: @ernestronika | 18 comments\n"
     ]
    },
    {
     "name": "stderr",
     "output_type": "stream",
     "text": [
      "Processing short users:  95%|█████████▌| 954/1000 [1:15:40<03:24,  4.46s/it]"
     ]
    },
    {
     "name": "stdout",
     "output_type": "stream",
     "text": [
      "Saved progress after user: @ernestronika\n",
      "\n",
      "Evaluating user: @FortheloveofBIKES160 | 20 comments\n"
     ]
    },
    {
     "name": "stderr",
     "output_type": "stream",
     "text": [
      "Processing short users:  96%|█████████▌| 955/1000 [1:15:45<03:32,  4.72s/it]"
     ]
    },
    {
     "name": "stdout",
     "output_type": "stream",
     "text": [
      "Saved progress after user: @FortheloveofBIKES160\n",
      "\n",
      "Evaluating user: @robertsimmons7556 | 19 comments\n"
     ]
    },
    {
     "name": "stderr",
     "output_type": "stream",
     "text": [
      "Processing short users:  96%|█████████▌| 956/1000 [1:15:49<03:21,  4.58s/it]"
     ]
    },
    {
     "name": "stdout",
     "output_type": "stream",
     "text": [
      "Saved progress after user: @robertsimmons7556\n",
      "\n",
      "Evaluating user: @jasminergina5297 | 24 comments\n"
     ]
    },
    {
     "name": "stderr",
     "output_type": "stream",
     "text": [
      "Processing short users:  96%|█████████▌| 957/1000 [1:15:51<02:47,  3.90s/it]"
     ]
    },
    {
     "name": "stdout",
     "output_type": "stream",
     "text": [
      "Saved progress after user: @jasminergina5297\n",
      "\n",
      "Evaluating user: @alesiagabdrakhmanova8633 | 37 comments\n"
     ]
    },
    {
     "name": "stderr",
     "output_type": "stream",
     "text": [
      "Processing short users:  96%|█████████▌| 958/1000 [1:15:56<02:52,  4.11s/it]"
     ]
    },
    {
     "name": "stdout",
     "output_type": "stream",
     "text": [
      "Saved progress after user: @alesiagabdrakhmanova8633\n",
      "\n",
      "Evaluating user: @leocorpuz5100 | 22 comments\n"
     ]
    },
    {
     "name": "stderr",
     "output_type": "stream",
     "text": [
      "Processing short users:  96%|█████████▌| 959/1000 [1:15:59<02:30,  3.67s/it]"
     ]
    },
    {
     "name": "stdout",
     "output_type": "stream",
     "text": [
      "Saved progress after user: @leocorpuz5100\n",
      "\n",
      "Evaluating user: @juliusmarcmaligad762 | 124 comments\n"
     ]
    },
    {
     "name": "stderr",
     "output_type": "stream",
     "text": [
      "Processing short users:  96%|█████████▌| 960/1000 [1:16:02<02:22,  3.55s/it]"
     ]
    },
    {
     "name": "stdout",
     "output_type": "stream",
     "text": [
      "Saved progress after user: @juliusmarcmaligad762\n",
      "\n",
      "Evaluating user: @Jonsabadrammeh_ | 19 comments\n"
     ]
    },
    {
     "name": "stderr",
     "output_type": "stream",
     "text": [
      "Processing short users:  96%|█████████▌| 961/1000 [1:16:07<02:40,  4.12s/it]"
     ]
    },
    {
     "name": "stdout",
     "output_type": "stream",
     "text": [
      "Saved progress after user: @Jonsabadrammeh_\n",
      "\n",
      "Evaluating user: @jamesnichols7474 | 18 comments\n"
     ]
    },
    {
     "name": "stderr",
     "output_type": "stream",
     "text": [
      "Processing short users:  96%|█████████▌| 962/1000 [1:16:12<02:43,  4.29s/it]"
     ]
    },
    {
     "name": "stdout",
     "output_type": "stream",
     "text": [
      "Saved progress after user: @jamesnichols7474\n",
      "\n",
      "Evaluating user: @joshuadavid4102 | 21 comments\n"
     ]
    },
    {
     "name": "stderr",
     "output_type": "stream",
     "text": [
      "Processing short users:  96%|█████████▋| 963/1000 [1:16:17<02:45,  4.48s/it]"
     ]
    },
    {
     "name": "stdout",
     "output_type": "stream",
     "text": [
      "Saved progress after user: @joshuadavid4102\n",
      "\n",
      "Evaluating user: @PedroFabricio-o2o | 23 comments\n"
     ]
    },
    {
     "name": "stderr",
     "output_type": "stream",
     "text": [
      "Processing short users:  96%|█████████▋| 964/1000 [1:16:21<02:36,  4.33s/it]"
     ]
    },
    {
     "name": "stdout",
     "output_type": "stream",
     "text": [
      "Saved progress after user: @PedroFabricio-o2o\n",
      "\n",
      "Evaluating user: @elzoomDlaMuerte | 26 comments\n"
     ]
    },
    {
     "name": "stderr",
     "output_type": "stream",
     "text": [
      "Processing short users:  96%|█████████▋| 965/1000 [1:16:27<02:47,  4.79s/it]"
     ]
    },
    {
     "name": "stdout",
     "output_type": "stream",
     "text": [
      "Saved progress after user: @elzoomDlaMuerte\n",
      "\n",
      "Evaluating user: @pedrovilmardasilva4537 | 22 comments\n"
     ]
    },
    {
     "name": "stderr",
     "output_type": "stream",
     "text": [
      "Processing short users:  97%|█████████▋| 966/1000 [1:16:31<02:34,  4.55s/it]"
     ]
    },
    {
     "name": "stdout",
     "output_type": "stream",
     "text": [
      "Saved progress after user: @pedrovilmardasilva4537\n",
      "\n",
      "Evaluating user: @ThreeraphatKongjan-xh5um | 22 comments\n"
     ]
    },
    {
     "name": "stderr",
     "output_type": "stream",
     "text": [
      "Processing short users:  97%|█████████▋| 967/1000 [1:16:35<02:29,  4.54s/it]"
     ]
    },
    {
     "name": "stdout",
     "output_type": "stream",
     "text": [
      "Saved progress after user: @ThreeraphatKongjan-xh5um\n",
      "\n",
      "Evaluating user: @peeraphatsutham9414 | 19 comments\n"
     ]
    },
    {
     "name": "stderr",
     "output_type": "stream",
     "text": [
      "Processing short users:  97%|█████████▋| 968/1000 [1:16:39<02:15,  4.25s/it]"
     ]
    },
    {
     "name": "stdout",
     "output_type": "stream",
     "text": [
      "Saved progress after user: @peeraphatsutham9414\n",
      "\n",
      "Evaluating user: @valmirurban9607 | 20 comments\n"
     ]
    },
    {
     "name": "stderr",
     "output_type": "stream",
     "text": [
      "Processing short users:  97%|█████████▋| 969/1000 [1:16:44<02:18,  4.48s/it]"
     ]
    },
    {
     "name": "stdout",
     "output_type": "stream",
     "text": [
      "Saved progress after user: @valmirurban9607\n",
      "\n",
      "Evaluating user: @danielsantiagoperezvalenci186 | 56 comments\n"
     ]
    },
    {
     "name": "stderr",
     "output_type": "stream",
     "text": [
      "Processing short users:  97%|█████████▋| 970/1000 [1:16:49<02:20,  4.67s/it]"
     ]
    },
    {
     "name": "stdout",
     "output_type": "stream",
     "text": [
      "Saved progress after user: @danielsantiagoperezvalenci186\n",
      "\n",
      "Evaluating user: @julianmanriquevanegas7499 | 62 comments\n"
     ]
    },
    {
     "name": "stderr",
     "output_type": "stream",
     "text": [
      "Processing short users:  97%|█████████▋| 971/1000 [1:16:55<02:28,  5.11s/it]"
     ]
    },
    {
     "name": "stdout",
     "output_type": "stream",
     "text": [
      "Saved progress after user: @julianmanriquevanegas7499\n",
      "\n",
      "Evaluating user: @AndresCastellanos00 | 27 comments\n"
     ]
    },
    {
     "name": "stderr",
     "output_type": "stream",
     "text": [
      "Processing short users:  97%|█████████▋| 972/1000 [1:16:59<02:12,  4.72s/it]"
     ]
    },
    {
     "name": "stdout",
     "output_type": "stream",
     "text": [
      "Saved progress after user: @AndresCastellanos00\n",
      "\n",
      "Evaluating user: @Airammeyer | 39 comments\n"
     ]
    },
    {
     "name": "stderr",
     "output_type": "stream",
     "text": [
      "Processing short users:  97%|█████████▋| 973/1000 [1:17:04<02:07,  4.71s/it]"
     ]
    },
    {
     "name": "stdout",
     "output_type": "stream",
     "text": [
      "Saved progress after user: @Airammeyer\n",
      "\n",
      "Evaluating user: @vanesasaldarriaga8892 | 96 comments\n"
     ]
    },
    {
     "name": "stderr",
     "output_type": "stream",
     "text": [
      "Processing short users:  97%|█████████▋| 974/1000 [1:17:09<02:04,  4.77s/it]"
     ]
    },
    {
     "name": "stdout",
     "output_type": "stream",
     "text": [
      "Saved progress after user: @vanesasaldarriaga8892\n",
      "\n",
      "Evaluating user: @josu_serna | 101 comments\n"
     ]
    },
    {
     "name": "stderr",
     "output_type": "stream",
     "text": [
      "Processing short users:  98%|█████████▊| 975/1000 [1:17:14<02:01,  4.88s/it]"
     ]
    },
    {
     "name": "stdout",
     "output_type": "stream",
     "text": [
      "Saved progress after user: @josu_serna\n",
      "\n",
      "Evaluating user: @williamandressolano4854 | 106 comments\n"
     ]
    },
    {
     "name": "stderr",
     "output_type": "stream",
     "text": [
      "Processing short users:  98%|█████████▊| 976/1000 [1:17:19<01:59,  4.98s/it]"
     ]
    },
    {
     "name": "stdout",
     "output_type": "stream",
     "text": [
      "Saved progress after user: @williamandressolano4854\n",
      "\n",
      "Evaluating user: @sebasm30 | 33 comments\n"
     ]
    },
    {
     "name": "stderr",
     "output_type": "stream",
     "text": [
      "Processing short users:  98%|█████████▊| 977/1000 [1:17:25<02:04,  5.42s/it]"
     ]
    },
    {
     "name": "stdout",
     "output_type": "stream",
     "text": [
      "Saved progress after user: @sebasm30\n",
      "\n",
      "Evaluating user: @brayangarcia2085 | 37 comments\n"
     ]
    },
    {
     "name": "stderr",
     "output_type": "stream",
     "text": [
      "Processing short users:  98%|█████████▊| 978/1000 [1:17:30<01:51,  5.09s/it]"
     ]
    },
    {
     "name": "stdout",
     "output_type": "stream",
     "text": [
      "Saved progress after user: @brayangarcia2085\n",
      "\n",
      "Evaluating user: @valerycastro2142 | 73 comments\n"
     ]
    },
    {
     "name": "stderr",
     "output_type": "stream",
     "text": [
      "Processing short users:  98%|█████████▊| 979/1000 [1:17:39<02:11,  6.26s/it]"
     ]
    },
    {
     "name": "stdout",
     "output_type": "stream",
     "text": [
      "Saved progress after user: @valerycastro2142\n",
      "\n",
      "Evaluating user: @JhonFredyCastiblancoVaquero | 99 comments\n"
     ]
    },
    {
     "name": "stderr",
     "output_type": "stream",
     "text": [
      "Processing short users:  98%|█████████▊| 980/1000 [1:17:45<02:02,  6.13s/it]"
     ]
    },
    {
     "name": "stdout",
     "output_type": "stream",
     "text": [
      "Saved progress after user: @JhonFredyCastiblancoVaquero\n",
      "\n",
      "Evaluating user: @Jeremy_paez_21 | 110 comments\n"
     ]
    },
    {
     "name": "stderr",
     "output_type": "stream",
     "text": [
      "Processing short users:  98%|█████████▊| 981/1000 [1:17:49<01:45,  5.53s/it]"
     ]
    },
    {
     "name": "stdout",
     "output_type": "stream",
     "text": [
      "Saved progress after user: @Jeremy_paez_21\n",
      "\n",
      "Evaluating user: @LauraIbagon-w4l | 37 comments\n"
     ]
    },
    {
     "name": "stderr",
     "output_type": "stream",
     "text": [
      "Processing short users:  98%|█████████▊| 982/1000 [1:17:53<01:33,  5.17s/it]"
     ]
    },
    {
     "name": "stdout",
     "output_type": "stream",
     "text": [
      "Saved progress after user: @LauraIbagon-w4l\n",
      "\n",
      "Evaluating user: @valery4627 | 34 comments\n"
     ]
    },
    {
     "name": "stderr",
     "output_type": "stream",
     "text": [
      "Processing short users:  98%|█████████▊| 983/1000 [1:17:57<01:23,  4.92s/it]"
     ]
    },
    {
     "name": "stdout",
     "output_type": "stream",
     "text": [
      "Saved progress after user: @valery4627\n",
      "\n",
      "Evaluating user: @valentinaverdecia7375 | 21 comments\n"
     ]
    },
    {
     "name": "stderr",
     "output_type": "stream",
     "text": [
      "Processing short users:  98%|█████████▊| 984/1000 [1:18:03<01:19,  5.00s/it]"
     ]
    },
    {
     "name": "stdout",
     "output_type": "stream",
     "text": [
      "Saved progress after user: @valentinaverdecia7375\n",
      "\n",
      "Evaluating user: @MUSA-. | 20 comments\n"
     ]
    },
    {
     "name": "stderr",
     "output_type": "stream",
     "text": [
      "Processing short users:  98%|█████████▊| 985/1000 [1:18:10<01:24,  5.64s/it]"
     ]
    },
    {
     "name": "stdout",
     "output_type": "stream",
     "text": [
      "Saved progress after user: @MUSA-.\n",
      "\n",
      "Evaluating user: @JulianaRamirezjurado | 24 comments\n"
     ]
    },
    {
     "name": "stderr",
     "output_type": "stream",
     "text": [
      "Processing short users:  99%|█████████▊| 986/1000 [1:18:15<01:15,  5.43s/it]"
     ]
    },
    {
     "name": "stdout",
     "output_type": "stream",
     "text": [
      "Saved progress after user: @JulianaRamirezjurado\n",
      "\n",
      "Evaluating user: @juancardenas5029 | 23 comments\n"
     ]
    },
    {
     "name": "stderr",
     "output_type": "stream",
     "text": [
      "Processing short users:  99%|█████████▊| 987/1000 [1:18:20<01:09,  5.36s/it]"
     ]
    },
    {
     "name": "stdout",
     "output_type": "stream",
     "text": [
      "Saved progress after user: @juancardenas5029\n",
      "\n",
      "Evaluating user: @kimberlyyeseniadiazgarcia1597 | 96 comments\n"
     ]
    },
    {
     "name": "stderr",
     "output_type": "stream",
     "text": [
      "Processing short users:  99%|█████████▉| 988/1000 [1:18:24<01:01,  5.10s/it]"
     ]
    },
    {
     "name": "stdout",
     "output_type": "stream",
     "text": [
      "Saved progress after user: @kimberlyyeseniadiazgarcia1597\n",
      "\n",
      "Evaluating user: @Sam-jm1zc | 28 comments\n"
     ]
    },
    {
     "name": "stderr",
     "output_type": "stream",
     "text": [
      "Processing short users:  99%|█████████▉| 989/1000 [1:18:30<00:58,  5.29s/it]"
     ]
    },
    {
     "name": "stdout",
     "output_type": "stream",
     "text": [
      "Saved progress after user: @Sam-jm1zc\n",
      "\n",
      "Evaluating user: @julianandresbermudeztovar7644 | 114 comments\n"
     ]
    },
    {
     "name": "stderr",
     "output_type": "stream",
     "text": [
      "Processing short users:  99%|█████████▉| 990/1000 [1:18:36<00:53,  5.39s/it]"
     ]
    },
    {
     "name": "stdout",
     "output_type": "stream",
     "text": [
      "Saved progress after user: @julianandresbermudeztovar7644\n",
      "\n",
      "Evaluating user: @valentinamendozaperez6624 | 52 comments\n"
     ]
    },
    {
     "name": "stderr",
     "output_type": "stream",
     "text": [
      "Processing short users:  99%|█████████▉| 991/1000 [1:18:40<00:45,  5.04s/it]"
     ]
    },
    {
     "name": "stdout",
     "output_type": "stream",
     "text": [
      "Saved progress after user: @valentinamendozaperez6624\n",
      "\n",
      "Evaluating user: @Guerreroguerrero484 | 26 comments\n"
     ]
    },
    {
     "name": "stderr",
     "output_type": "stream",
     "text": [
      "Processing short users:  99%|█████████▉| 992/1000 [1:18:45<00:39,  5.00s/it]"
     ]
    },
    {
     "name": "stdout",
     "output_type": "stream",
     "text": [
      "Saved progress after user: @Guerreroguerrero484\n",
      "\n",
      "Evaluating user: @dekkaimusic | 19 comments\n"
     ]
    },
    {
     "name": "stderr",
     "output_type": "stream",
     "text": [
      "Processing short users:  99%|█████████▉| 993/1000 [1:18:49<00:33,  4.78s/it]"
     ]
    },
    {
     "name": "stdout",
     "output_type": "stream",
     "text": [
      "Saved progress after user: @dekkaimusic\n",
      "\n",
      "Evaluating user: @gegezab | 22 comments\n"
     ]
    },
    {
     "name": "stderr",
     "output_type": "stream",
     "text": [
      "Processing short users:  99%|█████████▉| 994/1000 [1:18:54<00:28,  4.77s/it]"
     ]
    },
    {
     "name": "stdout",
     "output_type": "stream",
     "text": [
      "Saved progress after user: @gegezab\n",
      "\n",
      "Evaluating user: @RileJackson8803 | 20 comments\n"
     ]
    },
    {
     "name": "stderr",
     "output_type": "stream",
     "text": [
      "Processing short users: 100%|█████████▉| 995/1000 [1:18:59<00:24,  4.88s/it]"
     ]
    },
    {
     "name": "stdout",
     "output_type": "stream",
     "text": [
      "Saved progress after user: @RileJackson8803\n",
      "\n",
      "Evaluating user: @nervousgardensclub6423 | 31 comments\n"
     ]
    },
    {
     "name": "stderr",
     "output_type": "stream",
     "text": [
      "Processing short users: 100%|█████████▉| 996/1000 [1:19:12<00:29,  7.25s/it]"
     ]
    },
    {
     "name": "stdout",
     "output_type": "stream",
     "text": [
      "Saved progress after user: @nervousgardensclub6423\n",
      "\n",
      "Evaluating user: @Toffeelula | 19 comments\n"
     ]
    },
    {
     "name": "stderr",
     "output_type": "stream",
     "text": [
      "Processing short users: 100%|█████████▉| 997/1000 [1:19:17<00:19,  6.52s/it]"
     ]
    },
    {
     "name": "stdout",
     "output_type": "stream",
     "text": [
      "Saved progress after user: @Toffeelula\n",
      "\n",
      "Evaluating user: @_lurd_838 | 19 comments\n"
     ]
    },
    {
     "name": "stderr",
     "output_type": "stream",
     "text": [
      "Processing short users: 100%|█████████▉| 998/1000 [1:19:21<00:11,  5.98s/it]"
     ]
    },
    {
     "name": "stdout",
     "output_type": "stream",
     "text": [
      "Saved progress after user: @_lurd_838\n",
      "\n",
      "Evaluating user: @rafoigraextra7441 | 21 comments\n"
     ]
    },
    {
     "name": "stderr",
     "output_type": "stream",
     "text": [
      "Processing short users: 100%|█████████▉| 999/1000 [1:19:33<00:07,  7.72s/it]"
     ]
    },
    {
     "name": "stdout",
     "output_type": "stream",
     "text": [
      "Saved progress after user: @rafoigraextra7441\n",
      "\n",
      "Evaluating user: @coldhearted7704 | 18 comments\n"
     ]
    },
    {
     "name": "stderr",
     "output_type": "stream",
     "text": [
      "Processing short users: 100%|██████████| 1000/1000 [1:19:39<00:00,  4.78s/it]"
     ]
    },
    {
     "name": "stdout",
     "output_type": "stream",
     "text": [
      "Saved progress after user: @coldhearted7704\n",
      "\n",
      "All users processed or sample size reached.\n",
      "Processing complete. Results saved to 'short1000_user_eval.json'.\n"
     ]
    },
    {
     "name": "stderr",
     "output_type": "stream",
     "text": [
      "\n"
     ]
    }
   ],
   "source": [
    "import re\n",
    "import json\n",
    "import os\n",
    "from openai import OpenAI\n",
    "from tqdm import tqdm\n",
    "import math\n",
    "\n",
    "# --- Configuration ---\n",
    "API_KEY = \"sk-...\"  # Replace with your actual OpenAI API key\n",
    "MODEL = \"gpt-4.1-mini\"\n",
    "SAMPLE_SIZE = 1000  \n",
    "NUM_COMMENTS = 20\n",
    "\n",
    "RAW_COMPONENTS = [\n",
    "    \"salience\",\n",
    "    \"tolerance\",\n",
    "    \"mood_modification\",\n",
    "    \"withdrawal\",\n",
    "    \"conflict\",\n",
    "    \"relapse\"\n",
    "]\n",
    "QUESTIONS = [\n",
    "    \"Have you spent a lot of time thinking about social media or planning how to use it?\",\n",
    "    \"Have you felt an urge to use social media more and more?\",\n",
    "    \"Have you used social media in order to forget about personal problems?\",\n",
    "    \"Have you become restless or troubled if you have been prohibited from using social media?\",\n",
    "    \"Have you used social media so much that it has had a negative impact on your job/studies?\",\n",
    "    \"Have you tried to cut down on the use of social media without success?\"\n",
    "]\n",
    "\n",
    "# --- Initialize OpenAI client ---\n",
    "client = OpenAI(api_key=API_KEY)\n",
    "\n",
    "# --- Text cleaning utilities ---\n",
    "def clean_text(text: str) -> str:\n",
    "    \"\"\"\n",
    "    Remove BOM, null bytes, zero-width characters, and trim whitespace.\n",
    "    \"\"\"\n",
    "    text = text.lstrip('\\ufeff').lstrip('\\x00')\n",
    "    text = re.sub(r'[\\u200B-\\u200D\\uFEFF]', '', text)\n",
    "    return text.strip()\n",
    "\n",
    "def parse_json_response(raw: str) -> str:\n",
    "    \"\"\"\n",
    "    Extract the first {...} block from the raw text.\n",
    "    If none is found, return the original raw text.\n",
    "    \"\"\"\n",
    "    match = re.search(r'\\{.*\\}', raw, flags=re.DOTALL)\n",
    "    return match.group(0) if match else raw\n",
    "\n",
    "# --- Wrapped chat completion ---\n",
    "def chat_completion(messages):\n",
    "    \"\"\"\n",
    "    Call OpenAI chat completion, then clean the returned text.\n",
    "    \"\"\"\n",
    "    resp = client.chat.completions.create(\n",
    "        model=MODEL,\n",
    "        messages=messages,\n",
    "        temperature=0.1,\n",
    "    ).choices[0].message.content\n",
    "    return clean_text(resp)\n",
    "\n",
    "# --- Main processing ---\n",
    "def main():\n",
    "    print(\"\\n========== PROCESSING SHORT VIDEOS ==========\")\n",
    "    # Load all comments for short users\n",
    "    with open(\"sampled1000_short_users_all_comments.json\", \"r\", encoding=\"utf-8\") as f:\n",
    "        all_comments = json.load(f)\n",
    "\n",
    "    results_path = \"short1000_user_eval.json\"\n",
    "    if os.path.exists(results_path):\n",
    "        with open(results_path, \"r\", encoding=\"utf-8\") as f:\n",
    "            results = json.load(f)\n",
    "        print(f\"Loaded {len(results)} existing results.\")\n",
    "    else:\n",
    "        results = {}\n",
    "\n",
    "    for author, comments in tqdm(all_comments.items(), desc=\"Processing short users\"):\n",
    "        if len(results) >= SAMPLE_SIZE:\n",
    "            print(f\"Reached {SAMPLE_SIZE} authors, stopping.\")\n",
    "            break\n",
    "        if author in results:\n",
    "            print(f\"Already processed: {author}\")\n",
    "            continue\n",
    "\n",
    "        print(f\"\\nEvaluating user: {author} | {len(comments)} comments\")\n",
    "\n",
    "        # Build prompts\n",
    "        user_prompt = (\n",
    "            f\"You are now roleplaying as a social media user named {author}. \"\n",
    "            \"Your personality, opinions, behaviors, and communication style should be derived exclusively from these comments.\\n\\n\"\n",
    "            \"Here are the comments you have made:\\n\" +\n",
    "            \"\\n\".join(c[\"text\"] for c in comments)\n",
    "        )\n",
    "        psychologist_prompt = (\n",
    "            \"Please answer the following six questions about your social media usage. \"\n",
    "            \"Each question: respond with a number from 1-5 and a brief explanation.\\n\\n\" +\n",
    "            \"\\n\".join(QUESTIONS)\n",
    "        )\n",
    "\n",
    "        # Get user response\n",
    "        messages = [\n",
    "            {\"role\": \"system\", \"content\": user_prompt},\n",
    "            {\"role\": \"user\", \"content\": psychologist_prompt}\n",
    "        ]\n",
    "        user_response = chat_completion(messages)\n",
    "\n",
    "        # Format response into simple JSON with only scores\n",
    "        format_prompt = (\n",
    "            \"You are a data formatter that processes social media users' responses to the Facebook Addiction Scale questions. \"\n",
    "            \"Convert their answers into structured JSON without any extra text. \"\n",
    "            \"Only return a dictionary where each key is one of the six components, and the value is the integer rating (1 to 5). \"\n",
    "            \"Do not include any explanations or comments.\\n\\n\"\n",
    "            \"Output format:\\n\"\n",
    "            \"{\\n\"\n",
    "            '  \"salience\": int,\\n'\n",
    "            '  \"tolerance\": int,\\n'\n",
    "            '  \"mood_modification\": int,\\n'\n",
    "            '  \"withdrawal\": int,\\n'\n",
    "            '  \"conflict\": int,\\n'\n",
    "            '  \"relapse\": int\\n'\n",
    "            \"}\"\n",
    "        )\n",
    "        format_messages = [\n",
    "            {\"role\": \"system\", \"content\": format_prompt},\n",
    "            {\"role\": \"user\", \"content\": user_response}\n",
    "        ]\n",
    "        format_response = chat_completion(format_messages)\n",
    "        json_str = parse_json_response(format_response)\n",
    "        user_result = json.loads(json_str)\n",
    "\n",
    "        # Save in-memory and to disk\n",
    "        results[author] = user_result\n",
    "        with open(results_path, \"w\", encoding=\"utf-8\") as f:\n",
    "            json.dump(results, f, indent=2)\n",
    "        print(f\"Saved progress after user: {author}\")\n",
    "    print(\"\\nAll users processed or sample size reached.\")\n",
    "if __name__ == \"__main__\":\n",
    "    main()\n",
    "    print(\"Processing complete. Results saved to 'short1000_user_eval.json'.\")\n"
   ]
  },
  {
   "cell_type": "code",
   "execution_count": 1,
   "id": "510be187",
   "metadata": {},
   "outputs": [
    {
     "name": "stderr",
     "output_type": "stream",
     "text": [
      "/Users/lyfan/Library/Python/3.9/lib/python/site-packages/urllib3/__init__.py:35: NotOpenSSLWarning: urllib3 v2 only supports OpenSSL 1.1.1+, currently the 'ssl' module is compiled with 'LibreSSL 2.8.3'. See: https://github.com/urllib3/urllib3/issues/3020\n",
      "  warnings.warn(\n"
     ]
    },
    {
     "data": {
      "text/plain": [
       "{'id': 'FolVAHubOXs',\n",
       " 'title': 'GOHST MISTERY CONTINUE.. #funny #funnyshorts #fun #kerala #chennai #bangalore #mumbai #kolkata #uae',\n",
       " 'formats': [{'format_id': 'sb2',\n",
       "   'format_note': 'storyboard',\n",
       "   'ext': 'mhtml',\n",
       "   'protocol': 'mhtml',\n",
       "   'acodec': 'none',\n",
       "   'vcodec': 'none',\n",
       "   'url': 'https://i.ytimg.com/sb/FolVAHubOXs/storyboard3_L1/M$M.jpg?sqp=-oaymwENSDfyq4qpAwVwAcABBqLzl_8DBgj9ktW2Bg==&sigh=rs$AOn4CLCq824iVQbVCXF3FiiN7ErvKl1VGA',\n",
       "   'width': 25,\n",
       "   'height': 45,\n",
       "   'fps': 1.1176470588235294,\n",
       "   'rows': 10,\n",
       "   'columns': 10,\n",
       "   'fragments': [{'url': 'https://i.ytimg.com/sb/FolVAHubOXs/storyboard3_L1/M0.jpg?sqp=-oaymwENSDfyq4qpAwVwAcABBqLzl_8DBgj9ktW2Bg==&sigh=rs$AOn4CLCq824iVQbVCXF3FiiN7ErvKl1VGA',\n",
       "     'duration': 17.0}],\n",
       "   'audio_ext': 'none',\n",
       "   'video_ext': 'none',\n",
       "   'vbr': 0,\n",
       "   'abr': 0,\n",
       "   'tbr': None,\n",
       "   'resolution': '25x45',\n",
       "   'aspect_ratio': 0.56,\n",
       "   'filesize_approx': None,\n",
       "   'http_headers': {'User-Agent': 'Mozilla/5.0 (Windows NT 10.0; Win64; x64) AppleWebKit/537.36 (KHTML, like Gecko) Chrome/92.0.4515.43 Safari/537.36',\n",
       "    'Accept': 'text/html,application/xhtml+xml,application/xml;q=0.9,*/*;q=0.8',\n",
       "    'Accept-Language': 'en-us,en;q=0.5',\n",
       "    'Sec-Fetch-Mode': 'navigate'},\n",
       "   'format': 'sb2 - 25x45 (storyboard)'},\n",
       "  {'format_id': 'sb3',\n",
       "   'format_note': 'storyboard',\n",
       "   'ext': 'mhtml',\n",
       "   'protocol': 'mhtml',\n",
       "   'acodec': 'none',\n",
       "   'vcodec': 'none',\n",
       "   'url': 'https://i.ytimg.com/sb/FolVAHubOXs/storyboard3_L0/default.jpg?sqp=-oaymwENSDfyq4qpAwVwAcABBqLzl_8DBgj9ktW2Bg==&sigh=rs$AOn4CLDjlbVQe3YFtaGAjFaxGbapnVNGWw',\n",
       "   'width': 48,\n",
       "   'height': 27,\n",
       "   'fps': 5.882352941176471,\n",
       "   'rows': 10,\n",
       "   'columns': 10,\n",
       "   'fragments': [{'url': 'https://i.ytimg.com/sb/FolVAHubOXs/storyboard3_L0/default.jpg?sqp=-oaymwENSDfyq4qpAwVwAcABBqLzl_8DBgj9ktW2Bg==&sigh=rs$AOn4CLDjlbVQe3YFtaGAjFaxGbapnVNGWw',\n",
       "     'duration': 17.0}],\n",
       "   'audio_ext': 'none',\n",
       "   'video_ext': 'none',\n",
       "   'vbr': 0,\n",
       "   'abr': 0,\n",
       "   'tbr': None,\n",
       "   'resolution': '48x27',\n",
       "   'aspect_ratio': 1.78,\n",
       "   'filesize_approx': None,\n",
       "   'http_headers': {'User-Agent': 'Mozilla/5.0 (Windows NT 10.0; Win64; x64) AppleWebKit/537.36 (KHTML, like Gecko) Chrome/92.0.4515.43 Safari/537.36',\n",
       "    'Accept': 'text/html,application/xhtml+xml,application/xml;q=0.9,*/*;q=0.8',\n",
       "    'Accept-Language': 'en-us,en;q=0.5',\n",
       "    'Sec-Fetch-Mode': 'navigate'},\n",
       "   'format': 'sb3 - 48x27 (storyboard)'},\n",
       "  {'format_id': 'sb1',\n",
       "   'format_note': 'storyboard',\n",
       "   'ext': 'mhtml',\n",
       "   'protocol': 'mhtml',\n",
       "   'acodec': 'none',\n",
       "   'vcodec': 'none',\n",
       "   'url': 'https://i.ytimg.com/sb/FolVAHubOXs/storyboard3_L2/M$M.jpg?sqp=-oaymwENSDfyq4qpAwVwAcABBqLzl_8DBgj9ktW2Bg==&sigh=rs$AOn4CLDe_atfghAwLq2yrQe9lgWL1dzBsA',\n",
       "   'width': 50,\n",
       "   'height': 90,\n",
       "   'fps': 1.1176470588235294,\n",
       "   'rows': 5,\n",
       "   'columns': 5,\n",
       "   'fragments': [{'url': 'https://i.ytimg.com/sb/FolVAHubOXs/storyboard3_L2/M0.jpg?sqp=-oaymwENSDfyq4qpAwVwAcABBqLzl_8DBgj9ktW2Bg==&sigh=rs$AOn4CLDe_atfghAwLq2yrQe9lgWL1dzBsA',\n",
       "     'duration': 17.0}],\n",
       "   'audio_ext': 'none',\n",
       "   'video_ext': 'none',\n",
       "   'vbr': 0,\n",
       "   'abr': 0,\n",
       "   'tbr': None,\n",
       "   'resolution': '50x90',\n",
       "   'aspect_ratio': 0.56,\n",
       "   'filesize_approx': None,\n",
       "   'http_headers': {'User-Agent': 'Mozilla/5.0 (Windows NT 10.0; Win64; x64) AppleWebKit/537.36 (KHTML, like Gecko) Chrome/92.0.4515.43 Safari/537.36',\n",
       "    'Accept': 'text/html,application/xhtml+xml,application/xml;q=0.9,*/*;q=0.8',\n",
       "    'Accept-Language': 'en-us,en;q=0.5',\n",
       "    'Sec-Fetch-Mode': 'navigate'},\n",
       "   'format': 'sb1 - 50x90 (storyboard)'},\n",
       "  {'format_id': 'sb0',\n",
       "   'format_note': 'storyboard',\n",
       "   'ext': 'mhtml',\n",
       "   'protocol': 'mhtml',\n",
       "   'acodec': 'none',\n",
       "   'vcodec': 'none',\n",
       "   'url': 'https://i.ytimg.com/sb/FolVAHubOXs/storyboard3_L3/M$M.jpg?sqp=-oaymwENSDfyq4qpAwVwAcABBqLzl_8DBgj9ktW2Bg==&sigh=rs$AOn4CLCIaXOuwHpVk2jyMtM_xPo_fh9--Q',\n",
       "   'width': 101,\n",
       "   'height': 180,\n",
       "   'fps': 1.1176470588235294,\n",
       "   'rows': 3,\n",
       "   'columns': 3,\n",
       "   'fragments': [{'url': 'https://i.ytimg.com/sb/FolVAHubOXs/storyboard3_L3/M0.jpg?sqp=-oaymwENSDfyq4qpAwVwAcABBqLzl_8DBgj9ktW2Bg==&sigh=rs$AOn4CLCIaXOuwHpVk2jyMtM_xPo_fh9--Q',\n",
       "     'duration': 8.052631578947368},\n",
       "    {'url': 'https://i.ytimg.com/sb/FolVAHubOXs/storyboard3_L3/M1.jpg?sqp=-oaymwENSDfyq4qpAwVwAcABBqLzl_8DBgj9ktW2Bg==&sigh=rs$AOn4CLCIaXOuwHpVk2jyMtM_xPo_fh9--Q',\n",
       "     'duration': 8.052631578947368},\n",
       "    {'url': 'https://i.ytimg.com/sb/FolVAHubOXs/storyboard3_L3/M2.jpg?sqp=-oaymwENSDfyq4qpAwVwAcABBqLzl_8DBgj9ktW2Bg==&sigh=rs$AOn4CLCIaXOuwHpVk2jyMtM_xPo_fh9--Q',\n",
       "     'duration': 0.8947368421052637}],\n",
       "   'audio_ext': 'none',\n",
       "   'video_ext': 'none',\n",
       "   'vbr': 0,\n",
       "   'abr': 0,\n",
       "   'tbr': None,\n",
       "   'resolution': '101x180',\n",
       "   'aspect_ratio': 0.56,\n",
       "   'filesize_approx': None,\n",
       "   'http_headers': {'User-Agent': 'Mozilla/5.0 (Windows NT 10.0; Win64; x64) AppleWebKit/537.36 (KHTML, like Gecko) Chrome/92.0.4515.43 Safari/537.36',\n",
       "    'Accept': 'text/html,application/xhtml+xml,application/xml;q=0.9,*/*;q=0.8',\n",
       "    'Accept-Language': 'en-us,en;q=0.5',\n",
       "    'Sec-Fetch-Mode': 'navigate'},\n",
       "   'format': 'sb0 - 101x180 (storyboard)'},\n",
       "  {'format_id': '233',\n",
       "   'format_note': 'Default, low',\n",
       "   'format_index': None,\n",
       "   'url': 'https://manifest.googlevideo.com/api/manifest/hls_playlist/expire/1750251309/ei/zWJSaKGdC-qRlu8P06nv6AM/ip/216.171.10.22/id/168955007b9b397b/itag/233/source/youtube/requiressl/yes/ratebypass/yes/pfa/1/goi/133/sgoap/clen%3D107282%3Bdur%3D17.461%3Bgir%3Dyes%3Bitag%3D139%3Blmt%3D1728198423890621/rqh/1/hls_chunk_host/rr3---sn-258av8hxqp5-jhpl.googlevideo.com/xpc/EgVo2aDSNQ%3D%3D/met/1750229709,/mh/vl/mm/31,29/mn/sn-258av8hxqp5-jhpl,sn-vgqsknez/ms/au,rdu/mv/m/mvi/3/pl/24/rms/au,au/initcwndbps/4756250/bui/AY1jyLPzE4QP4jS7c0qfu_SiAK2ErPKJg1Cel2ucV_giKB9KJ7yTQg4gaOlpTT2CfyTGX8haP4znkw7j/spc/l3OVKTrGjNXWVrf7aojHrOLonyJzQpEllnnmd_0U0Z5rXKa_FqG16jE6nAAZHfSd/vprv/1/playlist_type/DVR/dover/13/txp/5532434/mt/1750229360/fvip/1/short_key/1/keepalive/yes/fexp/51466697/sparams/expire,ei,ip,id,itag,source,requiressl,ratebypass,pfa,goi,sgoap,rqh,xpc,bui,spc,vprv,playlist_type/sig/AJfQdSswRQIgIXIktUvTFEXFNAeses9OcjBeGcSP7xvydA_dhbn3iMYCIQDXEau9c68f1a40v4eBTt1DiRCEVqgm8nvtQTiS0kp6FQ%3D%3D/lsparams/hls_chunk_host,met,mh,mm,mn,ms,mv,mvi,pl,rms,initcwndbps/lsig/APaTxxMwRgIhAMf-84WPW61NHfQTLdri8y5XwtTErtrlFmIK50InfYXzAiEAg7BwN0CcqUku32XoeJO074DyubiJwsTCJB2_Z5TZ714%3D/playlist/index.m3u8',\n",
       "   'manifest_url': 'https://manifest.googlevideo.com/api/manifest/hls_variant/expire/1750251309/ei/zWJSaKGdC-qRlu8P06nv6AM/ip/216.171.10.22/id/168955007b9b397b/source/youtube/requiressl/yes/xpc/EgVo2aDSNQ%3D%3D/playback_host/rr3---sn-258av8hxqp5-jhpl.googlevideo.com/met/1750229709%2C/mh/vl/mm/31%2C29/mn/sn-258av8hxqp5-jhpl%2Csn-vgqsknez/ms/au%2Crdu/mv/m/mvi/3/pl/24/rms/au%2Cau/hfr/1/demuxed/1/tts_caps/1/maudio/1/initcwndbps/4756250/bui/AY1jyLPzE4QP4jS7c0qfu_SiAK2ErPKJg1Cel2ucV_giKB9KJ7yTQg4gaOlpTT2CfyTGX8haP4znkw7j/spc/l3OVKTrGjNXWVrf7aojHrOLonyJzQpEllnnmd_0U0Z5rXKa_FqG16jE6nAAZHfSd/vprv/1/go/1/rqh/5/mt/1750229360/fvip/1/nvgoi/1/short_key/1/ncsapi/1/keepalive/yes/fexp/51466697/dover/13/itag/0/playlist_type/DVR/sparams/expire%2Cei%2Cip%2Cid%2Csource%2Crequiressl%2Cxpc%2Chfr%2Cdemuxed%2Ctts_caps%2Cmaudio%2Cbui%2Cspc%2Cvprv%2Cgo%2Crqh%2Citag%2Cplaylist_type/sig/AJfQdSswRQIgNAA8Ophs-xyvacB7xpuDW6mIqYabXUeRKGpGuMCsPDwCIQDxu8W3op59u5a4cQdpKXvWxbqR04pPYMdyio5iK-VRag%3D%3D/lsparams/playback_host%2Cmet%2Cmh%2Cmm%2Cmn%2Cms%2Cmv%2Cmvi%2Cpl%2Crms%2Cinitcwndbps/lsig/APaTxxMwRQIgBGc5OdRsLi_6oVDK2siU_AfQ8X4HGGgUWzz7sczJeFYCIQDyoM6sYno9-OJkGRrsDJkMpEgIBHGFdB1PQ_nJi7nNTA%3D%3D/file/index.m3u8',\n",
       "   'language': None,\n",
       "   'ext': 'mp4',\n",
       "   'protocol': 'm3u8_native',\n",
       "   'preference': None,\n",
       "   'quality': -1,\n",
       "   'has_drm': False,\n",
       "   'vcodec': 'none',\n",
       "   'source_preference': 0,\n",
       "   'audio_ext': 'mp4',\n",
       "   'video_ext': 'none',\n",
       "   'vbr': 0,\n",
       "   'abr': None,\n",
       "   'tbr': None,\n",
       "   'resolution': 'audio only',\n",
       "   'aspect_ratio': None,\n",
       "   'http_headers': {'User-Agent': 'Mozilla/5.0 (Windows NT 10.0; Win64; x64) AppleWebKit/537.36 (KHTML, like Gecko) Chrome/92.0.4515.43 Safari/537.36',\n",
       "    'Accept': 'text/html,application/xhtml+xml,application/xml;q=0.9,*/*;q=0.8',\n",
       "    'Accept-Language': 'en-us,en;q=0.5',\n",
       "    'Sec-Fetch-Mode': 'navigate'},\n",
       "   'format': '233 - audio only (Default, low)'},\n",
       "  {'format_id': '234',\n",
       "   'format_note': 'Default, high',\n",
       "   'format_index': None,\n",
       "   'url': 'https://manifest.googlevideo.com/api/manifest/hls_playlist/expire/1750251309/ei/zWJSaKGdC-qRlu8P06nv6AM/ip/216.171.10.22/id/168955007b9b397b/itag/234/source/youtube/requiressl/yes/ratebypass/yes/pfa/1/goi/133/sgoap/clen%3D282597%3Bdur%3D17.391%3Bgir%3Dyes%3Bitag%3D140%3Blmt%3D1728198423889107/rqh/1/hls_chunk_host/rr3---sn-258av8hxqp5-jhpl.googlevideo.com/xpc/EgVo2aDSNQ%3D%3D/met/1750229709,/mh/vl/mm/31,29/mn/sn-258av8hxqp5-jhpl,sn-vgqsknez/ms/au,rdu/mv/m/mvi/3/pl/24/rms/au,au/initcwndbps/4756250/bui/AY1jyLPzE4QP4jS7c0qfu_SiAK2ErPKJg1Cel2ucV_giKB9KJ7yTQg4gaOlpTT2CfyTGX8haP4znkw7j/spc/l3OVKTrGjNXWVrf7aojHrOLonyJzQpEllnnmd_0U0Z5rXKa_FqG16jE6nAAZHfSd/vprv/1/playlist_type/DVR/dover/13/txp/5532434/mt/1750229360/fvip/1/short_key/1/keepalive/yes/fexp/51466697/sparams/expire,ei,ip,id,itag,source,requiressl,ratebypass,pfa,goi,sgoap,rqh,xpc,bui,spc,vprv,playlist_type/sig/AJfQdSswRgIhAKuVzOjV5ooscZ80WfQmR6nBfLY05nqZN0-3ttzxW3oMAiEA795M16cjrErt3A8VB-yX1vGLOVN5BCfyO1L32-NR8UU%3D/lsparams/hls_chunk_host,met,mh,mm,mn,ms,mv,mvi,pl,rms,initcwndbps/lsig/APaTxxMwRgIhAOdyXE0Fu2RODHZ92x9vdpel0hWFRho1Nx1Nqdj2qe1PAiEAmBRUiHchBaRvITQCyCDUkURkH71bNSqedGwc9M-_RGc%3D/playlist/index.m3u8',\n",
       "   'manifest_url': 'https://manifest.googlevideo.com/api/manifest/hls_variant/expire/1750251309/ei/zWJSaKGdC-qRlu8P06nv6AM/ip/216.171.10.22/id/168955007b9b397b/source/youtube/requiressl/yes/xpc/EgVo2aDSNQ%3D%3D/playback_host/rr3---sn-258av8hxqp5-jhpl.googlevideo.com/met/1750229709%2C/mh/vl/mm/31%2C29/mn/sn-258av8hxqp5-jhpl%2Csn-vgqsknez/ms/au%2Crdu/mv/m/mvi/3/pl/24/rms/au%2Cau/hfr/1/demuxed/1/tts_caps/1/maudio/1/initcwndbps/4756250/bui/AY1jyLPzE4QP4jS7c0qfu_SiAK2ErPKJg1Cel2ucV_giKB9KJ7yTQg4gaOlpTT2CfyTGX8haP4znkw7j/spc/l3OVKTrGjNXWVrf7aojHrOLonyJzQpEllnnmd_0U0Z5rXKa_FqG16jE6nAAZHfSd/vprv/1/go/1/rqh/5/mt/1750229360/fvip/1/nvgoi/1/short_key/1/ncsapi/1/keepalive/yes/fexp/51466697/dover/13/itag/0/playlist_type/DVR/sparams/expire%2Cei%2Cip%2Cid%2Csource%2Crequiressl%2Cxpc%2Chfr%2Cdemuxed%2Ctts_caps%2Cmaudio%2Cbui%2Cspc%2Cvprv%2Cgo%2Crqh%2Citag%2Cplaylist_type/sig/AJfQdSswRQIgNAA8Ophs-xyvacB7xpuDW6mIqYabXUeRKGpGuMCsPDwCIQDxu8W3op59u5a4cQdpKXvWxbqR04pPYMdyio5iK-VRag%3D%3D/lsparams/playback_host%2Cmet%2Cmh%2Cmm%2Cmn%2Cms%2Cmv%2Cmvi%2Cpl%2Crms%2Cinitcwndbps/lsig/APaTxxMwRQIgBGc5OdRsLi_6oVDK2siU_AfQ8X4HGGgUWzz7sczJeFYCIQDyoM6sYno9-OJkGRrsDJkMpEgIBHGFdB1PQ_nJi7nNTA%3D%3D/file/index.m3u8',\n",
       "   'language': None,\n",
       "   'ext': 'mp4',\n",
       "   'protocol': 'm3u8_native',\n",
       "   'preference': None,\n",
       "   'quality': -1,\n",
       "   'has_drm': False,\n",
       "   'vcodec': 'none',\n",
       "   'source_preference': 1,\n",
       "   'audio_ext': 'mp4',\n",
       "   'video_ext': 'none',\n",
       "   'vbr': 0,\n",
       "   'abr': None,\n",
       "   'tbr': None,\n",
       "   'resolution': 'audio only',\n",
       "   'aspect_ratio': None,\n",
       "   'http_headers': {'User-Agent': 'Mozilla/5.0 (Windows NT 10.0; Win64; x64) AppleWebKit/537.36 (KHTML, like Gecko) Chrome/92.0.4515.43 Safari/537.36',\n",
       "    'Accept': 'text/html,application/xhtml+xml,application/xml;q=0.9,*/*;q=0.8',\n",
       "    'Accept-Language': 'en-us,en;q=0.5',\n",
       "    'Sec-Fetch-Mode': 'navigate'},\n",
       "   'format': '234 - audio only (Default, high)'},\n",
       "  {'asr': 48000,\n",
       "   'filesize': 122663,\n",
       "   'format_id': '249-drc',\n",
       "   'format_note': 'low, DRC',\n",
       "   'source_preference': -1,\n",
       "   'fps': None,\n",
       "   'audio_channels': 2,\n",
       "   'height': None,\n",
       "   'quality': 1.5,\n",
       "   'has_drm': False,\n",
       "   'tbr': 56.523,\n",
       "   'filesize_approx': 122661,\n",
       "   'url': 'https://rr3---sn-258av8hxqp5-jhpl.googlevideo.com/videoplayback?expire=1750251309&ei=zWJSaJanBvruu_kPlNiP2Q0&ip=216.171.10.22&id=o-AAxMjxi6QNSfJ329rSVQNYENceF54lFRie-_7bjlKIr0&itag=249&source=youtube&requiressl=yes&xpc=EgVo2aDSNQ%3D%3D&met=1750229709%2C&mh=vl&mm=31%2C29&mn=sn-258av8hxqp5-jhpl%2Csn-vgqsrnzz&ms=au%2Crdu&mv=m&mvi=3&pl=24&rms=au%2Cau&initcwndbps=4903750&bui=AY1jyLNxJ7ahLLs3cSi9HDoHiTcMhVTkD2P7fTNNBszzkR-6jRgIioFzM9PFuGlyNw9SJyXBvp1vdwfk&vprv=1&svpuc=1&xtags=drc%3D1&mime=audio%2Fwebm&ns=7vn-dsSjkSRW2-1DL86qEaUQ&rqh=1&gir=yes&clen=122663&dur=17.361&lmt=1728198438384563&mt=1750229601&fvip=3&keepalive=yes&lmw=1&fexp=51466697&c=TVHTML5&sefc=1&txp=5532434&n=0Rk1kUqPwyvgsA&sparams=expire%2Cei%2Cip%2Cid%2Citag%2Csource%2Crequiressl%2Cxpc%2Cbui%2Cvprv%2Csvpuc%2Cxtags%2Cmime%2Cns%2Crqh%2Cgir%2Cclen%2Cdur%2Clmt&lsparams=met%2Cmh%2Cmm%2Cmn%2Cms%2Cmv%2Cmvi%2Cpl%2Crms%2Cinitcwndbps&lsig=APaTxxMwRAIgOAAbyST8mrCJnscNzJ7lVa5-SyuyLqs8-lLtXXjhFiUCIEyOQqN98orZRprjDYwXSJ3a5knwklKGxJ9DS_du0Msg&sig=AJfQdSswRQIgT9aubaJbSrbDoxW6MSovgtFGFM5PuXO10pvnLl2-CUACIQDLsYNqSbQw9hIl5EznOk3JJkmrcGJrxVau8rJ8ounltg%3D%3D',\n",
       "   'width': None,\n",
       "   'language': None,\n",
       "   'language_preference': -1,\n",
       "   'preference': None,\n",
       "   'ext': 'webm',\n",
       "   'vcodec': 'none',\n",
       "   'acodec': 'opus',\n",
       "   'dynamic_range': None,\n",
       "   'container': 'webm_dash',\n",
       "   'downloader_options': {'http_chunk_size': 10485760},\n",
       "   'protocol': 'https',\n",
       "   'audio_ext': 'webm',\n",
       "   'video_ext': 'none',\n",
       "   'vbr': 0,\n",
       "   'abr': 56.523,\n",
       "   'resolution': 'audio only',\n",
       "   'aspect_ratio': None,\n",
       "   'http_headers': {'User-Agent': 'Mozilla/5.0 (Windows NT 10.0; Win64; x64) AppleWebKit/537.36 (KHTML, like Gecko) Chrome/92.0.4515.43 Safari/537.36',\n",
       "    'Accept': 'text/html,application/xhtml+xml,application/xml;q=0.9,*/*;q=0.8',\n",
       "    'Accept-Language': 'en-us,en;q=0.5',\n",
       "    'Sec-Fetch-Mode': 'navigate'},\n",
       "   'format': '249-drc - audio only (low, DRC)'},\n",
       "  {'asr': 48000,\n",
       "   'filesize': 157401,\n",
       "   'format_id': '250-drc',\n",
       "   'format_note': 'low, DRC',\n",
       "   'source_preference': -1,\n",
       "   'fps': None,\n",
       "   'audio_channels': 2,\n",
       "   'height': None,\n",
       "   'quality': 1.5,\n",
       "   'has_drm': False,\n",
       "   'tbr': 72.53,\n",
       "   'filesize_approx': 157399,\n",
       "   'url': 'https://rr3---sn-258av8hxqp5-jhpl.googlevideo.com/videoplayback?expire=1750251309&ei=zWJSaJanBvruu_kPlNiP2Q0&ip=216.171.10.22&id=o-AAxMjxi6QNSfJ329rSVQNYENceF54lFRie-_7bjlKIr0&itag=250&source=youtube&requiressl=yes&xpc=EgVo2aDSNQ%3D%3D&met=1750229709%2C&mh=vl&mm=31%2C29&mn=sn-258av8hxqp5-jhpl%2Csn-vgqsrnzz&ms=au%2Crdu&mv=m&mvi=3&pl=24&rms=au%2Cau&initcwndbps=4903750&bui=AY1jyLNxJ7ahLLs3cSi9HDoHiTcMhVTkD2P7fTNNBszzkR-6jRgIioFzM9PFuGlyNw9SJyXBvp1vdwfk&vprv=1&svpuc=1&xtags=drc%3D1&mime=audio%2Fwebm&ns=7vn-dsSjkSRW2-1DL86qEaUQ&rqh=1&gir=yes&clen=157401&dur=17.361&lmt=1728198437079991&mt=1750229601&fvip=3&keepalive=yes&lmw=1&fexp=51466697&c=TVHTML5&sefc=1&txp=5532434&n=0Rk1kUqPwyvgsA&sparams=expire%2Cei%2Cip%2Cid%2Citag%2Csource%2Crequiressl%2Cxpc%2Cbui%2Cvprv%2Csvpuc%2Cxtags%2Cmime%2Cns%2Crqh%2Cgir%2Cclen%2Cdur%2Clmt&lsparams=met%2Cmh%2Cmm%2Cmn%2Cms%2Cmv%2Cmvi%2Cpl%2Crms%2Cinitcwndbps&lsig=APaTxxMwRAIgOAAbyST8mrCJnscNzJ7lVa5-SyuyLqs8-lLtXXjhFiUCIEyOQqN98orZRprjDYwXSJ3a5knwklKGxJ9DS_du0Msg&sig=AJfQdSswRAIgC__yCiopABLirgLyHjnUcGWlUoHoRo1DVSKFCf-of50CIEKSzwEvbDrFRxDvk1JfgW-0Qj5jTECdrfmXLLIcgdOl',\n",
       "   'width': None,\n",
       "   'language': None,\n",
       "   'language_preference': -1,\n",
       "   'preference': None,\n",
       "   'ext': 'webm',\n",
       "   'vcodec': 'none',\n",
       "   'acodec': 'opus',\n",
       "   'dynamic_range': None,\n",
       "   'container': 'webm_dash',\n",
       "   'downloader_options': {'http_chunk_size': 10485760},\n",
       "   'protocol': 'https',\n",
       "   'audio_ext': 'webm',\n",
       "   'video_ext': 'none',\n",
       "   'vbr': 0,\n",
       "   'abr': 72.53,\n",
       "   'resolution': 'audio only',\n",
       "   'aspect_ratio': None,\n",
       "   'http_headers': {'User-Agent': 'Mozilla/5.0 (Windows NT 10.0; Win64; x64) AppleWebKit/537.36 (KHTML, like Gecko) Chrome/92.0.4515.43 Safari/537.36',\n",
       "    'Accept': 'text/html,application/xhtml+xml,application/xml;q=0.9,*/*;q=0.8',\n",
       "    'Accept-Language': 'en-us,en;q=0.5',\n",
       "    'Sec-Fetch-Mode': 'navigate'},\n",
       "   'format': '250-drc - audio only (low, DRC)'},\n",
       "  {'asr': 48000,\n",
       "   'filesize': 121315,\n",
       "   'format_id': '249',\n",
       "   'format_note': 'low',\n",
       "   'source_preference': -1,\n",
       "   'fps': None,\n",
       "   'audio_channels': 2,\n",
       "   'height': None,\n",
       "   'quality': 2.0,\n",
       "   'has_drm': False,\n",
       "   'tbr': 55.902,\n",
       "   'filesize_approx': 121314,\n",
       "   'url': 'https://rr3---sn-258av8hxqp5-jhpl.googlevideo.com/videoplayback?expire=1750251309&ei=zWJSaJanBvruu_kPlNiP2Q0&ip=216.171.10.22&id=o-AAxMjxi6QNSfJ329rSVQNYENceF54lFRie-_7bjlKIr0&itag=249&source=youtube&requiressl=yes&xpc=EgVo2aDSNQ%3D%3D&met=1750229709%2C&mh=vl&mm=31%2C29&mn=sn-258av8hxqp5-jhpl%2Csn-vgqsrnzz&ms=au%2Crdu&mv=m&mvi=3&pl=24&rms=au%2Cau&initcwndbps=4903750&bui=AY1jyLNxJ7ahLLs3cSi9HDoHiTcMhVTkD2P7fTNNBszzkR-6jRgIioFzM9PFuGlyNw9SJyXBvp1vdwfk&vprv=1&svpuc=1&mime=audio%2Fwebm&ns=7vn-dsSjkSRW2-1DL86qEaUQ&rqh=1&gir=yes&clen=121315&dur=17.361&lmt=1728198416834312&mt=1750229601&fvip=3&keepalive=yes&lmw=1&fexp=51466697&c=TVHTML5&sefc=1&txp=5532434&n=0Rk1kUqPwyvgsA&sparams=expire%2Cei%2Cip%2Cid%2Citag%2Csource%2Crequiressl%2Cxpc%2Cbui%2Cvprv%2Csvpuc%2Cmime%2Cns%2Crqh%2Cgir%2Cclen%2Cdur%2Clmt&lsparams=met%2Cmh%2Cmm%2Cmn%2Cms%2Cmv%2Cmvi%2Cpl%2Crms%2Cinitcwndbps&lsig=APaTxxMwRAIgOAAbyST8mrCJnscNzJ7lVa5-SyuyLqs8-lLtXXjhFiUCIEyOQqN98orZRprjDYwXSJ3a5knwklKGxJ9DS_du0Msg&sig=AJfQdSswRgIhAJcO82tWq0A3rWdSa1pGq-652OZ-X07sb241ZIJUHZHoAiEAw_EsA6YvKmKuzE2lJh99DLg2q2JAyLEX99pmbde6KFw%3D',\n",
       "   'width': None,\n",
       "   'language': None,\n",
       "   'language_preference': -1,\n",
       "   'preference': None,\n",
       "   'ext': 'webm',\n",
       "   'vcodec': 'none',\n",
       "   'acodec': 'opus',\n",
       "   'dynamic_range': None,\n",
       "   'container': 'webm_dash',\n",
       "   'downloader_options': {'http_chunk_size': 10485760},\n",
       "   'protocol': 'https',\n",
       "   'audio_ext': 'webm',\n",
       "   'video_ext': 'none',\n",
       "   'vbr': 0,\n",
       "   'abr': 55.902,\n",
       "   'resolution': 'audio only',\n",
       "   'aspect_ratio': None,\n",
       "   'http_headers': {'User-Agent': 'Mozilla/5.0 (Windows NT 10.0; Win64; x64) AppleWebKit/537.36 (KHTML, like Gecko) Chrome/92.0.4515.43 Safari/537.36',\n",
       "    'Accept': 'text/html,application/xhtml+xml,application/xml;q=0.9,*/*;q=0.8',\n",
       "    'Accept-Language': 'en-us,en;q=0.5',\n",
       "    'Sec-Fetch-Mode': 'navigate'},\n",
       "   'format': '249 - audio only (low)'},\n",
       "  {'asr': 48000,\n",
       "   'filesize': 155707,\n",
       "   'format_id': '250',\n",
       "   'format_note': 'low',\n",
       "   'source_preference': -1,\n",
       "   'fps': None,\n",
       "   'audio_channels': 2,\n",
       "   'height': None,\n",
       "   'quality': 2.0,\n",
       "   'has_drm': False,\n",
       "   'tbr': 71.75,\n",
       "   'filesize_approx': 155706,\n",
       "   'url': 'https://rr3---sn-258av8hxqp5-jhpl.googlevideo.com/videoplayback?expire=1750251309&ei=zWJSaJanBvruu_kPlNiP2Q0&ip=216.171.10.22&id=o-AAxMjxi6QNSfJ329rSVQNYENceF54lFRie-_7bjlKIr0&itag=250&source=youtube&requiressl=yes&xpc=EgVo2aDSNQ%3D%3D&met=1750229709%2C&mh=vl&mm=31%2C29&mn=sn-258av8hxqp5-jhpl%2Csn-vgqsrnzz&ms=au%2Crdu&mv=m&mvi=3&pl=24&rms=au%2Cau&initcwndbps=4903750&bui=AY1jyLNxJ7ahLLs3cSi9HDoHiTcMhVTkD2P7fTNNBszzkR-6jRgIioFzM9PFuGlyNw9SJyXBvp1vdwfk&vprv=1&svpuc=1&mime=audio%2Fwebm&ns=7vn-dsSjkSRW2-1DL86qEaUQ&rqh=1&gir=yes&clen=155707&dur=17.361&lmt=1728198416835002&mt=1750229601&fvip=3&keepalive=yes&lmw=1&fexp=51466697&c=TVHTML5&sefc=1&txp=5532434&n=0Rk1kUqPwyvgsA&sparams=expire%2Cei%2Cip%2Cid%2Citag%2Csource%2Crequiressl%2Cxpc%2Cbui%2Cvprv%2Csvpuc%2Cmime%2Cns%2Crqh%2Cgir%2Cclen%2Cdur%2Clmt&lsparams=met%2Cmh%2Cmm%2Cmn%2Cms%2Cmv%2Cmvi%2Cpl%2Crms%2Cinitcwndbps&lsig=APaTxxMwRAIgOAAbyST8mrCJnscNzJ7lVa5-SyuyLqs8-lLtXXjhFiUCIEyOQqN98orZRprjDYwXSJ3a5knwklKGxJ9DS_du0Msg&sig=AJfQdSswRAIgAv43xnI2zcNbULaaihelfIXHOvMNESO7nsa2hC8_CXoCIHM2oY7kuNQEACnu7EV-Zhll7dVtw38g0WrMHbTdTpMD',\n",
       "   'width': None,\n",
       "   'language': None,\n",
       "   'language_preference': -1,\n",
       "   'preference': None,\n",
       "   'ext': 'webm',\n",
       "   'vcodec': 'none',\n",
       "   'acodec': 'opus',\n",
       "   'dynamic_range': None,\n",
       "   'container': 'webm_dash',\n",
       "   'downloader_options': {'http_chunk_size': 10485760},\n",
       "   'protocol': 'https',\n",
       "   'audio_ext': 'webm',\n",
       "   'video_ext': 'none',\n",
       "   'vbr': 0,\n",
       "   'abr': 71.75,\n",
       "   'resolution': 'audio only',\n",
       "   'aspect_ratio': None,\n",
       "   'http_headers': {'User-Agent': 'Mozilla/5.0 (Windows NT 10.0; Win64; x64) AppleWebKit/537.36 (KHTML, like Gecko) Chrome/92.0.4515.43 Safari/537.36',\n",
       "    'Accept': 'text/html,application/xhtml+xml,application/xml;q=0.9,*/*;q=0.8',\n",
       "    'Accept-Language': 'en-us,en;q=0.5',\n",
       "    'Sec-Fetch-Mode': 'navigate'},\n",
       "   'format': '250 - audio only (low)'},\n",
       "  {'asr': 44100,\n",
       "   'filesize': 282613,\n",
       "   'format_id': '140-drc',\n",
       "   'format_note': 'medium, DRC',\n",
       "   'source_preference': -1,\n",
       "   'fps': None,\n",
       "   'audio_channels': 2,\n",
       "   'height': None,\n",
       "   'quality': 2.5,\n",
       "   'has_drm': False,\n",
       "   'tbr': 130.004,\n",
       "   'filesize_approx': 282612,\n",
       "   'url': 'https://rr3---sn-258av8hxqp5-jhpl.googlevideo.com/videoplayback?expire=1750251309&ei=zWJSaJanBvruu_kPlNiP2Q0&ip=216.171.10.22&id=o-AAxMjxi6QNSfJ329rSVQNYENceF54lFRie-_7bjlKIr0&itag=140&source=youtube&requiressl=yes&xpc=EgVo2aDSNQ%3D%3D&met=1750229709%2C&mh=vl&mm=31%2C29&mn=sn-258av8hxqp5-jhpl%2Csn-vgqsrnzz&ms=au%2Crdu&mv=m&mvi=3&pl=24&rms=au%2Cau&initcwndbps=4903750&bui=AY1jyLNxJ7ahLLs3cSi9HDoHiTcMhVTkD2P7fTNNBszzkR-6jRgIioFzM9PFuGlyNw9SJyXBvp1vdwfk&vprv=1&svpuc=1&xtags=drc%3D1&mime=audio%2Fmp4&ns=7vn-dsSjkSRW2-1DL86qEaUQ&rqh=1&gir=yes&clen=282613&dur=17.391&lmt=1728198447580510&mt=1750229601&fvip=3&keepalive=yes&lmw=1&fexp=51466697&c=TVHTML5&sefc=1&txp=5532434&n=0Rk1kUqPwyvgsA&sparams=expire%2Cei%2Cip%2Cid%2Citag%2Csource%2Crequiressl%2Cxpc%2Cbui%2Cvprv%2Csvpuc%2Cxtags%2Cmime%2Cns%2Crqh%2Cgir%2Cclen%2Cdur%2Clmt&lsparams=met%2Cmh%2Cmm%2Cmn%2Cms%2Cmv%2Cmvi%2Cpl%2Crms%2Cinitcwndbps&lsig=APaTxxMwRAIgOAAbyST8mrCJnscNzJ7lVa5-SyuyLqs8-lLtXXjhFiUCIEyOQqN98orZRprjDYwXSJ3a5knwklKGxJ9DS_du0Msg&sig=AJfQdSswRAIgKGuLbt6DiNNr7vqzYBRHNgDg5gTKX_I_WbQPAdLwpNgCIEX_7EfVirN7qQoOA7_2GZgt0YggiklFGjDJ2ZvEbkGe',\n",
       "   'width': None,\n",
       "   'language': None,\n",
       "   'language_preference': -1,\n",
       "   'preference': None,\n",
       "   'ext': 'm4a',\n",
       "   'vcodec': 'none',\n",
       "   'acodec': 'mp4a.40.2',\n",
       "   'dynamic_range': None,\n",
       "   'container': 'm4a_dash',\n",
       "   'downloader_options': {'http_chunk_size': 10485760},\n",
       "   'protocol': 'https',\n",
       "   'audio_ext': 'm4a',\n",
       "   'video_ext': 'none',\n",
       "   'vbr': 0,\n",
       "   'abr': 130.004,\n",
       "   'resolution': 'audio only',\n",
       "   'aspect_ratio': None,\n",
       "   'http_headers': {'User-Agent': 'Mozilla/5.0 (Windows NT 10.0; Win64; x64) AppleWebKit/537.36 (KHTML, like Gecko) Chrome/92.0.4515.43 Safari/537.36',\n",
       "    'Accept': 'text/html,application/xhtml+xml,application/xml;q=0.9,*/*;q=0.8',\n",
       "    'Accept-Language': 'en-us,en;q=0.5',\n",
       "    'Sec-Fetch-Mode': 'navigate'},\n",
       "   'format': '140-drc - audio only (medium, DRC)'},\n",
       "  {'asr': 48000,\n",
       "   'filesize': 303827,\n",
       "   'format_id': '251-drc',\n",
       "   'format_note': 'medium, DRC',\n",
       "   'source_preference': -1,\n",
       "   'fps': None,\n",
       "   'audio_channels': 2,\n",
       "   'height': None,\n",
       "   'quality': 2.5,\n",
       "   'has_drm': False,\n",
       "   'tbr': 140.004,\n",
       "   'filesize_approx': 303826,\n",
       "   'url': 'https://rr3---sn-258av8hxqp5-jhpl.googlevideo.com/videoplayback?expire=1750251309&ei=zWJSaJanBvruu_kPlNiP2Q0&ip=216.171.10.22&id=o-AAxMjxi6QNSfJ329rSVQNYENceF54lFRie-_7bjlKIr0&itag=251&source=youtube&requiressl=yes&xpc=EgVo2aDSNQ%3D%3D&met=1750229709%2C&mh=vl&mm=31%2C29&mn=sn-258av8hxqp5-jhpl%2Csn-vgqsrnzz&ms=au%2Crdu&mv=m&mvi=3&pl=24&rms=au%2Cau&initcwndbps=4903750&bui=AY1jyLNxJ7ahLLs3cSi9HDoHiTcMhVTkD2P7fTNNBszzkR-6jRgIioFzM9PFuGlyNw9SJyXBvp1vdwfk&vprv=1&svpuc=1&xtags=drc%3D1&mime=audio%2Fwebm&ns=7vn-dsSjkSRW2-1DL86qEaUQ&rqh=1&gir=yes&clen=303827&dur=17.361&lmt=1728198446780792&mt=1750229601&fvip=3&keepalive=yes&lmw=1&fexp=51466697&c=TVHTML5&sefc=1&txp=5532434&n=0Rk1kUqPwyvgsA&sparams=expire%2Cei%2Cip%2Cid%2Citag%2Csource%2Crequiressl%2Cxpc%2Cbui%2Cvprv%2Csvpuc%2Cxtags%2Cmime%2Cns%2Crqh%2Cgir%2Cclen%2Cdur%2Clmt&lsparams=met%2Cmh%2Cmm%2Cmn%2Cms%2Cmv%2Cmvi%2Cpl%2Crms%2Cinitcwndbps&lsig=APaTxxMwRAIgOAAbyST8mrCJnscNzJ7lVa5-SyuyLqs8-lLtXXjhFiUCIEyOQqN98orZRprjDYwXSJ3a5knwklKGxJ9DS_du0Msg&sig=AJfQdSswRgIhAOTFrWZBeQhrShKziaAg-N-kYHvsNMwxvEwXX_bak6uiAiEA-63y6pYRnjnWEscXxhiFppa5YG50rjFt5-glkE5x9RU%3D',\n",
       "   'width': None,\n",
       "   'language': None,\n",
       "   'language_preference': -1,\n",
       "   'preference': None,\n",
       "   'ext': 'webm',\n",
       "   'vcodec': 'none',\n",
       "   'acodec': 'opus',\n",
       "   'dynamic_range': None,\n",
       "   'container': 'webm_dash',\n",
       "   'downloader_options': {'http_chunk_size': 10485760},\n",
       "   'protocol': 'https',\n",
       "   'audio_ext': 'webm',\n",
       "   'video_ext': 'none',\n",
       "   'vbr': 0,\n",
       "   'abr': 140.004,\n",
       "   'resolution': 'audio only',\n",
       "   'aspect_ratio': None,\n",
       "   'http_headers': {'User-Agent': 'Mozilla/5.0 (Windows NT 10.0; Win64; x64) AppleWebKit/537.36 (KHTML, like Gecko) Chrome/92.0.4515.43 Safari/537.36',\n",
       "    'Accept': 'text/html,application/xhtml+xml,application/xml;q=0.9,*/*;q=0.8',\n",
       "    'Accept-Language': 'en-us,en;q=0.5',\n",
       "    'Sec-Fetch-Mode': 'navigate'},\n",
       "   'format': '251-drc - audio only (medium, DRC)'},\n",
       "  {'asr': 44100,\n",
       "   'filesize': 282597,\n",
       "   'format_id': '140',\n",
       "   'format_note': 'medium',\n",
       "   'source_preference': -1,\n",
       "   'fps': None,\n",
       "   'audio_channels': 2,\n",
       "   'height': None,\n",
       "   'quality': 3.0,\n",
       "   'has_drm': False,\n",
       "   'tbr': 129.996,\n",
       "   'filesize_approx': 282595,\n",
       "   'url': 'https://rr3---sn-258av8hxqp5-jhpl.googlevideo.com/videoplayback?expire=1750251309&ei=zWJSaJanBvruu_kPlNiP2Q0&ip=216.171.10.22&id=o-AAxMjxi6QNSfJ329rSVQNYENceF54lFRie-_7bjlKIr0&itag=140&source=youtube&requiressl=yes&xpc=EgVo2aDSNQ%3D%3D&met=1750229709%2C&mh=vl&mm=31%2C29&mn=sn-258av8hxqp5-jhpl%2Csn-vgqsrnzz&ms=au%2Crdu&mv=m&mvi=3&pl=24&rms=au%2Cau&initcwndbps=4903750&bui=AY1jyLNxJ7ahLLs3cSi9HDoHiTcMhVTkD2P7fTNNBszzkR-6jRgIioFzM9PFuGlyNw9SJyXBvp1vdwfk&vprv=1&svpuc=1&mime=audio%2Fmp4&ns=7vn-dsSjkSRW2-1DL86qEaUQ&rqh=1&gir=yes&clen=282597&dur=17.391&lmt=1728198423889107&mt=1750229601&fvip=3&keepalive=yes&lmw=1&fexp=51466697&c=TVHTML5&sefc=1&txp=5532434&n=0Rk1kUqPwyvgsA&sparams=expire%2Cei%2Cip%2Cid%2Citag%2Csource%2Crequiressl%2Cxpc%2Cbui%2Cvprv%2Csvpuc%2Cmime%2Cns%2Crqh%2Cgir%2Cclen%2Cdur%2Clmt&lsparams=met%2Cmh%2Cmm%2Cmn%2Cms%2Cmv%2Cmvi%2Cpl%2Crms%2Cinitcwndbps&lsig=APaTxxMwRAIgOAAbyST8mrCJnscNzJ7lVa5-SyuyLqs8-lLtXXjhFiUCIEyOQqN98orZRprjDYwXSJ3a5knwklKGxJ9DS_du0Msg&sig=AJfQdSswRQIgVsRgEpnbleZKPbLFbKBPL2ugQYCE_B7y7NYNya9r1rICIQCj85XVif-82N8Ioc2xMTNmMZ68cLOLtUkWPVV_CTNI0g%3D%3D',\n",
       "   'width': None,\n",
       "   'language': None,\n",
       "   'language_preference': -1,\n",
       "   'preference': None,\n",
       "   'ext': 'm4a',\n",
       "   'vcodec': 'none',\n",
       "   'acodec': 'mp4a.40.2',\n",
       "   'dynamic_range': None,\n",
       "   'container': 'm4a_dash',\n",
       "   'downloader_options': {'http_chunk_size': 10485760},\n",
       "   'protocol': 'https',\n",
       "   'audio_ext': 'm4a',\n",
       "   'video_ext': 'none',\n",
       "   'vbr': 0,\n",
       "   'abr': 129.996,\n",
       "   'resolution': 'audio only',\n",
       "   'aspect_ratio': None,\n",
       "   'http_headers': {'User-Agent': 'Mozilla/5.0 (Windows NT 10.0; Win64; x64) AppleWebKit/537.36 (KHTML, like Gecko) Chrome/92.0.4515.43 Safari/537.36',\n",
       "    'Accept': 'text/html,application/xhtml+xml,application/xml;q=0.9,*/*;q=0.8',\n",
       "    'Accept-Language': 'en-us,en;q=0.5',\n",
       "    'Sec-Fetch-Mode': 'navigate'},\n",
       "   'format': '140 - audio only (medium)'},\n",
       "  {'asr': 48000,\n",
       "   'filesize': 301890,\n",
       "   'format_id': '251',\n",
       "   'format_note': 'medium',\n",
       "   'source_preference': -1,\n",
       "   'fps': None,\n",
       "   'audio_channels': 2,\n",
       "   'height': None,\n",
       "   'quality': 3.0,\n",
       "   'has_drm': False,\n",
       "   'tbr': 139.111,\n",
       "   'filesize_approx': 301888,\n",
       "   'url': 'https://rr3---sn-258av8hxqp5-jhpl.googlevideo.com/videoplayback?expire=1750251309&ei=zWJSaJanBvruu_kPlNiP2Q0&ip=216.171.10.22&id=o-AAxMjxi6QNSfJ329rSVQNYENceF54lFRie-_7bjlKIr0&itag=251&source=youtube&requiressl=yes&xpc=EgVo2aDSNQ%3D%3D&met=1750229709%2C&mh=vl&mm=31%2C29&mn=sn-258av8hxqp5-jhpl%2Csn-vgqsrnzz&ms=au%2Crdu&mv=m&mvi=3&pl=24&rms=au%2Cau&initcwndbps=4903750&bui=AY1jyLNxJ7ahLLs3cSi9HDoHiTcMhVTkD2P7fTNNBszzkR-6jRgIioFzM9PFuGlyNw9SJyXBvp1vdwfk&vprv=1&svpuc=1&mime=audio%2Fwebm&ns=7vn-dsSjkSRW2-1DL86qEaUQ&rqh=1&gir=yes&clen=301890&dur=17.361&lmt=1728198418803855&mt=1750229601&fvip=3&keepalive=yes&lmw=1&fexp=51466697&c=TVHTML5&sefc=1&txp=5532434&n=0Rk1kUqPwyvgsA&sparams=expire%2Cei%2Cip%2Cid%2Citag%2Csource%2Crequiressl%2Cxpc%2Cbui%2Cvprv%2Csvpuc%2Cmime%2Cns%2Crqh%2Cgir%2Cclen%2Cdur%2Clmt&lsparams=met%2Cmh%2Cmm%2Cmn%2Cms%2Cmv%2Cmvi%2Cpl%2Crms%2Cinitcwndbps&lsig=APaTxxMwRAIgOAAbyST8mrCJnscNzJ7lVa5-SyuyLqs8-lLtXXjhFiUCIEyOQqN98orZRprjDYwXSJ3a5knwklKGxJ9DS_du0Msg&sig=AJfQdSswRQIhAN6W8WYUb66LDMKmNBn6jo4vlGghbuEyJ1xWRLn4kuxTAiBsx9cemXBmQn3y5HcXxO0JD-2L3ZwGYDRVadtdga-Ufw%3D%3D',\n",
       "   'width': None,\n",
       "   'language': None,\n",
       "   'language_preference': -1,\n",
       "   'preference': None,\n",
       "   'ext': 'webm',\n",
       "   'vcodec': 'none',\n",
       "   'acodec': 'opus',\n",
       "   'dynamic_range': None,\n",
       "   'container': 'webm_dash',\n",
       "   'downloader_options': {'http_chunk_size': 10485760},\n",
       "   'protocol': 'https',\n",
       "   'audio_ext': 'webm',\n",
       "   'video_ext': 'none',\n",
       "   'vbr': 0,\n",
       "   'abr': 139.111,\n",
       "   'resolution': 'audio only',\n",
       "   'aspect_ratio': None,\n",
       "   'http_headers': {'User-Agent': 'Mozilla/5.0 (Windows NT 10.0; Win64; x64) AppleWebKit/537.36 (KHTML, like Gecko) Chrome/92.0.4515.43 Safari/537.36',\n",
       "    'Accept': 'text/html,application/xhtml+xml,application/xml;q=0.9,*/*;q=0.8',\n",
       "    'Accept-Language': 'en-us,en;q=0.5',\n",
       "    'Sec-Fetch-Mode': 'navigate'},\n",
       "   'format': '251 - audio only (medium)'},\n",
       "  {'format_id': '602',\n",
       "   'format_index': None,\n",
       "   'url': 'https://manifest.googlevideo.com/api/manifest/hls_playlist/expire/1750251309/ei/zWJSaKGdC-qRlu8P06nv6AM/ip/216.171.10.22/id/168955007b9b397b/itag/602/source/youtube/requiressl/yes/ratebypass/yes/pfa/1/wft/1/sgovp/clen%3D71673%3Bdur%3D17.333%3Bgir%3Dyes%3Bitag%3D598%3Blmt%3D1728199430494770/rqh/1/hls_chunk_host/rr3---sn-258av8hxqp5-jhpl.googlevideo.com/xpc/EgVo2aDSNQ%3D%3D/met/1750229709,/mh/vl/mm/31,29/mn/sn-258av8hxqp5-jhpl,sn-vgqsknez/ms/au,rdu/mv/m/mvi/3/pl/24/rms/au,au/initcwndbps/4756250/bui/AY1jyLPzE4QP4jS7c0qfu_SiAK2ErPKJg1Cel2ucV_giKB9KJ7yTQg4gaOlpTT2CfyTGX8haP4znkw7j/spc/l3OVKTrGjNXWVrf7aojHrOLonyJzQpEllnnmd_0U0Z5rXKa_FqG16jE6nAAZHfSd/vprv/1/playlist_type/DVR/dover/13/txp/553C434/mt/1750229360/fvip/1/short_key/1/keepalive/yes/fexp/51466697/sparams/expire,ei,ip,id,itag,source,requiressl,ratebypass,pfa,wft,sgovp,rqh,xpc,bui,spc,vprv,playlist_type/sig/AJfQdSswRAIgFMYi2fSH-Zyg4LgDiRRAWm2N5tTyzYFV79oofqUwXIwCIFiRQUyFjb6T8mkbdwkzxxp1N7SwUgnBIuEwjrHBsKqq/lsparams/hls_chunk_host,met,mh,mm,mn,ms,mv,mvi,pl,rms,initcwndbps/lsig/APaTxxMwRQIgGe5PJ9YuuOr5PcEvvWjwKU7ezlzuhQr7oorZUaz3OckCIQDtVA8sGmnC_J_TsU2MHIEAklY_ZcEIEsexqh4WrOnOnA%3D%3D/playlist/index.m3u8',\n",
       "   'manifest_url': 'https://manifest.googlevideo.com/api/manifest/hls_variant/expire/1750251309/ei/zWJSaKGdC-qRlu8P06nv6AM/ip/216.171.10.22/id/168955007b9b397b/source/youtube/requiressl/yes/xpc/EgVo2aDSNQ%3D%3D/playback_host/rr3---sn-258av8hxqp5-jhpl.googlevideo.com/met/1750229709%2C/mh/vl/mm/31%2C29/mn/sn-258av8hxqp5-jhpl%2Csn-vgqsknez/ms/au%2Crdu/mv/m/mvi/3/pl/24/rms/au%2Cau/hfr/1/demuxed/1/tts_caps/1/maudio/1/initcwndbps/4756250/bui/AY1jyLPzE4QP4jS7c0qfu_SiAK2ErPKJg1Cel2ucV_giKB9KJ7yTQg4gaOlpTT2CfyTGX8haP4znkw7j/spc/l3OVKTrGjNXWVrf7aojHrOLonyJzQpEllnnmd_0U0Z5rXKa_FqG16jE6nAAZHfSd/vprv/1/go/1/rqh/5/mt/1750229360/fvip/1/nvgoi/1/short_key/1/ncsapi/1/keepalive/yes/fexp/51466697/dover/13/itag/0/playlist_type/DVR/sparams/expire%2Cei%2Cip%2Cid%2Csource%2Crequiressl%2Cxpc%2Chfr%2Cdemuxed%2Ctts_caps%2Cmaudio%2Cbui%2Cspc%2Cvprv%2Cgo%2Crqh%2Citag%2Cplaylist_type/sig/AJfQdSswRQIgNAA8Ophs-xyvacB7xpuDW6mIqYabXUeRKGpGuMCsPDwCIQDxu8W3op59u5a4cQdpKXvWxbqR04pPYMdyio5iK-VRag%3D%3D/lsparams/playback_host%2Cmet%2Cmh%2Cmm%2Cmn%2Cms%2Cmv%2Cmvi%2Cpl%2Crms%2Cinitcwndbps/lsig/APaTxxMwRQIgBGc5OdRsLi_6oVDK2siU_AfQ8X4HGGgUWzz7sczJeFYCIQDyoM6sYno9-OJkGRrsDJkMpEgIBHGFdB1PQ_nJi7nNTA%3D%3D/file/index.m3u8',\n",
       "   'tbr': 89.716,\n",
       "   'ext': 'mp4',\n",
       "   'fps': 15.0,\n",
       "   'protocol': 'm3u8_native',\n",
       "   'preference': None,\n",
       "   'quality': 0,\n",
       "   'has_drm': False,\n",
       "   'width': 144,\n",
       "   'height': 256,\n",
       "   'vcodec': 'vp09.00.10.08',\n",
       "   'acodec': 'none',\n",
       "   'dynamic_range': 'SDR',\n",
       "   'source_preference': -1,\n",
       "   'video_ext': 'mp4',\n",
       "   'audio_ext': 'none',\n",
       "   'abr': 0,\n",
       "   'vbr': 89.716,\n",
       "   'resolution': '144x256',\n",
       "   'aspect_ratio': 0.56,\n",
       "   'http_headers': {'User-Agent': 'Mozilla/5.0 (Windows NT 10.0; Win64; x64) AppleWebKit/537.36 (KHTML, like Gecko) Chrome/92.0.4515.43 Safari/537.36',\n",
       "    'Accept': 'text/html,application/xhtml+xml,application/xml;q=0.9,*/*;q=0.8',\n",
       "    'Accept-Language': 'en-us,en;q=0.5',\n",
       "    'Sec-Fetch-Mode': 'navigate'},\n",
       "   'format': '602 - 144x256'},\n",
       "  {'format_id': '269',\n",
       "   'format_index': None,\n",
       "   'url': 'https://manifest.googlevideo.com/api/manifest/hls_playlist/expire/1750251309/ei/zWJSaKGdC-qRlu8P06nv6AM/ip/216.171.10.22/id/168955007b9b397b/itag/269/source/youtube/requiressl/yes/ratebypass/yes/pfa/1/sgovp/clen%3D241417%3Bdur%3D17.299%3Bgir%3Dyes%3Bitag%3D160%3Blmt%3D1728199552962852/rqh/1/hls_chunk_host/rr3---sn-258av8hxqp5-jhpl.googlevideo.com/xpc/EgVo2aDSNQ%3D%3D/met/1750229709,/mh/vl/mm/31,29/mn/sn-258av8hxqp5-jhpl,sn-vgqsknez/ms/au,rdu/mv/m/mvi/3/pl/24/rms/au,au/initcwndbps/4756250/bui/AY1jyLPzE4QP4jS7c0qfu_SiAK2ErPKJg1Cel2ucV_giKB9KJ7yTQg4gaOlpTT2CfyTGX8haP4znkw7j/spc/l3OVKTrGjNXWVrf7aojHrOLonyJzQpEllnnmd_0U0Z5rXKa_FqG16jE6nAAZHfSd/vprv/1/playlist_type/DVR/dover/13/txp/553C434/mt/1750229360/fvip/1/short_key/1/keepalive/yes/fexp/51466697/sparams/expire,ei,ip,id,itag,source,requiressl,ratebypass,pfa,sgovp,rqh,xpc,bui,spc,vprv,playlist_type/sig/AJfQdSswRQIgbKO3xEcOUOAiUh0cf8K4IoFOdBm72NwDQydp3MSimAACIQCftEZhdK7IhnE5X_jTr0eEm66bHUgNrCe1U3z6JYCoLA%3D%3D/lsparams/hls_chunk_host,met,mh,mm,mn,ms,mv,mvi,pl,rms,initcwndbps/lsig/APaTxxMwRAIgZz73BQJbU1uS8mnOIsU1ZpEw0u526rleAoaLaTmolToCIFiOJ3mYl2wkGy2ceb_z0c83aHL2IKEyEK282Ze3BXQs/playlist/index.m3u8',\n",
       "   'manifest_url': 'https://manifest.googlevideo.com/api/manifest/hls_variant/expire/1750251309/ei/zWJSaKGdC-qRlu8P06nv6AM/ip/216.171.10.22/id/168955007b9b397b/source/youtube/requiressl/yes/xpc/EgVo2aDSNQ%3D%3D/playback_host/rr3---sn-258av8hxqp5-jhpl.googlevideo.com/met/1750229709%2C/mh/vl/mm/31%2C29/mn/sn-258av8hxqp5-jhpl%2Csn-vgqsknez/ms/au%2Crdu/mv/m/mvi/3/pl/24/rms/au%2Cau/hfr/1/demuxed/1/tts_caps/1/maudio/1/initcwndbps/4756250/bui/AY1jyLPzE4QP4jS7c0qfu_SiAK2ErPKJg1Cel2ucV_giKB9KJ7yTQg4gaOlpTT2CfyTGX8haP4znkw7j/spc/l3OVKTrGjNXWVrf7aojHrOLonyJzQpEllnnmd_0U0Z5rXKa_FqG16jE6nAAZHfSd/vprv/1/go/1/rqh/5/mt/1750229360/fvip/1/nvgoi/1/short_key/1/ncsapi/1/keepalive/yes/fexp/51466697/dover/13/itag/0/playlist_type/DVR/sparams/expire%2Cei%2Cip%2Cid%2Csource%2Crequiressl%2Cxpc%2Chfr%2Cdemuxed%2Ctts_caps%2Cmaudio%2Cbui%2Cspc%2Cvprv%2Cgo%2Crqh%2Citag%2Cplaylist_type/sig/AJfQdSswRQIgNAA8Ophs-xyvacB7xpuDW6mIqYabXUeRKGpGuMCsPDwCIQDxu8W3op59u5a4cQdpKXvWxbqR04pPYMdyio5iK-VRag%3D%3D/lsparams/playback_host%2Cmet%2Cmh%2Cmm%2Cmn%2Cms%2Cmv%2Cmvi%2Cpl%2Crms%2Cinitcwndbps/lsig/APaTxxMwRQIgBGc5OdRsLi_6oVDK2siU_AfQ8X4HGGgUWzz7sczJeFYCIQDyoM6sYno9-OJkGRrsDJkMpEgIBHGFdB1PQ_nJi7nNTA%3D%3D/file/index.m3u8',\n",
       "   'tbr': 171.63,\n",
       "   'ext': 'mp4',\n",
       "   'fps': 30.0,\n",
       "   'protocol': 'm3u8_native',\n",
       "   'preference': None,\n",
       "   'quality': 0,\n",
       "   'has_drm': False,\n",
       "   'width': 144,\n",
       "   'height': 256,\n",
       "   'vcodec': 'avc1.4D400C',\n",
       "   'acodec': 'none',\n",
       "   'dynamic_range': 'SDR',\n",
       "   'source_preference': -1,\n",
       "   'video_ext': 'mp4',\n",
       "   'audio_ext': 'none',\n",
       "   'abr': 0,\n",
       "   'vbr': 171.63,\n",
       "   'resolution': '144x256',\n",
       "   'aspect_ratio': 0.56,\n",
       "   'http_headers': {'User-Agent': 'Mozilla/5.0 (Windows NT 10.0; Win64; x64) AppleWebKit/537.36 (KHTML, like Gecko) Chrome/92.0.4515.43 Safari/537.36',\n",
       "    'Accept': 'text/html,application/xhtml+xml,application/xml;q=0.9,*/*;q=0.8',\n",
       "    'Accept-Language': 'en-us,en;q=0.5',\n",
       "    'Sec-Fetch-Mode': 'navigate'},\n",
       "   'format': '269 - 144x256'},\n",
       "  {'asr': None,\n",
       "   'filesize': 241417,\n",
       "   'format_id': '160',\n",
       "   'format_note': '144p',\n",
       "   'source_preference': -1,\n",
       "   'fps': 30,\n",
       "   'audio_channels': None,\n",
       "   'height': 256,\n",
       "   'quality': 0.0,\n",
       "   'has_drm': False,\n",
       "   'tbr': 111.644,\n",
       "   'filesize_approx': 241416,\n",
       "   'url': 'https://rr3---sn-258av8hxqp5-jhpl.googlevideo.com/videoplayback?expire=1750251309&ei=zWJSaJanBvruu_kPlNiP2Q0&ip=216.171.10.22&id=o-AAxMjxi6QNSfJ329rSVQNYENceF54lFRie-_7bjlKIr0&itag=160&aitags=133%2C134%2C135%2C136%2C137%2C160%2C242%2C243%2C247%2C248%2C395%2C396%2C397%2C398%2C399%2C779%2C780%2C788&source=youtube&requiressl=yes&xpc=EgVo2aDSNQ%3D%3D&met=1750229709%2C&mh=vl&mm=31%2C29&mn=sn-258av8hxqp5-jhpl%2Csn-vgqsrnzz&ms=au%2Crdu&mv=m&mvi=3&pl=24&rms=au%2Cau&initcwndbps=4903750&bui=AY1jyLNxJ7ahLLs3cSi9HDoHiTcMhVTkD2P7fTNNBszzkR-6jRgIioFzM9PFuGlyNw9SJyXBvp1vdwfk&vprv=1&svpuc=1&mime=video%2Fmp4&ns=7vn-dsSjkSRW2-1DL86qEaUQ&rqh=1&gir=yes&clen=241417&dur=17.299&lmt=1728199552962852&mt=1750229601&fvip=3&keepalive=yes&lmw=1&fexp=51466697&c=TVHTML5&sefc=1&txp=553C434&n=0Rk1kUqPwyvgsA&sparams=expire%2Cei%2Cip%2Cid%2Caitags%2Csource%2Crequiressl%2Cxpc%2Cbui%2Cvprv%2Csvpuc%2Cmime%2Cns%2Crqh%2Cgir%2Cclen%2Cdur%2Clmt&lsparams=met%2Cmh%2Cmm%2Cmn%2Cms%2Cmv%2Cmvi%2Cpl%2Crms%2Cinitcwndbps&lsig=APaTxxMwRAIgOAAbyST8mrCJnscNzJ7lVa5-SyuyLqs8-lLtXXjhFiUCIEyOQqN98orZRprjDYwXSJ3a5knwklKGxJ9DS_du0Msg&sig=AJfQdSswRQIhAP1u8MoL0avDRTGY73hBNYWYEf2zCc_Bxw7g-iuwNh5uAiBxQQ3xtc5Tj5gxj8EF_7f3TIM64dC9fZ1FihEDgm5Jkg%3D%3D',\n",
       "   'width': 144,\n",
       "   'language': None,\n",
       "   'language_preference': -1,\n",
       "   'preference': None,\n",
       "   'ext': 'mp4',\n",
       "   'vcodec': 'avc1.4d400c',\n",
       "   'acodec': 'none',\n",
       "   'dynamic_range': 'SDR',\n",
       "   'container': 'mp4_dash',\n",
       "   'downloader_options': {'http_chunk_size': 10485760},\n",
       "   'protocol': 'https',\n",
       "   'video_ext': 'mp4',\n",
       "   'audio_ext': 'none',\n",
       "   'abr': 0,\n",
       "   'vbr': 111.644,\n",
       "   'resolution': '144x256',\n",
       "   'aspect_ratio': 0.56,\n",
       "   'http_headers': {'User-Agent': 'Mozilla/5.0 (Windows NT 10.0; Win64; x64) AppleWebKit/537.36 (KHTML, like Gecko) Chrome/92.0.4515.43 Safari/537.36',\n",
       "    'Accept': 'text/html,application/xhtml+xml,application/xml;q=0.9,*/*;q=0.8',\n",
       "    'Accept-Language': 'en-us,en;q=0.5',\n",
       "    'Sec-Fetch-Mode': 'navigate'},\n",
       "   'format': '160 - 144x256 (144p)'},\n",
       "  {'format_id': '229',\n",
       "   'format_index': None,\n",
       "   'url': 'https://manifest.googlevideo.com/api/manifest/hls_playlist/expire/1750251309/ei/zWJSaKGdC-qRlu8P06nv6AM/ip/216.171.10.22/id/168955007b9b397b/itag/229/source/youtube/requiressl/yes/ratebypass/yes/pfa/1/sgovp/clen%3D531140%3Bdur%3D17.299%3Bgir%3Dyes%3Bitag%3D133%3Blmt%3D1728199544125491/rqh/1/hls_chunk_host/rr3---sn-258av8hxqp5-jhpl.googlevideo.com/xpc/EgVo2aDSNQ%3D%3D/met/1750229709,/mh/vl/mm/31,29/mn/sn-258av8hxqp5-jhpl,sn-vgqsknez/ms/au,rdu/mv/m/mvi/3/pl/24/rms/au,au/initcwndbps/4756250/bui/AY1jyLPzE4QP4jS7c0qfu_SiAK2ErPKJg1Cel2ucV_giKB9KJ7yTQg4gaOlpTT2CfyTGX8haP4znkw7j/spc/l3OVKTrGjNXWVrf7aojHrOLonyJzQpEllnnmd_0U0Z5rXKa_FqG16jE6nAAZHfSd/vprv/1/playlist_type/DVR/dover/13/txp/553C434/mt/1750229360/fvip/1/short_key/1/keepalive/yes/fexp/51466697/sparams/expire,ei,ip,id,itag,source,requiressl,ratebypass,pfa,sgovp,rqh,xpc,bui,spc,vprv,playlist_type/sig/AJfQdSswRQIhAJmZ5dcv8yKU-iF1vwko7e0qZiWzi1DufCNlLJ0jwgm4AiA4-Emqx8mzwb4svdXX8Hn8IzeQotCJT8xitRIghqPL0g%3D%3D/lsparams/hls_chunk_host,met,mh,mm,mn,ms,mv,mvi,pl,rms,initcwndbps/lsig/APaTxxMwRgIhALfzTPgejBQCTE3UzgcoaDtRdXA0JB3W7MxDtHNsbZNwAiEAmjcjxQiV4ihcYx2g8vmRSfG9rsvnI5Esj6Bjov33Qi8%3D/playlist/index.m3u8',\n",
       "   'manifest_url': 'https://manifest.googlevideo.com/api/manifest/hls_variant/expire/1750251309/ei/zWJSaKGdC-qRlu8P06nv6AM/ip/216.171.10.22/id/168955007b9b397b/source/youtube/requiressl/yes/xpc/EgVo2aDSNQ%3D%3D/playback_host/rr3---sn-258av8hxqp5-jhpl.googlevideo.com/met/1750229709%2C/mh/vl/mm/31%2C29/mn/sn-258av8hxqp5-jhpl%2Csn-vgqsknez/ms/au%2Crdu/mv/m/mvi/3/pl/24/rms/au%2Cau/hfr/1/demuxed/1/tts_caps/1/maudio/1/initcwndbps/4756250/bui/AY1jyLPzE4QP4jS7c0qfu_SiAK2ErPKJg1Cel2ucV_giKB9KJ7yTQg4gaOlpTT2CfyTGX8haP4znkw7j/spc/l3OVKTrGjNXWVrf7aojHrOLonyJzQpEllnnmd_0U0Z5rXKa_FqG16jE6nAAZHfSd/vprv/1/go/1/rqh/5/mt/1750229360/fvip/1/nvgoi/1/short_key/1/ncsapi/1/keepalive/yes/fexp/51466697/dover/13/itag/0/playlist_type/DVR/sparams/expire%2Cei%2Cip%2Cid%2Csource%2Crequiressl%2Cxpc%2Chfr%2Cdemuxed%2Ctts_caps%2Cmaudio%2Cbui%2Cspc%2Cvprv%2Cgo%2Crqh%2Citag%2Cplaylist_type/sig/AJfQdSswRQIgNAA8Ophs-xyvacB7xpuDW6mIqYabXUeRKGpGuMCsPDwCIQDxu8W3op59u5a4cQdpKXvWxbqR04pPYMdyio5iK-VRag%3D%3D/lsparams/playback_host%2Cmet%2Cmh%2Cmm%2Cmn%2Cms%2Cmv%2Cmvi%2Cpl%2Crms%2Cinitcwndbps/lsig/APaTxxMwRQIgBGc5OdRsLi_6oVDK2siU_AfQ8X4HGGgUWzz7sczJeFYCIQDyoM6sYno9-OJkGRrsDJkMpEgIBHGFdB1PQ_nJi7nNTA%3D%3D/file/index.m3u8',\n",
       "   'tbr': 311.935,\n",
       "   'ext': 'mp4',\n",
       "   'fps': 30.0,\n",
       "   'protocol': 'm3u8_native',\n",
       "   'preference': None,\n",
       "   'quality': 5,\n",
       "   'has_drm': False,\n",
       "   'width': 240,\n",
       "   'height': 426,\n",
       "   'vcodec': 'avc1.4D4015',\n",
       "   'acodec': 'none',\n",
       "   'dynamic_range': 'SDR',\n",
       "   'source_preference': -1,\n",
       "   'video_ext': 'mp4',\n",
       "   'audio_ext': 'none',\n",
       "   'abr': 0,\n",
       "   'vbr': 311.935,\n",
       "   'resolution': '240x426',\n",
       "   'aspect_ratio': 0.56,\n",
       "   'http_headers': {'User-Agent': 'Mozilla/5.0 (Windows NT 10.0; Win64; x64) AppleWebKit/537.36 (KHTML, like Gecko) Chrome/92.0.4515.43 Safari/537.36',\n",
       "    'Accept': 'text/html,application/xhtml+xml,application/xml;q=0.9,*/*;q=0.8',\n",
       "    'Accept-Language': 'en-us,en;q=0.5',\n",
       "    'Sec-Fetch-Mode': 'navigate'},\n",
       "   'format': '229 - 240x426'},\n",
       "  {'asr': None,\n",
       "   'filesize': 531140,\n",
       "   'format_id': '133',\n",
       "   'format_note': '240p',\n",
       "   'source_preference': -1,\n",
       "   'fps': 30,\n",
       "   'audio_channels': None,\n",
       "   'height': 426,\n",
       "   'quality': 5.0,\n",
       "   'has_drm': False,\n",
       "   'tbr': 245.628,\n",
       "   'filesize_approx': 531139,\n",
       "   'url': 'https://rr3---sn-258av8hxqp5-jhpl.googlevideo.com/videoplayback?expire=1750251309&ei=zWJSaJanBvruu_kPlNiP2Q0&ip=216.171.10.22&id=o-AAxMjxi6QNSfJ329rSVQNYENceF54lFRie-_7bjlKIr0&itag=133&aitags=133%2C134%2C135%2C136%2C137%2C160%2C242%2C243%2C247%2C248%2C395%2C396%2C397%2C398%2C399%2C779%2C780%2C788&source=youtube&requiressl=yes&xpc=EgVo2aDSNQ%3D%3D&met=1750229709%2C&mh=vl&mm=31%2C29&mn=sn-258av8hxqp5-jhpl%2Csn-vgqsrnzz&ms=au%2Crdu&mv=m&mvi=3&pl=24&rms=au%2Cau&initcwndbps=4903750&bui=AY1jyLNxJ7ahLLs3cSi9HDoHiTcMhVTkD2P7fTNNBszzkR-6jRgIioFzM9PFuGlyNw9SJyXBvp1vdwfk&vprv=1&svpuc=1&mime=video%2Fmp4&ns=7vn-dsSjkSRW2-1DL86qEaUQ&rqh=1&gir=yes&clen=531140&dur=17.299&lmt=1728199544125491&mt=1750229601&fvip=3&keepalive=yes&lmw=1&fexp=51466697&c=TVHTML5&sefc=1&txp=553C434&n=0Rk1kUqPwyvgsA&sparams=expire%2Cei%2Cip%2Cid%2Caitags%2Csource%2Crequiressl%2Cxpc%2Cbui%2Cvprv%2Csvpuc%2Cmime%2Cns%2Crqh%2Cgir%2Cclen%2Cdur%2Clmt&lsparams=met%2Cmh%2Cmm%2Cmn%2Cms%2Cmv%2Cmvi%2Cpl%2Crms%2Cinitcwndbps&lsig=APaTxxMwRAIgOAAbyST8mrCJnscNzJ7lVa5-SyuyLqs8-lLtXXjhFiUCIEyOQqN98orZRprjDYwXSJ3a5knwklKGxJ9DS_du0Msg&sig=AJfQdSswRQIgIrYJYpefl2JqEGkmxTtlFLtF58n-8xIyE-I3lRSioE4CIQD_msALQAjx8TGcd6BXQGTDuP7myQiMfPI-5h2zmMmuxQ%3D%3D',\n",
       "   'width': 240,\n",
       "   'language': None,\n",
       "   'language_preference': -1,\n",
       "   'preference': None,\n",
       "   'ext': 'mp4',\n",
       "   'vcodec': 'avc1.4d4015',\n",
       "   'acodec': 'none',\n",
       "   'dynamic_range': 'SDR',\n",
       "   'container': 'mp4_dash',\n",
       "   'downloader_options': {'http_chunk_size': 10485760},\n",
       "   'protocol': 'https',\n",
       "   'video_ext': 'mp4',\n",
       "   'audio_ext': 'none',\n",
       "   'abr': 0,\n",
       "   'vbr': 245.628,\n",
       "   'resolution': '240x426',\n",
       "   'aspect_ratio': 0.56,\n",
       "   'http_headers': {'User-Agent': 'Mozilla/5.0 (Windows NT 10.0; Win64; x64) AppleWebKit/537.36 (KHTML, like Gecko) Chrome/92.0.4515.43 Safari/537.36',\n",
       "    'Accept': 'text/html,application/xhtml+xml,application/xml;q=0.9,*/*;q=0.8',\n",
       "    'Accept-Language': 'en-us,en;q=0.5',\n",
       "    'Sec-Fetch-Mode': 'navigate'},\n",
       "   'format': '133 - 240x426 (240p)'},\n",
       "  {'format_id': '604',\n",
       "   'format_index': None,\n",
       "   'url': 'https://manifest.googlevideo.com/api/manifest/hls_playlist/expire/1750251309/ei/zWJSaKGdC-qRlu8P06nv6AM/ip/216.171.10.22/id/168955007b9b397b/itag/604/source/youtube/requiressl/yes/ratebypass/yes/pfa/1/wft/1/sgovp/clen%3D241015%3Bdur%3D17.300%3Bgir%3Dyes%3Bitag%3D242%3Blmt%3D1728203361702225/rqh/1/hls_chunk_host/rr3---sn-258av8hxqp5-jhpl.googlevideo.com/xpc/EgVo2aDSNQ%3D%3D/met/1750229709,/mh/vl/mm/31,29/mn/sn-258av8hxqp5-jhpl,sn-vgqsknez/ms/au,rdu/mv/m/mvi/3/pl/24/rms/au,au/initcwndbps/4756250/bui/AY1jyLPzE4QP4jS7c0qfu_SiAK2ErPKJg1Cel2ucV_giKB9KJ7yTQg4gaOlpTT2CfyTGX8haP4znkw7j/spc/l3OVKTrGjNXWVrf7aojHrOLonyJzQpEllnnmd_0U0Z5rXKa_FqG16jE6nAAZHfSd/vprv/1/playlist_type/DVR/dover/13/txp/553C434/mt/1750229360/fvip/1/short_key/1/keepalive/yes/fexp/51466697/sparams/expire,ei,ip,id,itag,source,requiressl,ratebypass,pfa,wft,sgovp,rqh,xpc,bui,spc,vprv,playlist_type/sig/AJfQdSswRQIgCv0s8rFZ56rzMV6Un2dXGb3VMNQfXUtg6Cx3ltqdDtkCIQCIvt7umx9IE-io0JMXH546HmhVXNExuw0m91kkvVByWg%3D%3D/lsparams/hls_chunk_host,met,mh,mm,mn,ms,mv,mvi,pl,rms,initcwndbps/lsig/APaTxxMwRAIgdny_dNt3w-Ph4yPyLIxqTgoU4OB_MlVu0sJRogIlrKcCIBYiLESCm5Q9SVDuJbaR9SBM7MHTva2QZVXlimvjUAa8/playlist/index.m3u8',\n",
       "   'manifest_url': 'https://manifest.googlevideo.com/api/manifest/hls_variant/expire/1750251309/ei/zWJSaKGdC-qRlu8P06nv6AM/ip/216.171.10.22/id/168955007b9b397b/source/youtube/requiressl/yes/xpc/EgVo2aDSNQ%3D%3D/playback_host/rr3---sn-258av8hxqp5-jhpl.googlevideo.com/met/1750229709%2C/mh/vl/mm/31%2C29/mn/sn-258av8hxqp5-jhpl%2Csn-vgqsknez/ms/au%2Crdu/mv/m/mvi/3/pl/24/rms/au%2Cau/hfr/1/demuxed/1/tts_caps/1/maudio/1/initcwndbps/4756250/bui/AY1jyLPzE4QP4jS7c0qfu_SiAK2ErPKJg1Cel2ucV_giKB9KJ7yTQg4gaOlpTT2CfyTGX8haP4znkw7j/spc/l3OVKTrGjNXWVrf7aojHrOLonyJzQpEllnnmd_0U0Z5rXKa_FqG16jE6nAAZHfSd/vprv/1/go/1/rqh/5/mt/1750229360/fvip/1/nvgoi/1/short_key/1/ncsapi/1/keepalive/yes/fexp/51466697/dover/13/itag/0/playlist_type/DVR/sparams/expire%2Cei%2Cip%2Cid%2Csource%2Crequiressl%2Cxpc%2Chfr%2Cdemuxed%2Ctts_caps%2Cmaudio%2Cbui%2Cspc%2Cvprv%2Cgo%2Crqh%2Citag%2Cplaylist_type/sig/AJfQdSswRQIgNAA8Ophs-xyvacB7xpuDW6mIqYabXUeRKGpGuMCsPDwCIQDxu8W3op59u5a4cQdpKXvWxbqR04pPYMdyio5iK-VRag%3D%3D/lsparams/playback_host%2Cmet%2Cmh%2Cmm%2Cmn%2Cms%2Cmv%2Cmvi%2Cpl%2Crms%2Cinitcwndbps/lsig/APaTxxMwRQIgBGc5OdRsLi_6oVDK2siU_AfQ8X4HGGgUWzz7sczJeFYCIQDyoM6sYno9-OJkGRrsDJkMpEgIBHGFdB1PQ_nJi7nNTA%3D%3D/file/index.m3u8',\n",
       "   'tbr': 181.565,\n",
       "   'ext': 'mp4',\n",
       "   'fps': 30.0,\n",
       "   'protocol': 'm3u8_native',\n",
       "   'preference': None,\n",
       "   'quality': 5,\n",
       "   'has_drm': False,\n",
       "   'width': 240,\n",
       "   'height': 426,\n",
       "   'vcodec': 'vp09.00.20.08.01.05.01.06.00',\n",
       "   'acodec': 'none',\n",
       "   'dynamic_range': 'SDR',\n",
       "   'source_preference': -1,\n",
       "   'video_ext': 'mp4',\n",
       "   'audio_ext': 'none',\n",
       "   'abr': 0,\n",
       "   'vbr': 181.565,\n",
       "   'resolution': '240x426',\n",
       "   'aspect_ratio': 0.56,\n",
       "   'http_headers': {'User-Agent': 'Mozilla/5.0 (Windows NT 10.0; Win64; x64) AppleWebKit/537.36 (KHTML, like Gecko) Chrome/92.0.4515.43 Safari/537.36',\n",
       "    'Accept': 'text/html,application/xhtml+xml,application/xml;q=0.9,*/*;q=0.8',\n",
       "    'Accept-Language': 'en-us,en;q=0.5',\n",
       "    'Sec-Fetch-Mode': 'navigate'},\n",
       "   'format': '604 - 240x426'},\n",
       "  {'asr': None,\n",
       "   'filesize': 241015,\n",
       "   'format_id': '242',\n",
       "   'format_note': '240p',\n",
       "   'source_preference': -1,\n",
       "   'fps': 30,\n",
       "   'audio_channels': None,\n",
       "   'height': 426,\n",
       "   'quality': 5.0,\n",
       "   'has_drm': False,\n",
       "   'tbr': 111.452,\n",
       "   'filesize_approx': 241014,\n",
       "   'url': 'https://rr3---sn-258av8hxqp5-jhpl.googlevideo.com/videoplayback?expire=1750251309&ei=zWJSaJanBvruu_kPlNiP2Q0&ip=216.171.10.22&id=o-AAxMjxi6QNSfJ329rSVQNYENceF54lFRie-_7bjlKIr0&itag=242&aitags=133%2C134%2C135%2C136%2C137%2C160%2C242%2C243%2C247%2C248%2C395%2C396%2C397%2C398%2C399%2C779%2C780%2C788&source=youtube&requiressl=yes&xpc=EgVo2aDSNQ%3D%3D&met=1750229709%2C&mh=vl&mm=31%2C29&mn=sn-258av8hxqp5-jhpl%2Csn-vgqsrnzz&ms=au%2Crdu&mv=m&mvi=3&pl=24&rms=au%2Cau&initcwndbps=4903750&bui=AY1jyLNxJ7ahLLs3cSi9HDoHiTcMhVTkD2P7fTNNBszzkR-6jRgIioFzM9PFuGlyNw9SJyXBvp1vdwfk&vprv=1&svpuc=1&mime=video%2Fwebm&ns=7vn-dsSjkSRW2-1DL86qEaUQ&rqh=1&gir=yes&clen=241015&dur=17.300&lmt=1728203361702225&mt=1750229601&fvip=3&keepalive=yes&lmw=1&fexp=51466697&c=TVHTML5&sefc=1&txp=553C434&n=0Rk1kUqPwyvgsA&sparams=expire%2Cei%2Cip%2Cid%2Caitags%2Csource%2Crequiressl%2Cxpc%2Cbui%2Cvprv%2Csvpuc%2Cmime%2Cns%2Crqh%2Cgir%2Cclen%2Cdur%2Clmt&lsparams=met%2Cmh%2Cmm%2Cmn%2Cms%2Cmv%2Cmvi%2Cpl%2Crms%2Cinitcwndbps&lsig=APaTxxMwRAIgOAAbyST8mrCJnscNzJ7lVa5-SyuyLqs8-lLtXXjhFiUCIEyOQqN98orZRprjDYwXSJ3a5knwklKGxJ9DS_du0Msg&sig=AJfQdSswRgIhAPt1xluPN2aESilGSFcCxdr7-60WRJV4ijHkBi_jSu8NAiEA3xzspRd8rwIUCY4gEg6u8j-ys3Qn26p9EfmVHnQFgYw%3D',\n",
       "   'width': 240,\n",
       "   'language': None,\n",
       "   'language_preference': -1,\n",
       "   'preference': None,\n",
       "   'ext': 'webm',\n",
       "   'vcodec': 'vp9',\n",
       "   'acodec': 'none',\n",
       "   'dynamic_range': 'SDR',\n",
       "   'container': 'webm_dash',\n",
       "   'downloader_options': {'http_chunk_size': 10485760},\n",
       "   'protocol': 'https',\n",
       "   'video_ext': 'webm',\n",
       "   'audio_ext': 'none',\n",
       "   'abr': 0,\n",
       "   'vbr': 111.452,\n",
       "   'resolution': '240x426',\n",
       "   'aspect_ratio': 0.56,\n",
       "   'http_headers': {'User-Agent': 'Mozilla/5.0 (Windows NT 10.0; Win64; x64) AppleWebKit/537.36 (KHTML, like Gecko) Chrome/92.0.4515.43 Safari/537.36',\n",
       "    'Accept': 'text/html,application/xhtml+xml,application/xml;q=0.9,*/*;q=0.8',\n",
       "    'Accept-Language': 'en-us,en;q=0.5',\n",
       "    'Sec-Fetch-Mode': 'navigate'},\n",
       "   'format': '242 - 240x426 (240p)'},\n",
       "  {'asr': None,\n",
       "   'filesize': 206492,\n",
       "   'format_id': '395',\n",
       "   'format_note': '240p',\n",
       "   'source_preference': -1,\n",
       "   'fps': 30,\n",
       "   'audio_channels': None,\n",
       "   'height': 426,\n",
       "   'quality': 5.0,\n",
       "   'has_drm': False,\n",
       "   'tbr': 95.493,\n",
       "   'filesize_approx': 206491,\n",
       "   'url': 'https://rr3---sn-258av8hxqp5-jhpl.googlevideo.com/videoplayback?expire=1750251309&ei=zWJSaJanBvruu_kPlNiP2Q0&ip=216.171.10.22&id=o-AAxMjxi6QNSfJ329rSVQNYENceF54lFRie-_7bjlKIr0&itag=395&aitags=133%2C134%2C135%2C136%2C137%2C160%2C242%2C243%2C247%2C248%2C395%2C396%2C397%2C398%2C399%2C779%2C780%2C788&source=youtube&requiressl=yes&xpc=EgVo2aDSNQ%3D%3D&met=1750229709%2C&mh=vl&mm=31%2C29&mn=sn-258av8hxqp5-jhpl%2Csn-vgqsrnzz&ms=au%2Crdu&mv=m&mvi=3&pl=24&rms=au%2Cau&initcwndbps=4903750&bui=AY1jyLNxJ7ahLLs3cSi9HDoHiTcMhVTkD2P7fTNNBszzkR-6jRgIioFzM9PFuGlyNw9SJyXBvp1vdwfk&vprv=1&svpuc=1&mime=video%2Fmp4&ns=7vn-dsSjkSRW2-1DL86qEaUQ&rqh=1&gir=yes&clen=206492&dur=17.299&lmt=1749906216821260&mt=1750229601&fvip=3&keepalive=yes&lmw=1&fexp=51466697&c=TVHTML5&sefc=1&txp=553C534&n=0Rk1kUqPwyvgsA&sparams=expire%2Cei%2Cip%2Cid%2Caitags%2Csource%2Crequiressl%2Cxpc%2Cbui%2Cvprv%2Csvpuc%2Cmime%2Cns%2Crqh%2Cgir%2Cclen%2Cdur%2Clmt&lsparams=met%2Cmh%2Cmm%2Cmn%2Cms%2Cmv%2Cmvi%2Cpl%2Crms%2Cinitcwndbps&lsig=APaTxxMwRAIgOAAbyST8mrCJnscNzJ7lVa5-SyuyLqs8-lLtXXjhFiUCIEyOQqN98orZRprjDYwXSJ3a5knwklKGxJ9DS_du0Msg&sig=AJfQdSswRQIhAJAsbC67qyDcYKci22n895RpTEorvZfyhV0YEdJVHM4wAiB1fy_F1QFGamQbrqFO3tB3t2rpo-0O9BjyNuQUEeB0Og%3D%3D',\n",
       "   'width': 240,\n",
       "   'language': None,\n",
       "   'language_preference': -1,\n",
       "   'preference': None,\n",
       "   'ext': 'mp4',\n",
       "   'vcodec': 'av01.0.00M.08.0.110.05.01.06.0',\n",
       "   'acodec': 'none',\n",
       "   'dynamic_range': 'SDR',\n",
       "   'container': 'mp4_dash',\n",
       "   'downloader_options': {'http_chunk_size': 10485760},\n",
       "   'protocol': 'https',\n",
       "   'video_ext': 'mp4',\n",
       "   'audio_ext': 'none',\n",
       "   'abr': 0,\n",
       "   'vbr': 95.493,\n",
       "   'resolution': '240x426',\n",
       "   'aspect_ratio': 0.56,\n",
       "   'http_headers': {'User-Agent': 'Mozilla/5.0 (Windows NT 10.0; Win64; x64) AppleWebKit/537.36 (KHTML, like Gecko) Chrome/92.0.4515.43 Safari/537.36',\n",
       "    'Accept': 'text/html,application/xhtml+xml,application/xml;q=0.9,*/*;q=0.8',\n",
       "    'Accept-Language': 'en-us,en;q=0.5',\n",
       "    'Sec-Fetch-Mode': 'navigate'},\n",
       "   'format': '395 - 240x426 (240p)'},\n",
       "  {'format_id': '230',\n",
       "   'format_index': None,\n",
       "   'url': 'https://manifest.googlevideo.com/api/manifest/hls_playlist/expire/1750251309/ei/zWJSaKGdC-qRlu8P06nv6AM/ip/216.171.10.22/id/168955007b9b397b/itag/230/source/youtube/requiressl/yes/ratebypass/yes/pfa/1/sgovp/clen%3D1369275%3Bdur%3D17.299%3Bgir%3Dyes%3Bitag%3D134%3Blmt%3D1728199537907994/rqh/1/hls_chunk_host/rr3---sn-258av8hxqp5-jhpl.googlevideo.com/xpc/EgVo2aDSNQ%3D%3D/met/1750229709,/mh/vl/mm/31,29/mn/sn-258av8hxqp5-jhpl,sn-vgqsknez/ms/au,rdu/mv/m/mvi/3/pl/24/rms/au,au/initcwndbps/4756250/bui/AY1jyLPzE4QP4jS7c0qfu_SiAK2ErPKJg1Cel2ucV_giKB9KJ7yTQg4gaOlpTT2CfyTGX8haP4znkw7j/spc/l3OVKTrGjNXWVrf7aojHrOLonyJzQpEllnnmd_0U0Z5rXKa_FqG16jE6nAAZHfSd/vprv/1/playlist_type/DVR/dover/13/txp/553C434/mt/1750229360/fvip/1/short_key/1/keepalive/yes/fexp/51466697/sparams/expire,ei,ip,id,itag,source,requiressl,ratebypass,pfa,sgovp,rqh,xpc,bui,spc,vprv,playlist_type/sig/AJfQdSswRAIgRCdMd97CgZG-2Y55bGJ4s01lgrxkkKbQaYlrmPi0mIMCICwKUPWVGctbeYBCfmF9JMW5R0C5l9jKGvGigBhvI5jJ/lsparams/hls_chunk_host,met,mh,mm,mn,ms,mv,mvi,pl,rms,initcwndbps/lsig/APaTxxMwRgIhAO25RPFcs0POyAROHNJ4aOz3fo4nSwLm5DgJF416Isx2AiEA9ccZyZTxPSTo2HLaY8ahiJLnNPm-vJhunOk1FbpjdKg%3D/playlist/index.m3u8',\n",
       "   'manifest_url': 'https://manifest.googlevideo.com/api/manifest/hls_variant/expire/1750251309/ei/zWJSaKGdC-qRlu8P06nv6AM/ip/216.171.10.22/id/168955007b9b397b/source/youtube/requiressl/yes/xpc/EgVo2aDSNQ%3D%3D/playback_host/rr3---sn-258av8hxqp5-jhpl.googlevideo.com/met/1750229709%2C/mh/vl/mm/31%2C29/mn/sn-258av8hxqp5-jhpl%2Csn-vgqsknez/ms/au%2Crdu/mv/m/mvi/3/pl/24/rms/au%2Cau/hfr/1/demuxed/1/tts_caps/1/maudio/1/initcwndbps/4756250/bui/AY1jyLPzE4QP4jS7c0qfu_SiAK2ErPKJg1Cel2ucV_giKB9KJ7yTQg4gaOlpTT2CfyTGX8haP4znkw7j/spc/l3OVKTrGjNXWVrf7aojHrOLonyJzQpEllnnmd_0U0Z5rXKa_FqG16jE6nAAZHfSd/vprv/1/go/1/rqh/5/mt/1750229360/fvip/1/nvgoi/1/short_key/1/ncsapi/1/keepalive/yes/fexp/51466697/dover/13/itag/0/playlist_type/DVR/sparams/expire%2Cei%2Cip%2Cid%2Csource%2Crequiressl%2Cxpc%2Chfr%2Cdemuxed%2Ctts_caps%2Cmaudio%2Cbui%2Cspc%2Cvprv%2Cgo%2Crqh%2Citag%2Cplaylist_type/sig/AJfQdSswRQIgNAA8Ophs-xyvacB7xpuDW6mIqYabXUeRKGpGuMCsPDwCIQDxu8W3op59u5a4cQdpKXvWxbqR04pPYMdyio5iK-VRag%3D%3D/lsparams/playback_host%2Cmet%2Cmh%2Cmm%2Cmn%2Cms%2Cmv%2Cmvi%2Cpl%2Crms%2Cinitcwndbps/lsig/APaTxxMwRQIgBGc5OdRsLi_6oVDK2siU_AfQ8X4HGGgUWzz7sczJeFYCIQDyoM6sYno9-OJkGRrsDJkMpEgIBHGFdB1PQ_nJi7nNTA%3D%3D/file/index.m3u8',\n",
       "   'tbr': 803.804,\n",
       "   'ext': 'mp4',\n",
       "   'fps': 30.0,\n",
       "   'protocol': 'm3u8_native',\n",
       "   'preference': None,\n",
       "   'quality': 6,\n",
       "   'has_drm': False,\n",
       "   'width': 360,\n",
       "   'height': 640,\n",
       "   'vcodec': 'avc1.4D401E',\n",
       "   'acodec': 'none',\n",
       "   'dynamic_range': 'SDR',\n",
       "   'source_preference': -1,\n",
       "   'video_ext': 'mp4',\n",
       "   'audio_ext': 'none',\n",
       "   'abr': 0,\n",
       "   'vbr': 803.804,\n",
       "   'resolution': '360x640',\n",
       "   'aspect_ratio': 0.56,\n",
       "   'http_headers': {'User-Agent': 'Mozilla/5.0 (Windows NT 10.0; Win64; x64) AppleWebKit/537.36 (KHTML, like Gecko) Chrome/92.0.4515.43 Safari/537.36',\n",
       "    'Accept': 'text/html,application/xhtml+xml,application/xml;q=0.9,*/*;q=0.8',\n",
       "    'Accept-Language': 'en-us,en;q=0.5',\n",
       "    'Sec-Fetch-Mode': 'navigate'},\n",
       "   'format': '230 - 360x640'},\n",
       "  {'asr': None,\n",
       "   'filesize': 1369275,\n",
       "   'format_id': '134',\n",
       "   'format_note': '360p',\n",
       "   'source_preference': -1,\n",
       "   'fps': 30,\n",
       "   'audio_channels': None,\n",
       "   'height': 640,\n",
       "   'quality': 6.0,\n",
       "   'has_drm': False,\n",
       "   'tbr': 633.227,\n",
       "   'filesize_approx': 1369274,\n",
       "   'url': 'https://rr3---sn-258av8hxqp5-jhpl.googlevideo.com/videoplayback?expire=1750251309&ei=zWJSaJanBvruu_kPlNiP2Q0&ip=216.171.10.22&id=o-AAxMjxi6QNSfJ329rSVQNYENceF54lFRie-_7bjlKIr0&itag=134&aitags=133%2C134%2C135%2C136%2C137%2C160%2C242%2C243%2C247%2C248%2C395%2C396%2C397%2C398%2C399%2C779%2C780%2C788&source=youtube&requiressl=yes&xpc=EgVo2aDSNQ%3D%3D&met=1750229709%2C&mh=vl&mm=31%2C29&mn=sn-258av8hxqp5-jhpl%2Csn-vgqsrnzz&ms=au%2Crdu&mv=m&mvi=3&pl=24&rms=au%2Cau&initcwndbps=4903750&bui=AY1jyLNxJ7ahLLs3cSi9HDoHiTcMhVTkD2P7fTNNBszzkR-6jRgIioFzM9PFuGlyNw9SJyXBvp1vdwfk&vprv=1&svpuc=1&mime=video%2Fmp4&ns=7vn-dsSjkSRW2-1DL86qEaUQ&rqh=1&gir=yes&clen=1369275&dur=17.299&lmt=1728199537907994&mt=1750229601&fvip=3&keepalive=yes&lmw=1&fexp=51466697&c=TVHTML5&sefc=1&txp=553C434&n=0Rk1kUqPwyvgsA&sparams=expire%2Cei%2Cip%2Cid%2Caitags%2Csource%2Crequiressl%2Cxpc%2Cbui%2Cvprv%2Csvpuc%2Cmime%2Cns%2Crqh%2Cgir%2Cclen%2Cdur%2Clmt&lsparams=met%2Cmh%2Cmm%2Cmn%2Cms%2Cmv%2Cmvi%2Cpl%2Crms%2Cinitcwndbps&lsig=APaTxxMwRAIgOAAbyST8mrCJnscNzJ7lVa5-SyuyLqs8-lLtXXjhFiUCIEyOQqN98orZRprjDYwXSJ3a5knwklKGxJ9DS_du0Msg&sig=AJfQdSswRgIhAMCjIB1tBc97asUEw211nuYBNX-rzu7E7LrSYhuRJdCIAiEA-BkpCpPjjRLD2CLSmr4ATDhxvbWbHFAzlSRzJRU7lh0%3D',\n",
       "   'width': 360,\n",
       "   'language': None,\n",
       "   'language_preference': -1,\n",
       "   'preference': None,\n",
       "   'ext': 'mp4',\n",
       "   'vcodec': 'avc1.4d401e',\n",
       "   'acodec': 'none',\n",
       "   'dynamic_range': 'SDR',\n",
       "   'container': 'mp4_dash',\n",
       "   'downloader_options': {'http_chunk_size': 10485760},\n",
       "   'protocol': 'https',\n",
       "   'video_ext': 'mp4',\n",
       "   'audio_ext': 'none',\n",
       "   'abr': 0,\n",
       "   'vbr': 633.227,\n",
       "   'resolution': '360x640',\n",
       "   'aspect_ratio': 0.56,\n",
       "   'http_headers': {'User-Agent': 'Mozilla/5.0 (Windows NT 10.0; Win64; x64) AppleWebKit/537.36 (KHTML, like Gecko) Chrome/92.0.4515.43 Safari/537.36',\n",
       "    'Accept': 'text/html,application/xhtml+xml,application/xml;q=0.9,*/*;q=0.8',\n",
       "    'Accept-Language': 'en-us,en;q=0.5',\n",
       "    'Sec-Fetch-Mode': 'navigate'},\n",
       "   'format': '134 - 360x640 (360p)'},\n",
       "  {'asr': 48000,\n",
       "   'filesize': 1317114,\n",
       "   'format_id': '18',\n",
       "   'format_note': '360p',\n",
       "   'source_preference': -1,\n",
       "   'fps': 30,\n",
       "   'audio_channels': 2,\n",
       "   'height': 640,\n",
       "   'quality': 6.0,\n",
       "   'has_drm': False,\n",
       "   'tbr': 606.057,\n",
       "   'filesize_approx': 1317113,\n",
       "   'url': 'https://rr3---sn-258av8hxqp5-jhpl.googlevideo.com/videoplayback?expire=1750251309&ei=zWJSaJanBvruu_kPlNiP2Q0&ip=216.171.10.22&id=o-AAxMjxi6QNSfJ329rSVQNYENceF54lFRie-_7bjlKIr0&itag=18&source=youtube&requiressl=yes&xpc=EgVo2aDSNQ%3D%3D&met=1750229709%2C&mh=vl&mm=31%2C29&mn=sn-258av8hxqp5-jhpl%2Csn-vgqsrnzz&ms=au%2Crdu&mv=m&mvi=3&pl=24&rms=au%2Cau&initcwndbps=4903750&bui=AY1jyLOG946VoWllsuq_igevGiJkCihdJrqKXM1c2t6r490x6OZtEApMuYu3EI2vejRkk2lhTczpzPkx&vprv=1&svpuc=1&mime=video%2Fmp4&ns=-i86eDMh8QkElxlF3IQSI7YQ&rqh=1&gir=yes&clen=1317114&ratebypass=yes&dur=17.386&lmt=1728199446205537&mt=1750229601&fvip=3&lmw=1&fexp=51466697&c=TVHTML5&sefc=1&txp=5530434&n=j9kSb-HsyTYzHA&sparams=expire%2Cei%2Cip%2Cid%2Citag%2Csource%2Crequiressl%2Cxpc%2Cbui%2Cvprv%2Csvpuc%2Cmime%2Cns%2Crqh%2Cgir%2Cclen%2Cratebypass%2Cdur%2Clmt&lsparams=met%2Cmh%2Cmm%2Cmn%2Cms%2Cmv%2Cmvi%2Cpl%2Crms%2Cinitcwndbps&lsig=APaTxxMwRAIgOAAbyST8mrCJnscNzJ7lVa5-SyuyLqs8-lLtXXjhFiUCIEyOQqN98orZRprjDYwXSJ3a5knwklKGxJ9DS_du0Msg&sig=AJfQdSswRQIgBM38iFmcvp3X-mg3PnKt1dIgt2kHkh4sJRF5z19YulICIQDh5_00Mfmx0AhF-KSm23npyZgt7i2HLP85s8p2VrWSiw%3D%3D',\n",
       "   'width': 360,\n",
       "   'language': None,\n",
       "   'language_preference': -1,\n",
       "   'preference': None,\n",
       "   'ext': 'mp4',\n",
       "   'vcodec': 'avc1.42001E',\n",
       "   'acodec': 'mp4a.40.2',\n",
       "   'dynamic_range': 'SDR',\n",
       "   'downloader_options': {'http_chunk_size': 10485760},\n",
       "   'protocol': 'https',\n",
       "   'video_ext': 'mp4',\n",
       "   'audio_ext': 'none',\n",
       "   'vbr': None,\n",
       "   'abr': None,\n",
       "   'resolution': '360x640',\n",
       "   'aspect_ratio': 0.56,\n",
       "   'http_headers': {'User-Agent': 'Mozilla/5.0 (Windows NT 10.0; Win64; x64) AppleWebKit/537.36 (KHTML, like Gecko) Chrome/92.0.4515.43 Safari/537.36',\n",
       "    'Accept': 'text/html,application/xhtml+xml,application/xml;q=0.9,*/*;q=0.8',\n",
       "    'Accept-Language': 'en-us,en;q=0.5',\n",
       "    'Sec-Fetch-Mode': 'navigate'},\n",
       "   'format': '18 - 360x640 (360p)'},\n",
       "  {'format_id': '605',\n",
       "   'format_index': None,\n",
       "   'url': 'https://manifest.googlevideo.com/api/manifest/hls_playlist/expire/1750251309/ei/zWJSaKGdC-qRlu8P06nv6AM/ip/216.171.10.22/id/168955007b9b397b/itag/605/source/youtube/requiressl/yes/ratebypass/yes/pfa/1/wft/1/sgovp/clen%3D523721%3Bdur%3D17.300%3Bgir%3Dyes%3Bitag%3D243%3Blmt%3D1728203361370234/rqh/1/hls_chunk_host/rr3---sn-258av8hxqp5-jhpl.googlevideo.com/xpc/EgVo2aDSNQ%3D%3D/met/1750229709,/mh/vl/mm/31,29/mn/sn-258av8hxqp5-jhpl,sn-vgqsknez/ms/au,rdu/mv/m/mvi/3/pl/24/rms/au,au/initcwndbps/4756250/bui/AY1jyLPzE4QP4jS7c0qfu_SiAK2ErPKJg1Cel2ucV_giKB9KJ7yTQg4gaOlpTT2CfyTGX8haP4znkw7j/spc/l3OVKTrGjNXWVrf7aojHrOLonyJzQpEllnnmd_0U0Z5rXKa_FqG16jE6nAAZHfSd/vprv/1/playlist_type/DVR/dover/13/txp/553C434/mt/1750229360/fvip/1/short_key/1/keepalive/yes/fexp/51466697/sparams/expire,ei,ip,id,itag,source,requiressl,ratebypass,pfa,wft,sgovp,rqh,xpc,bui,spc,vprv,playlist_type/sig/AJfQdSswRgIhAOFH--H389d-ecAH8P-z-na8fTkXp0Ik4ODhDFfcwHRLAiEAmD9Ah8yz0dUixse2LZSQLSEOe0Ju9mXL_BlxIdEdQPk%3D/lsparams/hls_chunk_host,met,mh,mm,mn,ms,mv,mvi,pl,rms,initcwndbps/lsig/APaTxxMwRgIhAKuMRMdx6QGHjeNkiCNtoPO9UTY2caem5cg8F8Ptxh1mAiEA3ix_4Q8B3v24OqSZXxUMSEUQuZkGs2_3l_LrY2h1Qkg%3D/playlist/index.m3u8',\n",
       "   'manifest_url': 'https://manifest.googlevideo.com/api/manifest/hls_variant/expire/1750251309/ei/zWJSaKGdC-qRlu8P06nv6AM/ip/216.171.10.22/id/168955007b9b397b/source/youtube/requiressl/yes/xpc/EgVo2aDSNQ%3D%3D/playback_host/rr3---sn-258av8hxqp5-jhpl.googlevideo.com/met/1750229709%2C/mh/vl/mm/31%2C29/mn/sn-258av8hxqp5-jhpl%2Csn-vgqsknez/ms/au%2Crdu/mv/m/mvi/3/pl/24/rms/au%2Cau/hfr/1/demuxed/1/tts_caps/1/maudio/1/initcwndbps/4756250/bui/AY1jyLPzE4QP4jS7c0qfu_SiAK2ErPKJg1Cel2ucV_giKB9KJ7yTQg4gaOlpTT2CfyTGX8haP4znkw7j/spc/l3OVKTrGjNXWVrf7aojHrOLonyJzQpEllnnmd_0U0Z5rXKa_FqG16jE6nAAZHfSd/vprv/1/go/1/rqh/5/mt/1750229360/fvip/1/nvgoi/1/short_key/1/ncsapi/1/keepalive/yes/fexp/51466697/dover/13/itag/0/playlist_type/DVR/sparams/expire%2Cei%2Cip%2Cid%2Csource%2Crequiressl%2Cxpc%2Chfr%2Cdemuxed%2Ctts_caps%2Cmaudio%2Cbui%2Cspc%2Cvprv%2Cgo%2Crqh%2Citag%2Cplaylist_type/sig/AJfQdSswRQIgNAA8Ophs-xyvacB7xpuDW6mIqYabXUeRKGpGuMCsPDwCIQDxu8W3op59u5a4cQdpKXvWxbqR04pPYMdyio5iK-VRag%3D%3D/lsparams/playback_host%2Cmet%2Cmh%2Cmm%2Cmn%2Cms%2Cmv%2Cmvi%2Cpl%2Crms%2Cinitcwndbps/lsig/APaTxxMwRQIgBGc5OdRsLi_6oVDK2siU_AfQ8X4HGGgUWzz7sczJeFYCIQDyoM6sYno9-OJkGRrsDJkMpEgIBHGFdB1PQ_nJi7nNTA%3D%3D/file/index.m3u8',\n",
       "   'tbr': 449.486,\n",
       "   'ext': 'mp4',\n",
       "   'fps': 30.0,\n",
       "   'protocol': 'm3u8_native',\n",
       "   'preference': None,\n",
       "   'quality': 6,\n",
       "   'has_drm': False,\n",
       "   'width': 360,\n",
       "   'height': 640,\n",
       "   'vcodec': 'vp09.00.21.08.01.05.01.06.00',\n",
       "   'acodec': 'none',\n",
       "   'dynamic_range': 'SDR',\n",
       "   'source_preference': -1,\n",
       "   'video_ext': 'mp4',\n",
       "   'audio_ext': 'none',\n",
       "   'abr': 0,\n",
       "   'vbr': 449.486,\n",
       "   'resolution': '360x640',\n",
       "   'aspect_ratio': 0.56,\n",
       "   'http_headers': {'User-Agent': 'Mozilla/5.0 (Windows NT 10.0; Win64; x64) AppleWebKit/537.36 (KHTML, like Gecko) Chrome/92.0.4515.43 Safari/537.36',\n",
       "    'Accept': 'text/html,application/xhtml+xml,application/xml;q=0.9,*/*;q=0.8',\n",
       "    'Accept-Language': 'en-us,en;q=0.5',\n",
       "    'Sec-Fetch-Mode': 'navigate'},\n",
       "   'format': '605 - 360x640'},\n",
       "  {'asr': None,\n",
       "   'filesize': 523721,\n",
       "   'format_id': '243',\n",
       "   'format_note': '360p',\n",
       "   'source_preference': -1,\n",
       "   'fps': 30,\n",
       "   'audio_channels': None,\n",
       "   'height': 640,\n",
       "   'quality': 6.0,\n",
       "   'has_drm': False,\n",
       "   'tbr': 242.183,\n",
       "   'filesize_approx': 523720,\n",
       "   'url': 'https://rr3---sn-258av8hxqp5-jhpl.googlevideo.com/videoplayback?expire=1750251309&ei=zWJSaJanBvruu_kPlNiP2Q0&ip=216.171.10.22&id=o-AAxMjxi6QNSfJ329rSVQNYENceF54lFRie-_7bjlKIr0&itag=243&aitags=133%2C134%2C135%2C136%2C137%2C160%2C242%2C243%2C247%2C248%2C395%2C396%2C397%2C398%2C399%2C779%2C780%2C788&source=youtube&requiressl=yes&xpc=EgVo2aDSNQ%3D%3D&met=1750229709%2C&mh=vl&mm=31%2C29&mn=sn-258av8hxqp5-jhpl%2Csn-vgqsrnzz&ms=au%2Crdu&mv=m&mvi=3&pl=24&rms=au%2Cau&initcwndbps=4903750&bui=AY1jyLNxJ7ahLLs3cSi9HDoHiTcMhVTkD2P7fTNNBszzkR-6jRgIioFzM9PFuGlyNw9SJyXBvp1vdwfk&vprv=1&svpuc=1&mime=video%2Fwebm&ns=7vn-dsSjkSRW2-1DL86qEaUQ&rqh=1&gir=yes&clen=523721&dur=17.300&lmt=1728203361370234&mt=1750229601&fvip=3&keepalive=yes&lmw=1&fexp=51466697&c=TVHTML5&sefc=1&txp=553C434&n=0Rk1kUqPwyvgsA&sparams=expire%2Cei%2Cip%2Cid%2Caitags%2Csource%2Crequiressl%2Cxpc%2Cbui%2Cvprv%2Csvpuc%2Cmime%2Cns%2Crqh%2Cgir%2Cclen%2Cdur%2Clmt&lsparams=met%2Cmh%2Cmm%2Cmn%2Cms%2Cmv%2Cmvi%2Cpl%2Crms%2Cinitcwndbps&lsig=APaTxxMwRAIgOAAbyST8mrCJnscNzJ7lVa5-SyuyLqs8-lLtXXjhFiUCIEyOQqN98orZRprjDYwXSJ3a5knwklKGxJ9DS_du0Msg&sig=AJfQdSswRQIgYmkSuksnQvRHlJn2SXn50ifBUEK2eONsQ3qseUcFxwoCIQCvTCXy5dZWzg7zXRYVDJgfjJTeb2IvJ06Peam9VgL7qA%3D%3D',\n",
       "   'width': 360,\n",
       "   'language': None,\n",
       "   'language_preference': -1,\n",
       "   'preference': None,\n",
       "   'ext': 'webm',\n",
       "   'vcodec': 'vp9',\n",
       "   'acodec': 'none',\n",
       "   'dynamic_range': 'SDR',\n",
       "   'container': 'webm_dash',\n",
       "   'downloader_options': {'http_chunk_size': 10485760},\n",
       "   'protocol': 'https',\n",
       "   'video_ext': 'webm',\n",
       "   'audio_ext': 'none',\n",
       "   'abr': 0,\n",
       "   'vbr': 242.183,\n",
       "   'resolution': '360x640',\n",
       "   'aspect_ratio': 0.56,\n",
       "   'http_headers': {'User-Agent': 'Mozilla/5.0 (Windows NT 10.0; Win64; x64) AppleWebKit/537.36 (KHTML, like Gecko) Chrome/92.0.4515.43 Safari/537.36',\n",
       "    'Accept': 'text/html,application/xhtml+xml,application/xml;q=0.9,*/*;q=0.8',\n",
       "    'Accept-Language': 'en-us,en;q=0.5',\n",
       "    'Sec-Fetch-Mode': 'navigate'},\n",
       "   'format': '243 - 360x640 (360p)'},\n",
       "  {'asr': None,\n",
       "   'filesize': 671520,\n",
       "   'format_id': '396',\n",
       "   'format_note': '360p',\n",
       "   'source_preference': -1,\n",
       "   'fps': 30,\n",
       "   'audio_channels': None,\n",
       "   'height': 640,\n",
       "   'quality': 6.0,\n",
       "   'has_drm': False,\n",
       "   'tbr': 310.547,\n",
       "   'filesize_approx': 671519,\n",
       "   'url': 'https://rr3---sn-258av8hxqp5-jhpl.googlevideo.com/videoplayback?expire=1750251309&ei=zWJSaJanBvruu_kPlNiP2Q0&ip=216.171.10.22&id=o-AAxMjxi6QNSfJ329rSVQNYENceF54lFRie-_7bjlKIr0&itag=396&aitags=133%2C134%2C135%2C136%2C137%2C160%2C242%2C243%2C247%2C248%2C395%2C396%2C397%2C398%2C399%2C779%2C780%2C788&source=youtube&requiressl=yes&xpc=EgVo2aDSNQ%3D%3D&met=1750229709%2C&mh=vl&mm=31%2C29&mn=sn-258av8hxqp5-jhpl%2Csn-vgqsrnzz&ms=au%2Crdu&mv=m&mvi=3&pl=24&rms=au%2Cau&initcwndbps=4903750&bui=AY1jyLNxJ7ahLLs3cSi9HDoHiTcMhVTkD2P7fTNNBszzkR-6jRgIioFzM9PFuGlyNw9SJyXBvp1vdwfk&vprv=1&svpuc=1&mime=video%2Fmp4&ns=7vn-dsSjkSRW2-1DL86qEaUQ&rqh=1&gir=yes&clen=671520&dur=17.299&lmt=1749906534416890&mt=1750229601&fvip=3&keepalive=yes&lmw=1&fexp=51466697&c=TVHTML5&sefc=1&txp=553C534&n=0Rk1kUqPwyvgsA&sparams=expire%2Cei%2Cip%2Cid%2Caitags%2Csource%2Crequiressl%2Cxpc%2Cbui%2Cvprv%2Csvpuc%2Cmime%2Cns%2Crqh%2Cgir%2Cclen%2Cdur%2Clmt&lsparams=met%2Cmh%2Cmm%2Cmn%2Cms%2Cmv%2Cmvi%2Cpl%2Crms%2Cinitcwndbps&lsig=APaTxxMwRAIgOAAbyST8mrCJnscNzJ7lVa5-SyuyLqs8-lLtXXjhFiUCIEyOQqN98orZRprjDYwXSJ3a5knwklKGxJ9DS_du0Msg&sig=AJfQdSswRQIgM4JJnrm4UAPLdvlIhtEUSgqOBev4wCDtly4a7g2Y1lcCIQDrVCSkMhXcvUFfRmDu7Vi7WuHZmXCCUxbJpEQUQOfdNw%3D%3D',\n",
       "   'width': 360,\n",
       "   'language': None,\n",
       "   'language_preference': -1,\n",
       "   'preference': None,\n",
       "   'ext': 'mp4',\n",
       "   'vcodec': 'av01.0.01M.08.0.110.05.01.06.0',\n",
       "   'acodec': 'none',\n",
       "   'dynamic_range': 'SDR',\n",
       "   'container': 'mp4_dash',\n",
       "   'downloader_options': {'http_chunk_size': 10485760},\n",
       "   'protocol': 'https',\n",
       "   'video_ext': 'mp4',\n",
       "   'audio_ext': 'none',\n",
       "   'abr': 0,\n",
       "   'vbr': 310.547,\n",
       "   'resolution': '360x640',\n",
       "   'aspect_ratio': 0.56,\n",
       "   'http_headers': {'User-Agent': 'Mozilla/5.0 (Windows NT 10.0; Win64; x64) AppleWebKit/537.36 (KHTML, like Gecko) Chrome/92.0.4515.43 Safari/537.36',\n",
       "    'Accept': 'text/html,application/xhtml+xml,application/xml;q=0.9,*/*;q=0.8',\n",
       "    'Accept-Language': 'en-us,en;q=0.5',\n",
       "    'Sec-Fetch-Mode': 'navigate'},\n",
       "   'format': '396 - 360x640 (360p)'},\n",
       "  {'format_id': '231',\n",
       "   'format_index': None,\n",
       "   'url': 'https://manifest.googlevideo.com/api/manifest/hls_playlist/expire/1750251309/ei/zWJSaKGdC-qRlu8P06nv6AM/ip/216.171.10.22/id/168955007b9b397b/itag/231/source/youtube/requiressl/yes/ratebypass/yes/pfa/1/sgovp/clen%3D2121774%3Bdur%3D17.299%3Bgir%3Dyes%3Bitag%3D135%3Blmt%3D1728199538706897/rqh/1/hls_chunk_host/rr3---sn-258av8hxqp5-jhpl.googlevideo.com/xpc/EgVo2aDSNQ%3D%3D/met/1750229709,/mh/vl/mm/31,29/mn/sn-258av8hxqp5-jhpl,sn-vgqsknez/ms/au,rdu/mv/m/mvi/3/pl/24/rms/au,au/initcwndbps/4756250/bui/AY1jyLPzE4QP4jS7c0qfu_SiAK2ErPKJg1Cel2ucV_giKB9KJ7yTQg4gaOlpTT2CfyTGX8haP4znkw7j/spc/l3OVKTrGjNXWVrf7aojHrOLonyJzQpEllnnmd_0U0Z5rXKa_FqG16jE6nAAZHfSd/vprv/1/playlist_type/DVR/dover/13/txp/553C434/mt/1750229360/fvip/1/short_key/1/keepalive/yes/fexp/51466697/sparams/expire,ei,ip,id,itag,source,requiressl,ratebypass,pfa,sgovp,rqh,xpc,bui,spc,vprv,playlist_type/sig/AJfQdSswRQIgSTeUZLMZ2TS14mma8p23iVqCDMPlFdMuY5VgnarUOzECIQCv1CUnZkxeAyhB97e-EgqUdtRF3oPz6hmGEK08poAoEw%3D%3D/lsparams/hls_chunk_host,met,mh,mm,mn,ms,mv,mvi,pl,rms,initcwndbps/lsig/APaTxxMwRgIhANyOIg_xvIZ5zf0L25jzZgp5WuZsTKxikOvFNBolYnqvAiEA6_yjf_jlkTDYTpWRuxUwNcYfLK0Fh7dBue-v22p0xT0%3D/playlist/index.m3u8',\n",
       "   'manifest_url': 'https://manifest.googlevideo.com/api/manifest/hls_variant/expire/1750251309/ei/zWJSaKGdC-qRlu8P06nv6AM/ip/216.171.10.22/id/168955007b9b397b/source/youtube/requiressl/yes/xpc/EgVo2aDSNQ%3D%3D/playback_host/rr3---sn-258av8hxqp5-jhpl.googlevideo.com/met/1750229709%2C/mh/vl/mm/31%2C29/mn/sn-258av8hxqp5-jhpl%2Csn-vgqsknez/ms/au%2Crdu/mv/m/mvi/3/pl/24/rms/au%2Cau/hfr/1/demuxed/1/tts_caps/1/maudio/1/initcwndbps/4756250/bui/AY1jyLPzE4QP4jS7c0qfu_SiAK2ErPKJg1Cel2ucV_giKB9KJ7yTQg4gaOlpTT2CfyTGX8haP4znkw7j/spc/l3OVKTrGjNXWVrf7aojHrOLonyJzQpEllnnmd_0U0Z5rXKa_FqG16jE6nAAZHfSd/vprv/1/go/1/rqh/5/mt/1750229360/fvip/1/nvgoi/1/short_key/1/ncsapi/1/keepalive/yes/fexp/51466697/dover/13/itag/0/playlist_type/DVR/sparams/expire%2Cei%2Cip%2Cid%2Csource%2Crequiressl%2Cxpc%2Chfr%2Cdemuxed%2Ctts_caps%2Cmaudio%2Cbui%2Cspc%2Cvprv%2Cgo%2Crqh%2Citag%2Cplaylist_type/sig/AJfQdSswRQIgNAA8Ophs-xyvacB7xpuDW6mIqYabXUeRKGpGuMCsPDwCIQDxu8W3op59u5a4cQdpKXvWxbqR04pPYMdyio5iK-VRag%3D%3D/lsparams/playback_host%2Cmet%2Cmh%2Cmm%2Cmn%2Cms%2Cmv%2Cmvi%2Cpl%2Crms%2Cinitcwndbps/lsig/APaTxxMwRQIgBGc5OdRsLi_6oVDK2siU_AfQ8X4HGGgUWzz7sczJeFYCIQDyoM6sYno9-OJkGRrsDJkMpEgIBHGFdB1PQ_nJi7nNTA%3D%3D/file/index.m3u8',\n",
       "   'tbr': 1327.326,\n",
       "   'ext': 'mp4',\n",
       "   'fps': 30.0,\n",
       "   'protocol': 'm3u8_native',\n",
       "   'preference': None,\n",
       "   'quality': 7,\n",
       "   'has_drm': False,\n",
       "   'width': 480,\n",
       "   'height': 854,\n",
       "   'vcodec': 'avc1.4D401F',\n",
       "   'acodec': 'none',\n",
       "   'dynamic_range': 'SDR',\n",
       "   'source_preference': -1,\n",
       "   'video_ext': 'mp4',\n",
       "   'audio_ext': 'none',\n",
       "   'abr': 0,\n",
       "   'vbr': 1327.326,\n",
       "   'resolution': '480x854',\n",
       "   'aspect_ratio': 0.56,\n",
       "   'http_headers': {'User-Agent': 'Mozilla/5.0 (Windows NT 10.0; Win64; x64) AppleWebKit/537.36 (KHTML, like Gecko) Chrome/92.0.4515.43 Safari/537.36',\n",
       "    'Accept': 'text/html,application/xhtml+xml,application/xml;q=0.9,*/*;q=0.8',\n",
       "    'Accept-Language': 'en-us,en;q=0.5',\n",
       "    'Sec-Fetch-Mode': 'navigate'},\n",
       "   'format': '231 - 480x854'},\n",
       "  {'asr': None,\n",
       "   'filesize': 2121774,\n",
       "   'format_id': '135',\n",
       "   'format_note': '480p',\n",
       "   'source_preference': -1,\n",
       "   'fps': 30,\n",
       "   'audio_channels': None,\n",
       "   'height': 854,\n",
       "   'quality': 7.0,\n",
       "   'has_drm': False,\n",
       "   'tbr': 981.223,\n",
       "   'filesize_approx': 2121772,\n",
       "   'url': 'https://rr3---sn-258av8hxqp5-jhpl.googlevideo.com/videoplayback?expire=1750251309&ei=zWJSaJanBvruu_kPlNiP2Q0&ip=216.171.10.22&id=o-AAxMjxi6QNSfJ329rSVQNYENceF54lFRie-_7bjlKIr0&itag=135&aitags=133%2C134%2C135%2C136%2C137%2C160%2C242%2C243%2C247%2C248%2C395%2C396%2C397%2C398%2C399%2C779%2C780%2C788&source=youtube&requiressl=yes&xpc=EgVo2aDSNQ%3D%3D&met=1750229709%2C&mh=vl&mm=31%2C29&mn=sn-258av8hxqp5-jhpl%2Csn-vgqsrnzz&ms=au%2Crdu&mv=m&mvi=3&pl=24&rms=au%2Cau&initcwndbps=4903750&bui=AY1jyLNxJ7ahLLs3cSi9HDoHiTcMhVTkD2P7fTNNBszzkR-6jRgIioFzM9PFuGlyNw9SJyXBvp1vdwfk&vprv=1&svpuc=1&mime=video%2Fmp4&ns=7vn-dsSjkSRW2-1DL86qEaUQ&rqh=1&gir=yes&clen=2121774&dur=17.299&lmt=1728199538706897&mt=1750229601&fvip=3&keepalive=yes&lmw=1&fexp=51466697&c=TVHTML5&sefc=1&txp=553C434&n=0Rk1kUqPwyvgsA&sparams=expire%2Cei%2Cip%2Cid%2Caitags%2Csource%2Crequiressl%2Cxpc%2Cbui%2Cvprv%2Csvpuc%2Cmime%2Cns%2Crqh%2Cgir%2Cclen%2Cdur%2Clmt&lsparams=met%2Cmh%2Cmm%2Cmn%2Cms%2Cmv%2Cmvi%2Cpl%2Crms%2Cinitcwndbps&lsig=APaTxxMwRAIgOAAbyST8mrCJnscNzJ7lVa5-SyuyLqs8-lLtXXjhFiUCIEyOQqN98orZRprjDYwXSJ3a5knwklKGxJ9DS_du0Msg&sig=AJfQdSswRgIhAOolo_tEfaJFGA8NBVD_eX_Z3cgUMBydYfi9hgHIMJHLAiEA6MyQSkthExu-swQW2yhg8UFafzYH2ObyKwQZdY65G-U%3D',\n",
       "   'width': 480,\n",
       "   'language': None,\n",
       "   'language_preference': -1,\n",
       "   'preference': None,\n",
       "   'ext': 'mp4',\n",
       "   'vcodec': 'avc1.4d401f',\n",
       "   'acodec': 'none',\n",
       "   'dynamic_range': 'SDR',\n",
       "   'container': 'mp4_dash',\n",
       "   'downloader_options': {'http_chunk_size': 10485760},\n",
       "   'protocol': 'https',\n",
       "   'video_ext': 'mp4',\n",
       "   'audio_ext': 'none',\n",
       "   'abr': 0,\n",
       "   'vbr': 981.223,\n",
       "   'resolution': '480x854',\n",
       "   'aspect_ratio': 0.56,\n",
       "   'http_headers': {'User-Agent': 'Mozilla/5.0 (Windows NT 10.0; Win64; x64) AppleWebKit/537.36 (KHTML, like Gecko) Chrome/92.0.4515.43 Safari/537.36',\n",
       "    'Accept': 'text/html,application/xhtml+xml,application/xml;q=0.9,*/*;q=0.8',\n",
       "    'Accept-Language': 'en-us,en;q=0.5',\n",
       "    'Sec-Fetch-Mode': 'navigate'},\n",
       "   'format': '135 - 480x854 (480p)'},\n",
       "  {'asr': None,\n",
       "   'filesize': 1268748,\n",
       "   'format_id': '397',\n",
       "   'format_note': '480p',\n",
       "   'source_preference': -1,\n",
       "   'fps': 30,\n",
       "   'audio_channels': None,\n",
       "   'height': 854,\n",
       "   'quality': 7.0,\n",
       "   'has_drm': False,\n",
       "   'tbr': 586.738,\n",
       "   'filesize_approx': 1268747,\n",
       "   'url': 'https://rr3---sn-258av8hxqp5-jhpl.googlevideo.com/videoplayback?expire=1750251309&ei=zWJSaJanBvruu_kPlNiP2Q0&ip=216.171.10.22&id=o-AAxMjxi6QNSfJ329rSVQNYENceF54lFRie-_7bjlKIr0&itag=397&aitags=133%2C134%2C135%2C136%2C137%2C160%2C242%2C243%2C247%2C248%2C395%2C396%2C397%2C398%2C399%2C779%2C780%2C788&source=youtube&requiressl=yes&xpc=EgVo2aDSNQ%3D%3D&met=1750229709%2C&mh=vl&mm=31%2C29&mn=sn-258av8hxqp5-jhpl%2Csn-vgqsrnzz&ms=au%2Crdu&mv=m&mvi=3&pl=24&rms=au%2Cau&initcwndbps=4903750&bui=AY1jyLNxJ7ahLLs3cSi9HDoHiTcMhVTkD2P7fTNNBszzkR-6jRgIioFzM9PFuGlyNw9SJyXBvp1vdwfk&vprv=1&svpuc=1&mime=video%2Fmp4&ns=7vn-dsSjkSRW2-1DL86qEaUQ&rqh=1&gir=yes&clen=1268748&dur=17.299&lmt=1749907483540142&mt=1750229601&fvip=3&keepalive=yes&lmw=1&fexp=51466697&c=TVHTML5&sefc=1&txp=553C534&n=0Rk1kUqPwyvgsA&sparams=expire%2Cei%2Cip%2Cid%2Caitags%2Csource%2Crequiressl%2Cxpc%2Cbui%2Cvprv%2Csvpuc%2Cmime%2Cns%2Crqh%2Cgir%2Cclen%2Cdur%2Clmt&lsparams=met%2Cmh%2Cmm%2Cmn%2Cms%2Cmv%2Cmvi%2Cpl%2Crms%2Cinitcwndbps&lsig=APaTxxMwRAIgOAAbyST8mrCJnscNzJ7lVa5-SyuyLqs8-lLtXXjhFiUCIEyOQqN98orZRprjDYwXSJ3a5knwklKGxJ9DS_du0Msg&sig=AJfQdSswRgIhANtyYH3GpyjIBOi3YCVCITAuv8fZrMv0I2Sl1bsZTxGUAiEA_nQFWpULBF0jC5Rz3pvQMG5c4V1cjLJBhlEfh2Enza4%3D',\n",
       "   'width': 480,\n",
       "   'language': None,\n",
       "   'language_preference': -1,\n",
       "   'preference': None,\n",
       "   'ext': 'mp4',\n",
       "   'vcodec': 'av01.0.04M.08.0.110.05.01.06.0',\n",
       "   'acodec': 'none',\n",
       "   'dynamic_range': 'SDR',\n",
       "   'container': 'mp4_dash',\n",
       "   'downloader_options': {'http_chunk_size': 10485760},\n",
       "   'protocol': 'https',\n",
       "   'video_ext': 'mp4',\n",
       "   'audio_ext': 'none',\n",
       "   'abr': 0,\n",
       "   'vbr': 586.738,\n",
       "   'resolution': '480x854',\n",
       "   'aspect_ratio': 0.56,\n",
       "   'http_headers': {'User-Agent': 'Mozilla/5.0 (Windows NT 10.0; Win64; x64) AppleWebKit/537.36 (KHTML, like Gecko) Chrome/92.0.4515.43 Safari/537.36',\n",
       "    'Accept': 'text/html,application/xhtml+xml,application/xml;q=0.9,*/*;q=0.8',\n",
       "    'Accept-Language': 'en-us,en;q=0.5',\n",
       "    'Sec-Fetch-Mode': 'navigate'},\n",
       "   'format': '397 - 480x854 (480p)'},\n",
       "  {'asr': None,\n",
       "   'filesize': 1178907,\n",
       "   'format_id': '779',\n",
       "   'format_note': '480p',\n",
       "   'source_preference': -1,\n",
       "   'fps': 30,\n",
       "   'audio_channels': None,\n",
       "   'height': 1080,\n",
       "   'quality': 7.0,\n",
       "   'has_drm': False,\n",
       "   'tbr': 545.159,\n",
       "   'filesize_approx': 1178906,\n",
       "   'url': 'https://rr3---sn-258av8hxqp5-jhpl.googlevideo.com/videoplayback?expire=1750251309&ei=zWJSaJanBvruu_kPlNiP2Q0&ip=216.171.10.22&id=o-AAxMjxi6QNSfJ329rSVQNYENceF54lFRie-_7bjlKIr0&itag=779&aitags=133%2C134%2C135%2C136%2C137%2C160%2C242%2C243%2C247%2C248%2C395%2C396%2C397%2C398%2C399%2C779%2C780%2C788&source=youtube&requiressl=yes&xpc=EgVo2aDSNQ%3D%3D&met=1750229709%2C&mh=vl&mm=31%2C29&mn=sn-258av8hxqp5-jhpl%2Csn-vgqsrnzz&ms=au%2Crdu&mv=m&mvi=3&pl=24&rms=au%2Cau&initcwndbps=4903750&bui=AY1jyLNxJ7ahLLs3cSi9HDoHiTcMhVTkD2P7fTNNBszzkR-6jRgIioFzM9PFuGlyNw9SJyXBvp1vdwfk&vprv=1&svpuc=1&mime=video%2Fwebm&ns=7vn-dsSjkSRW2-1DL86qEaUQ&rqh=1&gir=yes&clen=1178907&dur=17.300&lmt=1728201156028522&mt=1750229601&fvip=3&keepalive=yes&lmw=1&fexp=51466697&c=TVHTML5&sefc=1&txp=553C434&n=0Rk1kUqPwyvgsA&sparams=expire%2Cei%2Cip%2Cid%2Caitags%2Csource%2Crequiressl%2Cxpc%2Cbui%2Cvprv%2Csvpuc%2Cmime%2Cns%2Crqh%2Cgir%2Cclen%2Cdur%2Clmt&lsparams=met%2Cmh%2Cmm%2Cmn%2Cms%2Cmv%2Cmvi%2Cpl%2Crms%2Cinitcwndbps&lsig=APaTxxMwRAIgOAAbyST8mrCJnscNzJ7lVa5-SyuyLqs8-lLtXXjhFiUCIEyOQqN98orZRprjDYwXSJ3a5knwklKGxJ9DS_du0Msg&sig=AJfQdSswRAIgP__r5Q1neXWvq9MG3nZTXAn1lgZ8N7fXtj0O7aWT_RECIAdnoDFRulfhv_13BSDKX5_19NMQYNPb8E3346pdP6eJ',\n",
       "   'width': 608,\n",
       "   'language': None,\n",
       "   'language_preference': -1,\n",
       "   'preference': None,\n",
       "   'ext': 'webm',\n",
       "   'vcodec': 'vp9',\n",
       "   'acodec': 'none',\n",
       "   'dynamic_range': 'SDR',\n",
       "   'container': 'webm_dash',\n",
       "   'downloader_options': {'http_chunk_size': 10485760},\n",
       "   'protocol': 'https',\n",
       "   'video_ext': 'webm',\n",
       "   'audio_ext': 'none',\n",
       "   'abr': 0,\n",
       "   'vbr': 545.159,\n",
       "   'resolution': '608x1080',\n",
       "   'aspect_ratio': 0.56,\n",
       "   'http_headers': {'User-Agent': 'Mozilla/5.0 (Windows NT 10.0; Win64; x64) AppleWebKit/537.36 (KHTML, like Gecko) Chrome/92.0.4515.43 Safari/537.36',\n",
       "    'Accept': 'text/html,application/xhtml+xml,application/xml;q=0.9,*/*;q=0.8',\n",
       "    'Accept-Language': 'en-us,en;q=0.5',\n",
       "    'Sec-Fetch-Mode': 'navigate'},\n",
       "   'format': '779 - 608x1080 (480p)'},\n",
       "  {'asr': None,\n",
       "   'filesize': 1906337,\n",
       "   'format_id': '780',\n",
       "   'format_note': '480p',\n",
       "   'source_preference': -1,\n",
       "   'fps': 30,\n",
       "   'audio_channels': None,\n",
       "   'height': 1080,\n",
       "   'quality': 7.0,\n",
       "   'has_drm': False,\n",
       "   'tbr': 881.543,\n",
       "   'filesize_approx': 1906336,\n",
       "   'url': 'https://rr3---sn-258av8hxqp5-jhpl.googlevideo.com/videoplayback?expire=1750251309&ei=zWJSaJanBvruu_kPlNiP2Q0&ip=216.171.10.22&id=o-AAxMjxi6QNSfJ329rSVQNYENceF54lFRie-_7bjlKIr0&itag=780&aitags=133%2C134%2C135%2C136%2C137%2C160%2C242%2C243%2C247%2C248%2C395%2C396%2C397%2C398%2C399%2C779%2C780%2C788&source=youtube&requiressl=yes&xpc=EgVo2aDSNQ%3D%3D&met=1750229709%2C&mh=vl&mm=31%2C29&mn=sn-258av8hxqp5-jhpl%2Csn-vgqsrnzz&ms=au%2Crdu&mv=m&mvi=3&pl=24&rms=au%2Cau&initcwndbps=4903750&bui=AY1jyLNxJ7ahLLs3cSi9HDoHiTcMhVTkD2P7fTNNBszzkR-6jRgIioFzM9PFuGlyNw9SJyXBvp1vdwfk&vprv=1&svpuc=1&mime=video%2Fwebm&ns=7vn-dsSjkSRW2-1DL86qEaUQ&rqh=1&gir=yes&clen=1906337&dur=17.300&lmt=1728199995826625&mt=1750229601&fvip=3&keepalive=yes&lmw=1&fexp=51466697&c=TVHTML5&sefc=1&txp=553C434&n=0Rk1kUqPwyvgsA&sparams=expire%2Cei%2Cip%2Cid%2Caitags%2Csource%2Crequiressl%2Cxpc%2Cbui%2Cvprv%2Csvpuc%2Cmime%2Cns%2Crqh%2Cgir%2Cclen%2Cdur%2Clmt&lsparams=met%2Cmh%2Cmm%2Cmn%2Cms%2Cmv%2Cmvi%2Cpl%2Crms%2Cinitcwndbps&lsig=APaTxxMwRAIgOAAbyST8mrCJnscNzJ7lVa5-SyuyLqs8-lLtXXjhFiUCIEyOQqN98orZRprjDYwXSJ3a5knwklKGxJ9DS_du0Msg&sig=AJfQdSswRQIgUIr1Jc34aK3BvHKl4hq8ucGtxmMkoWdzlmfimWJ5CekCIQCypweegqpBhWugKK9CVdClFEM4nFWRVd_icb7M75_dPw%3D%3D',\n",
       "   'width': 608,\n",
       "   'language': None,\n",
       "   'language_preference': -1,\n",
       "   'preference': None,\n",
       "   'ext': 'webm',\n",
       "   'vcodec': 'vp9',\n",
       "   'acodec': 'none',\n",
       "   'dynamic_range': 'SDR',\n",
       "   'container': 'webm_dash',\n",
       "   'downloader_options': {'http_chunk_size': 10485760},\n",
       "   'protocol': 'https',\n",
       "   'video_ext': 'webm',\n",
       "   'audio_ext': 'none',\n",
       "   'abr': 0,\n",
       "   'vbr': 881.543,\n",
       "   'resolution': '608x1080',\n",
       "   'aspect_ratio': 0.56,\n",
       "   'http_headers': {'User-Agent': 'Mozilla/5.0 (Windows NT 10.0; Win64; x64) AppleWebKit/537.36 (KHTML, like Gecko) Chrome/92.0.4515.43 Safari/537.36',\n",
       "    'Accept': 'text/html,application/xhtml+xml,application/xml;q=0.9,*/*;q=0.8',\n",
       "    'Accept-Language': 'en-us,en;q=0.5',\n",
       "    'Sec-Fetch-Mode': 'navigate'},\n",
       "   'format': '780 - 608x1080 (480p)'},\n",
       "  {'asr': None,\n",
       "   'filesize': 1353625,\n",
       "   'format_id': '788',\n",
       "   'format_note': '480p',\n",
       "   'source_preference': -1,\n",
       "   'fps': 30,\n",
       "   'audio_channels': None,\n",
       "   'height': 1080,\n",
       "   'quality': 7.0,\n",
       "   'has_drm': False,\n",
       "   'tbr': 625.989,\n",
       "   'filesize_approx': 1353622,\n",
       "   'url': 'https://rr3---sn-258av8hxqp5-jhpl.googlevideo.com/videoplayback?expire=1750251309&ei=zWJSaJanBvruu_kPlNiP2Q0&ip=216.171.10.22&id=o-AAxMjxi6QNSfJ329rSVQNYENceF54lFRie-_7bjlKIr0&itag=788&aitags=133%2C134%2C135%2C136%2C137%2C160%2C242%2C243%2C247%2C248%2C395%2C396%2C397%2C398%2C399%2C779%2C780%2C788&source=youtube&requiressl=yes&xpc=EgVo2aDSNQ%3D%3D&met=1750229709%2C&mh=vl&mm=31%2C29&mn=sn-258av8hxqp5-jhpl%2Csn-vgqsrnzz&ms=au%2Crdu&mv=m&mvi=3&pl=24&rms=au%2Cau&initcwndbps=4903750&bui=AY1jyLNxJ7ahLLs3cSi9HDoHiTcMhVTkD2P7fTNNBszzkR-6jRgIioFzM9PFuGlyNw9SJyXBvp1vdwfk&vprv=1&svpuc=1&mime=video%2Fmp4&ns=7vn-dsSjkSRW2-1DL86qEaUQ&rqh=1&gir=yes&clen=1353625&dur=17.299&lmt=1749907856284213&mt=1750229601&fvip=3&keepalive=yes&lmw=1&fexp=51466697&c=TVHTML5&sefc=1&txp=553C534&n=0Rk1kUqPwyvgsA&sparams=expire%2Cei%2Cip%2Cid%2Caitags%2Csource%2Crequiressl%2Cxpc%2Cbui%2Cvprv%2Csvpuc%2Cmime%2Cns%2Crqh%2Cgir%2Cclen%2Cdur%2Clmt&lsparams=met%2Cmh%2Cmm%2Cmn%2Cms%2Cmv%2Cmvi%2Cpl%2Crms%2Cinitcwndbps&lsig=APaTxxMwRAIgOAAbyST8mrCJnscNzJ7lVa5-SyuyLqs8-lLtXXjhFiUCIEyOQqN98orZRprjDYwXSJ3a5knwklKGxJ9DS_du0Msg&sig=AJfQdSswRAIgHhTTwiMP2G1P8r68-FshCbJvucWoC1KXWXObByalaZACIA-a9kLaahLchYnbE48RKqY67hKI_Ktbsp2WbPw-sUm_',\n",
       "   'width': 608,\n",
       "   'language': None,\n",
       "   'language_preference': -1,\n",
       "   'preference': None,\n",
       "   'ext': 'mp4',\n",
       "   'vcodec': 'av01.0.04M.08.0.110.05.01.06.0',\n",
       "   'acodec': 'none',\n",
       "   'dynamic_range': 'SDR',\n",
       "   'container': 'mp4_dash',\n",
       "   'downloader_options': {'http_chunk_size': 10485760},\n",
       "   'protocol': 'https',\n",
       "   'video_ext': 'mp4',\n",
       "   'audio_ext': 'none',\n",
       "   'abr': 0,\n",
       "   'vbr': 625.989,\n",
       "   'resolution': '608x1080',\n",
       "   'aspect_ratio': 0.56,\n",
       "   'http_headers': {'User-Agent': 'Mozilla/5.0 (Windows NT 10.0; Win64; x64) AppleWebKit/537.36 (KHTML, like Gecko) Chrome/92.0.4515.43 Safari/537.36',\n",
       "    'Accept': 'text/html,application/xhtml+xml,application/xml;q=0.9,*/*;q=0.8',\n",
       "    'Accept-Language': 'en-us,en;q=0.5',\n",
       "    'Sec-Fetch-Mode': 'navigate'},\n",
       "   'format': '788 - 608x1080 (480p)'},\n",
       "  {'format_id': '232',\n",
       "   'format_index': None,\n",
       "   'url': 'https://manifest.googlevideo.com/api/manifest/hls_playlist/expire/1750251309/ei/zWJSaKGdC-qRlu8P06nv6AM/ip/216.171.10.22/id/168955007b9b397b/itag/232/source/youtube/requiressl/yes/ratebypass/yes/pfa/1/sgovp/clen%3D2812872%3Bdur%3D17.299%3Bgir%3Dyes%3Bitag%3D136%3Blmt%3D1728199536760222/rqh/1/hls_chunk_host/rr3---sn-258av8hxqp5-jhpl.googlevideo.com/xpc/EgVo2aDSNQ%3D%3D/met/1750229709,/mh/vl/mm/31,29/mn/sn-258av8hxqp5-jhpl,sn-vgqsknez/ms/au,rdu/mv/m/mvi/3/pl/24/rms/au,au/initcwndbps/4756250/bui/AY1jyLPzE4QP4jS7c0qfu_SiAK2ErPKJg1Cel2ucV_giKB9KJ7yTQg4gaOlpTT2CfyTGX8haP4znkw7j/spc/l3OVKTrGjNXWVrf7aojHrOLonyJzQpEllnnmd_0U0Z5rXKa_FqG16jE6nAAZHfSd/vprv/1/playlist_type/DVR/dover/13/txp/553C434/mt/1750229360/fvip/1/short_key/1/keepalive/yes/fexp/51466697/sparams/expire,ei,ip,id,itag,source,requiressl,ratebypass,pfa,sgovp,rqh,xpc,bui,spc,vprv,playlist_type/sig/AJfQdSswRQIhAJolXp3AZL5PC__31VrGQNXQBIdNsXrYpqg7nGRDXWIxAiBlASkKd-FXjdiT3Cc8T-nqvOydPxBWw96Pq-PYqHJQSg%3D%3D/lsparams/hls_chunk_host,met,mh,mm,mn,ms,mv,mvi,pl,rms,initcwndbps/lsig/APaTxxMwRgIhANxV_OQ9XpBna7c9FIAbewTtn6tuMldg4XN6nC07wEOcAiEA5DiRju7f-Ml1XcdO821ks_AwBNBWPYbSHkwwo3CRWc8%3D/playlist/index.m3u8',\n",
       "   'manifest_url': 'https://manifest.googlevideo.com/api/manifest/hls_variant/expire/1750251309/ei/zWJSaKGdC-qRlu8P06nv6AM/ip/216.171.10.22/id/168955007b9b397b/source/youtube/requiressl/yes/xpc/EgVo2aDSNQ%3D%3D/playback_host/rr3---sn-258av8hxqp5-jhpl.googlevideo.com/met/1750229709%2C/mh/vl/mm/31%2C29/mn/sn-258av8hxqp5-jhpl%2Csn-vgqsknez/ms/au%2Crdu/mv/m/mvi/3/pl/24/rms/au%2Cau/hfr/1/demuxed/1/tts_caps/1/maudio/1/initcwndbps/4756250/bui/AY1jyLPzE4QP4jS7c0qfu_SiAK2ErPKJg1Cel2ucV_giKB9KJ7yTQg4gaOlpTT2CfyTGX8haP4znkw7j/spc/l3OVKTrGjNXWVrf7aojHrOLonyJzQpEllnnmd_0U0Z5rXKa_FqG16jE6nAAZHfSd/vprv/1/go/1/rqh/5/mt/1750229360/fvip/1/nvgoi/1/short_key/1/ncsapi/1/keepalive/yes/fexp/51466697/dover/13/itag/0/playlist_type/DVR/sparams/expire%2Cei%2Cip%2Cid%2Csource%2Crequiressl%2Cxpc%2Chfr%2Cdemuxed%2Ctts_caps%2Cmaudio%2Cbui%2Cspc%2Cvprv%2Cgo%2Crqh%2Citag%2Cplaylist_type/sig/AJfQdSswRQIgNAA8Ophs-xyvacB7xpuDW6mIqYabXUeRKGpGuMCsPDwCIQDxu8W3op59u5a4cQdpKXvWxbqR04pPYMdyio5iK-VRag%3D%3D/lsparams/playback_host%2Cmet%2Cmh%2Cmm%2Cmn%2Cms%2Cmv%2Cmvi%2Cpl%2Crms%2Cinitcwndbps/lsig/APaTxxMwRQIgBGc5OdRsLi_6oVDK2siU_AfQ8X4HGGgUWzz7sczJeFYCIQDyoM6sYno9-OJkGRrsDJkMpEgIBHGFdB1PQ_nJi7nNTA%3D%3D/file/index.m3u8',\n",
       "   'tbr': 1722.948,\n",
       "   'ext': 'mp4',\n",
       "   'fps': 30.0,\n",
       "   'protocol': 'm3u8_native',\n",
       "   'preference': None,\n",
       "   'quality': 8,\n",
       "   'has_drm': False,\n",
       "   'width': 720,\n",
       "   'height': 1280,\n",
       "   'vcodec': 'avc1.4D401F',\n",
       "   'acodec': 'none',\n",
       "   'dynamic_range': 'SDR',\n",
       "   'source_preference': -1,\n",
       "   'video_ext': 'mp4',\n",
       "   'audio_ext': 'none',\n",
       "   'abr': 0,\n",
       "   'vbr': 1722.948,\n",
       "   'resolution': '720x1280',\n",
       "   'aspect_ratio': 0.56,\n",
       "   'http_headers': {'User-Agent': 'Mozilla/5.0 (Windows NT 10.0; Win64; x64) AppleWebKit/537.36 (KHTML, like Gecko) Chrome/92.0.4515.43 Safari/537.36',\n",
       "    'Accept': 'text/html,application/xhtml+xml,application/xml;q=0.9,*/*;q=0.8',\n",
       "    'Accept-Language': 'en-us,en;q=0.5',\n",
       "    'Sec-Fetch-Mode': 'navigate'},\n",
       "   'format': '232 - 720x1280'},\n",
       "  {'asr': None,\n",
       "   'filesize': 2812872,\n",
       "   'format_id': '136',\n",
       "   'format_note': '720p',\n",
       "   'source_preference': -1,\n",
       "   'fps': 30,\n",
       "   'audio_channels': None,\n",
       "   'height': 1280,\n",
       "   'quality': 8.0,\n",
       "   'has_drm': False,\n",
       "   'tbr': 1300.825,\n",
       "   'filesize_approx': 2812871,\n",
       "   'url': 'https://rr3---sn-258av8hxqp5-jhpl.googlevideo.com/videoplayback?expire=1750251309&ei=zWJSaJanBvruu_kPlNiP2Q0&ip=216.171.10.22&id=o-AAxMjxi6QNSfJ329rSVQNYENceF54lFRie-_7bjlKIr0&itag=136&aitags=133%2C134%2C135%2C136%2C137%2C160%2C242%2C243%2C247%2C248%2C395%2C396%2C397%2C398%2C399%2C779%2C780%2C788&source=youtube&requiressl=yes&xpc=EgVo2aDSNQ%3D%3D&met=1750229709%2C&mh=vl&mm=31%2C29&mn=sn-258av8hxqp5-jhpl%2Csn-vgqsrnzz&ms=au%2Crdu&mv=m&mvi=3&pl=24&rms=au%2Cau&initcwndbps=4903750&bui=AY1jyLNxJ7ahLLs3cSi9HDoHiTcMhVTkD2P7fTNNBszzkR-6jRgIioFzM9PFuGlyNw9SJyXBvp1vdwfk&vprv=1&svpuc=1&mime=video%2Fmp4&ns=7vn-dsSjkSRW2-1DL86qEaUQ&rqh=1&gir=yes&clen=2812872&dur=17.299&lmt=1728199536760222&mt=1750229601&fvip=3&keepalive=yes&lmw=1&fexp=51466697&c=TVHTML5&sefc=1&txp=553C434&n=0Rk1kUqPwyvgsA&sparams=expire%2Cei%2Cip%2Cid%2Caitags%2Csource%2Crequiressl%2Cxpc%2Cbui%2Cvprv%2Csvpuc%2Cmime%2Cns%2Crqh%2Cgir%2Cclen%2Cdur%2Clmt&lsparams=met%2Cmh%2Cmm%2Cmn%2Cms%2Cmv%2Cmvi%2Cpl%2Crms%2Cinitcwndbps&lsig=APaTxxMwRAIgOAAbyST8mrCJnscNzJ7lVa5-SyuyLqs8-lLtXXjhFiUCIEyOQqN98orZRprjDYwXSJ3a5knwklKGxJ9DS_du0Msg&sig=AJfQdSswRQIgPw26WCbK2Stirq_y51E11M2Qzp5L4BonCMkhhcyi5D0CIQCxlPKYNdxjkLPn9RBbacqtUztFmigqTA3tcTy042r8Rw%3D%3D',\n",
       "   'width': 720,\n",
       "   'language': None,\n",
       "   'language_preference': -1,\n",
       "   'preference': None,\n",
       "   'ext': 'mp4',\n",
       "   'vcodec': 'avc1.4d401f',\n",
       "   'acodec': 'none',\n",
       "   'dynamic_range': 'SDR',\n",
       "   'container': 'mp4_dash',\n",
       "   'downloader_options': {'http_chunk_size': 10485760},\n",
       "   'protocol': 'https',\n",
       "   'video_ext': 'mp4',\n",
       "   'audio_ext': 'none',\n",
       "   'abr': 0,\n",
       "   'vbr': 1300.825,\n",
       "   'resolution': '720x1280',\n",
       "   'aspect_ratio': 0.56,\n",
       "   'http_headers': {'User-Agent': 'Mozilla/5.0 (Windows NT 10.0; Win64; x64) AppleWebKit/537.36 (KHTML, like Gecko) Chrome/92.0.4515.43 Safari/537.36',\n",
       "    'Accept': 'text/html,application/xhtml+xml,application/xml;q=0.9,*/*;q=0.8',\n",
       "    'Accept-Language': 'en-us,en;q=0.5',\n",
       "    'Sec-Fetch-Mode': 'navigate'},\n",
       "   'format': '136 - 720x1280 (720p)'},\n",
       "  {'format_id': '609',\n",
       "   'format_index': None,\n",
       "   'url': 'https://manifest.googlevideo.com/api/manifest/hls_playlist/expire/1750251309/ei/zWJSaKGdC-qRlu8P06nv6AM/ip/216.171.10.22/id/168955007b9b397b/itag/609/source/youtube/requiressl/yes/ratebypass/yes/pfa/1/wft/1/sgovp/clen%3D3261724%3Bdur%3D17.300%3Bgir%3Dyes%3Bitag%3D247%3Blmt%3D1728203361627997/rqh/1/hls_chunk_host/rr3---sn-258av8hxqp5-jhpl.googlevideo.com/xpc/EgVo2aDSNQ%3D%3D/met/1750229709,/mh/vl/mm/31,29/mn/sn-258av8hxqp5-jhpl,sn-vgqsknez/ms/au,rdu/mv/m/mvi/3/pl/24/rms/au,au/initcwndbps/4756250/bui/AY1jyLPzE4QP4jS7c0qfu_SiAK2ErPKJg1Cel2ucV_giKB9KJ7yTQg4gaOlpTT2CfyTGX8haP4znkw7j/spc/l3OVKTrGjNXWVrf7aojHrOLonyJzQpEllnnmd_0U0Z5rXKa_FqG16jE6nAAZHfSd/vprv/1/playlist_type/DVR/dover/13/txp/553C434/mt/1750229360/fvip/1/short_key/1/keepalive/yes/fexp/51466697/sparams/expire,ei,ip,id,itag,source,requiressl,ratebypass,pfa,wft,sgovp,rqh,xpc,bui,spc,vprv,playlist_type/sig/AJfQdSswRAIgCnr8Xm9CDHchXJJnXnlrZk8BFw3QPueIj3Z1vDgOZg8CIEbI4w20bDL-tH8QKGB8JepiSXl_Pg1rEPdH_R0r_lzj/lsparams/hls_chunk_host,met,mh,mm,mn,ms,mv,mvi,pl,rms,initcwndbps/lsig/APaTxxMwRgIhAKmXlyqHOEturvSohQ-nAL96lNCNJqpKO4hXOAJ3CZ1HAiEA8hFjqK4wR7-qOat4IAu7U-QUW9Oordbc8CPAI8AVg00%3D/playlist/index.m3u8',\n",
       "   'manifest_url': 'https://manifest.googlevideo.com/api/manifest/hls_variant/expire/1750251309/ei/zWJSaKGdC-qRlu8P06nv6AM/ip/216.171.10.22/id/168955007b9b397b/source/youtube/requiressl/yes/xpc/EgVo2aDSNQ%3D%3D/playback_host/rr3---sn-258av8hxqp5-jhpl.googlevideo.com/met/1750229709%2C/mh/vl/mm/31%2C29/mn/sn-258av8hxqp5-jhpl%2Csn-vgqsknez/ms/au%2Crdu/mv/m/mvi/3/pl/24/rms/au%2Cau/hfr/1/demuxed/1/tts_caps/1/maudio/1/initcwndbps/4756250/bui/AY1jyLPzE4QP4jS7c0qfu_SiAK2ErPKJg1Cel2ucV_giKB9KJ7yTQg4gaOlpTT2CfyTGX8haP4znkw7j/spc/l3OVKTrGjNXWVrf7aojHrOLonyJzQpEllnnmd_0U0Z5rXKa_FqG16jE6nAAZHfSd/vprv/1/go/1/rqh/5/mt/1750229360/fvip/1/nvgoi/1/short_key/1/ncsapi/1/keepalive/yes/fexp/51466697/dover/13/itag/0/playlist_type/DVR/sparams/expire%2Cei%2Cip%2Cid%2Csource%2Crequiressl%2Cxpc%2Chfr%2Cdemuxed%2Ctts_caps%2Cmaudio%2Cbui%2Cspc%2Cvprv%2Cgo%2Crqh%2Citag%2Cplaylist_type/sig/AJfQdSswRQIgNAA8Ophs-xyvacB7xpuDW6mIqYabXUeRKGpGuMCsPDwCIQDxu8W3op59u5a4cQdpKXvWxbqR04pPYMdyio5iK-VRag%3D%3D/lsparams/playback_host%2Cmet%2Cmh%2Cmm%2Cmn%2Cms%2Cmv%2Cmvi%2Cpl%2Crms%2Cinitcwndbps/lsig/APaTxxMwRQIgBGc5OdRsLi_6oVDK2siU_AfQ8X4HGGgUWzz7sczJeFYCIQDyoM6sYno9-OJkGRrsDJkMpEgIBHGFdB1PQ_nJi7nNTA%3D%3D/file/index.m3u8',\n",
       "   'tbr': 1725.825,\n",
       "   'ext': 'mp4',\n",
       "   'fps': 30.0,\n",
       "   'protocol': 'm3u8_native',\n",
       "   'preference': None,\n",
       "   'quality': 8,\n",
       "   'has_drm': False,\n",
       "   'width': 720,\n",
       "   'height': 1280,\n",
       "   'vcodec': 'vp09.00.31.08.01.05.01.06.00',\n",
       "   'acodec': 'none',\n",
       "   'dynamic_range': 'SDR',\n",
       "   'source_preference': -1,\n",
       "   'video_ext': 'mp4',\n",
       "   'audio_ext': 'none',\n",
       "   'abr': 0,\n",
       "   'vbr': 1725.825,\n",
       "   'resolution': '720x1280',\n",
       "   'aspect_ratio': 0.56,\n",
       "   'http_headers': {'User-Agent': 'Mozilla/5.0 (Windows NT 10.0; Win64; x64) AppleWebKit/537.36 (KHTML, like Gecko) Chrome/92.0.4515.43 Safari/537.36',\n",
       "    'Accept': 'text/html,application/xhtml+xml,application/xml;q=0.9,*/*;q=0.8',\n",
       "    'Accept-Language': 'en-us,en;q=0.5',\n",
       "    'Sec-Fetch-Mode': 'navigate'},\n",
       "   'format': '609 - 720x1280'},\n",
       "  {'asr': None,\n",
       "   'filesize': 3261724,\n",
       "   'format_id': '247',\n",
       "   'format_note': '720p',\n",
       "   'source_preference': -1,\n",
       "   'fps': 30,\n",
       "   'audio_channels': None,\n",
       "   'height': 1280,\n",
       "   'quality': 8.0,\n",
       "   'has_drm': False,\n",
       "   'tbr': 1508.311,\n",
       "   'filesize_approx': 3261722,\n",
       "   'url': 'https://rr3---sn-258av8hxqp5-jhpl.googlevideo.com/videoplayback?expire=1750251309&ei=zWJSaJanBvruu_kPlNiP2Q0&ip=216.171.10.22&id=o-AAxMjxi6QNSfJ329rSVQNYENceF54lFRie-_7bjlKIr0&itag=247&aitags=133%2C134%2C135%2C136%2C137%2C160%2C242%2C243%2C247%2C248%2C395%2C396%2C397%2C398%2C399%2C779%2C780%2C788&source=youtube&requiressl=yes&xpc=EgVo2aDSNQ%3D%3D&met=1750229709%2C&mh=vl&mm=31%2C29&mn=sn-258av8hxqp5-jhpl%2Csn-vgqsrnzz&ms=au%2Crdu&mv=m&mvi=3&pl=24&rms=au%2Cau&initcwndbps=4903750&bui=AY1jyLNxJ7ahLLs3cSi9HDoHiTcMhVTkD2P7fTNNBszzkR-6jRgIioFzM9PFuGlyNw9SJyXBvp1vdwfk&vprv=1&svpuc=1&mime=video%2Fwebm&ns=7vn-dsSjkSRW2-1DL86qEaUQ&rqh=1&gir=yes&clen=3261724&dur=17.300&lmt=1728203361627997&mt=1750229601&fvip=3&keepalive=yes&lmw=1&fexp=51466697&c=TVHTML5&sefc=1&txp=553C434&n=0Rk1kUqPwyvgsA&sparams=expire%2Cei%2Cip%2Cid%2Caitags%2Csource%2Crequiressl%2Cxpc%2Cbui%2Cvprv%2Csvpuc%2Cmime%2Cns%2Crqh%2Cgir%2Cclen%2Cdur%2Clmt&lsparams=met%2Cmh%2Cmm%2Cmn%2Cms%2Cmv%2Cmvi%2Cpl%2Crms%2Cinitcwndbps&lsig=APaTxxMwRAIgOAAbyST8mrCJnscNzJ7lVa5-SyuyLqs8-lLtXXjhFiUCIEyOQqN98orZRprjDYwXSJ3a5knwklKGxJ9DS_du0Msg&sig=AJfQdSswRAIgaWqZedeP6ee5Ogpo9WQ76kkKYYbcYT6PUs7JEwfz78ECIGm-5ocUsgqsVJaEDm3jQqd6fe2EwWTo7gomgpnejzug',\n",
       "   'width': 720,\n",
       "   'language': None,\n",
       "   'language_preference': -1,\n",
       "   'preference': None,\n",
       "   'ext': 'webm',\n",
       "   'vcodec': 'vp9',\n",
       "   'acodec': 'none',\n",
       "   'dynamic_range': 'SDR',\n",
       "   'container': 'webm_dash',\n",
       "   'downloader_options': {'http_chunk_size': 10485760},\n",
       "   'protocol': 'https',\n",
       "   'video_ext': 'webm',\n",
       "   'audio_ext': 'none',\n",
       "   'abr': 0,\n",
       "   'vbr': 1508.311,\n",
       "   'resolution': '720x1280',\n",
       "   'aspect_ratio': 0.56,\n",
       "   'http_headers': {'User-Agent': 'Mozilla/5.0 (Windows NT 10.0; Win64; x64) AppleWebKit/537.36 (KHTML, like Gecko) Chrome/92.0.4515.43 Safari/537.36',\n",
       "    'Accept': 'text/html,application/xhtml+xml,application/xml;q=0.9,*/*;q=0.8',\n",
       "    'Accept-Language': 'en-us,en;q=0.5',\n",
       "    'Sec-Fetch-Mode': 'navigate'},\n",
       "   'format': '247 - 720x1280 (720p)'},\n",
       "  {'asr': None,\n",
       "   'filesize': 2549554,\n",
       "   'format_id': '398',\n",
       "   'format_note': '720p',\n",
       "   'source_preference': -1,\n",
       "   'fps': 30,\n",
       "   'audio_channels': None,\n",
       "   'height': 1280,\n",
       "   'quality': 8.0,\n",
       "   'has_drm': False,\n",
       "   'tbr': 1179.052,\n",
       "   'filesize_approx': 2549552,\n",
       "   'url': 'https://rr3---sn-258av8hxqp5-jhpl.googlevideo.com/videoplayback?expire=1750251309&ei=zWJSaJanBvruu_kPlNiP2Q0&ip=216.171.10.22&id=o-AAxMjxi6QNSfJ329rSVQNYENceF54lFRie-_7bjlKIr0&itag=398&aitags=133%2C134%2C135%2C136%2C137%2C160%2C242%2C243%2C247%2C248%2C395%2C396%2C397%2C398%2C399%2C779%2C780%2C788&source=youtube&requiressl=yes&xpc=EgVo2aDSNQ%3D%3D&met=1750229709%2C&mh=vl&mm=31%2C29&mn=sn-258av8hxqp5-jhpl%2Csn-vgqsrnzz&ms=au%2Crdu&mv=m&mvi=3&pl=24&rms=au%2Cau&initcwndbps=4903750&bui=AY1jyLNxJ7ahLLs3cSi9HDoHiTcMhVTkD2P7fTNNBszzkR-6jRgIioFzM9PFuGlyNw9SJyXBvp1vdwfk&vprv=1&svpuc=1&mime=video%2Fmp4&ns=7vn-dsSjkSRW2-1DL86qEaUQ&rqh=1&gir=yes&clen=2549554&dur=17.299&lmt=1749907706642530&mt=1750229601&fvip=3&keepalive=yes&lmw=1&fexp=51466697&c=TVHTML5&sefc=1&txp=553C534&n=0Rk1kUqPwyvgsA&sparams=expire%2Cei%2Cip%2Cid%2Caitags%2Csource%2Crequiressl%2Cxpc%2Cbui%2Cvprv%2Csvpuc%2Cmime%2Cns%2Crqh%2Cgir%2Cclen%2Cdur%2Clmt&lsparams=met%2Cmh%2Cmm%2Cmn%2Cms%2Cmv%2Cmvi%2Cpl%2Crms%2Cinitcwndbps&lsig=APaTxxMwRAIgOAAbyST8mrCJnscNzJ7lVa5-SyuyLqs8-lLtXXjhFiUCIEyOQqN98orZRprjDYwXSJ3a5knwklKGxJ9DS_du0Msg&sig=AJfQdSswRQIhAIFAggHZmSTD8OzGxx181nscn0pE_sAjsLmUf9h_MCvMAiAbSESPbeG-RNVrksPcvCNUSpRGnRHwhzXfBFQ9z36oAQ%3D%3D',\n",
       "   'width': 720,\n",
       "   'language': None,\n",
       "   'language_preference': -1,\n",
       "   'preference': None,\n",
       "   'ext': 'mp4',\n",
       "   'vcodec': 'av01.0.05M.08.0.110.05.01.06.0',\n",
       "   'acodec': 'none',\n",
       "   'dynamic_range': 'SDR',\n",
       "   'container': 'mp4_dash',\n",
       "   'downloader_options': {'http_chunk_size': 10485760},\n",
       "   'protocol': 'https',\n",
       "   'video_ext': 'mp4',\n",
       "   'audio_ext': 'none',\n",
       "   'abr': 0,\n",
       "   'vbr': 1179.052,\n",
       "   'resolution': '720x1280',\n",
       "   'aspect_ratio': 0.56,\n",
       "   'http_headers': {'User-Agent': 'Mozilla/5.0 (Windows NT 10.0; Win64; x64) AppleWebKit/537.36 (KHTML, like Gecko) Chrome/92.0.4515.43 Safari/537.36',\n",
       "    'Accept': 'text/html,application/xhtml+xml,application/xml;q=0.9,*/*;q=0.8',\n",
       "    'Accept-Language': 'en-us,en;q=0.5',\n",
       "    'Sec-Fetch-Mode': 'navigate'},\n",
       "   'format': '398 - 720x1280 (720p)'},\n",
       "  {'format_id': '270',\n",
       "   'format_index': None,\n",
       "   'url': 'https://manifest.googlevideo.com/api/manifest/hls_playlist/expire/1750251309/ei/zWJSaKGdC-qRlu8P06nv6AM/ip/216.171.10.22/id/168955007b9b397b/itag/270/source/youtube/requiressl/yes/ratebypass/yes/pfa/1/sgovp/clen%3D9370403%3Bdur%3D17.299%3Bgir%3Dyes%3Bitag%3D137%3Blmt%3D1728199987266714/rqh/1/hls_chunk_host/rr3---sn-258av8hxqp5-jhpl.googlevideo.com/xpc/EgVo2aDSNQ%3D%3D/met/1750229709,/mh/vl/mm/31,29/mn/sn-258av8hxqp5-jhpl,sn-vgqsknez/ms/au,rdu/mv/m/mvi/3/pl/24/rms/au,au/initcwndbps/4756250/bui/AY1jyLPzE4QP4jS7c0qfu_SiAK2ErPKJg1Cel2ucV_giKB9KJ7yTQg4gaOlpTT2CfyTGX8haP4znkw7j/spc/l3OVKTrGjNXWVrf7aojHrOLonyJzQpEllnnmd_0U0Z5rXKa_FqG16jE6nAAZHfSd/vprv/1/playlist_type/DVR/dover/13/txp/553C434/mt/1750229360/fvip/1/short_key/1/keepalive/yes/fexp/51466697/sparams/expire,ei,ip,id,itag,source,requiressl,ratebypass,pfa,sgovp,rqh,xpc,bui,spc,vprv,playlist_type/sig/AJfQdSswRAIgE93K4fUzfFOln9GQsJ76zeDf3sRifSLdT2ssP5jbUpkCIFpIUn4AienDrku0He4Y2u8jyv5-qI-hfez7Ugn8sIbJ/lsparams/hls_chunk_host,met,mh,mm,mn,ms,mv,mvi,pl,rms,initcwndbps/lsig/APaTxxMwRgIhAKKDIAPu98-OVzjC3USU5ZTqzhIXRFrwdBvY18MlCMSpAiEA_Im3zwgCkLhDvJONxIiHqYQrdz7uHBp3pZHAcx5m6NY%3D/playlist/index.m3u8',\n",
       "   'manifest_url': 'https://manifest.googlevideo.com/api/manifest/hls_variant/expire/1750251309/ei/zWJSaKGdC-qRlu8P06nv6AM/ip/216.171.10.22/id/168955007b9b397b/source/youtube/requiressl/yes/xpc/EgVo2aDSNQ%3D%3D/playback_host/rr3---sn-258av8hxqp5-jhpl.googlevideo.com/met/1750229709%2C/mh/vl/mm/31%2C29/mn/sn-258av8hxqp5-jhpl%2Csn-vgqsknez/ms/au%2Crdu/mv/m/mvi/3/pl/24/rms/au%2Cau/hfr/1/demuxed/1/tts_caps/1/maudio/1/initcwndbps/4756250/bui/AY1jyLPzE4QP4jS7c0qfu_SiAK2ErPKJg1Cel2ucV_giKB9KJ7yTQg4gaOlpTT2CfyTGX8haP4znkw7j/spc/l3OVKTrGjNXWVrf7aojHrOLonyJzQpEllnnmd_0U0Z5rXKa_FqG16jE6nAAZHfSd/vprv/1/go/1/rqh/5/mt/1750229360/fvip/1/nvgoi/1/short_key/1/ncsapi/1/keepalive/yes/fexp/51466697/dover/13/itag/0/playlist_type/DVR/sparams/expire%2Cei%2Cip%2Cid%2Csource%2Crequiressl%2Cxpc%2Chfr%2Cdemuxed%2Ctts_caps%2Cmaudio%2Cbui%2Cspc%2Cvprv%2Cgo%2Crqh%2Citag%2Cplaylist_type/sig/AJfQdSswRQIgNAA8Ophs-xyvacB7xpuDW6mIqYabXUeRKGpGuMCsPDwCIQDxu8W3op59u5a4cQdpKXvWxbqR04pPYMdyio5iK-VRag%3D%3D/lsparams/playback_host%2Cmet%2Cmh%2Cmm%2Cmn%2Cms%2Cmv%2Cmvi%2Cpl%2Crms%2Cinitcwndbps/lsig/APaTxxMwRQIgBGc5OdRsLi_6oVDK2siU_AfQ8X4HGGgUWzz7sczJeFYCIQDyoM6sYno9-OJkGRrsDJkMpEgIBHGFdB1PQ_nJi7nNTA%3D%3D/file/index.m3u8',\n",
       "   'tbr': 4687.131,\n",
       "   'ext': 'mp4',\n",
       "   'fps': 30.0,\n",
       "   'protocol': 'm3u8_native',\n",
       "   'preference': None,\n",
       "   'quality': 9,\n",
       "   'has_drm': False,\n",
       "   'width': 1080,\n",
       "   'height': 1920,\n",
       "   'vcodec': 'avc1.640028',\n",
       "   'acodec': 'none',\n",
       "   'dynamic_range': 'SDR',\n",
       "   'source_preference': -1,\n",
       "   'video_ext': 'mp4',\n",
       "   'audio_ext': 'none',\n",
       "   'abr': 0,\n",
       "   'vbr': 4687.131,\n",
       "   'resolution': '1080x1920',\n",
       "   'aspect_ratio': 0.56,\n",
       "   'http_headers': {'User-Agent': 'Mozilla/5.0 (Windows NT 10.0; Win64; x64) AppleWebKit/537.36 (KHTML, like Gecko) Chrome/92.0.4515.43 Safari/537.36',\n",
       "    'Accept': 'text/html,application/xhtml+xml,application/xml;q=0.9,*/*;q=0.8',\n",
       "    'Accept-Language': 'en-us,en;q=0.5',\n",
       "    'Sec-Fetch-Mode': 'navigate'},\n",
       "   'format': '270 - 1080x1920'},\n",
       "  {'asr': None,\n",
       "   'filesize': 9370403,\n",
       "   'format_id': '137',\n",
       "   'format_note': '1080p',\n",
       "   'source_preference': -1,\n",
       "   'fps': 30,\n",
       "   'audio_channels': None,\n",
       "   'height': 1920,\n",
       "   'quality': 9.0,\n",
       "   'has_drm': False,\n",
       "   'tbr': 4333.384,\n",
       "   'filesize_approx': 9370401,\n",
       "   'url': 'https://rr3---sn-258av8hxqp5-jhpl.googlevideo.com/videoplayback?expire=1750251309&ei=zWJSaJanBvruu_kPlNiP2Q0&ip=216.171.10.22&id=o-AAxMjxi6QNSfJ329rSVQNYENceF54lFRie-_7bjlKIr0&itag=137&aitags=133%2C134%2C135%2C136%2C137%2C160%2C242%2C243%2C247%2C248%2C395%2C396%2C397%2C398%2C399%2C779%2C780%2C788&source=youtube&requiressl=yes&xpc=EgVo2aDSNQ%3D%3D&met=1750229709%2C&mh=vl&mm=31%2C29&mn=sn-258av8hxqp5-jhpl%2Csn-vgqsrnzz&ms=au%2Crdu&mv=m&mvi=3&pl=24&rms=au%2Cau&initcwndbps=4903750&bui=AY1jyLNxJ7ahLLs3cSi9HDoHiTcMhVTkD2P7fTNNBszzkR-6jRgIioFzM9PFuGlyNw9SJyXBvp1vdwfk&vprv=1&svpuc=1&mime=video%2Fmp4&ns=7vn-dsSjkSRW2-1DL86qEaUQ&rqh=1&gir=yes&clen=9370403&dur=17.299&lmt=1728199987266714&mt=1750229601&fvip=3&keepalive=yes&lmw=1&fexp=51466697&c=TVHTML5&sefc=1&txp=553C434&n=0Rk1kUqPwyvgsA&sparams=expire%2Cei%2Cip%2Cid%2Caitags%2Csource%2Crequiressl%2Cxpc%2Cbui%2Cvprv%2Csvpuc%2Cmime%2Cns%2Crqh%2Cgir%2Cclen%2Cdur%2Clmt&lsparams=met%2Cmh%2Cmm%2Cmn%2Cms%2Cmv%2Cmvi%2Cpl%2Crms%2Cinitcwndbps&lsig=APaTxxMwRAIgOAAbyST8mrCJnscNzJ7lVa5-SyuyLqs8-lLtXXjhFiUCIEyOQqN98orZRprjDYwXSJ3a5knwklKGxJ9DS_du0Msg&sig=AJfQdSswRgIhAKOmjvUVB-gzxmW9xGrjmi65zl3RNkm35QzEVPoCyKadAiEApcEjOr8TbDbloG5kwljCJufft3bncUyijS_c4Xxf104%3D',\n",
       "   'width': 1080,\n",
       "   'language': None,\n",
       "   'language_preference': -1,\n",
       "   'preference': None,\n",
       "   'ext': 'mp4',\n",
       "   'vcodec': 'avc1.640028',\n",
       "   'acodec': 'none',\n",
       "   'dynamic_range': 'SDR',\n",
       "   'container': 'mp4_dash',\n",
       "   'downloader_options': {'http_chunk_size': 10485760},\n",
       "   'protocol': 'https',\n",
       "   'video_ext': 'mp4',\n",
       "   'audio_ext': 'none',\n",
       "   'abr': 0,\n",
       "   'vbr': 4333.384,\n",
       "   'resolution': '1080x1920',\n",
       "   'aspect_ratio': 0.56,\n",
       "   'http_headers': {'User-Agent': 'Mozilla/5.0 (Windows NT 10.0; Win64; x64) AppleWebKit/537.36 (KHTML, like Gecko) Chrome/92.0.4515.43 Safari/537.36',\n",
       "    'Accept': 'text/html,application/xhtml+xml,application/xml;q=0.9,*/*;q=0.8',\n",
       "    'Accept-Language': 'en-us,en;q=0.5',\n",
       "    'Sec-Fetch-Mode': 'navigate'},\n",
       "   'format': '137 - 1080x1920 (1080p)'},\n",
       "  {'format_id': '614',\n",
       "   'format_index': None,\n",
       "   'url': 'https://manifest.googlevideo.com/api/manifest/hls_playlist/expire/1750251309/ei/zWJSaKGdC-qRlu8P06nv6AM/ip/216.171.10.22/id/168955007b9b397b/itag/614/source/youtube/requiressl/yes/ratebypass/yes/pfa/1/wft/1/sgovp/clen%3D5736366%3Bdur%3D17.300%3Bgir%3Dyes%3Bitag%3D248%3Blmt%3D1728200790498389/rqh/1/hls_chunk_host/rr3---sn-258av8hxqp5-jhpl.googlevideo.com/xpc/EgVo2aDSNQ%3D%3D/met/1750229709,/mh/vl/mm/31,29/mn/sn-258av8hxqp5-jhpl,sn-vgqsknez/ms/au,rdu/mv/m/mvi/3/pl/24/rms/au,au/initcwndbps/4756250/bui/AY1jyLPzE4QP4jS7c0qfu_SiAK2ErPKJg1Cel2ucV_giKB9KJ7yTQg4gaOlpTT2CfyTGX8haP4znkw7j/spc/l3OVKTrGjNXWVrf7aojHrOLonyJzQpEllnnmd_0U0Z5rXKa_FqG16jE6nAAZHfSd/vprv/1/playlist_type/DVR/dover/13/txp/553C434/mt/1750229360/fvip/1/short_key/1/keepalive/yes/fexp/51466697/sparams/expire,ei,ip,id,itag,source,requiressl,ratebypass,pfa,wft,sgovp,rqh,xpc,bui,spc,vprv,playlist_type/sig/AJfQdSswRAIgG7VZOaXttilnyF3zrgujiqwy_fGECh5hxiaerVmjU-ICID8urri8xYGcg_RbXDhgAcvjP13olE_QBY6XcJfYkQ2k/lsparams/hls_chunk_host,met,mh,mm,mn,ms,mv,mvi,pl,rms,initcwndbps/lsig/APaTxxMwRQIhAPll3aYV03b20vEjH99-JoDFKN3TnwS0sSl_Mj8zGsM8AiBv3ybhEO3qBu_6VgJVDX_3Cwh8Tmca5R1t3O2lQpbUxg%3D%3D/playlist/index.m3u8',\n",
       "   'manifest_url': 'https://manifest.googlevideo.com/api/manifest/hls_variant/expire/1750251309/ei/zWJSaKGdC-qRlu8P06nv6AM/ip/216.171.10.22/id/168955007b9b397b/source/youtube/requiressl/yes/xpc/EgVo2aDSNQ%3D%3D/playback_host/rr3---sn-258av8hxqp5-jhpl.googlevideo.com/met/1750229709%2C/mh/vl/mm/31%2C29/mn/sn-258av8hxqp5-jhpl%2Csn-vgqsknez/ms/au%2Crdu/mv/m/mvi/3/pl/24/rms/au%2Cau/hfr/1/demuxed/1/tts_caps/1/maudio/1/initcwndbps/4756250/bui/AY1jyLPzE4QP4jS7c0qfu_SiAK2ErPKJg1Cel2ucV_giKB9KJ7yTQg4gaOlpTT2CfyTGX8haP4znkw7j/spc/l3OVKTrGjNXWVrf7aojHrOLonyJzQpEllnnmd_0U0Z5rXKa_FqG16jE6nAAZHfSd/vprv/1/go/1/rqh/5/mt/1750229360/fvip/1/nvgoi/1/short_key/1/ncsapi/1/keepalive/yes/fexp/51466697/dover/13/itag/0/playlist_type/DVR/sparams/expire%2Cei%2Cip%2Cid%2Csource%2Crequiressl%2Cxpc%2Chfr%2Cdemuxed%2Ctts_caps%2Cmaudio%2Cbui%2Cspc%2Cvprv%2Cgo%2Crqh%2Citag%2Cplaylist_type/sig/AJfQdSswRQIgNAA8Ophs-xyvacB7xpuDW6mIqYabXUeRKGpGuMCsPDwCIQDxu8W3op59u5a4cQdpKXvWxbqR04pPYMdyio5iK-VRag%3D%3D/lsparams/playback_host%2Cmet%2Cmh%2Cmm%2Cmn%2Cms%2Cmv%2Cmvi%2Cpl%2Crms%2Cinitcwndbps/lsig/APaTxxMwRQIgBGc5OdRsLi_6oVDK2siU_AfQ8X4HGGgUWzz7sczJeFYCIQDyoM6sYno9-OJkGRrsDJkMpEgIBHGFdB1PQ_nJi7nNTA%3D%3D/file/index.m3u8',\n",
       "   'tbr': 2931.477,\n",
       "   'ext': 'mp4',\n",
       "   'fps': 30.0,\n",
       "   'protocol': 'm3u8_native',\n",
       "   'preference': None,\n",
       "   'quality': 9,\n",
       "   'has_drm': False,\n",
       "   'width': 1080,\n",
       "   'height': 1920,\n",
       "   'vcodec': 'vp09.00.40.08.01.05.01.06.00',\n",
       "   'acodec': 'none',\n",
       "   'dynamic_range': 'SDR',\n",
       "   'source_preference': -1,\n",
       "   'video_ext': 'mp4',\n",
       "   'audio_ext': 'none',\n",
       "   'abr': 0,\n",
       "   'vbr': 2931.477,\n",
       "   'resolution': '1080x1920',\n",
       "   'aspect_ratio': 0.56,\n",
       "   'http_headers': {'User-Agent': 'Mozilla/5.0 (Windows NT 10.0; Win64; x64) AppleWebKit/537.36 (KHTML, like Gecko) Chrome/92.0.4515.43 Safari/537.36',\n",
       "    'Accept': 'text/html,application/xhtml+xml,application/xml;q=0.9,*/*;q=0.8',\n",
       "    'Accept-Language': 'en-us,en;q=0.5',\n",
       "    'Sec-Fetch-Mode': 'navigate'},\n",
       "   'format': '614 - 1080x1920'},\n",
       "  {'asr': None,\n",
       "   'filesize': 5736366,\n",
       "   'format_id': '248',\n",
       "   'format_note': '1080p',\n",
       "   'source_preference': -1,\n",
       "   'fps': 30,\n",
       "   'audio_channels': None,\n",
       "   'height': 1920,\n",
       "   'quality': 9.0,\n",
       "   'has_drm': False,\n",
       "   'tbr': 2652.654,\n",
       "   'filesize_approx': 5736364,\n",
       "   'url': 'https://rr3---sn-258av8hxqp5-jhpl.googlevideo.com/videoplayback?expire=1750251309&ei=zWJSaJanBvruu_kPlNiP2Q0&ip=216.171.10.22&id=o-AAxMjxi6QNSfJ329rSVQNYENceF54lFRie-_7bjlKIr0&itag=248&aitags=133%2C134%2C135%2C136%2C137%2C160%2C242%2C243%2C247%2C248%2C395%2C396%2C397%2C398%2C399%2C779%2C780%2C788&source=youtube&requiressl=yes&xpc=EgVo2aDSNQ%3D%3D&met=1750229709%2C&mh=vl&mm=31%2C29&mn=sn-258av8hxqp5-jhpl%2Csn-vgqsrnzz&ms=au%2Crdu&mv=m&mvi=3&pl=24&rms=au%2Cau&initcwndbps=4903750&bui=AY1jyLNxJ7ahLLs3cSi9HDoHiTcMhVTkD2P7fTNNBszzkR-6jRgIioFzM9PFuGlyNw9SJyXBvp1vdwfk&vprv=1&svpuc=1&mime=video%2Fwebm&ns=7vn-dsSjkSRW2-1DL86qEaUQ&rqh=1&gir=yes&clen=5736366&dur=17.300&lmt=1728200790498389&mt=1750229601&fvip=3&keepalive=yes&lmw=1&fexp=51466697&c=TVHTML5&sefc=1&txp=553C434&n=0Rk1kUqPwyvgsA&sparams=expire%2Cei%2Cip%2Cid%2Caitags%2Csource%2Crequiressl%2Cxpc%2Cbui%2Cvprv%2Csvpuc%2Cmime%2Cns%2Crqh%2Cgir%2Cclen%2Cdur%2Clmt&lsparams=met%2Cmh%2Cmm%2Cmn%2Cms%2Cmv%2Cmvi%2Cpl%2Crms%2Cinitcwndbps&lsig=APaTxxMwRAIgOAAbyST8mrCJnscNzJ7lVa5-SyuyLqs8-lLtXXjhFiUCIEyOQqN98orZRprjDYwXSJ3a5knwklKGxJ9DS_du0Msg&sig=AJfQdSswRQIhAMBdIfn7Uh2a00wydnrMNxwpsHZHWN1f3ttG8zRI-L5TAiArJmmavOaAvRl0P9_WMhe6gAD8KaAOWHPwW6GUWu_vhg%3D%3D',\n",
       "   'width': 1080,\n",
       "   'language': None,\n",
       "   'language_preference': -1,\n",
       "   'preference': None,\n",
       "   'ext': 'webm',\n",
       "   'vcodec': 'vp9',\n",
       "   'acodec': 'none',\n",
       "   'dynamic_range': 'SDR',\n",
       "   'container': 'webm_dash',\n",
       "   'downloader_options': {'http_chunk_size': 10485760},\n",
       "   'protocol': 'https',\n",
       "   'video_ext': 'webm',\n",
       "   'audio_ext': 'none',\n",
       "   'abr': 0,\n",
       "   'vbr': 2652.654,\n",
       "   'resolution': '1080x1920',\n",
       "   'aspect_ratio': 0.56,\n",
       "   'http_headers': {'User-Agent': 'Mozilla/5.0 (Windows NT 10.0; Win64; x64) AppleWebKit/537.36 (KHTML, like Gecko) Chrome/92.0.4515.43 Safari/537.36',\n",
       "    'Accept': 'text/html,application/xhtml+xml,application/xml;q=0.9,*/*;q=0.8',\n",
       "    'Accept-Language': 'en-us,en;q=0.5',\n",
       "    'Sec-Fetch-Mode': 'navigate'},\n",
       "   'format': '248 - 1080x1920 (1080p)'},\n",
       "  {'asr': None,\n",
       "   'filesize': 4493888,\n",
       "   'format_id': '399',\n",
       "   'format_note': '1080p',\n",
       "   'source_preference': -1,\n",
       "   'fps': 30,\n",
       "   'audio_channels': None,\n",
       "   'height': 1920,\n",
       "   'quality': 9.0,\n",
       "   'has_drm': False,\n",
       "   'tbr': 2078.218,\n",
       "   'filesize_approx': 4493886,\n",
       "   'url': 'https://rr3---sn-258av8hxqp5-jhpl.googlevideo.com/videoplayback?expire=1750251309&ei=zWJSaJanBvruu_kPlNiP2Q0&ip=216.171.10.22&id=o-AAxMjxi6QNSfJ329rSVQNYENceF54lFRie-_7bjlKIr0&itag=399&aitags=133%2C134%2C135%2C136%2C137%2C160%2C242%2C243%2C247%2C248%2C395%2C396%2C397%2C398%2C399%2C779%2C780%2C788&source=youtube&requiressl=yes&xpc=EgVo2aDSNQ%3D%3D&met=1750229709%2C&mh=vl&mm=31%2C29&mn=sn-258av8hxqp5-jhpl%2Csn-vgqsrnzz&ms=au%2Crdu&mv=m&mvi=3&pl=24&rms=au%2Cau&initcwndbps=4903750&bui=AY1jyLNxJ7ahLLs3cSi9HDoHiTcMhVTkD2P7fTNNBszzkR-6jRgIioFzM9PFuGlyNw9SJyXBvp1vdwfk&vprv=1&svpuc=1&mime=video%2Fmp4&ns=7vn-dsSjkSRW2-1DL86qEaUQ&rqh=1&gir=yes&clen=4493888&dur=17.299&lmt=1749907047482437&mt=1750229601&fvip=3&keepalive=yes&lmw=1&fexp=51466697&c=TVHTML5&sefc=1&txp=553C534&n=0Rk1kUqPwyvgsA&sparams=expire%2Cei%2Cip%2Cid%2Caitags%2Csource%2Crequiressl%2Cxpc%2Cbui%2Cvprv%2Csvpuc%2Cmime%2Cns%2Crqh%2Cgir%2Cclen%2Cdur%2Clmt&lsparams=met%2Cmh%2Cmm%2Cmn%2Cms%2Cmv%2Cmvi%2Cpl%2Crms%2Cinitcwndbps&lsig=APaTxxMwRAIgOAAbyST8mrCJnscNzJ7lVa5-SyuyLqs8-lLtXXjhFiUCIEyOQqN98orZRprjDYwXSJ3a5knwklKGxJ9DS_du0Msg&sig=AJfQdSswRAIgS9QWHy3PXExRmKAXYFHanwWyWGA0CD6jKgYyZL6zpYwCIFnUwNubSq2SRJwvs4umxn5R-4oqaYb0h2Tl3ZMN68v3',\n",
       "   'width': 1080,\n",
       "   'language': None,\n",
       "   'language_preference': -1,\n",
       "   'preference': None,\n",
       "   'ext': 'mp4',\n",
       "   'vcodec': 'av01.0.08M.08.0.110.05.01.06.0',\n",
       "   'acodec': 'none',\n",
       "   'dynamic_range': 'SDR',\n",
       "   'container': 'mp4_dash',\n",
       "   'downloader_options': {'http_chunk_size': 10485760},\n",
       "   'protocol': 'https',\n",
       "   'video_ext': 'mp4',\n",
       "   'audio_ext': 'none',\n",
       "   'abr': 0,\n",
       "   'vbr': 2078.218,\n",
       "   'resolution': '1080x1920',\n",
       "   'aspect_ratio': 0.56,\n",
       "   'http_headers': {'User-Agent': 'Mozilla/5.0 (Windows NT 10.0; Win64; x64) AppleWebKit/537.36 (KHTML, like Gecko) Chrome/92.0.4515.43 Safari/537.36',\n",
       "    'Accept': 'text/html,application/xhtml+xml,application/xml;q=0.9,*/*;q=0.8',\n",
       "    'Accept-Language': 'en-us,en;q=0.5',\n",
       "    'Sec-Fetch-Mode': 'navigate'},\n",
       "   'format': '399 - 1080x1920 (1080p)'},\n",
       "  {'format_id': '616',\n",
       "   'format_index': None,\n",
       "   'url': 'https://manifest.googlevideo.com/api/manifest/hls_playlist/expire/1750251309/ei/zWJSaKGdC-qRlu8P06nv6AM/ip/216.171.10.22/id/168955007b9b397b/itag/616/source/youtube/requiressl/yes/ratebypass/yes/pfa/1/wft/1/sgovp/clen%3D11342823%3Bdur%3D17.300%3Bgir%3Dyes%3Bitag%3D356%3Blmt%3D1728201717556240/rqh/1/hls_chunk_host/rr3---sn-258av8hxqp5-jhpl.googlevideo.com/xpc/EgVo2aDSNQ%3D%3D/met/1750229709,/mh/vl/mm/31,29/mn/sn-258av8hxqp5-jhpl,sn-vgqsknez/ms/au,rdu/mv/m/mvi/3/pl/24/rms/au,au/initcwndbps/4756250/bui/AY1jyLPzE4QP4jS7c0qfu_SiAK2ErPKJg1Cel2ucV_giKB9KJ7yTQg4gaOlpTT2CfyTGX8haP4znkw7j/spc/l3OVKTrGjNXWVrf7aojHrOLonyJzQpEllnnmd_0U0Z5rXKa_FqG16jE6nAAZHfSd/vprv/1/playlist_type/DVR/dover/13/txp/553C434/mt/1750229360/fvip/1/short_key/1/keepalive/yes/fexp/51466697/sparams/expire,ei,ip,id,itag,source,requiressl,ratebypass,pfa,wft,sgovp,rqh,xpc,bui,spc,vprv,playlist_type/sig/AJfQdSswRAIgBYAIzlL-Ow0g45rrFVytbmumJXk81w_-BnyHj2uGLXECIF_x3KtbP6M3J3CLbNBPbpFIJOCdxeqiqtZy-Ote4kcW/lsparams/hls_chunk_host,met,mh,mm,mn,ms,mv,mvi,pl,rms,initcwndbps/lsig/APaTxxMwRQIhAMdIcJkE9TrM4VptjnDLM-xFnhyhQ6sl7kNPqHeFFbspAiAzXHAhPT5hC0g_AIhMT3iQNGvjcOk-njNoHVk7SphSUw%3D%3D/playlist/index.m3u8',\n",
       "   'manifest_url': 'https://manifest.googlevideo.com/api/manifest/hls_variant/expire/1750251309/ei/zWJSaKGdC-qRlu8P06nv6AM/ip/216.171.10.22/id/168955007b9b397b/source/youtube/requiressl/yes/xpc/EgVo2aDSNQ%3D%3D/playback_host/rr3---sn-258av8hxqp5-jhpl.googlevideo.com/met/1750229709%2C/mh/vl/mm/31%2C29/mn/sn-258av8hxqp5-jhpl%2Csn-vgqsknez/ms/au%2Crdu/mv/m/mvi/3/pl/24/rms/au%2Cau/hfr/1/demuxed/1/tts_caps/1/maudio/1/initcwndbps/4756250/bui/AY1jyLPzE4QP4jS7c0qfu_SiAK2ErPKJg1Cel2ucV_giKB9KJ7yTQg4gaOlpTT2CfyTGX8haP4znkw7j/spc/l3OVKTrGjNXWVrf7aojHrOLonyJzQpEllnnmd_0U0Z5rXKa_FqG16jE6nAAZHfSd/vprv/1/go/1/rqh/5/mt/1750229360/fvip/1/nvgoi/1/short_key/1/ncsapi/1/keepalive/yes/fexp/51466697/dover/13/itag/0/playlist_type/DVR/sparams/expire%2Cei%2Cip%2Cid%2Csource%2Crequiressl%2Cxpc%2Chfr%2Cdemuxed%2Ctts_caps%2Cmaudio%2Cbui%2Cspc%2Cvprv%2Cgo%2Crqh%2Citag%2Cplaylist_type/sig/AJfQdSswRQIgNAA8Ophs-xyvacB7xpuDW6mIqYabXUeRKGpGuMCsPDwCIQDxu8W3op59u5a4cQdpKXvWxbqR04pPYMdyio5iK-VRag%3D%3D/lsparams/playback_host%2Cmet%2Cmh%2Cmm%2Cmn%2Cms%2Cmv%2Cmvi%2Cpl%2Crms%2Cinitcwndbps/lsig/APaTxxMwRQIgBGc5OdRsLi_6oVDK2siU_AfQ8X4HGGgUWzz7sczJeFYCIQDyoM6sYno9-OJkGRrsDJkMpEgIBHGFdB1PQ_nJi7nNTA%3D%3D/file/index.m3u8',\n",
       "   'tbr': 5679.691,\n",
       "   'ext': 'mp4',\n",
       "   'fps': 30.0,\n",
       "   'protocol': 'm3u8_native',\n",
       "   'preference': None,\n",
       "   'quality': 9,\n",
       "   'has_drm': False,\n",
       "   'width': 1080,\n",
       "   'height': 1920,\n",
       "   'vcodec': 'vp09.00.40.08.01.05.01.06.00',\n",
       "   'acodec': 'none',\n",
       "   'dynamic_range': 'SDR',\n",
       "   'source_preference': 99,\n",
       "   'format_note': 'Premium',\n",
       "   'video_ext': 'mp4',\n",
       "   'audio_ext': 'none',\n",
       "   'abr': 0,\n",
       "   'vbr': 5679.691,\n",
       "   'resolution': '1080x1920',\n",
       "   'aspect_ratio': 0.56,\n",
       "   'http_headers': {'User-Agent': 'Mozilla/5.0 (Windows NT 10.0; Win64; x64) AppleWebKit/537.36 (KHTML, like Gecko) Chrome/92.0.4515.43 Safari/537.36',\n",
       "    'Accept': 'text/html,application/xhtml+xml,application/xml;q=0.9,*/*;q=0.8',\n",
       "    'Accept-Language': 'en-us,en;q=0.5',\n",
       "    'Sec-Fetch-Mode': 'navigate'},\n",
       "   'format': '616 - 1080x1920 (Premium)'}],\n",
       " 'thumbnails': [{'url': 'https://i.ytimg.com/vi/FolVAHubOXs/3.jpg',\n",
       "   'preference': -37,\n",
       "   'id': '0'},\n",
       "  {'url': 'https://i.ytimg.com/vi_webp/FolVAHubOXs/3.webp',\n",
       "   'preference': -36,\n",
       "   'id': '1'},\n",
       "  {'url': 'https://i.ytimg.com/vi/FolVAHubOXs/2.jpg',\n",
       "   'preference': -35,\n",
       "   'id': '2'},\n",
       "  {'url': 'https://i.ytimg.com/vi_webp/FolVAHubOXs/2.webp',\n",
       "   'preference': -34,\n",
       "   'id': '3'},\n",
       "  {'url': 'https://i.ytimg.com/vi/FolVAHubOXs/1.jpg',\n",
       "   'preference': -33,\n",
       "   'id': '4'},\n",
       "  {'url': 'https://i.ytimg.com/vi_webp/FolVAHubOXs/1.webp',\n",
       "   'preference': -32,\n",
       "   'id': '5'},\n",
       "  {'url': 'https://i.ytimg.com/vi/FolVAHubOXs/mq3.jpg',\n",
       "   'preference': -31,\n",
       "   'id': '6'},\n",
       "  {'url': 'https://i.ytimg.com/vi_webp/FolVAHubOXs/mq3.webp',\n",
       "   'preference': -30,\n",
       "   'id': '7'},\n",
       "  {'url': 'https://i.ytimg.com/vi/FolVAHubOXs/mq2.jpg',\n",
       "   'preference': -29,\n",
       "   'id': '8'},\n",
       "  {'url': 'https://i.ytimg.com/vi_webp/FolVAHubOXs/mq2.webp',\n",
       "   'preference': -28,\n",
       "   'id': '9'},\n",
       "  {'url': 'https://i.ytimg.com/vi/FolVAHubOXs/mq1.jpg',\n",
       "   'preference': -27,\n",
       "   'id': '10'},\n",
       "  {'url': 'https://i.ytimg.com/vi_webp/FolVAHubOXs/mq1.webp',\n",
       "   'preference': -26,\n",
       "   'id': '11'},\n",
       "  {'url': 'https://i.ytimg.com/vi/FolVAHubOXs/hq3.jpg',\n",
       "   'preference': -25,\n",
       "   'id': '12'},\n",
       "  {'url': 'https://i.ytimg.com/vi_webp/FolVAHubOXs/hq3.webp',\n",
       "   'preference': -24,\n",
       "   'id': '13'},\n",
       "  {'url': 'https://i.ytimg.com/vi/FolVAHubOXs/hq2.jpg',\n",
       "   'preference': -23,\n",
       "   'id': '14'},\n",
       "  {'url': 'https://i.ytimg.com/vi_webp/FolVAHubOXs/hq2.webp',\n",
       "   'preference': -22,\n",
       "   'id': '15'},\n",
       "  {'url': 'https://i.ytimg.com/vi/FolVAHubOXs/hq1.jpg',\n",
       "   'preference': -21,\n",
       "   'id': '16'},\n",
       "  {'url': 'https://i.ytimg.com/vi_webp/FolVAHubOXs/hq1.webp',\n",
       "   'preference': -20,\n",
       "   'id': '17'},\n",
       "  {'url': 'https://i.ytimg.com/vi/FolVAHubOXs/sd3.jpg',\n",
       "   'preference': -19,\n",
       "   'id': '18'},\n",
       "  {'url': 'https://i.ytimg.com/vi_webp/FolVAHubOXs/sd3.webp',\n",
       "   'preference': -18,\n",
       "   'id': '19'},\n",
       "  {'url': 'https://i.ytimg.com/vi/FolVAHubOXs/sd2.jpg',\n",
       "   'preference': -17,\n",
       "   'id': '20'},\n",
       "  {'url': 'https://i.ytimg.com/vi_webp/FolVAHubOXs/sd2.webp',\n",
       "   'preference': -16,\n",
       "   'id': '21'},\n",
       "  {'url': 'https://i.ytimg.com/vi/FolVAHubOXs/sd1.jpg',\n",
       "   'preference': -15,\n",
       "   'id': '22'},\n",
       "  {'url': 'https://i.ytimg.com/vi_webp/FolVAHubOXs/sd1.webp',\n",
       "   'preference': -14,\n",
       "   'id': '23'},\n",
       "  {'url': 'https://i.ytimg.com/vi/FolVAHubOXs/default.jpg',\n",
       "   'preference': -13,\n",
       "   'id': '24'},\n",
       "  {'url': 'https://i.ytimg.com/vi_webp/FolVAHubOXs/default.webp',\n",
       "   'preference': -12,\n",
       "   'id': '25'},\n",
       "  {'url': 'https://i.ytimg.com/vi/FolVAHubOXs/mqdefault.jpg',\n",
       "   'preference': -11,\n",
       "   'id': '26'},\n",
       "  {'url': 'https://i.ytimg.com/vi_webp/FolVAHubOXs/mqdefault.webp',\n",
       "   'preference': -10,\n",
       "   'id': '27'},\n",
       "  {'url': 'https://i.ytimg.com/vi/FolVAHubOXs/0.jpg',\n",
       "   'preference': -9,\n",
       "   'id': '28'},\n",
       "  {'url': 'https://i.ytimg.com/vi_webp/FolVAHubOXs/0.webp',\n",
       "   'preference': -8,\n",
       "   'id': '29'},\n",
       "  {'url': 'https://i.ytimg.com/vi/FolVAHubOXs/hqdefault.jpg',\n",
       "   'preference': -7,\n",
       "   'id': '30'},\n",
       "  {'url': 'https://i.ytimg.com/vi/FolVAHubOXs/hqdefault.jpg?sqp=-oaymwE1CKgBEF5IVfKriqkDKAgBFQAAiEIYAHABwAEG8AEB-AG2CIACgA-KAgwIABABGH8gNyhEMA8=&rs=AOn4CLCpAKkUMke8WIlAboaFxIo2qXuJHw',\n",
       "   'height': 94,\n",
       "   'width': 168,\n",
       "   'preference': -7,\n",
       "   'id': '31',\n",
       "   'resolution': '168x94'},\n",
       "  {'url': 'https://i.ytimg.com/vi/FolVAHubOXs/hqdefault.jpg?sqp=-oaymwE1CMQBEG5IVfKriqkDKAgBFQAAiEIYAHABwAEG8AEB-AG2CIACgA-KAgwIABABGH8gNyhEMA8=&rs=AOn4CLDRzi0SokFY0Yt6Af-bz1R9wr-f8A',\n",
       "   'height': 110,\n",
       "   'width': 196,\n",
       "   'preference': -7,\n",
       "   'id': '32',\n",
       "   'resolution': '196x110'},\n",
       "  {'url': 'https://i.ytimg.com/vi/FolVAHubOXs/hqdefault.jpg?sqp=-oaymwE2CPYBEIoBSFXyq4qpAygIARUAAIhCGABwAcABBvABAfgBtgiAAoAPigIMCAAQARh_IDcoRDAP&rs=AOn4CLB_dCd6XKIRE4uivUd07SGoC0QtTQ',\n",
       "   'height': 138,\n",
       "   'width': 246,\n",
       "   'preference': -7,\n",
       "   'id': '33',\n",
       "   'resolution': '246x138'},\n",
       "  {'url': 'https://i.ytimg.com/vi/FolVAHubOXs/hqdefault.jpg?sqp=-oaymwE2CNACELwBSFXyq4qpAygIARUAAIhCGABwAcABBvABAfgBtgiAAoAPigIMCAAQARh_IDcoRDAP&rs=AOn4CLAWzzVHzSWiS8LJqRDBYHyfANW9xg',\n",
       "   'height': 188,\n",
       "   'width': 336,\n",
       "   'preference': -7,\n",
       "   'id': '34',\n",
       "   'resolution': '336x188'},\n",
       "  {'url': 'https://i.ytimg.com/vi/FolVAHubOXs/hqdefault.jpg?sqp=-oaymwEoCOADEOgC8quKqQMcGADwAQH4AbYIgAKAD4oCDAgAEAEYfyA3KEQwDw==&rs=AOn4CLDR251pPWPF2zqVqxQbOsx4p3iuBA',\n",
       "   'height': 360,\n",
       "   'width': 480,\n",
       "   'preference': -7,\n",
       "   'id': '35',\n",
       "   'resolution': '480x360'},\n",
       "  {'url': 'https://i.ytimg.com/vi_webp/FolVAHubOXs/hqdefault.webp',\n",
       "   'preference': -6,\n",
       "   'id': '36'},\n",
       "  {'url': 'https://i.ytimg.com/vi/FolVAHubOXs/sddefault.jpg',\n",
       "   'preference': -5,\n",
       "   'id': '37'},\n",
       "  {'url': 'https://i.ytimg.com/vi/FolVAHubOXs/sddefault.jpg?sqp=-oaymwEoCIAFEOAD8quKqQMcGADwAQH4AbYIgAKAD4oCDAgAEAEYfyA3KEQwDw==&rs=AOn4CLAAN1Ebl9iFJzt745ziJ0JTM4Lj5A',\n",
       "   'height': 480,\n",
       "   'width': 640,\n",
       "   'preference': -5,\n",
       "   'id': '38',\n",
       "   'resolution': '640x480'},\n",
       "  {'url': 'https://i.ytimg.com/vi_webp/FolVAHubOXs/sddefault.webp',\n",
       "   'preference': -4,\n",
       "   'id': '39'},\n",
       "  {'url': 'https://i.ytimg.com/vi/FolVAHubOXs/hq720.jpg',\n",
       "   'preference': -3,\n",
       "   'id': '40'},\n",
       "  {'url': 'https://i.ytimg.com/vi_webp/FolVAHubOXs/hq720.webp',\n",
       "   'preference': -2,\n",
       "   'id': '41'},\n",
       "  {'url': 'https://i.ytimg.com/vi/FolVAHubOXs/maxresdefault.jpg?sqp=-oaymwEoCIAKENAF8quKqQMcGADwAQH4AbYIgAKAD4oCDAgAEAEYfyA3KEQwDw==&rs=AOn4CLAdjnje4YOQysPsMoozL5DD-YBFUg',\n",
       "   'preference': -1,\n",
       "   'id': '42'},\n",
       "  {'url': 'https://i.ytimg.com/vi/FolVAHubOXs/maxresdefault.jpg',\n",
       "   'height': 1080,\n",
       "   'width': 1920,\n",
       "   'preference': -1,\n",
       "   'id': '43',\n",
       "   'resolution': '1920x1080'},\n",
       "  {'url': 'https://i.ytimg.com/vi_webp/FolVAHubOXs/maxresdefault.webp',\n",
       "   'preference': 0,\n",
       "   'id': '44'}],\n",
       " 'thumbnail': 'https://i.ytimg.com/vi/FolVAHubOXs/maxresdefault.jpg',\n",
       " 'description': '',\n",
       " 'channel_id': 'UCnnV8Ang9biP1HTTub0-4Ng',\n",
       " 'channel_url': 'https://www.youtube.com/channel/UCnnV8Ang9biP1HTTub0-4Ng',\n",
       " 'duration': 17,\n",
       " 'view_count': 178570830,\n",
       " 'average_rating': None,\n",
       " 'age_limit': 0,\n",
       " 'webpage_url': 'https://www.youtube.com/watch?v=FolVAHubOXs',\n",
       " 'categories': ['Entertainment'],\n",
       " 'tags': [],\n",
       " 'playable_in_embed': True,\n",
       " 'live_status': 'not_live',\n",
       " 'media_type': 'short',\n",
       " 'release_timestamp': None,\n",
       " '_format_sort_fields': ('quality',\n",
       "  'res',\n",
       "  'fps',\n",
       "  'hdr:12',\n",
       "  'source',\n",
       "  'vcodec',\n",
       "  'channels',\n",
       "  'acodec',\n",
       "  'lang',\n",
       "  'proto'),\n",
       " 'automatic_captions': {},\n",
       " 'subtitles': {},\n",
       " 'comment_count': 821,\n",
       " 'chapters': None,\n",
       " 'heatmap': None,\n",
       " 'like_count': 1758638,\n",
       " 'channel': 'EAKA ENTERTAINMENT',\n",
       " 'channel_follower_count': 706000,\n",
       " 'uploader': 'EAKA ENTERTAINMENT',\n",
       " 'uploader_id': '@KavithaRathish',\n",
       " 'uploader_url': 'https://www.youtube.com/@KavithaRathish',\n",
       " 'upload_date': '20240902',\n",
       " 'timestamp': 1725282300,\n",
       " 'availability': 'public',\n",
       " 'original_url': 'https://www.youtube.com/watch?v=FolVAHubOXs',\n",
       " 'webpage_url_basename': 'watch',\n",
       " 'webpage_url_domain': 'youtube.com',\n",
       " 'extractor': 'youtube',\n",
       " 'extractor_key': 'Youtube',\n",
       " 'playlist': None,\n",
       " 'playlist_index': None,\n",
       " 'display_id': 'FolVAHubOXs',\n",
       " 'fulltitle': 'GOHST MISTERY CONTINUE.. #funny #funnyshorts #fun #kerala #chennai #bangalore #mumbai #kolkata #uae',\n",
       " 'duration_string': '17',\n",
       " 'release_year': None,\n",
       " 'is_live': False,\n",
       " 'was_live': False,\n",
       " 'requested_subtitles': None,\n",
       " '_has_drm': None,\n",
       " 'epoch': 1750229710,\n",
       " 'requested_formats': [{'format_id': '616',\n",
       "   'format_index': None,\n",
       "   'url': 'https://manifest.googlevideo.com/api/manifest/hls_playlist/expire/1750251309/ei/zWJSaKGdC-qRlu8P06nv6AM/ip/216.171.10.22/id/168955007b9b397b/itag/616/source/youtube/requiressl/yes/ratebypass/yes/pfa/1/wft/1/sgovp/clen%3D11342823%3Bdur%3D17.300%3Bgir%3Dyes%3Bitag%3D356%3Blmt%3D1728201717556240/rqh/1/hls_chunk_host/rr3---sn-258av8hxqp5-jhpl.googlevideo.com/xpc/EgVo2aDSNQ%3D%3D/met/1750229709,/mh/vl/mm/31,29/mn/sn-258av8hxqp5-jhpl,sn-vgqsknez/ms/au,rdu/mv/m/mvi/3/pl/24/rms/au,au/initcwndbps/4756250/bui/AY1jyLPzE4QP4jS7c0qfu_SiAK2ErPKJg1Cel2ucV_giKB9KJ7yTQg4gaOlpTT2CfyTGX8haP4znkw7j/spc/l3OVKTrGjNXWVrf7aojHrOLonyJzQpEllnnmd_0U0Z5rXKa_FqG16jE6nAAZHfSd/vprv/1/playlist_type/DVR/dover/13/txp/553C434/mt/1750229360/fvip/1/short_key/1/keepalive/yes/fexp/51466697/sparams/expire,ei,ip,id,itag,source,requiressl,ratebypass,pfa,wft,sgovp,rqh,xpc,bui,spc,vprv,playlist_type/sig/AJfQdSswRAIgBYAIzlL-Ow0g45rrFVytbmumJXk81w_-BnyHj2uGLXECIF_x3KtbP6M3J3CLbNBPbpFIJOCdxeqiqtZy-Ote4kcW/lsparams/hls_chunk_host,met,mh,mm,mn,ms,mv,mvi,pl,rms,initcwndbps/lsig/APaTxxMwRQIhAMdIcJkE9TrM4VptjnDLM-xFnhyhQ6sl7kNPqHeFFbspAiAzXHAhPT5hC0g_AIhMT3iQNGvjcOk-njNoHVk7SphSUw%3D%3D/playlist/index.m3u8',\n",
       "   'manifest_url': 'https://manifest.googlevideo.com/api/manifest/hls_variant/expire/1750251309/ei/zWJSaKGdC-qRlu8P06nv6AM/ip/216.171.10.22/id/168955007b9b397b/source/youtube/requiressl/yes/xpc/EgVo2aDSNQ%3D%3D/playback_host/rr3---sn-258av8hxqp5-jhpl.googlevideo.com/met/1750229709%2C/mh/vl/mm/31%2C29/mn/sn-258av8hxqp5-jhpl%2Csn-vgqsknez/ms/au%2Crdu/mv/m/mvi/3/pl/24/rms/au%2Cau/hfr/1/demuxed/1/tts_caps/1/maudio/1/initcwndbps/4756250/bui/AY1jyLPzE4QP4jS7c0qfu_SiAK2ErPKJg1Cel2ucV_giKB9KJ7yTQg4gaOlpTT2CfyTGX8haP4znkw7j/spc/l3OVKTrGjNXWVrf7aojHrOLonyJzQpEllnnmd_0U0Z5rXKa_FqG16jE6nAAZHfSd/vprv/1/go/1/rqh/5/mt/1750229360/fvip/1/nvgoi/1/short_key/1/ncsapi/1/keepalive/yes/fexp/51466697/dover/13/itag/0/playlist_type/DVR/sparams/expire%2Cei%2Cip%2Cid%2Csource%2Crequiressl%2Cxpc%2Chfr%2Cdemuxed%2Ctts_caps%2Cmaudio%2Cbui%2Cspc%2Cvprv%2Cgo%2Crqh%2Citag%2Cplaylist_type/sig/AJfQdSswRQIgNAA8Ophs-xyvacB7xpuDW6mIqYabXUeRKGpGuMCsPDwCIQDxu8W3op59u5a4cQdpKXvWxbqR04pPYMdyio5iK-VRag%3D%3D/lsparams/playback_host%2Cmet%2Cmh%2Cmm%2Cmn%2Cms%2Cmv%2Cmvi%2Cpl%2Crms%2Cinitcwndbps/lsig/APaTxxMwRQIgBGc5OdRsLi_6oVDK2siU_AfQ8X4HGGgUWzz7sczJeFYCIQDyoM6sYno9-OJkGRrsDJkMpEgIBHGFdB1PQ_nJi7nNTA%3D%3D/file/index.m3u8',\n",
       "   'tbr': 5679.691,\n",
       "   'ext': 'mp4',\n",
       "   'fps': 30.0,\n",
       "   'protocol': 'm3u8_native',\n",
       "   'preference': None,\n",
       "   'quality': 9,\n",
       "   'has_drm': False,\n",
       "   'width': 1080,\n",
       "   'height': 1920,\n",
       "   'vcodec': 'vp09.00.40.08.01.05.01.06.00',\n",
       "   'acodec': 'none',\n",
       "   'dynamic_range': 'SDR',\n",
       "   'source_preference': 99,\n",
       "   'format_note': 'Premium',\n",
       "   'video_ext': 'mp4',\n",
       "   'audio_ext': 'none',\n",
       "   'abr': 0,\n",
       "   'vbr': 5679.691,\n",
       "   'resolution': '1080x1920',\n",
       "   'aspect_ratio': 0.56,\n",
       "   'http_headers': {'User-Agent': 'Mozilla/5.0 (Windows NT 10.0; Win64; x64) AppleWebKit/537.36 (KHTML, like Gecko) Chrome/92.0.4515.43 Safari/537.36',\n",
       "    'Accept': 'text/html,application/xhtml+xml,application/xml;q=0.9,*/*;q=0.8',\n",
       "    'Accept-Language': 'en-us,en;q=0.5',\n",
       "    'Sec-Fetch-Mode': 'navigate'},\n",
       "   'format': '616 - 1080x1920 (Premium)'},\n",
       "  {'asr': 48000,\n",
       "   'filesize': 301890,\n",
       "   'format_id': '251',\n",
       "   'format_note': 'medium',\n",
       "   'source_preference': -1,\n",
       "   'fps': None,\n",
       "   'audio_channels': 2,\n",
       "   'height': None,\n",
       "   'quality': 3.0,\n",
       "   'has_drm': False,\n",
       "   'tbr': 139.111,\n",
       "   'filesize_approx': 301888,\n",
       "   'url': 'https://rr3---sn-258av8hxqp5-jhpl.googlevideo.com/videoplayback?expire=1750251309&ei=zWJSaJanBvruu_kPlNiP2Q0&ip=216.171.10.22&id=o-AAxMjxi6QNSfJ329rSVQNYENceF54lFRie-_7bjlKIr0&itag=251&source=youtube&requiressl=yes&xpc=EgVo2aDSNQ%3D%3D&met=1750229709%2C&mh=vl&mm=31%2C29&mn=sn-258av8hxqp5-jhpl%2Csn-vgqsrnzz&ms=au%2Crdu&mv=m&mvi=3&pl=24&rms=au%2Cau&initcwndbps=4903750&bui=AY1jyLNxJ7ahLLs3cSi9HDoHiTcMhVTkD2P7fTNNBszzkR-6jRgIioFzM9PFuGlyNw9SJyXBvp1vdwfk&vprv=1&svpuc=1&mime=audio%2Fwebm&ns=7vn-dsSjkSRW2-1DL86qEaUQ&rqh=1&gir=yes&clen=301890&dur=17.361&lmt=1728198418803855&mt=1750229601&fvip=3&keepalive=yes&lmw=1&fexp=51466697&c=TVHTML5&sefc=1&txp=5532434&n=0Rk1kUqPwyvgsA&sparams=expire%2Cei%2Cip%2Cid%2Citag%2Csource%2Crequiressl%2Cxpc%2Cbui%2Cvprv%2Csvpuc%2Cmime%2Cns%2Crqh%2Cgir%2Cclen%2Cdur%2Clmt&lsparams=met%2Cmh%2Cmm%2Cmn%2Cms%2Cmv%2Cmvi%2Cpl%2Crms%2Cinitcwndbps&lsig=APaTxxMwRAIgOAAbyST8mrCJnscNzJ7lVa5-SyuyLqs8-lLtXXjhFiUCIEyOQqN98orZRprjDYwXSJ3a5knwklKGxJ9DS_du0Msg&sig=AJfQdSswRQIhAN6W8WYUb66LDMKmNBn6jo4vlGghbuEyJ1xWRLn4kuxTAiBsx9cemXBmQn3y5HcXxO0JD-2L3ZwGYDRVadtdga-Ufw%3D%3D',\n",
       "   'width': None,\n",
       "   'language': None,\n",
       "   'language_preference': -1,\n",
       "   'preference': None,\n",
       "   'ext': 'webm',\n",
       "   'vcodec': 'none',\n",
       "   'acodec': 'opus',\n",
       "   'dynamic_range': None,\n",
       "   'container': 'webm_dash',\n",
       "   'downloader_options': {'http_chunk_size': 10485760},\n",
       "   'protocol': 'https',\n",
       "   'audio_ext': 'webm',\n",
       "   'video_ext': 'none',\n",
       "   'vbr': 0,\n",
       "   'abr': 139.111,\n",
       "   'resolution': 'audio only',\n",
       "   'aspect_ratio': None,\n",
       "   'http_headers': {'User-Agent': 'Mozilla/5.0 (Windows NT 10.0; Win64; x64) AppleWebKit/537.36 (KHTML, like Gecko) Chrome/92.0.4515.43 Safari/537.36',\n",
       "    'Accept': 'text/html,application/xhtml+xml,application/xml;q=0.9,*/*;q=0.8',\n",
       "    'Accept-Language': 'en-us,en;q=0.5',\n",
       "    'Sec-Fetch-Mode': 'navigate'},\n",
       "   'format': '251 - audio only (medium)'}],\n",
       " 'format': '616 - 1080x1920 (Premium)+251 - audio only (medium)',\n",
       " 'format_id': '616+251',\n",
       " 'ext': 'webm',\n",
       " 'protocol': 'm3u8_native+https',\n",
       " 'language': None,\n",
       " 'format_note': 'Premium+medium',\n",
       " 'filesize_approx': 301890,\n",
       " 'tbr': 5818.802,\n",
       " 'width': 1080,\n",
       " 'height': 1920,\n",
       " 'resolution': '1080x1920',\n",
       " 'fps': 30.0,\n",
       " 'dynamic_range': 'SDR',\n",
       " 'vcodec': 'vp09.00.40.08.01.05.01.06.00',\n",
       " 'vbr': 5679.691,\n",
       " 'stretched_ratio': None,\n",
       " 'aspect_ratio': 0.56,\n",
       " 'acodec': 'opus',\n",
       " 'abr': 139.111,\n",
       " 'asr': 48000,\n",
       " 'audio_channels': 2}"
      ]
     },
     "execution_count": 1,
     "metadata": {},
     "output_type": "execute_result"
    }
   ],
   "source": [
    "from yt_dlp import YoutubeDL\n",
    "\n",
    "def get_video_metadata(video_id):\n",
    "    url = f\"https://www.youtube.com/watch?v={video_id}\"\n",
    "    ydl_opts = {'quiet': True, 'extract_flat': True}\n",
    "    with YoutubeDL(ydl_opts) as ydl:\n",
    "        info = ydl.extract_info(url, download=False)\n",
    "    return info\n",
    "get_video_metadata(\"FolVAHubOXs\")"
   ]
  },
  {
   "cell_type": "code",
   "execution_count": 6,
   "id": "962b845c",
   "metadata": {},
   "outputs": [
    {
     "name": "stdout",
     "output_type": "stream",
     "text": [
      "Short group data saved to 'Sample1000user_addiction_scores.csv'\n"
     ]
    }
   ],
   "source": [
    "import json\n",
    "import csv\n",
    "\n",
    "# Define addiction components\n",
    "RAW_COMPONENTS = [\n",
    "    \"salience\", \"tolerance\", \"mood_modification\",\n",
    "    \"withdrawal\", \"conflict\", \"relapse\"\n",
    "]\n",
    "combined_rows = []\n",
    "# Load only the short group JSON file\n",
    "json_path = \"short1000_user_eval.json\"\n",
    "with open(json_path, \"r\", encoding=\"utf-8\") as f:\n",
    "    results = json.load(f)\n",
    "\n",
    "for user_id, row in results.items():\n",
    "    # Gather ratings for each component\n",
    "    scores = [row[comp] for comp in RAW_COMPONENTS]\n",
    "    # Calculate total score\n",
    "    total_score = sum(scores)\n",
    "    # Count how many core components have rating >= 3\n",
    "    core_count = sum(1 for s in scores if s >= 3)\n",
    "    flat_row = {\n",
    "        \"user_id\": user_id,\n",
    "        \"total_score\": total_score,\n",
    "        # Flag as addicted_core if at least 4 components are rated 3 or above\n",
    "        \"addicted_core\": int(core_count >= 4)\n",
    "    }\n",
    "    # Add each component rating to the row\n",
    "    for comp in RAW_COMPONENTS:\n",
    "        flat_row[comp] = row[comp]\n",
    "\n",
    "    combined_rows.append(flat_row)\n",
    "# Specify CSV columns (remove video_group)\n",
    "fieldnames = [\"user_id\"] + RAW_COMPONENTS + [\"total_score\", \"addicted_core\"]\n",
    "# Write the combined data to CSV\n",
    "with open(\"Sample1000user_addiction_scores_with_flags.csv\", \"w\", encoding=\"utf-8\", newline=\"\") as f:\n",
    "    writer = csv.DictWriter(f, fieldnames=fieldnames)\n",
    "    writer.writeheader()\n",
    "    writer.writerows(combined_rows)\n",
    "print(\"Short group data saved to 'Sample1000user_addiction_scores.csv'\")\n"
   ]
  },
  {
   "cell_type": "code",
   "execution_count": 14,
   "id": "ddc4aa05",
   "metadata": {},
   "outputs": [
    {
     "name": "stdout",
     "output_type": "stream",
     "text": [
      "Group-level Score Summary:\n",
      "          salience  tolerance  mood_modification  withdrawal  conflict  \\\n",
      "addicted                                                                 \n",
      "0             3.11       3.48               2.49         2.0      1.26   \n",
      "1             4.17       4.50               4.33         4.0      3.00   \n",
      "\n",
      "          relapse  addiction_rate (%)  \n",
      "addicted                               \n",
      "0            1.92                 0.0  \n",
      "1            3.83               100.0  \n",
      "\n",
      "(%) Addiction Rate = % of users flagged as addicted\n"
     ]
    },
    {
     "data": {
      "image/png": "[encoded data removed]",
      "text/plain": [
       "<Figure size 800x600 with 1 Axes>"
      ]
     },
     "metadata": {},
     "output_type": "display_data"
    }
   ],
   "source": [
    "import matplotlib.pyplot as plt\n",
    "import numpy as np\n",
    "import pandas as pd\n",
    "\n",
    "# Load enhanced CSV\n",
    "df = pd.read_csv(\"Sample1000user_addiction_scores_with_flags.csv\")\n",
    "\n",
    "# Define score columns\n",
    "score_cols = [\"salience\", \"tolerance\", \"mood_modification\", \"withdrawal\", \"conflict\", \"relapse\"]\n",
    "\n",
    "# Convert score columns to numeric\n",
    "for col in score_cols:\n",
    "    df[col] = pd.to_numeric(df[col], errors='coerce')\n",
    "\n",
    "# Add custom addiction rule: ≥ 4 items with score > 3\n",
    "df[\"addicted\"] = (df[score_cols].gt(3).sum(axis=1) >= 4).astype(int)\n",
    "\n",
    "# Group-level mean scores\n",
    "mean_scores = df.groupby(\"addicted\")[score_cols].mean()\n",
    "\n",
    "# Group-level addiction rates (%)\n",
    "addiction_rates = df.groupby(\"addicted\")[\"addicted\"].mean() * 100\n",
    "\n",
    "# Merge for printing\n",
    "summary_df = mean_scores.copy()\n",
    "summary_df[\"addiction_rate (%)\"] = addiction_rates\n",
    "summary_df = summary_df.round(2)\n",
    "\n",
    "# Print summary table\n",
    "print(\"Group-level Score Summary:\")\n",
    "print(summary_df)\n",
    "print(\"\\n(%) Addiction Rate = % of users flagged as addicted\")\n",
    "\n",
    "# === Radar plot ===\n",
    "labels = [\"Salience\", \"Tolerance\", \"Mood Modification\", \"Withdrawal\", \"Conflict\", \"Relapse\"]\n",
    "angles = np.linspace(0, 2 * np.pi, len(labels), endpoint=False).tolist()\n",
    "angles += angles[:1]  # close the loop\n",
    "\n",
    "fig, ax = plt.subplots(figsize=(8, 6), subplot_kw=dict(polar=True))\n",
    "\n",
    "# Add each group to the radar\n",
    "for group, row in mean_scores.iterrows():\n",
    "    values = row.tolist() + [row.tolist()[0]]\n",
    "    ax.plot(angles, values, label=f\"Addicted={group}\")\n",
    "    ax.fill(angles, values, alpha=0.25)\n",
    "\n",
    "# Aesthetics\n",
    "ax.set_theta_offset(np.pi / 2)\n",
    "ax.set_theta_direction(-1)\n",
    "ax.set_thetagrids(np.degrees(angles[:-1]), labels)\n",
    "ax.set_title(\"Average Addiction Scores by Group\", fontsize=14)\n",
    "ax.legend(loc=\"upper right\")\n",
    "plt.show()"
   ]
  }
 ],
 "metadata": {
  "kernelspec": {
   "display_name": "Python 3",
   "language": "python",
   "name": "python3"
  },
  "language_info": {
   "codemirror_mode": {
    "name": "ipython",
    "version": 3
   },
   "file_extension": ".py",
   "mimetype": "text/x-python",
   "name": "python",
   "nbconvert_exporter": "python",
   "pygments_lexer": "ipython3",
   "version": "3.9.6"
  }
 },
 "nbformat": 4,
 "nbformat_minor": 5
}
